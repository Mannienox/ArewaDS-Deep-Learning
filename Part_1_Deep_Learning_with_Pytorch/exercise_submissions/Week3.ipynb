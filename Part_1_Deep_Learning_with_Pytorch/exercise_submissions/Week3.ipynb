{
  "cells": [
    {
      "cell_type": "markdown",
      "metadata": {
        "id": "view-in-github",
        "colab_type": "text"
      },
      "source": [
        "<a href=\"https://colab.research.google.com/github/Mannienox/ArewaDS-Deep-Learning/blob/main/Part_1_Deep_Learning_with_Pytorch/exercise_submissions/Week3.ipynb\" target=\"_parent\"><img src=\"https://colab.research.google.com/assets/colab-badge.svg\" alt=\"Open In Colab\"/></a>"
      ]
    },
    {
      "cell_type": "markdown",
      "source": [
        "# **Arewa Data Science Academy**\n",
        "\n",
        "### Deep Learning Cohort 2.0\n",
        "\n",
        "### Name: Ibrahim Manasseh\n",
        "\n",
        "### Email: mannienokson@gmail.com\n",
        "\n",
        "### Title: Week 1 Solution\n",
        "\n",
        "### Exercises Solution"
      ],
      "metadata": {
        "id": "s_g8ZF6Tba8r"
      },
      "id": "s_g8ZF6Tba8r"
    },
    {
      "cell_type": "markdown",
      "id": "061b260b-6b48-4b7c-b7fb-e76f9f4d73fe",
      "metadata": {
        "id": "061b260b-6b48-4b7c-b7fb-e76f9f4d73fe"
      },
      "source": [
        "### 1. Make a binary classification dataset with Scikit-Learn's [`make_moons()`](https://scikit-learn.org/stable/modules/generated/sklearn.datasets.make_moons.html) function.\n",
        "    * For consistency, the dataset should have 1000 samples and a `random_state=42`.\n",
        "    * Turn the data into PyTorch tensors. Split the data into training and test sets using `train_test_split` with 80% training and 20% testing."
      ]
    },
    {
      "cell_type": "code",
      "execution_count": null,
      "id": "2ef02edc-c617-486b-8aa1-6befd602bed6",
      "metadata": {
        "id": "2ef02edc-c617-486b-8aa1-6befd602bed6"
      },
      "outputs": [],
      "source": [
        "try:\n",
        "    import pyforest\n",
        "except:\n",
        "    !pip install pyforest\n",
        "    import pyforest"
      ]
    },
    {
      "cell_type": "code",
      "execution_count": null,
      "id": "73ee4f94-7c86-4e3e-8f46-aaf307b53562",
      "metadata": {
        "id": "73ee4f94-7c86-4e3e-8f46-aaf307b53562"
      },
      "outputs": [],
      "source": [
        "from sklearn.datasets import make_moons\n",
        "X, y = make_moons(n_samples = 1000, noise = 0.1, random_state = 42)"
      ]
    },
    {
      "cell_type": "code",
      "execution_count": null,
      "id": "49b1a4ca-df1c-4dcd-8a88-43e1e0427c74",
      "metadata": {
        "id": "49b1a4ca-df1c-4dcd-8a88-43e1e0427c74",
        "colab": {
          "base_uri": "https://localhost:8080/",
          "height": 363
        },
        "outputId": "ead72aa2-4512-4d0e-e94f-a0e219f17578"
      },
      "outputs": [
        {
          "output_type": "display_data",
          "data": {
            "text/plain": [
              "<IPython.core.display.Javascript object>"
            ],
            "application/javascript": [
              "\n",
              "        if (window._pyforest_update_imports_cell) { window._pyforest_update_imports_cell('import matplotlib.pyplot as plt\\nimport lightgbm as lgb\\nimport statistics\\nimport re\\nfrom sklearn.model_selection import train_test_split\\nimport xgboost as xgb\\nfrom openpyxl import load_workbook\\nimport pandas as pd\\nfrom scipy import stats\\nimport textblob\\nimport torch\\nimport random\\nfrom scipy import signal as sg\\nimport sklearn\\nimport seaborn as sns\\nimport spacy\\nimport numpy as np\\nfrom sklearn import svm\\nimport skimage\\nimport sys\\nimport tensorflow as tf\\nimport statsmodels.api as sm\\nimport tqdm'); }\n",
              "    "
            ]
          },
          "metadata": {}
        },
        {
          "output_type": "execute_result",
          "data": {
            "text/plain": [
              "         x1        x2  y\n",
              "0 -0.051470  0.444199  1\n",
              "1  1.032017 -0.419741  1\n",
              "2  0.867892 -0.254827  1\n",
              "3  0.288851 -0.448669  1\n",
              "4 -0.833439  0.535057  0\n",
              "5  0.613706 -0.242369  1\n",
              "6  0.286495 -0.201277  1\n",
              "7 -0.056104  0.477079  1\n",
              "8  1.604217 -0.303541  1\n",
              "9  0.709641  0.858867  0"
            ],
            "text/html": [
              "\n",
              "  <div id=\"df-d8415916-cfa1-4720-9a98-3c2ca490a68f\" class=\"colab-df-container\">\n",
              "    <div>\n",
              "<style scoped>\n",
              "    .dataframe tbody tr th:only-of-type {\n",
              "        vertical-align: middle;\n",
              "    }\n",
              "\n",
              "    .dataframe tbody tr th {\n",
              "        vertical-align: top;\n",
              "    }\n",
              "\n",
              "    .dataframe thead th {\n",
              "        text-align: right;\n",
              "    }\n",
              "</style>\n",
              "<table border=\"1\" class=\"dataframe\">\n",
              "  <thead>\n",
              "    <tr style=\"text-align: right;\">\n",
              "      <th></th>\n",
              "      <th>x1</th>\n",
              "      <th>x2</th>\n",
              "      <th>y</th>\n",
              "    </tr>\n",
              "  </thead>\n",
              "  <tbody>\n",
              "    <tr>\n",
              "      <th>0</th>\n",
              "      <td>-0.051470</td>\n",
              "      <td>0.444199</td>\n",
              "      <td>1</td>\n",
              "    </tr>\n",
              "    <tr>\n",
              "      <th>1</th>\n",
              "      <td>1.032017</td>\n",
              "      <td>-0.419741</td>\n",
              "      <td>1</td>\n",
              "    </tr>\n",
              "    <tr>\n",
              "      <th>2</th>\n",
              "      <td>0.867892</td>\n",
              "      <td>-0.254827</td>\n",
              "      <td>1</td>\n",
              "    </tr>\n",
              "    <tr>\n",
              "      <th>3</th>\n",
              "      <td>0.288851</td>\n",
              "      <td>-0.448669</td>\n",
              "      <td>1</td>\n",
              "    </tr>\n",
              "    <tr>\n",
              "      <th>4</th>\n",
              "      <td>-0.833439</td>\n",
              "      <td>0.535057</td>\n",
              "      <td>0</td>\n",
              "    </tr>\n",
              "    <tr>\n",
              "      <th>5</th>\n",
              "      <td>0.613706</td>\n",
              "      <td>-0.242369</td>\n",
              "      <td>1</td>\n",
              "    </tr>\n",
              "    <tr>\n",
              "      <th>6</th>\n",
              "      <td>0.286495</td>\n",
              "      <td>-0.201277</td>\n",
              "      <td>1</td>\n",
              "    </tr>\n",
              "    <tr>\n",
              "      <th>7</th>\n",
              "      <td>-0.056104</td>\n",
              "      <td>0.477079</td>\n",
              "      <td>1</td>\n",
              "    </tr>\n",
              "    <tr>\n",
              "      <th>8</th>\n",
              "      <td>1.604217</td>\n",
              "      <td>-0.303541</td>\n",
              "      <td>1</td>\n",
              "    </tr>\n",
              "    <tr>\n",
              "      <th>9</th>\n",
              "      <td>0.709641</td>\n",
              "      <td>0.858867</td>\n",
              "      <td>0</td>\n",
              "    </tr>\n",
              "  </tbody>\n",
              "</table>\n",
              "</div>\n",
              "    <div class=\"colab-df-buttons\">\n",
              "\n",
              "  <div class=\"colab-df-container\">\n",
              "    <button class=\"colab-df-convert\" onclick=\"convertToInteractive('df-d8415916-cfa1-4720-9a98-3c2ca490a68f')\"\n",
              "            title=\"Convert this dataframe to an interactive table.\"\n",
              "            style=\"display:none;\">\n",
              "\n",
              "  <svg xmlns=\"http://www.w3.org/2000/svg\" height=\"24px\" viewBox=\"0 -960 960 960\">\n",
              "    <path d=\"M120-120v-720h720v720H120Zm60-500h600v-160H180v160Zm220 220h160v-160H400v160Zm0 220h160v-160H400v160ZM180-400h160v-160H180v160Zm440 0h160v-160H620v160ZM180-180h160v-160H180v160Zm440 0h160v-160H620v160Z\"/>\n",
              "  </svg>\n",
              "    </button>\n",
              "\n",
              "  <style>\n",
              "    .colab-df-container {\n",
              "      display:flex;\n",
              "      gap: 12px;\n",
              "    }\n",
              "\n",
              "    .colab-df-convert {\n",
              "      background-color: #E8F0FE;\n",
              "      border: none;\n",
              "      border-radius: 50%;\n",
              "      cursor: pointer;\n",
              "      display: none;\n",
              "      fill: #1967D2;\n",
              "      height: 32px;\n",
              "      padding: 0 0 0 0;\n",
              "      width: 32px;\n",
              "    }\n",
              "\n",
              "    .colab-df-convert:hover {\n",
              "      background-color: #E2EBFA;\n",
              "      box-shadow: 0px 1px 2px rgba(60, 64, 67, 0.3), 0px 1px 3px 1px rgba(60, 64, 67, 0.15);\n",
              "      fill: #174EA6;\n",
              "    }\n",
              "\n",
              "    .colab-df-buttons div {\n",
              "      margin-bottom: 4px;\n",
              "    }\n",
              "\n",
              "    [theme=dark] .colab-df-convert {\n",
              "      background-color: #3B4455;\n",
              "      fill: #D2E3FC;\n",
              "    }\n",
              "\n",
              "    [theme=dark] .colab-df-convert:hover {\n",
              "      background-color: #434B5C;\n",
              "      box-shadow: 0px 1px 3px 1px rgba(0, 0, 0, 0.15);\n",
              "      filter: drop-shadow(0px 1px 2px rgba(0, 0, 0, 0.3));\n",
              "      fill: #FFFFFF;\n",
              "    }\n",
              "  </style>\n",
              "\n",
              "    <script>\n",
              "      const buttonEl =\n",
              "        document.querySelector('#df-d8415916-cfa1-4720-9a98-3c2ca490a68f button.colab-df-convert');\n",
              "      buttonEl.style.display =\n",
              "        google.colab.kernel.accessAllowed ? 'block' : 'none';\n",
              "\n",
              "      async function convertToInteractive(key) {\n",
              "        const element = document.querySelector('#df-d8415916-cfa1-4720-9a98-3c2ca490a68f');\n",
              "        const dataTable =\n",
              "          await google.colab.kernel.invokeFunction('convertToInteractive',\n",
              "                                                    [key], {});\n",
              "        if (!dataTable) return;\n",
              "\n",
              "        const docLinkHtml = 'Like what you see? Visit the ' +\n",
              "          '<a target=\"_blank\" href=https://colab.research.google.com/notebooks/data_table.ipynb>data table notebook</a>'\n",
              "          + ' to learn more about interactive tables.';\n",
              "        element.innerHTML = '';\n",
              "        dataTable['output_type'] = 'display_data';\n",
              "        await google.colab.output.renderOutput(dataTable, element);\n",
              "        const docLink = document.createElement('div');\n",
              "        docLink.innerHTML = docLinkHtml;\n",
              "        element.appendChild(docLink);\n",
              "      }\n",
              "    </script>\n",
              "  </div>\n",
              "\n",
              "\n",
              "<div id=\"df-d79934b0-7d4b-460a-a0b0-7bb1f6640c37\">\n",
              "  <button class=\"colab-df-quickchart\" onclick=\"quickchart('df-d79934b0-7d4b-460a-a0b0-7bb1f6640c37')\"\n",
              "            title=\"Suggest charts\"\n",
              "            style=\"display:none;\">\n",
              "\n",
              "<svg xmlns=\"http://www.w3.org/2000/svg\" height=\"24px\"viewBox=\"0 0 24 24\"\n",
              "     width=\"24px\">\n",
              "    <g>\n",
              "        <path d=\"M19 3H5c-1.1 0-2 .9-2 2v14c0 1.1.9 2 2 2h14c1.1 0 2-.9 2-2V5c0-1.1-.9-2-2-2zM9 17H7v-7h2v7zm4 0h-2V7h2v10zm4 0h-2v-4h2v4z\"/>\n",
              "    </g>\n",
              "</svg>\n",
              "  </button>\n",
              "\n",
              "<style>\n",
              "  .colab-df-quickchart {\n",
              "      --bg-color: #E8F0FE;\n",
              "      --fill-color: #1967D2;\n",
              "      --hover-bg-color: #E2EBFA;\n",
              "      --hover-fill-color: #174EA6;\n",
              "      --disabled-fill-color: #AAA;\n",
              "      --disabled-bg-color: #DDD;\n",
              "  }\n",
              "\n",
              "  [theme=dark] .colab-df-quickchart {\n",
              "      --bg-color: #3B4455;\n",
              "      --fill-color: #D2E3FC;\n",
              "      --hover-bg-color: #434B5C;\n",
              "      --hover-fill-color: #FFFFFF;\n",
              "      --disabled-bg-color: #3B4455;\n",
              "      --disabled-fill-color: #666;\n",
              "  }\n",
              "\n",
              "  .colab-df-quickchart {\n",
              "    background-color: var(--bg-color);\n",
              "    border: none;\n",
              "    border-radius: 50%;\n",
              "    cursor: pointer;\n",
              "    display: none;\n",
              "    fill: var(--fill-color);\n",
              "    height: 32px;\n",
              "    padding: 0;\n",
              "    width: 32px;\n",
              "  }\n",
              "\n",
              "  .colab-df-quickchart:hover {\n",
              "    background-color: var(--hover-bg-color);\n",
              "    box-shadow: 0 1px 2px rgba(60, 64, 67, 0.3), 0 1px 3px 1px rgba(60, 64, 67, 0.15);\n",
              "    fill: var(--button-hover-fill-color);\n",
              "  }\n",
              "\n",
              "  .colab-df-quickchart-complete:disabled,\n",
              "  .colab-df-quickchart-complete:disabled:hover {\n",
              "    background-color: var(--disabled-bg-color);\n",
              "    fill: var(--disabled-fill-color);\n",
              "    box-shadow: none;\n",
              "  }\n",
              "\n",
              "  .colab-df-spinner {\n",
              "    border: 2px solid var(--fill-color);\n",
              "    border-color: transparent;\n",
              "    border-bottom-color: var(--fill-color);\n",
              "    animation:\n",
              "      spin 1s steps(1) infinite;\n",
              "  }\n",
              "\n",
              "  @keyframes spin {\n",
              "    0% {\n",
              "      border-color: transparent;\n",
              "      border-bottom-color: var(--fill-color);\n",
              "      border-left-color: var(--fill-color);\n",
              "    }\n",
              "    20% {\n",
              "      border-color: transparent;\n",
              "      border-left-color: var(--fill-color);\n",
              "      border-top-color: var(--fill-color);\n",
              "    }\n",
              "    30% {\n",
              "      border-color: transparent;\n",
              "      border-left-color: var(--fill-color);\n",
              "      border-top-color: var(--fill-color);\n",
              "      border-right-color: var(--fill-color);\n",
              "    }\n",
              "    40% {\n",
              "      border-color: transparent;\n",
              "      border-right-color: var(--fill-color);\n",
              "      border-top-color: var(--fill-color);\n",
              "    }\n",
              "    60% {\n",
              "      border-color: transparent;\n",
              "      border-right-color: var(--fill-color);\n",
              "    }\n",
              "    80% {\n",
              "      border-color: transparent;\n",
              "      border-right-color: var(--fill-color);\n",
              "      border-bottom-color: var(--fill-color);\n",
              "    }\n",
              "    90% {\n",
              "      border-color: transparent;\n",
              "      border-bottom-color: var(--fill-color);\n",
              "    }\n",
              "  }\n",
              "</style>\n",
              "\n",
              "  <script>\n",
              "    async function quickchart(key) {\n",
              "      const quickchartButtonEl =\n",
              "        document.querySelector('#' + key + ' button');\n",
              "      quickchartButtonEl.disabled = true;  // To prevent multiple clicks.\n",
              "      quickchartButtonEl.classList.add('colab-df-spinner');\n",
              "      try {\n",
              "        const charts = await google.colab.kernel.invokeFunction(\n",
              "            'suggestCharts', [key], {});\n",
              "      } catch (error) {\n",
              "        console.error('Error during call to suggestCharts:', error);\n",
              "      }\n",
              "      quickchartButtonEl.classList.remove('colab-df-spinner');\n",
              "      quickchartButtonEl.classList.add('colab-df-quickchart-complete');\n",
              "    }\n",
              "    (() => {\n",
              "      let quickchartButtonEl =\n",
              "        document.querySelector('#df-d79934b0-7d4b-460a-a0b0-7bb1f6640c37 button');\n",
              "      quickchartButtonEl.style.display =\n",
              "        google.colab.kernel.accessAllowed ? 'block' : 'none';\n",
              "    })();\n",
              "  </script>\n",
              "</div>\n",
              "\n",
              "    </div>\n",
              "  </div>\n"
            ],
            "application/vnd.google.colaboratory.intrinsic+json": {
              "type": "dataframe",
              "variable_name": "df",
              "summary": "{\n  \"name\": \"df\",\n  \"rows\": 1000,\n  \"fields\": [\n    {\n      \"column\": \"x1\",\n      \"properties\": {\n        \"dtype\": \"number\",\n        \"std\": 0.8723054517439096,\n        \"min\": -1.2191875196219637,\n        \"max\": 2.270926146816554,\n        \"num_unique_values\": 1000,\n        \"samples\": [\n          0.5614798432742991,\n          0.9066847211314308,\n          1.2998377211785677\n        ],\n        \"semantic_type\": \"\",\n        \"description\": \"\"\n      }\n    },\n    {\n      \"column\": \"x2\",\n      \"properties\": {\n        \"dtype\": \"number\",\n        \"std\": 0.5031269843391691,\n        \"min\": -0.7458205375887023,\n        \"max\": 1.2122526724581495,\n        \"num_unique_values\": 1000,\n        \"samples\": [\n          -0.4099318052076505,\n          0.5967350600305181,\n          -0.42055883135227107\n        ],\n        \"semantic_type\": \"\",\n        \"description\": \"\"\n      }\n    },\n    {\n      \"column\": \"y\",\n      \"properties\": {\n        \"dtype\": \"number\",\n        \"std\": 0,\n        \"min\": 0,\n        \"max\": 1,\n        \"num_unique_values\": 2,\n        \"samples\": [\n          0,\n          1\n        ],\n        \"semantic_type\": \"\",\n        \"description\": \"\"\n      }\n    }\n  ]\n}"
            }
          },
          "metadata": {},
          "execution_count": 173
        }
      ],
      "source": [
        "x0 = X[:,0]\n",
        "x1 = X[:,1]\n",
        "\n",
        "df = pd.DataFrame({\n",
        "    'x1':x0,\n",
        "    'x2':x1,\n",
        "    'y':y\n",
        "})\n",
        "\n",
        "df.head(10)"
      ]
    },
    {
      "cell_type": "code",
      "execution_count": null,
      "id": "4ef4ee49-e764-4e9b-a96f-7ff44f36294e",
      "metadata": {
        "id": "4ef4ee49-e764-4e9b-a96f-7ff44f36294e",
        "colab": {
          "base_uri": "https://localhost:8080/",
          "height": 178
        },
        "outputId": "4e3f9fe0-04e9-433d-f65b-246c00c2bf58"
      },
      "outputs": [
        {
          "output_type": "execute_result",
          "data": {
            "text/plain": [
              "y\n",
              "1    500\n",
              "0    500\n",
              "Name: count, dtype: int64"
            ],
            "text/html": [
              "<div>\n",
              "<style scoped>\n",
              "    .dataframe tbody tr th:only-of-type {\n",
              "        vertical-align: middle;\n",
              "    }\n",
              "\n",
              "    .dataframe tbody tr th {\n",
              "        vertical-align: top;\n",
              "    }\n",
              "\n",
              "    .dataframe thead th {\n",
              "        text-align: right;\n",
              "    }\n",
              "</style>\n",
              "<table border=\"1\" class=\"dataframe\">\n",
              "  <thead>\n",
              "    <tr style=\"text-align: right;\">\n",
              "      <th></th>\n",
              "      <th>count</th>\n",
              "    </tr>\n",
              "    <tr>\n",
              "      <th>y</th>\n",
              "      <th></th>\n",
              "    </tr>\n",
              "  </thead>\n",
              "  <tbody>\n",
              "    <tr>\n",
              "      <th>1</th>\n",
              "      <td>500</td>\n",
              "    </tr>\n",
              "    <tr>\n",
              "      <th>0</th>\n",
              "      <td>500</td>\n",
              "    </tr>\n",
              "  </tbody>\n",
              "</table>\n",
              "</div><br><label><b>dtype:</b> int64</label>"
            ]
          },
          "metadata": {},
          "execution_count": 174
        }
      ],
      "source": [
        "df.y.value_counts()"
      ]
    },
    {
      "cell_type": "code",
      "execution_count": null,
      "id": "a166d93f-5020-407b-a2cb-0942a29a521c",
      "metadata": {
        "id": "a166d93f-5020-407b-a2cb-0942a29a521c",
        "colab": {
          "base_uri": "https://localhost:8080/",
          "height": 468
        },
        "outputId": "d02a2489-72fd-44c0-d098-0906e45d7b3c"
      },
      "outputs": [
        {
          "output_type": "display_data",
          "data": {
            "text/plain": [
              "<IPython.core.display.Javascript object>"
            ],
            "application/javascript": [
              "\n",
              "        if (window._pyforest_update_imports_cell) { window._pyforest_update_imports_cell('import matplotlib.pyplot as plt\\nimport lightgbm as lgb\\nimport statistics\\nimport re\\nfrom sklearn.model_selection import train_test_split\\nimport xgboost as xgb\\nfrom openpyxl import load_workbook\\nimport pandas as pd\\nfrom scipy import stats\\nimport textblob\\nimport torch\\nimport random\\nfrom scipy import signal as sg\\nimport sklearn\\nimport seaborn as sns\\nimport spacy\\nimport numpy as np\\nfrom sklearn import svm\\nimport skimage\\nimport sys\\nimport tensorflow as tf\\nimport statsmodels.api as sm\\nimport tqdm'); }\n",
              "    "
            ]
          },
          "metadata": {}
        },
        {
          "output_type": "execute_result",
          "data": {
            "text/plain": [
              "<Axes: xlabel='x1', ylabel='x2'>"
            ]
          },
          "metadata": {},
          "execution_count": 175
        },
        {
          "output_type": "display_data",
          "data": {
            "text/plain": [
              "<Figure size 640x480 with 1 Axes>"
            ],
            "image/png": "[encoded data removed]"
          },
          "metadata": {}
        }
      ],
      "source": [
        "sns.scatterplot(data = df, x= 'x1', y = 'x2', hue = 'y')"
      ]
    },
    {
      "cell_type": "code",
      "execution_count": null,
      "id": "b729cac8-913b-4cd1-b768-4515039f8823",
      "metadata": {
        "id": "b729cac8-913b-4cd1-b768-4515039f8823",
        "colab": {
          "base_uri": "https://localhost:8080/",
          "height": 17
        },
        "outputId": "b9177833-c678-48b7-c3b6-b2151e8c15e7"
      },
      "outputs": [
        {
          "output_type": "display_data",
          "data": {
            "text/plain": [
              "<IPython.core.display.Javascript object>"
            ],
            "application/javascript": [
              "\n",
              "        if (window._pyforest_update_imports_cell) { window._pyforest_update_imports_cell('import matplotlib.pyplot as plt\\nimport lightgbm as lgb\\nimport statistics\\nimport re\\nfrom sklearn.model_selection import train_test_split\\nimport xgboost as xgb\\nfrom openpyxl import load_workbook\\nimport pandas as pd\\nfrom scipy import stats\\nimport textblob\\nimport torch\\nimport random\\nfrom scipy import signal as sg\\nimport sklearn\\nimport seaborn as sns\\nimport spacy\\nimport numpy as np\\nfrom sklearn import svm\\nimport skimage\\nimport sys\\nimport tensorflow as tf\\nimport statsmodels.api as sm\\nimport tqdm'); }\n",
              "    "
            ]
          },
          "metadata": {}
        }
      ],
      "source": [
        "X_train, X_test, y_train, y_test = train_test_split(X,y,random_state = 42)"
      ]
    },
    {
      "cell_type": "code",
      "source": [
        "device = 'cuda' if torch.cuda.is_available() else 'cpu'\n",
        "device"
      ],
      "metadata": {
        "colab": {
          "base_uri": "https://localhost:8080/",
          "height": 36
        },
        "id": "P25xdH03Y9Z1",
        "outputId": "c6666a4d-9b74-4cf4-ca7e-821fe1e18dfd"
      },
      "id": "P25xdH03Y9Z1",
      "execution_count": null,
      "outputs": [
        {
          "output_type": "display_data",
          "data": {
            "text/plain": [
              "<IPython.core.display.Javascript object>"
            ],
            "application/javascript": [
              "\n",
              "        if (window._pyforest_update_imports_cell) { window._pyforest_update_imports_cell('import matplotlib.pyplot as plt\\nimport lightgbm as lgb\\nimport statistics\\nimport re\\nfrom sklearn.model_selection import train_test_split\\nimport xgboost as xgb\\nfrom openpyxl import load_workbook\\nimport pandas as pd\\nfrom scipy import stats\\nimport textblob\\nimport torch\\nimport random\\nfrom scipy import signal as sg\\nimport sklearn\\nimport seaborn as sns\\nimport spacy\\nimport numpy as np\\nfrom sklearn import svm\\nimport skimage\\nimport sys\\nimport tensorflow as tf\\nimport statsmodels.api as sm\\nimport tqdm'); }\n",
              "    "
            ]
          },
          "metadata": {}
        },
        {
          "output_type": "execute_result",
          "data": {
            "text/plain": [
              "'cuda'"
            ],
            "application/vnd.google.colaboratory.intrinsic+json": {
              "type": "string"
            }
          },
          "metadata": {},
          "execution_count": 177
        }
      ]
    },
    {
      "cell_type": "code",
      "execution_count": null,
      "id": "b3ba3811-2404-43f3-a8d8-aec5a54ce6cb",
      "metadata": {
        "colab": {
          "base_uri": "https://localhost:8080/",
          "height": 17
        },
        "id": "b3ba3811-2404-43f3-a8d8-aec5a54ce6cb",
        "outputId": "0065cd4b-c9d9-44bc-c58d-9fdbfa6c613a"
      },
      "outputs": [
        {
          "output_type": "display_data",
          "data": {
            "text/plain": [
              "<IPython.core.display.Javascript object>"
            ],
            "application/javascript": [
              "\n",
              "        if (window._pyforest_update_imports_cell) { window._pyforest_update_imports_cell('import matplotlib.pyplot as plt\\nimport lightgbm as lgb\\nimport statistics\\nimport re\\nfrom sklearn.model_selection import train_test_split\\nimport xgboost as xgb\\nfrom openpyxl import load_workbook\\nimport pandas as pd\\nfrom scipy import stats\\nimport textblob\\nimport torch\\nimport random\\nfrom scipy import signal as sg\\nimport sklearn\\nimport seaborn as sns\\nimport spacy\\nimport numpy as np\\nfrom sklearn import svm\\nimport skimage\\nimport sys\\nimport tensorflow as tf\\nimport statsmodels.api as sm\\nimport tqdm'); }\n",
              "    "
            ]
          },
          "metadata": {}
        },
        {
          "output_type": "display_data",
          "data": {
            "text/plain": [
              "<IPython.core.display.Javascript object>"
            ],
            "application/javascript": [
              "\n",
              "        if (window._pyforest_update_imports_cell) { window._pyforest_update_imports_cell('import matplotlib.pyplot as plt\\nimport lightgbm as lgb\\nimport statistics\\nimport re\\nfrom sklearn.model_selection import train_test_split\\nimport xgboost as xgb\\nfrom openpyxl import load_workbook\\nimport pandas as pd\\nfrom scipy import stats\\nimport textblob\\nimport torch\\nimport random\\nfrom scipy import signal as sg\\nimport sklearn\\nimport seaborn as sns\\nimport spacy\\nimport numpy as np\\nfrom sklearn import svm\\nimport skimage\\nimport sys\\nimport tensorflow as tf\\nimport statsmodels.api as sm\\nimport tqdm'); }\n",
              "    "
            ]
          },
          "metadata": {}
        },
        {
          "output_type": "display_data",
          "data": {
            "text/plain": [
              "<IPython.core.display.Javascript object>"
            ],
            "application/javascript": [
              "\n",
              "        if (window._pyforest_update_imports_cell) { window._pyforest_update_imports_cell('import matplotlib.pyplot as plt\\nimport lightgbm as lgb\\nimport statistics\\nimport re\\nfrom sklearn.model_selection import train_test_split\\nimport xgboost as xgb\\nfrom openpyxl import load_workbook\\nimport pandas as pd\\nfrom scipy import stats\\nimport textblob\\nimport torch\\nimport random\\nfrom scipy import signal as sg\\nimport sklearn\\nimport seaborn as sns\\nimport spacy\\nimport numpy as np\\nfrom sklearn import svm\\nimport skimage\\nimport sys\\nimport tensorflow as tf\\nimport statsmodels.api as sm\\nimport tqdm'); }\n",
              "    "
            ]
          },
          "metadata": {}
        },
        {
          "output_type": "display_data",
          "data": {
            "text/plain": [
              "<IPython.core.display.Javascript object>"
            ],
            "application/javascript": [
              "\n",
              "        if (window._pyforest_update_imports_cell) { window._pyforest_update_imports_cell('import matplotlib.pyplot as plt\\nimport lightgbm as lgb\\nimport statistics\\nimport re\\nfrom sklearn.model_selection import train_test_split\\nimport xgboost as xgb\\nfrom openpyxl import load_workbook\\nimport pandas as pd\\nfrom scipy import stats\\nimport textblob\\nimport torch\\nimport random\\nfrom scipy import signal as sg\\nimport sklearn\\nimport seaborn as sns\\nimport spacy\\nimport numpy as np\\nfrom sklearn import svm\\nimport skimage\\nimport sys\\nimport tensorflow as tf\\nimport statsmodels.api as sm\\nimport tqdm'); }\n",
              "    "
            ]
          },
          "metadata": {}
        },
        {
          "output_type": "display_data",
          "data": {
            "text/plain": [
              "<IPython.core.display.Javascript object>"
            ],
            "application/javascript": [
              "\n",
              "        if (window._pyforest_update_imports_cell) { window._pyforest_update_imports_cell('import matplotlib.pyplot as plt\\nimport lightgbm as lgb\\nimport statistics\\nimport re\\nfrom sklearn.model_selection import train_test_split\\nimport xgboost as xgb\\nfrom openpyxl import load_workbook\\nimport pandas as pd\\nfrom scipy import stats\\nimport textblob\\nimport torch\\nimport random\\nfrom scipy import signal as sg\\nimport sklearn\\nimport seaborn as sns\\nimport spacy\\nimport numpy as np\\nfrom sklearn import svm\\nimport skimage\\nimport sys\\nimport tensorflow as tf\\nimport statsmodels.api as sm\\nimport tqdm'); }\n",
              "    "
            ]
          },
          "metadata": {}
        },
        {
          "output_type": "display_data",
          "data": {
            "text/plain": [
              "<IPython.core.display.Javascript object>"
            ],
            "application/javascript": [
              "\n",
              "        if (window._pyforest_update_imports_cell) { window._pyforest_update_imports_cell('import matplotlib.pyplot as plt\\nimport lightgbm as lgb\\nimport statistics\\nimport re\\nfrom sklearn.model_selection import train_test_split\\nimport xgboost as xgb\\nfrom openpyxl import load_workbook\\nimport pandas as pd\\nfrom scipy import stats\\nimport textblob\\nimport torch\\nimport random\\nfrom scipy import signal as sg\\nimport sklearn\\nimport seaborn as sns\\nimport spacy\\nimport numpy as np\\nfrom sklearn import svm\\nimport skimage\\nimport sys\\nimport tensorflow as tf\\nimport statsmodels.api as sm\\nimport tqdm'); }\n",
              "    "
            ]
          },
          "metadata": {}
        },
        {
          "output_type": "display_data",
          "data": {
            "text/plain": [
              "<IPython.core.display.Javascript object>"
            ],
            "application/javascript": [
              "\n",
              "        if (window._pyforest_update_imports_cell) { window._pyforest_update_imports_cell('import matplotlib.pyplot as plt\\nimport lightgbm as lgb\\nimport statistics\\nimport re\\nfrom sklearn.model_selection import train_test_split\\nimport xgboost as xgb\\nfrom openpyxl import load_workbook\\nimport pandas as pd\\nfrom scipy import stats\\nimport textblob\\nimport torch\\nimport random\\nfrom scipy import signal as sg\\nimport sklearn\\nimport seaborn as sns\\nimport spacy\\nimport numpy as np\\nfrom sklearn import svm\\nimport skimage\\nimport sys\\nimport tensorflow as tf\\nimport statsmodels.api as sm\\nimport tqdm'); }\n",
              "    "
            ]
          },
          "metadata": {}
        },
        {
          "output_type": "display_data",
          "data": {
            "text/plain": [
              "<IPython.core.display.Javascript object>"
            ],
            "application/javascript": [
              "\n",
              "        if (window._pyforest_update_imports_cell) { window._pyforest_update_imports_cell('import matplotlib.pyplot as plt\\nimport lightgbm as lgb\\nimport statistics\\nimport re\\nfrom sklearn.model_selection import train_test_split\\nimport xgboost as xgb\\nfrom openpyxl import load_workbook\\nimport pandas as pd\\nfrom scipy import stats\\nimport textblob\\nimport torch\\nimport random\\nfrom scipy import signal as sg\\nimport sklearn\\nimport seaborn as sns\\nimport spacy\\nimport numpy as np\\nfrom sklearn import svm\\nimport skimage\\nimport sys\\nimport tensorflow as tf\\nimport statsmodels.api as sm\\nimport tqdm'); }\n",
              "    "
            ]
          },
          "metadata": {}
        }
      ],
      "source": [
        "X_train = torch.from_numpy(X_train).type(torch.float)\n",
        "X_test = torch.from_numpy(X_test).type(torch.float)\n",
        "y_train = torch.from_numpy(y_train).type(torch.float).unsqueeze(dim = 1)\n",
        "y_test = torch.from_numpy(y_test).type(torch.float).unsqueeze(dim = 1)"
      ]
    },
    {
      "cell_type": "markdown",
      "id": "f9212d35-24d3-415a-9164-348070522f76",
      "metadata": {
        "id": "f9212d35-24d3-415a-9164-348070522f76"
      },
      "source": [
        "### 2. Build a model by subclassing `nn.Module` that incorporates non-linear activation functions and is capable of fitting the data you created in 1.\n",
        "    * Feel free to use any combination of PyTorch layers (linear and non-linear) you want."
      ]
    },
    {
      "cell_type": "code",
      "execution_count": null,
      "id": "a93b4f32-7abe-45b6-929b-cd09c0f7b223",
      "metadata": {
        "colab": {
          "base_uri": "https://localhost:8080/",
          "height": 17
        },
        "id": "a93b4f32-7abe-45b6-929b-cd09c0f7b223",
        "outputId": "1e770c08-ebe0-497c-c077-c33870597abb"
      },
      "outputs": [
        {
          "output_type": "display_data",
          "data": {
            "text/plain": [
              "<IPython.core.display.Javascript object>"
            ],
            "application/javascript": [
              "\n",
              "        if (window._pyforest_update_imports_cell) { window._pyforest_update_imports_cell('import matplotlib.pyplot as plt\\nimport lightgbm as lgb\\nimport statistics\\nimport re\\nfrom sklearn.model_selection import train_test_split\\nimport xgboost as xgb\\nfrom openpyxl import load_workbook\\nimport pandas as pd\\nfrom scipy import stats\\nimport textblob\\nimport torch\\nimport random\\nfrom scipy import signal as sg\\nimport sklearn\\nimport seaborn as sns\\nimport spacy\\nimport numpy as np\\nfrom sklearn import svm\\nimport skimage\\nimport sys\\nimport tensorflow as tf\\nimport statsmodels.api as sm\\nimport tqdm'); }\n",
              "    "
            ]
          },
          "metadata": {}
        }
      ],
      "source": [
        "from torch import nn\n",
        "\n",
        "class BinaryClassifier(nn.Module):\n",
        "    def __init__(self):\n",
        "        super().__init__()\n",
        "        self.layer1 = nn.Linear(2,100)\n",
        "        self.layer2 = nn.Linear(100,10)\n",
        "        self.layer3 = nn.Linear(10,1)\n",
        "        self.relu = nn.ReLU()\n",
        "\n",
        "    def forward (self, x):\n",
        "        return self.layer3(self.relu(self.layer2(self.layer1(x))))\n",
        "\n",
        "torch.manual_seed(42)\n",
        "classifier = BinaryClassifier().to(device)\n",
        "#classifier.state_dict()"
      ]
    },
    {
      "cell_type": "markdown",
      "id": "5016b5f6-2560-45d5-ba61-a24bce4aaeb3",
      "metadata": {
        "id": "5016b5f6-2560-45d5-ba61-a24bce4aaeb3"
      },
      "source": [
        "### 3. Setup a binary classification compatible loss function and optimizer to use when training the model."
      ]
    },
    {
      "cell_type": "code",
      "execution_count": null,
      "id": "85097ca9-e9e3-4d56-a730-15becc43268a",
      "metadata": {
        "colab": {
          "base_uri": "https://localhost:8080/",
          "height": 17
        },
        "id": "85097ca9-e9e3-4d56-a730-15becc43268a",
        "outputId": "7e7add9f-1492-4439-97ee-40e05dfa6bd5"
      },
      "outputs": [
        {
          "output_type": "display_data",
          "data": {
            "text/plain": [
              "<IPython.core.display.Javascript object>"
            ],
            "application/javascript": [
              "\n",
              "        if (window._pyforest_update_imports_cell) { window._pyforest_update_imports_cell('import matplotlib.pyplot as plt\\nimport lightgbm as lgb\\nimport statistics\\nimport re\\nfrom sklearn.model_selection import train_test_split\\nimport xgboost as xgb\\nfrom openpyxl import load_workbook\\nimport pandas as pd\\nfrom scipy import stats\\nimport textblob\\nimport torch\\nimport random\\nfrom scipy import signal as sg\\nimport sklearn\\nimport seaborn as sns\\nimport spacy\\nimport numpy as np\\nfrom sklearn import svm\\nimport skimage\\nimport sys\\nimport tensorflow as tf\\nimport statsmodels.api as sm\\nimport tqdm'); }\n",
              "    "
            ]
          },
          "metadata": {}
        }
      ],
      "source": [
        "#Loss function\n",
        "loss_fn = nn.BCEWithLogitsLoss()\n",
        "\n",
        "#Optimizer\n",
        "optimizer = torch.optim.Adam(lr = 0.1, params = classifier.parameters())"
      ]
    },
    {
      "cell_type": "code",
      "execution_count": null,
      "id": "28e4e7c7-77d6-424f-b01b-e5d0cb0598fe",
      "metadata": {
        "id": "28e4e7c7-77d6-424f-b01b-e5d0cb0598fe"
      },
      "outputs": [],
      "source": [
        "def accuracy_score (y_true, y_pred):\n",
        "    return (y_true == y_pred).sum().item()/len(y_pred) * 100"
      ]
    },
    {
      "cell_type": "markdown",
      "id": "58b95075-5f3c-4cc1-afba-bd35016da7ac",
      "metadata": {
        "id": "58b95075-5f3c-4cc1-afba-bd35016da7ac"
      },
      "source": [
        "### 4. Create a training and testing loop to fit the model you created in 2 to the data you created in 1.\n",
        "    * To measure model accuracy, you can create your own accuracy function or use the accuracy function in [TorchMetrics](https://torchmetrics.readthedocs.io/en/latest/).\n",
        "    * Train the model for long enough for it to reach over 96% accuracy.\n",
        "    * The training loop should output progress every 10 epochs of the model's training and test set loss and accuracy."
      ]
    },
    {
      "cell_type": "code",
      "execution_count": null,
      "id": "2aecba3b-62c9-4f33-9b74-25ab93b8e9b4",
      "metadata": {
        "colab": {
          "base_uri": "https://localhost:8080/",
          "height": 206
        },
        "id": "2aecba3b-62c9-4f33-9b74-25ab93b8e9b4",
        "scrolled": true,
        "outputId": "64b1ace6-ca30-4e8f-b899-f1dc51c2f2a7"
      },
      "outputs": [
        {
          "output_type": "display_data",
          "data": {
            "text/plain": [
              "<IPython.core.display.Javascript object>"
            ],
            "application/javascript": [
              "\n",
              "        if (window._pyforest_update_imports_cell) { window._pyforest_update_imports_cell('import matplotlib.pyplot as plt\\nimport lightgbm as lgb\\nimport statistics\\nimport re\\nfrom sklearn.model_selection import train_test_split\\nimport xgboost as xgb\\nfrom openpyxl import load_workbook\\nimport pandas as pd\\nfrom scipy import stats\\nimport textblob\\nimport torch\\nimport random\\nfrom scipy import signal as sg\\nimport sklearn\\nimport seaborn as sns\\nimport spacy\\nimport numpy as np\\nfrom sklearn import svm\\nimport skimage\\nimport sys\\nimport tensorflow as tf\\nimport statsmodels.api as sm\\nimport tqdm'); }\n",
              "    "
            ]
          },
          "metadata": {}
        },
        {
          "output_type": "display_data",
          "data": {
            "text/plain": [
              "<IPython.core.display.Javascript object>"
            ],
            "application/javascript": [
              "\n",
              "        if (window._pyforest_update_imports_cell) { window._pyforest_update_imports_cell('import matplotlib.pyplot as plt\\nimport lightgbm as lgb\\nimport statistics\\nimport re\\nfrom sklearn.model_selection import train_test_split\\nimport xgboost as xgb\\nfrom openpyxl import load_workbook\\nimport pandas as pd\\nfrom scipy import stats\\nimport textblob\\nimport torch\\nimport random\\nfrom scipy import signal as sg\\nimport sklearn\\nimport seaborn as sns\\nimport spacy\\nimport numpy as np\\nfrom sklearn import svm\\nimport skimage\\nimport sys\\nimport tensorflow as tf\\nimport statsmodels.api as sm\\nimport tqdm'); }\n",
              "    "
            ]
          },
          "metadata": {}
        },
        {
          "output_type": "display_data",
          "data": {
            "text/plain": [
              "<IPython.core.display.Javascript object>"
            ],
            "application/javascript": [
              "\n",
              "        if (window._pyforest_update_imports_cell) { window._pyforest_update_imports_cell('import matplotlib.pyplot as plt\\nimport lightgbm as lgb\\nimport statistics\\nimport re\\nfrom sklearn.model_selection import train_test_split\\nimport xgboost as xgb\\nfrom openpyxl import load_workbook\\nimport pandas as pd\\nfrom scipy import stats\\nimport textblob\\nimport torch\\nimport random\\nfrom scipy import signal as sg\\nimport sklearn\\nimport seaborn as sns\\nimport spacy\\nimport numpy as np\\nfrom sklearn import svm\\nimport skimage\\nimport sys\\nimport tensorflow as tf\\nimport statsmodels.api as sm\\nimport tqdm'); }\n",
              "    "
            ]
          },
          "metadata": {}
        },
        {
          "output_type": "display_data",
          "data": {
            "text/plain": [
              "<IPython.core.display.Javascript object>"
            ],
            "application/javascript": [
              "\n",
              "        if (window._pyforest_update_imports_cell) { window._pyforest_update_imports_cell('import matplotlib.pyplot as plt\\nimport lightgbm as lgb\\nimport statistics\\nimport re\\nfrom sklearn.model_selection import train_test_split\\nimport xgboost as xgb\\nfrom openpyxl import load_workbook\\nimport pandas as pd\\nfrom scipy import stats\\nimport textblob\\nimport torch\\nimport random\\nfrom scipy import signal as sg\\nimport sklearn\\nimport seaborn as sns\\nimport spacy\\nimport numpy as np\\nfrom sklearn import svm\\nimport skimage\\nimport sys\\nimport tensorflow as tf\\nimport statsmodels.api as sm\\nimport tqdm'); }\n",
              "    "
            ]
          },
          "metadata": {}
        },
        {
          "output_type": "display_data",
          "data": {
            "text/plain": [
              "<IPython.core.display.Javascript object>"
            ],
            "application/javascript": [
              "\n",
              "        if (window._pyforest_update_imports_cell) { window._pyforest_update_imports_cell('import matplotlib.pyplot as plt\\nimport lightgbm as lgb\\nimport statistics\\nimport re\\nfrom sklearn.model_selection import train_test_split\\nimport xgboost as xgb\\nfrom openpyxl import load_workbook\\nimport pandas as pd\\nfrom scipy import stats\\nimport textblob\\nimport torch\\nimport random\\nfrom scipy import signal as sg\\nimport sklearn\\nimport seaborn as sns\\nimport spacy\\nimport numpy as np\\nfrom sklearn import svm\\nimport skimage\\nimport sys\\nimport tensorflow as tf\\nimport statsmodels.api as sm\\nimport tqdm'); }\n",
              "    "
            ]
          },
          "metadata": {}
        },
        {
          "output_type": "display_data",
          "data": {
            "text/plain": [
              "<IPython.core.display.Javascript object>"
            ],
            "application/javascript": [
              "\n",
              "        if (window._pyforest_update_imports_cell) { window._pyforest_update_imports_cell('import matplotlib.pyplot as plt\\nimport lightgbm as lgb\\nimport statistics\\nimport re\\nfrom sklearn.model_selection import train_test_split\\nimport xgboost as xgb\\nfrom openpyxl import load_workbook\\nimport pandas as pd\\nfrom scipy import stats\\nimport textblob\\nimport torch\\nimport random\\nfrom scipy import signal as sg\\nimport sklearn\\nimport seaborn as sns\\nimport spacy\\nimport numpy as np\\nfrom sklearn import svm\\nimport skimage\\nimport sys\\nimport tensorflow as tf\\nimport statsmodels.api as sm\\nimport tqdm'); }\n",
              "    "
            ]
          },
          "metadata": {}
        },
        {
          "output_type": "display_data",
          "data": {
            "text/plain": [
              "<IPython.core.display.Javascript object>"
            ],
            "application/javascript": [
              "\n",
              "        if (window._pyforest_update_imports_cell) { window._pyforest_update_imports_cell('import matplotlib.pyplot as plt\\nimport lightgbm as lgb\\nimport statistics\\nimport re\\nfrom sklearn.model_selection import train_test_split\\nimport xgboost as xgb\\nfrom openpyxl import load_workbook\\nimport pandas as pd\\nfrom scipy import stats\\nimport textblob\\nimport torch\\nimport random\\nfrom scipy import signal as sg\\nimport sklearn\\nimport seaborn as sns\\nimport spacy\\nimport numpy as np\\nfrom sklearn import svm\\nimport skimage\\nimport sys\\nimport tensorflow as tf\\nimport statsmodels.api as sm\\nimport tqdm'); }\n",
              "    "
            ]
          },
          "metadata": {}
        },
        {
          "output_type": "display_data",
          "data": {
            "text/plain": [
              "<IPython.core.display.Javascript object>"
            ],
            "application/javascript": [
              "\n",
              "        if (window._pyforest_update_imports_cell) { window._pyforest_update_imports_cell('import matplotlib.pyplot as plt\\nimport lightgbm as lgb\\nimport statistics\\nimport re\\nfrom sklearn.model_selection import train_test_split\\nimport xgboost as xgb\\nfrom openpyxl import load_workbook\\nimport pandas as pd\\nfrom scipy import stats\\nimport textblob\\nimport torch\\nimport random\\nfrom scipy import signal as sg\\nimport sklearn\\nimport seaborn as sns\\nimport spacy\\nimport numpy as np\\nfrom sklearn import svm\\nimport skimage\\nimport sys\\nimport tensorflow as tf\\nimport statsmodels.api as sm\\nimport tqdm'); }\n",
              "    "
            ]
          },
          "metadata": {}
        },
        {
          "output_type": "display_data",
          "data": {
            "text/plain": [
              "<IPython.core.display.Javascript object>"
            ],
            "application/javascript": [
              "\n",
              "        if (window._pyforest_update_imports_cell) { window._pyforest_update_imports_cell('import matplotlib.pyplot as plt\\nimport lightgbm as lgb\\nimport statistics\\nimport re\\nfrom sklearn.model_selection import train_test_split\\nimport xgboost as xgb\\nfrom openpyxl import load_workbook\\nimport pandas as pd\\nfrom scipy import stats\\nimport textblob\\nimport torch\\nimport random\\nfrom scipy import signal as sg\\nimport sklearn\\nimport seaborn as sns\\nimport spacy\\nimport numpy as np\\nfrom sklearn import svm\\nimport skimage\\nimport sys\\nimport tensorflow as tf\\nimport statsmodels.api as sm\\nimport tqdm'); }\n",
              "    "
            ]
          },
          "metadata": {}
        },
        {
          "output_type": "display_data",
          "data": {
            "text/plain": [
              "<IPython.core.display.Javascript object>"
            ],
            "application/javascript": [
              "\n",
              "        if (window._pyforest_update_imports_cell) { window._pyforest_update_imports_cell('import matplotlib.pyplot as plt\\nimport lightgbm as lgb\\nimport statistics\\nimport re\\nfrom sklearn.model_selection import train_test_split\\nimport xgboost as xgb\\nfrom openpyxl import load_workbook\\nimport pandas as pd\\nfrom scipy import stats\\nimport textblob\\nimport torch\\nimport random\\nfrom scipy import signal as sg\\nimport sklearn\\nimport seaborn as sns\\nimport spacy\\nimport numpy as np\\nfrom sklearn import svm\\nimport skimage\\nimport sys\\nimport tensorflow as tf\\nimport statsmodels.api as sm\\nimport tqdm'); }\n",
              "    "
            ]
          },
          "metadata": {}
        },
        {
          "output_type": "display_data",
          "data": {
            "text/plain": [
              "<IPython.core.display.Javascript object>"
            ],
            "application/javascript": [
              "\n",
              "        if (window._pyforest_update_imports_cell) { window._pyforest_update_imports_cell('import matplotlib.pyplot as plt\\nimport lightgbm as lgb\\nimport statistics\\nimport re\\nfrom sklearn.model_selection import train_test_split\\nimport xgboost as xgb\\nfrom openpyxl import load_workbook\\nimport pandas as pd\\nfrom scipy import stats\\nimport textblob\\nimport torch\\nimport random\\nfrom scipy import signal as sg\\nimport sklearn\\nimport seaborn as sns\\nimport spacy\\nimport numpy as np\\nfrom sklearn import svm\\nimport skimage\\nimport sys\\nimport tensorflow as tf\\nimport statsmodels.api as sm\\nimport tqdm'); }\n",
              "    "
            ]
          },
          "metadata": {}
        },
        {
          "output_type": "display_data",
          "data": {
            "text/plain": [
              "<IPython.core.display.Javascript object>"
            ],
            "application/javascript": [
              "\n",
              "        if (window._pyforest_update_imports_cell) { window._pyforest_update_imports_cell('import matplotlib.pyplot as plt\\nimport lightgbm as lgb\\nimport statistics\\nimport re\\nfrom sklearn.model_selection import train_test_split\\nimport xgboost as xgb\\nfrom openpyxl import load_workbook\\nimport pandas as pd\\nfrom scipy import stats\\nimport textblob\\nimport torch\\nimport random\\nfrom scipy import signal as sg\\nimport sklearn\\nimport seaborn as sns\\nimport spacy\\nimport numpy as np\\nfrom sklearn import svm\\nimport skimage\\nimport sys\\nimport tensorflow as tf\\nimport statsmodels.api as sm\\nimport tqdm'); }\n",
              "    "
            ]
          },
          "metadata": {}
        },
        {
          "output_type": "display_data",
          "data": {
            "text/plain": [
              "<IPython.core.display.Javascript object>"
            ],
            "application/javascript": [
              "\n",
              "        if (window._pyforest_update_imports_cell) { window._pyforest_update_imports_cell('import matplotlib.pyplot as plt\\nimport lightgbm as lgb\\nimport statistics\\nimport re\\nfrom sklearn.model_selection import train_test_split\\nimport xgboost as xgb\\nfrom openpyxl import load_workbook\\nimport pandas as pd\\nfrom scipy import stats\\nimport textblob\\nimport torch\\nimport random\\nfrom scipy import signal as sg\\nimport sklearn\\nimport seaborn as sns\\nimport spacy\\nimport numpy as np\\nfrom sklearn import svm\\nimport skimage\\nimport sys\\nimport tensorflow as tf\\nimport statsmodels.api as sm\\nimport tqdm'); }\n",
              "    "
            ]
          },
          "metadata": {}
        },
        {
          "output_type": "display_data",
          "data": {
            "text/plain": [
              "<IPython.core.display.Javascript object>"
            ],
            "application/javascript": [
              "\n",
              "        if (window._pyforest_update_imports_cell) { window._pyforest_update_imports_cell('import matplotlib.pyplot as plt\\nimport lightgbm as lgb\\nimport statistics\\nimport re\\nfrom sklearn.model_selection import train_test_split\\nimport xgboost as xgb\\nfrom openpyxl import load_workbook\\nimport pandas as pd\\nfrom scipy import stats\\nimport textblob\\nimport torch\\nimport random\\nfrom scipy import signal as sg\\nimport sklearn\\nimport seaborn as sns\\nimport spacy\\nimport numpy as np\\nfrom sklearn import svm\\nimport skimage\\nimport sys\\nimport tensorflow as tf\\nimport statsmodels.api as sm\\nimport tqdm'); }\n",
              "    "
            ]
          },
          "metadata": {}
        },
        {
          "output_type": "display_data",
          "data": {
            "text/plain": [
              "<IPython.core.display.Javascript object>"
            ],
            "application/javascript": [
              "\n",
              "        if (window._pyforest_update_imports_cell) { window._pyforest_update_imports_cell('import matplotlib.pyplot as plt\\nimport lightgbm as lgb\\nimport statistics\\nimport re\\nfrom sklearn.model_selection import train_test_split\\nimport xgboost as xgb\\nfrom openpyxl import load_workbook\\nimport pandas as pd\\nfrom scipy import stats\\nimport textblob\\nimport torch\\nimport random\\nfrom scipy import signal as sg\\nimport sklearn\\nimport seaborn as sns\\nimport spacy\\nimport numpy as np\\nfrom sklearn import svm\\nimport skimage\\nimport sys\\nimport tensorflow as tf\\nimport statsmodels.api as sm\\nimport tqdm'); }\n",
              "    "
            ]
          },
          "metadata": {}
        },
        {
          "output_type": "display_data",
          "data": {
            "text/plain": [
              "<IPython.core.display.Javascript object>"
            ],
            "application/javascript": [
              "\n",
              "        if (window._pyforest_update_imports_cell) { window._pyforest_update_imports_cell('import matplotlib.pyplot as plt\\nimport lightgbm as lgb\\nimport statistics\\nimport re\\nfrom sklearn.model_selection import train_test_split\\nimport xgboost as xgb\\nfrom openpyxl import load_workbook\\nimport pandas as pd\\nfrom scipy import stats\\nimport textblob\\nimport torch\\nimport random\\nfrom scipy import signal as sg\\nimport sklearn\\nimport seaborn as sns\\nimport spacy\\nimport numpy as np\\nfrom sklearn import svm\\nimport skimage\\nimport sys\\nimport tensorflow as tf\\nimport statsmodels.api as sm\\nimport tqdm'); }\n",
              "    "
            ]
          },
          "metadata": {}
        },
        {
          "output_type": "display_data",
          "data": {
            "text/plain": [
              "<IPython.core.display.Javascript object>"
            ],
            "application/javascript": [
              "\n",
              "        if (window._pyforest_update_imports_cell) { window._pyforest_update_imports_cell('import matplotlib.pyplot as plt\\nimport lightgbm as lgb\\nimport statistics\\nimport re\\nfrom sklearn.model_selection import train_test_split\\nimport xgboost as xgb\\nfrom openpyxl import load_workbook\\nimport pandas as pd\\nfrom scipy import stats\\nimport textblob\\nimport torch\\nimport random\\nfrom scipy import signal as sg\\nimport sklearn\\nimport seaborn as sns\\nimport spacy\\nimport numpy as np\\nfrom sklearn import svm\\nimport skimage\\nimport sys\\nimport tensorflow as tf\\nimport statsmodels.api as sm\\nimport tqdm'); }\n",
              "    "
            ]
          },
          "metadata": {}
        },
        {
          "output_type": "display_data",
          "data": {
            "text/plain": [
              "<IPython.core.display.Javascript object>"
            ],
            "application/javascript": [
              "\n",
              "        if (window._pyforest_update_imports_cell) { window._pyforest_update_imports_cell('import matplotlib.pyplot as plt\\nimport lightgbm as lgb\\nimport statistics\\nimport re\\nfrom sklearn.model_selection import train_test_split\\nimport xgboost as xgb\\nfrom openpyxl import load_workbook\\nimport pandas as pd\\nfrom scipy import stats\\nimport textblob\\nimport torch\\nimport random\\nfrom scipy import signal as sg\\nimport sklearn\\nimport seaborn as sns\\nimport spacy\\nimport numpy as np\\nfrom sklearn import svm\\nimport skimage\\nimport sys\\nimport tensorflow as tf\\nimport statsmodels.api as sm\\nimport tqdm'); }\n",
              "    "
            ]
          },
          "metadata": {}
        },
        {
          "output_type": "display_data",
          "data": {
            "text/plain": [
              "<IPython.core.display.Javascript object>"
            ],
            "application/javascript": [
              "\n",
              "        if (window._pyforest_update_imports_cell) { window._pyforest_update_imports_cell('import matplotlib.pyplot as plt\\nimport lightgbm as lgb\\nimport statistics\\nimport re\\nfrom sklearn.model_selection import train_test_split\\nimport xgboost as xgb\\nfrom openpyxl import load_workbook\\nimport pandas as pd\\nfrom scipy import stats\\nimport textblob\\nimport torch\\nimport random\\nfrom scipy import signal as sg\\nimport sklearn\\nimport seaborn as sns\\nimport spacy\\nimport numpy as np\\nfrom sklearn import svm\\nimport skimage\\nimport sys\\nimport tensorflow as tf\\nimport statsmodels.api as sm\\nimport tqdm'); }\n",
              "    "
            ]
          },
          "metadata": {}
        },
        {
          "output_type": "display_data",
          "data": {
            "text/plain": [
              "<IPython.core.display.Javascript object>"
            ],
            "application/javascript": [
              "\n",
              "        if (window._pyforest_update_imports_cell) { window._pyforest_update_imports_cell('import matplotlib.pyplot as plt\\nimport lightgbm as lgb\\nimport statistics\\nimport re\\nfrom sklearn.model_selection import train_test_split\\nimport xgboost as xgb\\nfrom openpyxl import load_workbook\\nimport pandas as pd\\nfrom scipy import stats\\nimport textblob\\nimport torch\\nimport random\\nfrom scipy import signal as sg\\nimport sklearn\\nimport seaborn as sns\\nimport spacy\\nimport numpy as np\\nfrom sklearn import svm\\nimport skimage\\nimport sys\\nimport tensorflow as tf\\nimport statsmodels.api as sm\\nimport tqdm'); }\n",
              "    "
            ]
          },
          "metadata": {}
        },
        {
          "output_type": "display_data",
          "data": {
            "text/plain": [
              "<IPython.core.display.Javascript object>"
            ],
            "application/javascript": [
              "\n",
              "        if (window._pyforest_update_imports_cell) { window._pyforest_update_imports_cell('import matplotlib.pyplot as plt\\nimport lightgbm as lgb\\nimport statistics\\nimport re\\nfrom sklearn.model_selection import train_test_split\\nimport xgboost as xgb\\nfrom openpyxl import load_workbook\\nimport pandas as pd\\nfrom scipy import stats\\nimport textblob\\nimport torch\\nimport random\\nfrom scipy import signal as sg\\nimport sklearn\\nimport seaborn as sns\\nimport spacy\\nimport numpy as np\\nfrom sklearn import svm\\nimport skimage\\nimport sys\\nimport tensorflow as tf\\nimport statsmodels.api as sm\\nimport tqdm'); }\n",
              "    "
            ]
          },
          "metadata": {}
        },
        {
          "output_type": "display_data",
          "data": {
            "text/plain": [
              "<IPython.core.display.Javascript object>"
            ],
            "application/javascript": [
              "\n",
              "        if (window._pyforest_update_imports_cell) { window._pyforest_update_imports_cell('import matplotlib.pyplot as plt\\nimport lightgbm as lgb\\nimport statistics\\nimport re\\nfrom sklearn.model_selection import train_test_split\\nimport xgboost as xgb\\nfrom openpyxl import load_workbook\\nimport pandas as pd\\nfrom scipy import stats\\nimport textblob\\nimport torch\\nimport random\\nfrom scipy import signal as sg\\nimport sklearn\\nimport seaborn as sns\\nimport spacy\\nimport numpy as np\\nfrom sklearn import svm\\nimport skimage\\nimport sys\\nimport tensorflow as tf\\nimport statsmodels.api as sm\\nimport tqdm'); }\n",
              "    "
            ]
          },
          "metadata": {}
        },
        {
          "output_type": "display_data",
          "data": {
            "text/plain": [
              "<IPython.core.display.Javascript object>"
            ],
            "application/javascript": [
              "\n",
              "        if (window._pyforest_update_imports_cell) { window._pyforest_update_imports_cell('import matplotlib.pyplot as plt\\nimport lightgbm as lgb\\nimport statistics\\nimport re\\nfrom sklearn.model_selection import train_test_split\\nimport xgboost as xgb\\nfrom openpyxl import load_workbook\\nimport pandas as pd\\nfrom scipy import stats\\nimport textblob\\nimport torch\\nimport random\\nfrom scipy import signal as sg\\nimport sklearn\\nimport seaborn as sns\\nimport spacy\\nimport numpy as np\\nfrom sklearn import svm\\nimport skimage\\nimport sys\\nimport tensorflow as tf\\nimport statsmodels.api as sm\\nimport tqdm'); }\n",
              "    "
            ]
          },
          "metadata": {}
        },
        {
          "output_type": "display_data",
          "data": {
            "text/plain": [
              "<IPython.core.display.Javascript object>"
            ],
            "application/javascript": [
              "\n",
              "        if (window._pyforest_update_imports_cell) { window._pyforest_update_imports_cell('import matplotlib.pyplot as plt\\nimport lightgbm as lgb\\nimport statistics\\nimport re\\nfrom sklearn.model_selection import train_test_split\\nimport xgboost as xgb\\nfrom openpyxl import load_workbook\\nimport pandas as pd\\nfrom scipy import stats\\nimport textblob\\nimport torch\\nimport random\\nfrom scipy import signal as sg\\nimport sklearn\\nimport seaborn as sns\\nimport spacy\\nimport numpy as np\\nfrom sklearn import svm\\nimport skimage\\nimport sys\\nimport tensorflow as tf\\nimport statsmodels.api as sm\\nimport tqdm'); }\n",
              "    "
            ]
          },
          "metadata": {}
        },
        {
          "output_type": "display_data",
          "data": {
            "text/plain": [
              "<IPython.core.display.Javascript object>"
            ],
            "application/javascript": [
              "\n",
              "        if (window._pyforest_update_imports_cell) { window._pyforest_update_imports_cell('import matplotlib.pyplot as plt\\nimport lightgbm as lgb\\nimport statistics\\nimport re\\nfrom sklearn.model_selection import train_test_split\\nimport xgboost as xgb\\nfrom openpyxl import load_workbook\\nimport pandas as pd\\nfrom scipy import stats\\nimport textblob\\nimport torch\\nimport random\\nfrom scipy import signal as sg\\nimport sklearn\\nimport seaborn as sns\\nimport spacy\\nimport numpy as np\\nfrom sklearn import svm\\nimport skimage\\nimport sys\\nimport tensorflow as tf\\nimport statsmodels.api as sm\\nimport tqdm'); }\n",
              "    "
            ]
          },
          "metadata": {}
        },
        {
          "output_type": "display_data",
          "data": {
            "text/plain": [
              "<IPython.core.display.Javascript object>"
            ],
            "application/javascript": [
              "\n",
              "        if (window._pyforest_update_imports_cell) { window._pyforest_update_imports_cell('import matplotlib.pyplot as plt\\nimport lightgbm as lgb\\nimport statistics\\nimport re\\nfrom sklearn.model_selection import train_test_split\\nimport xgboost as xgb\\nfrom openpyxl import load_workbook\\nimport pandas as pd\\nfrom scipy import stats\\nimport textblob\\nimport torch\\nimport random\\nfrom scipy import signal as sg\\nimport sklearn\\nimport seaborn as sns\\nimport spacy\\nimport numpy as np\\nfrom sklearn import svm\\nimport skimage\\nimport sys\\nimport tensorflow as tf\\nimport statsmodels.api as sm\\nimport tqdm'); }\n",
              "    "
            ]
          },
          "metadata": {}
        },
        {
          "output_type": "display_data",
          "data": {
            "text/plain": [
              "<IPython.core.display.Javascript object>"
            ],
            "application/javascript": [
              "\n",
              "        if (window._pyforest_update_imports_cell) { window._pyforest_update_imports_cell('import matplotlib.pyplot as plt\\nimport lightgbm as lgb\\nimport statistics\\nimport re\\nfrom sklearn.model_selection import train_test_split\\nimport xgboost as xgb\\nfrom openpyxl import load_workbook\\nimport pandas as pd\\nfrom scipy import stats\\nimport textblob\\nimport torch\\nimport random\\nfrom scipy import signal as sg\\nimport sklearn\\nimport seaborn as sns\\nimport spacy\\nimport numpy as np\\nfrom sklearn import svm\\nimport skimage\\nimport sys\\nimport tensorflow as tf\\nimport statsmodels.api as sm\\nimport tqdm'); }\n",
              "    "
            ]
          },
          "metadata": {}
        },
        {
          "output_type": "display_data",
          "data": {
            "text/plain": [
              "<IPython.core.display.Javascript object>"
            ],
            "application/javascript": [
              "\n",
              "        if (window._pyforest_update_imports_cell) { window._pyforest_update_imports_cell('import matplotlib.pyplot as plt\\nimport lightgbm as lgb\\nimport statistics\\nimport re\\nfrom sklearn.model_selection import train_test_split\\nimport xgboost as xgb\\nfrom openpyxl import load_workbook\\nimport pandas as pd\\nfrom scipy import stats\\nimport textblob\\nimport torch\\nimport random\\nfrom scipy import signal as sg\\nimport sklearn\\nimport seaborn as sns\\nimport spacy\\nimport numpy as np\\nfrom sklearn import svm\\nimport skimage\\nimport sys\\nimport tensorflow as tf\\nimport statsmodels.api as sm\\nimport tqdm'); }\n",
              "    "
            ]
          },
          "metadata": {}
        },
        {
          "output_type": "display_data",
          "data": {
            "text/plain": [
              "<IPython.core.display.Javascript object>"
            ],
            "application/javascript": [
              "\n",
              "        if (window._pyforest_update_imports_cell) { window._pyforest_update_imports_cell('import matplotlib.pyplot as plt\\nimport lightgbm as lgb\\nimport statistics\\nimport re\\nfrom sklearn.model_selection import train_test_split\\nimport xgboost as xgb\\nfrom openpyxl import load_workbook\\nimport pandas as pd\\nfrom scipy import stats\\nimport textblob\\nimport torch\\nimport random\\nfrom scipy import signal as sg\\nimport sklearn\\nimport seaborn as sns\\nimport spacy\\nimport numpy as np\\nfrom sklearn import svm\\nimport skimage\\nimport sys\\nimport tensorflow as tf\\nimport statsmodels.api as sm\\nimport tqdm'); }\n",
              "    "
            ]
          },
          "metadata": {}
        },
        {
          "output_type": "display_data",
          "data": {
            "text/plain": [
              "<IPython.core.display.Javascript object>"
            ],
            "application/javascript": [
              "\n",
              "        if (window._pyforest_update_imports_cell) { window._pyforest_update_imports_cell('import matplotlib.pyplot as plt\\nimport lightgbm as lgb\\nimport statistics\\nimport re\\nfrom sklearn.model_selection import train_test_split\\nimport xgboost as xgb\\nfrom openpyxl import load_workbook\\nimport pandas as pd\\nfrom scipy import stats\\nimport textblob\\nimport torch\\nimport random\\nfrom scipy import signal as sg\\nimport sklearn\\nimport seaborn as sns\\nimport spacy\\nimport numpy as np\\nfrom sklearn import svm\\nimport skimage\\nimport sys\\nimport tensorflow as tf\\nimport statsmodels.api as sm\\nimport tqdm'); }\n",
              "    "
            ]
          },
          "metadata": {}
        },
        {
          "output_type": "display_data",
          "data": {
            "text/plain": [
              "<IPython.core.display.Javascript object>"
            ],
            "application/javascript": [
              "\n",
              "        if (window._pyforest_update_imports_cell) { window._pyforest_update_imports_cell('import matplotlib.pyplot as plt\\nimport lightgbm as lgb\\nimport statistics\\nimport re\\nfrom sklearn.model_selection import train_test_split\\nimport xgboost as xgb\\nfrom openpyxl import load_workbook\\nimport pandas as pd\\nfrom scipy import stats\\nimport textblob\\nimport torch\\nimport random\\nfrom scipy import signal as sg\\nimport sklearn\\nimport seaborn as sns\\nimport spacy\\nimport numpy as np\\nfrom sklearn import svm\\nimport skimage\\nimport sys\\nimport tensorflow as tf\\nimport statsmodels.api as sm\\nimport tqdm'); }\n",
              "    "
            ]
          },
          "metadata": {}
        },
        {
          "output_type": "display_data",
          "data": {
            "text/plain": [
              "<IPython.core.display.Javascript object>"
            ],
            "application/javascript": [
              "\n",
              "        if (window._pyforest_update_imports_cell) { window._pyforest_update_imports_cell('import matplotlib.pyplot as plt\\nimport lightgbm as lgb\\nimport statistics\\nimport re\\nfrom sklearn.model_selection import train_test_split\\nimport xgboost as xgb\\nfrom openpyxl import load_workbook\\nimport pandas as pd\\nfrom scipy import stats\\nimport textblob\\nimport torch\\nimport random\\nfrom scipy import signal as sg\\nimport sklearn\\nimport seaborn as sns\\nimport spacy\\nimport numpy as np\\nfrom sklearn import svm\\nimport skimage\\nimport sys\\nimport tensorflow as tf\\nimport statsmodels.api as sm\\nimport tqdm'); }\n",
              "    "
            ]
          },
          "metadata": {}
        },
        {
          "output_type": "display_data",
          "data": {
            "text/plain": [
              "<IPython.core.display.Javascript object>"
            ],
            "application/javascript": [
              "\n",
              "        if (window._pyforest_update_imports_cell) { window._pyforest_update_imports_cell('import matplotlib.pyplot as plt\\nimport lightgbm as lgb\\nimport statistics\\nimport re\\nfrom sklearn.model_selection import train_test_split\\nimport xgboost as xgb\\nfrom openpyxl import load_workbook\\nimport pandas as pd\\nfrom scipy import stats\\nimport textblob\\nimport torch\\nimport random\\nfrom scipy import signal as sg\\nimport sklearn\\nimport seaborn as sns\\nimport spacy\\nimport numpy as np\\nfrom sklearn import svm\\nimport skimage\\nimport sys\\nimport tensorflow as tf\\nimport statsmodels.api as sm\\nimport tqdm'); }\n",
              "    "
            ]
          },
          "metadata": {}
        },
        {
          "output_type": "display_data",
          "data": {
            "text/plain": [
              "<IPython.core.display.Javascript object>"
            ],
            "application/javascript": [
              "\n",
              "        if (window._pyforest_update_imports_cell) { window._pyforest_update_imports_cell('import matplotlib.pyplot as plt\\nimport lightgbm as lgb\\nimport statistics\\nimport re\\nfrom sklearn.model_selection import train_test_split\\nimport xgboost as xgb\\nfrom openpyxl import load_workbook\\nimport pandas as pd\\nfrom scipy import stats\\nimport textblob\\nimport torch\\nimport random\\nfrom scipy import signal as sg\\nimport sklearn\\nimport seaborn as sns\\nimport spacy\\nimport numpy as np\\nfrom sklearn import svm\\nimport skimage\\nimport sys\\nimport tensorflow as tf\\nimport statsmodels.api as sm\\nimport tqdm'); }\n",
              "    "
            ]
          },
          "metadata": {}
        },
        {
          "output_type": "display_data",
          "data": {
            "text/plain": [
              "<IPython.core.display.Javascript object>"
            ],
            "application/javascript": [
              "\n",
              "        if (window._pyforest_update_imports_cell) { window._pyforest_update_imports_cell('import matplotlib.pyplot as plt\\nimport lightgbm as lgb\\nimport statistics\\nimport re\\nfrom sklearn.model_selection import train_test_split\\nimport xgboost as xgb\\nfrom openpyxl import load_workbook\\nimport pandas as pd\\nfrom scipy import stats\\nimport textblob\\nimport torch\\nimport random\\nfrom scipy import signal as sg\\nimport sklearn\\nimport seaborn as sns\\nimport spacy\\nimport numpy as np\\nfrom sklearn import svm\\nimport skimage\\nimport sys\\nimport tensorflow as tf\\nimport statsmodels.api as sm\\nimport tqdm'); }\n",
              "    "
            ]
          },
          "metadata": {}
        },
        {
          "output_type": "display_data",
          "data": {
            "text/plain": [
              "<IPython.core.display.Javascript object>"
            ],
            "application/javascript": [
              "\n",
              "        if (window._pyforest_update_imports_cell) { window._pyforest_update_imports_cell('import matplotlib.pyplot as plt\\nimport lightgbm as lgb\\nimport statistics\\nimport re\\nfrom sklearn.model_selection import train_test_split\\nimport xgboost as xgb\\nfrom openpyxl import load_workbook\\nimport pandas as pd\\nfrom scipy import stats\\nimport textblob\\nimport torch\\nimport random\\nfrom scipy import signal as sg\\nimport sklearn\\nimport seaborn as sns\\nimport spacy\\nimport numpy as np\\nfrom sklearn import svm\\nimport skimage\\nimport sys\\nimport tensorflow as tf\\nimport statsmodels.api as sm\\nimport tqdm'); }\n",
              "    "
            ]
          },
          "metadata": {}
        },
        {
          "output_type": "display_data",
          "data": {
            "text/plain": [
              "<IPython.core.display.Javascript object>"
            ],
            "application/javascript": [
              "\n",
              "        if (window._pyforest_update_imports_cell) { window._pyforest_update_imports_cell('import matplotlib.pyplot as plt\\nimport lightgbm as lgb\\nimport statistics\\nimport re\\nfrom sklearn.model_selection import train_test_split\\nimport xgboost as xgb\\nfrom openpyxl import load_workbook\\nimport pandas as pd\\nfrom scipy import stats\\nimport textblob\\nimport torch\\nimport random\\nfrom scipy import signal as sg\\nimport sklearn\\nimport seaborn as sns\\nimport spacy\\nimport numpy as np\\nfrom sklearn import svm\\nimport skimage\\nimport sys\\nimport tensorflow as tf\\nimport statsmodels.api as sm\\nimport tqdm'); }\n",
              "    "
            ]
          },
          "metadata": {}
        },
        {
          "output_type": "display_data",
          "data": {
            "text/plain": [
              "<IPython.core.display.Javascript object>"
            ],
            "application/javascript": [
              "\n",
              "        if (window._pyforest_update_imports_cell) { window._pyforest_update_imports_cell('import matplotlib.pyplot as plt\\nimport lightgbm as lgb\\nimport statistics\\nimport re\\nfrom sklearn.model_selection import train_test_split\\nimport xgboost as xgb\\nfrom openpyxl import load_workbook\\nimport pandas as pd\\nfrom scipy import stats\\nimport textblob\\nimport torch\\nimport random\\nfrom scipy import signal as sg\\nimport sklearn\\nimport seaborn as sns\\nimport spacy\\nimport numpy as np\\nfrom sklearn import svm\\nimport skimage\\nimport sys\\nimport tensorflow as tf\\nimport statsmodels.api as sm\\nimport tqdm'); }\n",
              "    "
            ]
          },
          "metadata": {}
        },
        {
          "output_type": "display_data",
          "data": {
            "text/plain": [
              "<IPython.core.display.Javascript object>"
            ],
            "application/javascript": [
              "\n",
              "        if (window._pyforest_update_imports_cell) { window._pyforest_update_imports_cell('import matplotlib.pyplot as plt\\nimport lightgbm as lgb\\nimport statistics\\nimport re\\nfrom sklearn.model_selection import train_test_split\\nimport xgboost as xgb\\nfrom openpyxl import load_workbook\\nimport pandas as pd\\nfrom scipy import stats\\nimport textblob\\nimport torch\\nimport random\\nfrom scipy import signal as sg\\nimport sklearn\\nimport seaborn as sns\\nimport spacy\\nimport numpy as np\\nfrom sklearn import svm\\nimport skimage\\nimport sys\\nimport tensorflow as tf\\nimport statsmodels.api as sm\\nimport tqdm'); }\n",
              "    "
            ]
          },
          "metadata": {}
        },
        {
          "output_type": "display_data",
          "data": {
            "text/plain": [
              "<IPython.core.display.Javascript object>"
            ],
            "application/javascript": [
              "\n",
              "        if (window._pyforest_update_imports_cell) { window._pyforest_update_imports_cell('import matplotlib.pyplot as plt\\nimport lightgbm as lgb\\nimport statistics\\nimport re\\nfrom sklearn.model_selection import train_test_split\\nimport xgboost as xgb\\nfrom openpyxl import load_workbook\\nimport pandas as pd\\nfrom scipy import stats\\nimport textblob\\nimport torch\\nimport random\\nfrom scipy import signal as sg\\nimport sklearn\\nimport seaborn as sns\\nimport spacy\\nimport numpy as np\\nfrom sklearn import svm\\nimport skimage\\nimport sys\\nimport tensorflow as tf\\nimport statsmodels.api as sm\\nimport tqdm'); }\n",
              "    "
            ]
          },
          "metadata": {}
        },
        {
          "output_type": "display_data",
          "data": {
            "text/plain": [
              "<IPython.core.display.Javascript object>"
            ],
            "application/javascript": [
              "\n",
              "        if (window._pyforest_update_imports_cell) { window._pyforest_update_imports_cell('import matplotlib.pyplot as plt\\nimport lightgbm as lgb\\nimport statistics\\nimport re\\nfrom sklearn.model_selection import train_test_split\\nimport xgboost as xgb\\nfrom openpyxl import load_workbook\\nimport pandas as pd\\nfrom scipy import stats\\nimport textblob\\nimport torch\\nimport random\\nfrom scipy import signal as sg\\nimport sklearn\\nimport seaborn as sns\\nimport spacy\\nimport numpy as np\\nfrom sklearn import svm\\nimport skimage\\nimport sys\\nimport tensorflow as tf\\nimport statsmodels.api as sm\\nimport tqdm'); }\n",
              "    "
            ]
          },
          "metadata": {}
        },
        {
          "output_type": "display_data",
          "data": {
            "text/plain": [
              "<IPython.core.display.Javascript object>"
            ],
            "application/javascript": [
              "\n",
              "        if (window._pyforest_update_imports_cell) { window._pyforest_update_imports_cell('import matplotlib.pyplot as plt\\nimport lightgbm as lgb\\nimport statistics\\nimport re\\nfrom sklearn.model_selection import train_test_split\\nimport xgboost as xgb\\nfrom openpyxl import load_workbook\\nimport pandas as pd\\nfrom scipy import stats\\nimport textblob\\nimport torch\\nimport random\\nfrom scipy import signal as sg\\nimport sklearn\\nimport seaborn as sns\\nimport spacy\\nimport numpy as np\\nfrom sklearn import svm\\nimport skimage\\nimport sys\\nimport tensorflow as tf\\nimport statsmodels.api as sm\\nimport tqdm'); }\n",
              "    "
            ]
          },
          "metadata": {}
        },
        {
          "output_type": "display_data",
          "data": {
            "text/plain": [
              "<IPython.core.display.Javascript object>"
            ],
            "application/javascript": [
              "\n",
              "        if (window._pyforest_update_imports_cell) { window._pyforest_update_imports_cell('import matplotlib.pyplot as plt\\nimport lightgbm as lgb\\nimport statistics\\nimport re\\nfrom sklearn.model_selection import train_test_split\\nimport xgboost as xgb\\nfrom openpyxl import load_workbook\\nimport pandas as pd\\nfrom scipy import stats\\nimport textblob\\nimport torch\\nimport random\\nfrom scipy import signal as sg\\nimport sklearn\\nimport seaborn as sns\\nimport spacy\\nimport numpy as np\\nfrom sklearn import svm\\nimport skimage\\nimport sys\\nimport tensorflow as tf\\nimport statsmodels.api as sm\\nimport tqdm'); }\n",
              "    "
            ]
          },
          "metadata": {}
        },
        {
          "output_type": "display_data",
          "data": {
            "text/plain": [
              "<IPython.core.display.Javascript object>"
            ],
            "application/javascript": [
              "\n",
              "        if (window._pyforest_update_imports_cell) { window._pyforest_update_imports_cell('import matplotlib.pyplot as plt\\nimport lightgbm as lgb\\nimport statistics\\nimport re\\nfrom sklearn.model_selection import train_test_split\\nimport xgboost as xgb\\nfrom openpyxl import load_workbook\\nimport pandas as pd\\nfrom scipy import stats\\nimport textblob\\nimport torch\\nimport random\\nfrom scipy import signal as sg\\nimport sklearn\\nimport seaborn as sns\\nimport spacy\\nimport numpy as np\\nfrom sklearn import svm\\nimport skimage\\nimport sys\\nimport tensorflow as tf\\nimport statsmodels.api as sm\\nimport tqdm'); }\n",
              "    "
            ]
          },
          "metadata": {}
        },
        {
          "output_type": "display_data",
          "data": {
            "text/plain": [
              "<IPython.core.display.Javascript object>"
            ],
            "application/javascript": [
              "\n",
              "        if (window._pyforest_update_imports_cell) { window._pyforest_update_imports_cell('import matplotlib.pyplot as plt\\nimport lightgbm as lgb\\nimport statistics\\nimport re\\nfrom sklearn.model_selection import train_test_split\\nimport xgboost as xgb\\nfrom openpyxl import load_workbook\\nimport pandas as pd\\nfrom scipy import stats\\nimport textblob\\nimport torch\\nimport random\\nfrom scipy import signal as sg\\nimport sklearn\\nimport seaborn as sns\\nimport spacy\\nimport numpy as np\\nfrom sklearn import svm\\nimport skimage\\nimport sys\\nimport tensorflow as tf\\nimport statsmodels.api as sm\\nimport tqdm'); }\n",
              "    "
            ]
          },
          "metadata": {}
        },
        {
          "output_type": "display_data",
          "data": {
            "text/plain": [
              "<IPython.core.display.Javascript object>"
            ],
            "application/javascript": [
              "\n",
              "        if (window._pyforest_update_imports_cell) { window._pyforest_update_imports_cell('import matplotlib.pyplot as plt\\nimport lightgbm as lgb\\nimport statistics\\nimport re\\nfrom sklearn.model_selection import train_test_split\\nimport xgboost as xgb\\nfrom openpyxl import load_workbook\\nimport pandas as pd\\nfrom scipy import stats\\nimport textblob\\nimport torch\\nimport random\\nfrom scipy import signal as sg\\nimport sklearn\\nimport seaborn as sns\\nimport spacy\\nimport numpy as np\\nfrom sklearn import svm\\nimport skimage\\nimport sys\\nimport tensorflow as tf\\nimport statsmodels.api as sm\\nimport tqdm'); }\n",
              "    "
            ]
          },
          "metadata": {}
        },
        {
          "output_type": "display_data",
          "data": {
            "text/plain": [
              "<IPython.core.display.Javascript object>"
            ],
            "application/javascript": [
              "\n",
              "        if (window._pyforest_update_imports_cell) { window._pyforest_update_imports_cell('import matplotlib.pyplot as plt\\nimport lightgbm as lgb\\nimport statistics\\nimport re\\nfrom sklearn.model_selection import train_test_split\\nimport xgboost as xgb\\nfrom openpyxl import load_workbook\\nimport pandas as pd\\nfrom scipy import stats\\nimport textblob\\nimport torch\\nimport random\\nfrom scipy import signal as sg\\nimport sklearn\\nimport seaborn as sns\\nimport spacy\\nimport numpy as np\\nfrom sklearn import svm\\nimport skimage\\nimport sys\\nimport tensorflow as tf\\nimport statsmodels.api as sm\\nimport tqdm'); }\n",
              "    "
            ]
          },
          "metadata": {}
        },
        {
          "output_type": "display_data",
          "data": {
            "text/plain": [
              "<IPython.core.display.Javascript object>"
            ],
            "application/javascript": [
              "\n",
              "        if (window._pyforest_update_imports_cell) { window._pyforest_update_imports_cell('import matplotlib.pyplot as plt\\nimport lightgbm as lgb\\nimport statistics\\nimport re\\nfrom sklearn.model_selection import train_test_split\\nimport xgboost as xgb\\nfrom openpyxl import load_workbook\\nimport pandas as pd\\nfrom scipy import stats\\nimport textblob\\nimport torch\\nimport random\\nfrom scipy import signal as sg\\nimport sklearn\\nimport seaborn as sns\\nimport spacy\\nimport numpy as np\\nfrom sklearn import svm\\nimport skimage\\nimport sys\\nimport tensorflow as tf\\nimport statsmodels.api as sm\\nimport tqdm'); }\n",
              "    "
            ]
          },
          "metadata": {}
        },
        {
          "output_type": "display_data",
          "data": {
            "text/plain": [
              "<IPython.core.display.Javascript object>"
            ],
            "application/javascript": [
              "\n",
              "        if (window._pyforest_update_imports_cell) { window._pyforest_update_imports_cell('import matplotlib.pyplot as plt\\nimport lightgbm as lgb\\nimport statistics\\nimport re\\nfrom sklearn.model_selection import train_test_split\\nimport xgboost as xgb\\nfrom openpyxl import load_workbook\\nimport pandas as pd\\nfrom scipy import stats\\nimport textblob\\nimport torch\\nimport random\\nfrom scipy import signal as sg\\nimport sklearn\\nimport seaborn as sns\\nimport spacy\\nimport numpy as np\\nfrom sklearn import svm\\nimport skimage\\nimport sys\\nimport tensorflow as tf\\nimport statsmodels.api as sm\\nimport tqdm'); }\n",
              "    "
            ]
          },
          "metadata": {}
        },
        {
          "output_type": "display_data",
          "data": {
            "text/plain": [
              "<IPython.core.display.Javascript object>"
            ],
            "application/javascript": [
              "\n",
              "        if (window._pyforest_update_imports_cell) { window._pyforest_update_imports_cell('import matplotlib.pyplot as plt\\nimport lightgbm as lgb\\nimport statistics\\nimport re\\nfrom sklearn.model_selection import train_test_split\\nimport xgboost as xgb\\nfrom openpyxl import load_workbook\\nimport pandas as pd\\nfrom scipy import stats\\nimport textblob\\nimport torch\\nimport random\\nfrom scipy import signal as sg\\nimport sklearn\\nimport seaborn as sns\\nimport spacy\\nimport numpy as np\\nfrom sklearn import svm\\nimport skimage\\nimport sys\\nimport tensorflow as tf\\nimport statsmodels.api as sm\\nimport tqdm'); }\n",
              "    "
            ]
          },
          "metadata": {}
        },
        {
          "output_type": "display_data",
          "data": {
            "text/plain": [
              "<IPython.core.display.Javascript object>"
            ],
            "application/javascript": [
              "\n",
              "        if (window._pyforest_update_imports_cell) { window._pyforest_update_imports_cell('import matplotlib.pyplot as plt\\nimport lightgbm as lgb\\nimport statistics\\nimport re\\nfrom sklearn.model_selection import train_test_split\\nimport xgboost as xgb\\nfrom openpyxl import load_workbook\\nimport pandas as pd\\nfrom scipy import stats\\nimport textblob\\nimport torch\\nimport random\\nfrom scipy import signal as sg\\nimport sklearn\\nimport seaborn as sns\\nimport spacy\\nimport numpy as np\\nfrom sklearn import svm\\nimport skimage\\nimport sys\\nimport tensorflow as tf\\nimport statsmodels.api as sm\\nimport tqdm'); }\n",
              "    "
            ]
          },
          "metadata": {}
        },
        {
          "output_type": "display_data",
          "data": {
            "text/plain": [
              "<IPython.core.display.Javascript object>"
            ],
            "application/javascript": [
              "\n",
              "        if (window._pyforest_update_imports_cell) { window._pyforest_update_imports_cell('import matplotlib.pyplot as plt\\nimport lightgbm as lgb\\nimport statistics\\nimport re\\nfrom sklearn.model_selection import train_test_split\\nimport xgboost as xgb\\nfrom openpyxl import load_workbook\\nimport pandas as pd\\nfrom scipy import stats\\nimport textblob\\nimport torch\\nimport random\\nfrom scipy import signal as sg\\nimport sklearn\\nimport seaborn as sns\\nimport spacy\\nimport numpy as np\\nfrom sklearn import svm\\nimport skimage\\nimport sys\\nimport tensorflow as tf\\nimport statsmodels.api as sm\\nimport tqdm'); }\n",
              "    "
            ]
          },
          "metadata": {}
        },
        {
          "output_type": "display_data",
          "data": {
            "text/plain": [
              "<IPython.core.display.Javascript object>"
            ],
            "application/javascript": [
              "\n",
              "        if (window._pyforest_update_imports_cell) { window._pyforest_update_imports_cell('import matplotlib.pyplot as plt\\nimport lightgbm as lgb\\nimport statistics\\nimport re\\nfrom sklearn.model_selection import train_test_split\\nimport xgboost as xgb\\nfrom openpyxl import load_workbook\\nimport pandas as pd\\nfrom scipy import stats\\nimport textblob\\nimport torch\\nimport random\\nfrom scipy import signal as sg\\nimport sklearn\\nimport seaborn as sns\\nimport spacy\\nimport numpy as np\\nfrom sklearn import svm\\nimport skimage\\nimport sys\\nimport tensorflow as tf\\nimport statsmodels.api as sm\\nimport tqdm'); }\n",
              "    "
            ]
          },
          "metadata": {}
        },
        {
          "output_type": "display_data",
          "data": {
            "text/plain": [
              "<IPython.core.display.Javascript object>"
            ],
            "application/javascript": [
              "\n",
              "        if (window._pyforest_update_imports_cell) { window._pyforest_update_imports_cell('import matplotlib.pyplot as plt\\nimport lightgbm as lgb\\nimport statistics\\nimport re\\nfrom sklearn.model_selection import train_test_split\\nimport xgboost as xgb\\nfrom openpyxl import load_workbook\\nimport pandas as pd\\nfrom scipy import stats\\nimport textblob\\nimport torch\\nimport random\\nfrom scipy import signal as sg\\nimport sklearn\\nimport seaborn as sns\\nimport spacy\\nimport numpy as np\\nfrom sklearn import svm\\nimport skimage\\nimport sys\\nimport tensorflow as tf\\nimport statsmodels.api as sm\\nimport tqdm'); }\n",
              "    "
            ]
          },
          "metadata": {}
        },
        {
          "output_type": "display_data",
          "data": {
            "text/plain": [
              "<IPython.core.display.Javascript object>"
            ],
            "application/javascript": [
              "\n",
              "        if (window._pyforest_update_imports_cell) { window._pyforest_update_imports_cell('import matplotlib.pyplot as plt\\nimport lightgbm as lgb\\nimport statistics\\nimport re\\nfrom sklearn.model_selection import train_test_split\\nimport xgboost as xgb\\nfrom openpyxl import load_workbook\\nimport pandas as pd\\nfrom scipy import stats\\nimport textblob\\nimport torch\\nimport random\\nfrom scipy import signal as sg\\nimport sklearn\\nimport seaborn as sns\\nimport spacy\\nimport numpy as np\\nfrom sklearn import svm\\nimport skimage\\nimport sys\\nimport tensorflow as tf\\nimport statsmodels.api as sm\\nimport tqdm'); }\n",
              "    "
            ]
          },
          "metadata": {}
        },
        {
          "output_type": "display_data",
          "data": {
            "text/plain": [
              "<IPython.core.display.Javascript object>"
            ],
            "application/javascript": [
              "\n",
              "        if (window._pyforest_update_imports_cell) { window._pyforest_update_imports_cell('import matplotlib.pyplot as plt\\nimport lightgbm as lgb\\nimport statistics\\nimport re\\nfrom sklearn.model_selection import train_test_split\\nimport xgboost as xgb\\nfrom openpyxl import load_workbook\\nimport pandas as pd\\nfrom scipy import stats\\nimport textblob\\nimport torch\\nimport random\\nfrom scipy import signal as sg\\nimport sklearn\\nimport seaborn as sns\\nimport spacy\\nimport numpy as np\\nfrom sklearn import svm\\nimport skimage\\nimport sys\\nimport tensorflow as tf\\nimport statsmodels.api as sm\\nimport tqdm'); }\n",
              "    "
            ]
          },
          "metadata": {}
        },
        {
          "output_type": "display_data",
          "data": {
            "text/plain": [
              "<IPython.core.display.Javascript object>"
            ],
            "application/javascript": [
              "\n",
              "        if (window._pyforest_update_imports_cell) { window._pyforest_update_imports_cell('import matplotlib.pyplot as plt\\nimport lightgbm as lgb\\nimport statistics\\nimport re\\nfrom sklearn.model_selection import train_test_split\\nimport xgboost as xgb\\nfrom openpyxl import load_workbook\\nimport pandas as pd\\nfrom scipy import stats\\nimport textblob\\nimport torch\\nimport random\\nfrom scipy import signal as sg\\nimport sklearn\\nimport seaborn as sns\\nimport spacy\\nimport numpy as np\\nfrom sklearn import svm\\nimport skimage\\nimport sys\\nimport tensorflow as tf\\nimport statsmodels.api as sm\\nimport tqdm'); }\n",
              "    "
            ]
          },
          "metadata": {}
        },
        {
          "output_type": "display_data",
          "data": {
            "text/plain": [
              "<IPython.core.display.Javascript object>"
            ],
            "application/javascript": [
              "\n",
              "        if (window._pyforest_update_imports_cell) { window._pyforest_update_imports_cell('import matplotlib.pyplot as plt\\nimport lightgbm as lgb\\nimport statistics\\nimport re\\nfrom sklearn.model_selection import train_test_split\\nimport xgboost as xgb\\nfrom openpyxl import load_workbook\\nimport pandas as pd\\nfrom scipy import stats\\nimport textblob\\nimport torch\\nimport random\\nfrom scipy import signal as sg\\nimport sklearn\\nimport seaborn as sns\\nimport spacy\\nimport numpy as np\\nfrom sklearn import svm\\nimport skimage\\nimport sys\\nimport tensorflow as tf\\nimport statsmodels.api as sm\\nimport tqdm'); }\n",
              "    "
            ]
          },
          "metadata": {}
        },
        {
          "output_type": "display_data",
          "data": {
            "text/plain": [
              "<IPython.core.display.Javascript object>"
            ],
            "application/javascript": [
              "\n",
              "        if (window._pyforest_update_imports_cell) { window._pyforest_update_imports_cell('import matplotlib.pyplot as plt\\nimport lightgbm as lgb\\nimport statistics\\nimport re\\nfrom sklearn.model_selection import train_test_split\\nimport xgboost as xgb\\nfrom openpyxl import load_workbook\\nimport pandas as pd\\nfrom scipy import stats\\nimport textblob\\nimport torch\\nimport random\\nfrom scipy import signal as sg\\nimport sklearn\\nimport seaborn as sns\\nimport spacy\\nimport numpy as np\\nfrom sklearn import svm\\nimport skimage\\nimport sys\\nimport tensorflow as tf\\nimport statsmodels.api as sm\\nimport tqdm'); }\n",
              "    "
            ]
          },
          "metadata": {}
        },
        {
          "output_type": "display_data",
          "data": {
            "text/plain": [
              "<IPython.core.display.Javascript object>"
            ],
            "application/javascript": [
              "\n",
              "        if (window._pyforest_update_imports_cell) { window._pyforest_update_imports_cell('import matplotlib.pyplot as plt\\nimport lightgbm as lgb\\nimport statistics\\nimport re\\nfrom sklearn.model_selection import train_test_split\\nimport xgboost as xgb\\nfrom openpyxl import load_workbook\\nimport pandas as pd\\nfrom scipy import stats\\nimport textblob\\nimport torch\\nimport random\\nfrom scipy import signal as sg\\nimport sklearn\\nimport seaborn as sns\\nimport spacy\\nimport numpy as np\\nfrom sklearn import svm\\nimport skimage\\nimport sys\\nimport tensorflow as tf\\nimport statsmodels.api as sm\\nimport tqdm'); }\n",
              "    "
            ]
          },
          "metadata": {}
        },
        {
          "output_type": "display_data",
          "data": {
            "text/plain": [
              "<IPython.core.display.Javascript object>"
            ],
            "application/javascript": [
              "\n",
              "        if (window._pyforest_update_imports_cell) { window._pyforest_update_imports_cell('import matplotlib.pyplot as plt\\nimport lightgbm as lgb\\nimport statistics\\nimport re\\nfrom sklearn.model_selection import train_test_split\\nimport xgboost as xgb\\nfrom openpyxl import load_workbook\\nimport pandas as pd\\nfrom scipy import stats\\nimport textblob\\nimport torch\\nimport random\\nfrom scipy import signal as sg\\nimport sklearn\\nimport seaborn as sns\\nimport spacy\\nimport numpy as np\\nfrom sklearn import svm\\nimport skimage\\nimport sys\\nimport tensorflow as tf\\nimport statsmodels.api as sm\\nimport tqdm'); }\n",
              "    "
            ]
          },
          "metadata": {}
        },
        {
          "output_type": "display_data",
          "data": {
            "text/plain": [
              "<IPython.core.display.Javascript object>"
            ],
            "application/javascript": [
              "\n",
              "        if (window._pyforest_update_imports_cell) { window._pyforest_update_imports_cell('import matplotlib.pyplot as plt\\nimport lightgbm as lgb\\nimport statistics\\nimport re\\nfrom sklearn.model_selection import train_test_split\\nimport xgboost as xgb\\nfrom openpyxl import load_workbook\\nimport pandas as pd\\nfrom scipy import stats\\nimport textblob\\nimport torch\\nimport random\\nfrom scipy import signal as sg\\nimport sklearn\\nimport seaborn as sns\\nimport spacy\\nimport numpy as np\\nfrom sklearn import svm\\nimport skimage\\nimport sys\\nimport tensorflow as tf\\nimport statsmodels.api as sm\\nimport tqdm'); }\n",
              "    "
            ]
          },
          "metadata": {}
        },
        {
          "output_type": "display_data",
          "data": {
            "text/plain": [
              "<IPython.core.display.Javascript object>"
            ],
            "application/javascript": [
              "\n",
              "        if (window._pyforest_update_imports_cell) { window._pyforest_update_imports_cell('import matplotlib.pyplot as plt\\nimport lightgbm as lgb\\nimport statistics\\nimport re\\nfrom sklearn.model_selection import train_test_split\\nimport xgboost as xgb\\nfrom openpyxl import load_workbook\\nimport pandas as pd\\nfrom scipy import stats\\nimport textblob\\nimport torch\\nimport random\\nfrom scipy import signal as sg\\nimport sklearn\\nimport seaborn as sns\\nimport spacy\\nimport numpy as np\\nfrom sklearn import svm\\nimport skimage\\nimport sys\\nimport tensorflow as tf\\nimport statsmodels.api as sm\\nimport tqdm'); }\n",
              "    "
            ]
          },
          "metadata": {}
        },
        {
          "output_type": "display_data",
          "data": {
            "text/plain": [
              "<IPython.core.display.Javascript object>"
            ],
            "application/javascript": [
              "\n",
              "        if (window._pyforest_update_imports_cell) { window._pyforest_update_imports_cell('import matplotlib.pyplot as plt\\nimport lightgbm as lgb\\nimport statistics\\nimport re\\nfrom sklearn.model_selection import train_test_split\\nimport xgboost as xgb\\nfrom openpyxl import load_workbook\\nimport pandas as pd\\nfrom scipy import stats\\nimport textblob\\nimport torch\\nimport random\\nfrom scipy import signal as sg\\nimport sklearn\\nimport seaborn as sns\\nimport spacy\\nimport numpy as np\\nfrom sklearn import svm\\nimport skimage\\nimport sys\\nimport tensorflow as tf\\nimport statsmodels.api as sm\\nimport tqdm'); }\n",
              "    "
            ]
          },
          "metadata": {}
        },
        {
          "output_type": "display_data",
          "data": {
            "text/plain": [
              "<IPython.core.display.Javascript object>"
            ],
            "application/javascript": [
              "\n",
              "        if (window._pyforest_update_imports_cell) { window._pyforest_update_imports_cell('import matplotlib.pyplot as plt\\nimport lightgbm as lgb\\nimport statistics\\nimport re\\nfrom sklearn.model_selection import train_test_split\\nimport xgboost as xgb\\nfrom openpyxl import load_workbook\\nimport pandas as pd\\nfrom scipy import stats\\nimport textblob\\nimport torch\\nimport random\\nfrom scipy import signal as sg\\nimport sklearn\\nimport seaborn as sns\\nimport spacy\\nimport numpy as np\\nfrom sklearn import svm\\nimport skimage\\nimport sys\\nimport tensorflow as tf\\nimport statsmodels.api as sm\\nimport tqdm'); }\n",
              "    "
            ]
          },
          "metadata": {}
        },
        {
          "output_type": "display_data",
          "data": {
            "text/plain": [
              "<IPython.core.display.Javascript object>"
            ],
            "application/javascript": [
              "\n",
              "        if (window._pyforest_update_imports_cell) { window._pyforest_update_imports_cell('import matplotlib.pyplot as plt\\nimport lightgbm as lgb\\nimport statistics\\nimport re\\nfrom sklearn.model_selection import train_test_split\\nimport xgboost as xgb\\nfrom openpyxl import load_workbook\\nimport pandas as pd\\nfrom scipy import stats\\nimport textblob\\nimport torch\\nimport random\\nfrom scipy import signal as sg\\nimport sklearn\\nimport seaborn as sns\\nimport spacy\\nimport numpy as np\\nfrom sklearn import svm\\nimport skimage\\nimport sys\\nimport tensorflow as tf\\nimport statsmodels.api as sm\\nimport tqdm'); }\n",
              "    "
            ]
          },
          "metadata": {}
        },
        {
          "output_type": "display_data",
          "data": {
            "text/plain": [
              "<IPython.core.display.Javascript object>"
            ],
            "application/javascript": [
              "\n",
              "        if (window._pyforest_update_imports_cell) { window._pyforest_update_imports_cell('import matplotlib.pyplot as plt\\nimport lightgbm as lgb\\nimport statistics\\nimport re\\nfrom sklearn.model_selection import train_test_split\\nimport xgboost as xgb\\nfrom openpyxl import load_workbook\\nimport pandas as pd\\nfrom scipy import stats\\nimport textblob\\nimport torch\\nimport random\\nfrom scipy import signal as sg\\nimport sklearn\\nimport seaborn as sns\\nimport spacy\\nimport numpy as np\\nfrom sklearn import svm\\nimport skimage\\nimport sys\\nimport tensorflow as tf\\nimport statsmodels.api as sm\\nimport tqdm'); }\n",
              "    "
            ]
          },
          "metadata": {}
        },
        {
          "output_type": "display_data",
          "data": {
            "text/plain": [
              "<IPython.core.display.Javascript object>"
            ],
            "application/javascript": [
              "\n",
              "        if (window._pyforest_update_imports_cell) { window._pyforest_update_imports_cell('import matplotlib.pyplot as plt\\nimport lightgbm as lgb\\nimport statistics\\nimport re\\nfrom sklearn.model_selection import train_test_split\\nimport xgboost as xgb\\nfrom openpyxl import load_workbook\\nimport pandas as pd\\nfrom scipy import stats\\nimport textblob\\nimport torch\\nimport random\\nfrom scipy import signal as sg\\nimport sklearn\\nimport seaborn as sns\\nimport spacy\\nimport numpy as np\\nfrom sklearn import svm\\nimport skimage\\nimport sys\\nimport tensorflow as tf\\nimport statsmodels.api as sm\\nimport tqdm'); }\n",
              "    "
            ]
          },
          "metadata": {}
        },
        {
          "output_type": "display_data",
          "data": {
            "text/plain": [
              "<IPython.core.display.Javascript object>"
            ],
            "application/javascript": [
              "\n",
              "        if (window._pyforest_update_imports_cell) { window._pyforest_update_imports_cell('import matplotlib.pyplot as plt\\nimport lightgbm as lgb\\nimport statistics\\nimport re\\nfrom sklearn.model_selection import train_test_split\\nimport xgboost as xgb\\nfrom openpyxl import load_workbook\\nimport pandas as pd\\nfrom scipy import stats\\nimport textblob\\nimport torch\\nimport random\\nfrom scipy import signal as sg\\nimport sklearn\\nimport seaborn as sns\\nimport spacy\\nimport numpy as np\\nfrom sklearn import svm\\nimport skimage\\nimport sys\\nimport tensorflow as tf\\nimport statsmodels.api as sm\\nimport tqdm'); }\n",
              "    "
            ]
          },
          "metadata": {}
        },
        {
          "output_type": "display_data",
          "data": {
            "text/plain": [
              "<IPython.core.display.Javascript object>"
            ],
            "application/javascript": [
              "\n",
              "        if (window._pyforest_update_imports_cell) { window._pyforest_update_imports_cell('import matplotlib.pyplot as plt\\nimport lightgbm as lgb\\nimport statistics\\nimport re\\nfrom sklearn.model_selection import train_test_split\\nimport xgboost as xgb\\nfrom openpyxl import load_workbook\\nimport pandas as pd\\nfrom scipy import stats\\nimport textblob\\nimport torch\\nimport random\\nfrom scipy import signal as sg\\nimport sklearn\\nimport seaborn as sns\\nimport spacy\\nimport numpy as np\\nfrom sklearn import svm\\nimport skimage\\nimport sys\\nimport tensorflow as tf\\nimport statsmodels.api as sm\\nimport tqdm'); }\n",
              "    "
            ]
          },
          "metadata": {}
        },
        {
          "output_type": "display_data",
          "data": {
            "text/plain": [
              "<IPython.core.display.Javascript object>"
            ],
            "application/javascript": [
              "\n",
              "        if (window._pyforest_update_imports_cell) { window._pyforest_update_imports_cell('import matplotlib.pyplot as plt\\nimport lightgbm as lgb\\nimport statistics\\nimport re\\nfrom sklearn.model_selection import train_test_split\\nimport xgboost as xgb\\nfrom openpyxl import load_workbook\\nimport pandas as pd\\nfrom scipy import stats\\nimport textblob\\nimport torch\\nimport random\\nfrom scipy import signal as sg\\nimport sklearn\\nimport seaborn as sns\\nimport spacy\\nimport numpy as np\\nfrom sklearn import svm\\nimport skimage\\nimport sys\\nimport tensorflow as tf\\nimport statsmodels.api as sm\\nimport tqdm'); }\n",
              "    "
            ]
          },
          "metadata": {}
        },
        {
          "output_type": "display_data",
          "data": {
            "text/plain": [
              "<IPython.core.display.Javascript object>"
            ],
            "application/javascript": [
              "\n",
              "        if (window._pyforest_update_imports_cell) { window._pyforest_update_imports_cell('import matplotlib.pyplot as plt\\nimport lightgbm as lgb\\nimport statistics\\nimport re\\nfrom sklearn.model_selection import train_test_split\\nimport xgboost as xgb\\nfrom openpyxl import load_workbook\\nimport pandas as pd\\nfrom scipy import stats\\nimport textblob\\nimport torch\\nimport random\\nfrom scipy import signal as sg\\nimport sklearn\\nimport seaborn as sns\\nimport spacy\\nimport numpy as np\\nfrom sklearn import svm\\nimport skimage\\nimport sys\\nimport tensorflow as tf\\nimport statsmodels.api as sm\\nimport tqdm'); }\n",
              "    "
            ]
          },
          "metadata": {}
        },
        {
          "output_type": "display_data",
          "data": {
            "text/plain": [
              "<IPython.core.display.Javascript object>"
            ],
            "application/javascript": [
              "\n",
              "        if (window._pyforest_update_imports_cell) { window._pyforest_update_imports_cell('import matplotlib.pyplot as plt\\nimport lightgbm as lgb\\nimport statistics\\nimport re\\nfrom sklearn.model_selection import train_test_split\\nimport xgboost as xgb\\nfrom openpyxl import load_workbook\\nimport pandas as pd\\nfrom scipy import stats\\nimport textblob\\nimport torch\\nimport random\\nfrom scipy import signal as sg\\nimport sklearn\\nimport seaborn as sns\\nimport spacy\\nimport numpy as np\\nfrom sklearn import svm\\nimport skimage\\nimport sys\\nimport tensorflow as tf\\nimport statsmodels.api as sm\\nimport tqdm'); }\n",
              "    "
            ]
          },
          "metadata": {}
        },
        {
          "output_type": "display_data",
          "data": {
            "text/plain": [
              "<IPython.core.display.Javascript object>"
            ],
            "application/javascript": [
              "\n",
              "        if (window._pyforest_update_imports_cell) { window._pyforest_update_imports_cell('import matplotlib.pyplot as plt\\nimport lightgbm as lgb\\nimport statistics\\nimport re\\nfrom sklearn.model_selection import train_test_split\\nimport xgboost as xgb\\nfrom openpyxl import load_workbook\\nimport pandas as pd\\nfrom scipy import stats\\nimport textblob\\nimport torch\\nimport random\\nfrom scipy import signal as sg\\nimport sklearn\\nimport seaborn as sns\\nimport spacy\\nimport numpy as np\\nfrom sklearn import svm\\nimport skimage\\nimport sys\\nimport tensorflow as tf\\nimport statsmodels.api as sm\\nimport tqdm'); }\n",
              "    "
            ]
          },
          "metadata": {}
        },
        {
          "output_type": "display_data",
          "data": {
            "text/plain": [
              "<IPython.core.display.Javascript object>"
            ],
            "application/javascript": [
              "\n",
              "        if (window._pyforest_update_imports_cell) { window._pyforest_update_imports_cell('import matplotlib.pyplot as plt\\nimport lightgbm as lgb\\nimport statistics\\nimport re\\nfrom sklearn.model_selection import train_test_split\\nimport xgboost as xgb\\nfrom openpyxl import load_workbook\\nimport pandas as pd\\nfrom scipy import stats\\nimport textblob\\nimport torch\\nimport random\\nfrom scipy import signal as sg\\nimport sklearn\\nimport seaborn as sns\\nimport spacy\\nimport numpy as np\\nfrom sklearn import svm\\nimport skimage\\nimport sys\\nimport tensorflow as tf\\nimport statsmodels.api as sm\\nimport tqdm'); }\n",
              "    "
            ]
          },
          "metadata": {}
        },
        {
          "output_type": "display_data",
          "data": {
            "text/plain": [
              "<IPython.core.display.Javascript object>"
            ],
            "application/javascript": [
              "\n",
              "        if (window._pyforest_update_imports_cell) { window._pyforest_update_imports_cell('import matplotlib.pyplot as plt\\nimport lightgbm as lgb\\nimport statistics\\nimport re\\nfrom sklearn.model_selection import train_test_split\\nimport xgboost as xgb\\nfrom openpyxl import load_workbook\\nimport pandas as pd\\nfrom scipy import stats\\nimport textblob\\nimport torch\\nimport random\\nfrom scipy import signal as sg\\nimport sklearn\\nimport seaborn as sns\\nimport spacy\\nimport numpy as np\\nfrom sklearn import svm\\nimport skimage\\nimport sys\\nimport tensorflow as tf\\nimport statsmodels.api as sm\\nimport tqdm'); }\n",
              "    "
            ]
          },
          "metadata": {}
        },
        {
          "output_type": "display_data",
          "data": {
            "text/plain": [
              "<IPython.core.display.Javascript object>"
            ],
            "application/javascript": [
              "\n",
              "        if (window._pyforest_update_imports_cell) { window._pyforest_update_imports_cell('import matplotlib.pyplot as plt\\nimport lightgbm as lgb\\nimport statistics\\nimport re\\nfrom sklearn.model_selection import train_test_split\\nimport xgboost as xgb\\nfrom openpyxl import load_workbook\\nimport pandas as pd\\nfrom scipy import stats\\nimport textblob\\nimport torch\\nimport random\\nfrom scipy import signal as sg\\nimport sklearn\\nimport seaborn as sns\\nimport spacy\\nimport numpy as np\\nfrom sklearn import svm\\nimport skimage\\nimport sys\\nimport tensorflow as tf\\nimport statsmodels.api as sm\\nimport tqdm'); }\n",
              "    "
            ]
          },
          "metadata": {}
        },
        {
          "output_type": "display_data",
          "data": {
            "text/plain": [
              "<IPython.core.display.Javascript object>"
            ],
            "application/javascript": [
              "\n",
              "        if (window._pyforest_update_imports_cell) { window._pyforest_update_imports_cell('import matplotlib.pyplot as plt\\nimport lightgbm as lgb\\nimport statistics\\nimport re\\nfrom sklearn.model_selection import train_test_split\\nimport xgboost as xgb\\nfrom openpyxl import load_workbook\\nimport pandas as pd\\nfrom scipy import stats\\nimport textblob\\nimport torch\\nimport random\\nfrom scipy import signal as sg\\nimport sklearn\\nimport seaborn as sns\\nimport spacy\\nimport numpy as np\\nfrom sklearn import svm\\nimport skimage\\nimport sys\\nimport tensorflow as tf\\nimport statsmodels.api as sm\\nimport tqdm'); }\n",
              "    "
            ]
          },
          "metadata": {}
        },
        {
          "output_type": "display_data",
          "data": {
            "text/plain": [
              "<IPython.core.display.Javascript object>"
            ],
            "application/javascript": [
              "\n",
              "        if (window._pyforest_update_imports_cell) { window._pyforest_update_imports_cell('import matplotlib.pyplot as plt\\nimport lightgbm as lgb\\nimport statistics\\nimport re\\nfrom sklearn.model_selection import train_test_split\\nimport xgboost as xgb\\nfrom openpyxl import load_workbook\\nimport pandas as pd\\nfrom scipy import stats\\nimport textblob\\nimport torch\\nimport random\\nfrom scipy import signal as sg\\nimport sklearn\\nimport seaborn as sns\\nimport spacy\\nimport numpy as np\\nfrom sklearn import svm\\nimport skimage\\nimport sys\\nimport tensorflow as tf\\nimport statsmodels.api as sm\\nimport tqdm'); }\n",
              "    "
            ]
          },
          "metadata": {}
        },
        {
          "output_type": "display_data",
          "data": {
            "text/plain": [
              "<IPython.core.display.Javascript object>"
            ],
            "application/javascript": [
              "\n",
              "        if (window._pyforest_update_imports_cell) { window._pyforest_update_imports_cell('import matplotlib.pyplot as plt\\nimport lightgbm as lgb\\nimport statistics\\nimport re\\nfrom sklearn.model_selection import train_test_split\\nimport xgboost as xgb\\nfrom openpyxl import load_workbook\\nimport pandas as pd\\nfrom scipy import stats\\nimport textblob\\nimport torch\\nimport random\\nfrom scipy import signal as sg\\nimport sklearn\\nimport seaborn as sns\\nimport spacy\\nimport numpy as np\\nfrom sklearn import svm\\nimport skimage\\nimport sys\\nimport tensorflow as tf\\nimport statsmodels.api as sm\\nimport tqdm'); }\n",
              "    "
            ]
          },
          "metadata": {}
        },
        {
          "output_type": "display_data",
          "data": {
            "text/plain": [
              "<IPython.core.display.Javascript object>"
            ],
            "application/javascript": [
              "\n",
              "        if (window._pyforest_update_imports_cell) { window._pyforest_update_imports_cell('import matplotlib.pyplot as plt\\nimport lightgbm as lgb\\nimport statistics\\nimport re\\nfrom sklearn.model_selection import train_test_split\\nimport xgboost as xgb\\nfrom openpyxl import load_workbook\\nimport pandas as pd\\nfrom scipy import stats\\nimport textblob\\nimport torch\\nimport random\\nfrom scipy import signal as sg\\nimport sklearn\\nimport seaborn as sns\\nimport spacy\\nimport numpy as np\\nfrom sklearn import svm\\nimport skimage\\nimport sys\\nimport tensorflow as tf\\nimport statsmodels.api as sm\\nimport tqdm'); }\n",
              "    "
            ]
          },
          "metadata": {}
        },
        {
          "output_type": "display_data",
          "data": {
            "text/plain": [
              "<IPython.core.display.Javascript object>"
            ],
            "application/javascript": [
              "\n",
              "        if (window._pyforest_update_imports_cell) { window._pyforest_update_imports_cell('import matplotlib.pyplot as plt\\nimport lightgbm as lgb\\nimport statistics\\nimport re\\nfrom sklearn.model_selection import train_test_split\\nimport xgboost as xgb\\nfrom openpyxl import load_workbook\\nimport pandas as pd\\nfrom scipy import stats\\nimport textblob\\nimport torch\\nimport random\\nfrom scipy import signal as sg\\nimport sklearn\\nimport seaborn as sns\\nimport spacy\\nimport numpy as np\\nfrom sklearn import svm\\nimport skimage\\nimport sys\\nimport tensorflow as tf\\nimport statsmodels.api as sm\\nimport tqdm'); }\n",
              "    "
            ]
          },
          "metadata": {}
        },
        {
          "output_type": "display_data",
          "data": {
            "text/plain": [
              "<IPython.core.display.Javascript object>"
            ],
            "application/javascript": [
              "\n",
              "        if (window._pyforest_update_imports_cell) { window._pyforest_update_imports_cell('import matplotlib.pyplot as plt\\nimport lightgbm as lgb\\nimport statistics\\nimport re\\nfrom sklearn.model_selection import train_test_split\\nimport xgboost as xgb\\nfrom openpyxl import load_workbook\\nimport pandas as pd\\nfrom scipy import stats\\nimport textblob\\nimport torch\\nimport random\\nfrom scipy import signal as sg\\nimport sklearn\\nimport seaborn as sns\\nimport spacy\\nimport numpy as np\\nfrom sklearn import svm\\nimport skimage\\nimport sys\\nimport tensorflow as tf\\nimport statsmodels.api as sm\\nimport tqdm'); }\n",
              "    "
            ]
          },
          "metadata": {}
        },
        {
          "output_type": "display_data",
          "data": {
            "text/plain": [
              "<IPython.core.display.Javascript object>"
            ],
            "application/javascript": [
              "\n",
              "        if (window._pyforest_update_imports_cell) { window._pyforest_update_imports_cell('import matplotlib.pyplot as plt\\nimport lightgbm as lgb\\nimport statistics\\nimport re\\nfrom sklearn.model_selection import train_test_split\\nimport xgboost as xgb\\nfrom openpyxl import load_workbook\\nimport pandas as pd\\nfrom scipy import stats\\nimport textblob\\nimport torch\\nimport random\\nfrom scipy import signal as sg\\nimport sklearn\\nimport seaborn as sns\\nimport spacy\\nimport numpy as np\\nfrom sklearn import svm\\nimport skimage\\nimport sys\\nimport tensorflow as tf\\nimport statsmodels.api as sm\\nimport tqdm'); }\n",
              "    "
            ]
          },
          "metadata": {}
        },
        {
          "output_type": "display_data",
          "data": {
            "text/plain": [
              "<IPython.core.display.Javascript object>"
            ],
            "application/javascript": [
              "\n",
              "        if (window._pyforest_update_imports_cell) { window._pyforest_update_imports_cell('import matplotlib.pyplot as plt\\nimport lightgbm as lgb\\nimport statistics\\nimport re\\nfrom sklearn.model_selection import train_test_split\\nimport xgboost as xgb\\nfrom openpyxl import load_workbook\\nimport pandas as pd\\nfrom scipy import stats\\nimport textblob\\nimport torch\\nimport random\\nfrom scipy import signal as sg\\nimport sklearn\\nimport seaborn as sns\\nimport spacy\\nimport numpy as np\\nfrom sklearn import svm\\nimport skimage\\nimport sys\\nimport tensorflow as tf\\nimport statsmodels.api as sm\\nimport tqdm'); }\n",
              "    "
            ]
          },
          "metadata": {}
        },
        {
          "output_type": "display_data",
          "data": {
            "text/plain": [
              "<IPython.core.display.Javascript object>"
            ],
            "application/javascript": [
              "\n",
              "        if (window._pyforest_update_imports_cell) { window._pyforest_update_imports_cell('import matplotlib.pyplot as plt\\nimport lightgbm as lgb\\nimport statistics\\nimport re\\nfrom sklearn.model_selection import train_test_split\\nimport xgboost as xgb\\nfrom openpyxl import load_workbook\\nimport pandas as pd\\nfrom scipy import stats\\nimport textblob\\nimport torch\\nimport random\\nfrom scipy import signal as sg\\nimport sklearn\\nimport seaborn as sns\\nimport spacy\\nimport numpy as np\\nfrom sklearn import svm\\nimport skimage\\nimport sys\\nimport tensorflow as tf\\nimport statsmodels.api as sm\\nimport tqdm'); }\n",
              "    "
            ]
          },
          "metadata": {}
        },
        {
          "output_type": "display_data",
          "data": {
            "text/plain": [
              "<IPython.core.display.Javascript object>"
            ],
            "application/javascript": [
              "\n",
              "        if (window._pyforest_update_imports_cell) { window._pyforest_update_imports_cell('import matplotlib.pyplot as plt\\nimport lightgbm as lgb\\nimport statistics\\nimport re\\nfrom sklearn.model_selection import train_test_split\\nimport xgboost as xgb\\nfrom openpyxl import load_workbook\\nimport pandas as pd\\nfrom scipy import stats\\nimport textblob\\nimport torch\\nimport random\\nfrom scipy import signal as sg\\nimport sklearn\\nimport seaborn as sns\\nimport spacy\\nimport numpy as np\\nfrom sklearn import svm\\nimport skimage\\nimport sys\\nimport tensorflow as tf\\nimport statsmodels.api as sm\\nimport tqdm'); }\n",
              "    "
            ]
          },
          "metadata": {}
        },
        {
          "output_type": "display_data",
          "data": {
            "text/plain": [
              "<IPython.core.display.Javascript object>"
            ],
            "application/javascript": [
              "\n",
              "        if (window._pyforest_update_imports_cell) { window._pyforest_update_imports_cell('import matplotlib.pyplot as plt\\nimport lightgbm as lgb\\nimport statistics\\nimport re\\nfrom sklearn.model_selection import train_test_split\\nimport xgboost as xgb\\nfrom openpyxl import load_workbook\\nimport pandas as pd\\nfrom scipy import stats\\nimport textblob\\nimport torch\\nimport random\\nfrom scipy import signal as sg\\nimport sklearn\\nimport seaborn as sns\\nimport spacy\\nimport numpy as np\\nfrom sklearn import svm\\nimport skimage\\nimport sys\\nimport tensorflow as tf\\nimport statsmodels.api as sm\\nimport tqdm'); }\n",
              "    "
            ]
          },
          "metadata": {}
        },
        {
          "output_type": "display_data",
          "data": {
            "text/plain": [
              "<IPython.core.display.Javascript object>"
            ],
            "application/javascript": [
              "\n",
              "        if (window._pyforest_update_imports_cell) { window._pyforest_update_imports_cell('import matplotlib.pyplot as plt\\nimport lightgbm as lgb\\nimport statistics\\nimport re\\nfrom sklearn.model_selection import train_test_split\\nimport xgboost as xgb\\nfrom openpyxl import load_workbook\\nimport pandas as pd\\nfrom scipy import stats\\nimport textblob\\nimport torch\\nimport random\\nfrom scipy import signal as sg\\nimport sklearn\\nimport seaborn as sns\\nimport spacy\\nimport numpy as np\\nfrom sklearn import svm\\nimport skimage\\nimport sys\\nimport tensorflow as tf\\nimport statsmodels.api as sm\\nimport tqdm'); }\n",
              "    "
            ]
          },
          "metadata": {}
        },
        {
          "output_type": "display_data",
          "data": {
            "text/plain": [
              "<IPython.core.display.Javascript object>"
            ],
            "application/javascript": [
              "\n",
              "        if (window._pyforest_update_imports_cell) { window._pyforest_update_imports_cell('import matplotlib.pyplot as plt\\nimport lightgbm as lgb\\nimport statistics\\nimport re\\nfrom sklearn.model_selection import train_test_split\\nimport xgboost as xgb\\nfrom openpyxl import load_workbook\\nimport pandas as pd\\nfrom scipy import stats\\nimport textblob\\nimport torch\\nimport random\\nfrom scipy import signal as sg\\nimport sklearn\\nimport seaborn as sns\\nimport spacy\\nimport numpy as np\\nfrom sklearn import svm\\nimport skimage\\nimport sys\\nimport tensorflow as tf\\nimport statsmodels.api as sm\\nimport tqdm'); }\n",
              "    "
            ]
          },
          "metadata": {}
        },
        {
          "output_type": "display_data",
          "data": {
            "text/plain": [
              "<IPython.core.display.Javascript object>"
            ],
            "application/javascript": [
              "\n",
              "        if (window._pyforest_update_imports_cell) { window._pyforest_update_imports_cell('import matplotlib.pyplot as plt\\nimport lightgbm as lgb\\nimport statistics\\nimport re\\nfrom sklearn.model_selection import train_test_split\\nimport xgboost as xgb\\nfrom openpyxl import load_workbook\\nimport pandas as pd\\nfrom scipy import stats\\nimport textblob\\nimport torch\\nimport random\\nfrom scipy import signal as sg\\nimport sklearn\\nimport seaborn as sns\\nimport spacy\\nimport numpy as np\\nfrom sklearn import svm\\nimport skimage\\nimport sys\\nimport tensorflow as tf\\nimport statsmodels.api as sm\\nimport tqdm'); }\n",
              "    "
            ]
          },
          "metadata": {}
        },
        {
          "output_type": "display_data",
          "data": {
            "text/plain": [
              "<IPython.core.display.Javascript object>"
            ],
            "application/javascript": [
              "\n",
              "        if (window._pyforest_update_imports_cell) { window._pyforest_update_imports_cell('import matplotlib.pyplot as plt\\nimport lightgbm as lgb\\nimport statistics\\nimport re\\nfrom sklearn.model_selection import train_test_split\\nimport xgboost as xgb\\nfrom openpyxl import load_workbook\\nimport pandas as pd\\nfrom scipy import stats\\nimport textblob\\nimport torch\\nimport random\\nfrom scipy import signal as sg\\nimport sklearn\\nimport seaborn as sns\\nimport spacy\\nimport numpy as np\\nfrom sklearn import svm\\nimport skimage\\nimport sys\\nimport tensorflow as tf\\nimport statsmodels.api as sm\\nimport tqdm'); }\n",
              "    "
            ]
          },
          "metadata": {}
        },
        {
          "output_type": "display_data",
          "data": {
            "text/plain": [
              "<IPython.core.display.Javascript object>"
            ],
            "application/javascript": [
              "\n",
              "        if (window._pyforest_update_imports_cell) { window._pyforest_update_imports_cell('import matplotlib.pyplot as plt\\nimport lightgbm as lgb\\nimport statistics\\nimport re\\nfrom sklearn.model_selection import train_test_split\\nimport xgboost as xgb\\nfrom openpyxl import load_workbook\\nimport pandas as pd\\nfrom scipy import stats\\nimport textblob\\nimport torch\\nimport random\\nfrom scipy import signal as sg\\nimport sklearn\\nimport seaborn as sns\\nimport spacy\\nimport numpy as np\\nfrom sklearn import svm\\nimport skimage\\nimport sys\\nimport tensorflow as tf\\nimport statsmodels.api as sm\\nimport tqdm'); }\n",
              "    "
            ]
          },
          "metadata": {}
        },
        {
          "output_type": "display_data",
          "data": {
            "text/plain": [
              "<IPython.core.display.Javascript object>"
            ],
            "application/javascript": [
              "\n",
              "        if (window._pyforest_update_imports_cell) { window._pyforest_update_imports_cell('import matplotlib.pyplot as plt\\nimport lightgbm as lgb\\nimport statistics\\nimport re\\nfrom sklearn.model_selection import train_test_split\\nimport xgboost as xgb\\nfrom openpyxl import load_workbook\\nimport pandas as pd\\nfrom scipy import stats\\nimport textblob\\nimport torch\\nimport random\\nfrom scipy import signal as sg\\nimport sklearn\\nimport seaborn as sns\\nimport spacy\\nimport numpy as np\\nfrom sklearn import svm\\nimport skimage\\nimport sys\\nimport tensorflow as tf\\nimport statsmodels.api as sm\\nimport tqdm'); }\n",
              "    "
            ]
          },
          "metadata": {}
        },
        {
          "output_type": "display_data",
          "data": {
            "text/plain": [
              "<IPython.core.display.Javascript object>"
            ],
            "application/javascript": [
              "\n",
              "        if (window._pyforest_update_imports_cell) { window._pyforest_update_imports_cell('import matplotlib.pyplot as plt\\nimport lightgbm as lgb\\nimport statistics\\nimport re\\nfrom sklearn.model_selection import train_test_split\\nimport xgboost as xgb\\nfrom openpyxl import load_workbook\\nimport pandas as pd\\nfrom scipy import stats\\nimport textblob\\nimport torch\\nimport random\\nfrom scipy import signal as sg\\nimport sklearn\\nimport seaborn as sns\\nimport spacy\\nimport numpy as np\\nfrom sklearn import svm\\nimport skimage\\nimport sys\\nimport tensorflow as tf\\nimport statsmodels.api as sm\\nimport tqdm'); }\n",
              "    "
            ]
          },
          "metadata": {}
        },
        {
          "output_type": "display_data",
          "data": {
            "text/plain": [
              "<IPython.core.display.Javascript object>"
            ],
            "application/javascript": [
              "\n",
              "        if (window._pyforest_update_imports_cell) { window._pyforest_update_imports_cell('import matplotlib.pyplot as plt\\nimport lightgbm as lgb\\nimport statistics\\nimport re\\nfrom sklearn.model_selection import train_test_split\\nimport xgboost as xgb\\nfrom openpyxl import load_workbook\\nimport pandas as pd\\nfrom scipy import stats\\nimport textblob\\nimport torch\\nimport random\\nfrom scipy import signal as sg\\nimport sklearn\\nimport seaborn as sns\\nimport spacy\\nimport numpy as np\\nfrom sklearn import svm\\nimport skimage\\nimport sys\\nimport tensorflow as tf\\nimport statsmodels.api as sm\\nimport tqdm'); }\n",
              "    "
            ]
          },
          "metadata": {}
        },
        {
          "output_type": "display_data",
          "data": {
            "text/plain": [
              "<IPython.core.display.Javascript object>"
            ],
            "application/javascript": [
              "\n",
              "        if (window._pyforest_update_imports_cell) { window._pyforest_update_imports_cell('import matplotlib.pyplot as plt\\nimport lightgbm as lgb\\nimport statistics\\nimport re\\nfrom sklearn.model_selection import train_test_split\\nimport xgboost as xgb\\nfrom openpyxl import load_workbook\\nimport pandas as pd\\nfrom scipy import stats\\nimport textblob\\nimport torch\\nimport random\\nfrom scipy import signal as sg\\nimport sklearn\\nimport seaborn as sns\\nimport spacy\\nimport numpy as np\\nfrom sklearn import svm\\nimport skimage\\nimport sys\\nimport tensorflow as tf\\nimport statsmodels.api as sm\\nimport tqdm'); }\n",
              "    "
            ]
          },
          "metadata": {}
        },
        {
          "output_type": "display_data",
          "data": {
            "text/plain": [
              "<IPython.core.display.Javascript object>"
            ],
            "application/javascript": [
              "\n",
              "        if (window._pyforest_update_imports_cell) { window._pyforest_update_imports_cell('import matplotlib.pyplot as plt\\nimport lightgbm as lgb\\nimport statistics\\nimport re\\nfrom sklearn.model_selection import train_test_split\\nimport xgboost as xgb\\nfrom openpyxl import load_workbook\\nimport pandas as pd\\nfrom scipy import stats\\nimport textblob\\nimport torch\\nimport random\\nfrom scipy import signal as sg\\nimport sklearn\\nimport seaborn as sns\\nimport spacy\\nimport numpy as np\\nfrom sklearn import svm\\nimport skimage\\nimport sys\\nimport tensorflow as tf\\nimport statsmodels.api as sm\\nimport tqdm'); }\n",
              "    "
            ]
          },
          "metadata": {}
        },
        {
          "output_type": "display_data",
          "data": {
            "text/plain": [
              "<IPython.core.display.Javascript object>"
            ],
            "application/javascript": [
              "\n",
              "        if (window._pyforest_update_imports_cell) { window._pyforest_update_imports_cell('import matplotlib.pyplot as plt\\nimport lightgbm as lgb\\nimport statistics\\nimport re\\nfrom sklearn.model_selection import train_test_split\\nimport xgboost as xgb\\nfrom openpyxl import load_workbook\\nimport pandas as pd\\nfrom scipy import stats\\nimport textblob\\nimport torch\\nimport random\\nfrom scipy import signal as sg\\nimport sklearn\\nimport seaborn as sns\\nimport spacy\\nimport numpy as np\\nfrom sklearn import svm\\nimport skimage\\nimport sys\\nimport tensorflow as tf\\nimport statsmodels.api as sm\\nimport tqdm'); }\n",
              "    "
            ]
          },
          "metadata": {}
        },
        {
          "output_type": "display_data",
          "data": {
            "text/plain": [
              "<IPython.core.display.Javascript object>"
            ],
            "application/javascript": [
              "\n",
              "        if (window._pyforest_update_imports_cell) { window._pyforest_update_imports_cell('import matplotlib.pyplot as plt\\nimport lightgbm as lgb\\nimport statistics\\nimport re\\nfrom sklearn.model_selection import train_test_split\\nimport xgboost as xgb\\nfrom openpyxl import load_workbook\\nimport pandas as pd\\nfrom scipy import stats\\nimport textblob\\nimport torch\\nimport random\\nfrom scipy import signal as sg\\nimport sklearn\\nimport seaborn as sns\\nimport spacy\\nimport numpy as np\\nfrom sklearn import svm\\nimport skimage\\nimport sys\\nimport tensorflow as tf\\nimport statsmodels.api as sm\\nimport tqdm'); }\n",
              "    "
            ]
          },
          "metadata": {}
        },
        {
          "output_type": "display_data",
          "data": {
            "text/plain": [
              "<IPython.core.display.Javascript object>"
            ],
            "application/javascript": [
              "\n",
              "        if (window._pyforest_update_imports_cell) { window._pyforest_update_imports_cell('import matplotlib.pyplot as plt\\nimport lightgbm as lgb\\nimport statistics\\nimport re\\nfrom sklearn.model_selection import train_test_split\\nimport xgboost as xgb\\nfrom openpyxl import load_workbook\\nimport pandas as pd\\nfrom scipy import stats\\nimport textblob\\nimport torch\\nimport random\\nfrom scipy import signal as sg\\nimport sklearn\\nimport seaborn as sns\\nimport spacy\\nimport numpy as np\\nfrom sklearn import svm\\nimport skimage\\nimport sys\\nimport tensorflow as tf\\nimport statsmodels.api as sm\\nimport tqdm'); }\n",
              "    "
            ]
          },
          "metadata": {}
        },
        {
          "output_type": "display_data",
          "data": {
            "text/plain": [
              "<IPython.core.display.Javascript object>"
            ],
            "application/javascript": [
              "\n",
              "        if (window._pyforest_update_imports_cell) { window._pyforest_update_imports_cell('import matplotlib.pyplot as plt\\nimport lightgbm as lgb\\nimport statistics\\nimport re\\nfrom sklearn.model_selection import train_test_split\\nimport xgboost as xgb\\nfrom openpyxl import load_workbook\\nimport pandas as pd\\nfrom scipy import stats\\nimport textblob\\nimport torch\\nimport random\\nfrom scipy import signal as sg\\nimport sklearn\\nimport seaborn as sns\\nimport spacy\\nimport numpy as np\\nfrom sklearn import svm\\nimport skimage\\nimport sys\\nimport tensorflow as tf\\nimport statsmodels.api as sm\\nimport tqdm'); }\n",
              "    "
            ]
          },
          "metadata": {}
        },
        {
          "output_type": "display_data",
          "data": {
            "text/plain": [
              "<IPython.core.display.Javascript object>"
            ],
            "application/javascript": [
              "\n",
              "        if (window._pyforest_update_imports_cell) { window._pyforest_update_imports_cell('import matplotlib.pyplot as plt\\nimport lightgbm as lgb\\nimport statistics\\nimport re\\nfrom sklearn.model_selection import train_test_split\\nimport xgboost as xgb\\nfrom openpyxl import load_workbook\\nimport pandas as pd\\nfrom scipy import stats\\nimport textblob\\nimport torch\\nimport random\\nfrom scipy import signal as sg\\nimport sklearn\\nimport seaborn as sns\\nimport spacy\\nimport numpy as np\\nfrom sklearn import svm\\nimport skimage\\nimport sys\\nimport tensorflow as tf\\nimport statsmodels.api as sm\\nimport tqdm'); }\n",
              "    "
            ]
          },
          "metadata": {}
        },
        {
          "output_type": "display_data",
          "data": {
            "text/plain": [
              "<IPython.core.display.Javascript object>"
            ],
            "application/javascript": [
              "\n",
              "        if (window._pyforest_update_imports_cell) { window._pyforest_update_imports_cell('import matplotlib.pyplot as plt\\nimport lightgbm as lgb\\nimport statistics\\nimport re\\nfrom sklearn.model_selection import train_test_split\\nimport xgboost as xgb\\nfrom openpyxl import load_workbook\\nimport pandas as pd\\nfrom scipy import stats\\nimport textblob\\nimport torch\\nimport random\\nfrom scipy import signal as sg\\nimport sklearn\\nimport seaborn as sns\\nimport spacy\\nimport numpy as np\\nfrom sklearn import svm\\nimport skimage\\nimport sys\\nimport tensorflow as tf\\nimport statsmodels.api as sm\\nimport tqdm'); }\n",
              "    "
            ]
          },
          "metadata": {}
        },
        {
          "output_type": "display_data",
          "data": {
            "text/plain": [
              "<IPython.core.display.Javascript object>"
            ],
            "application/javascript": [
              "\n",
              "        if (window._pyforest_update_imports_cell) { window._pyforest_update_imports_cell('import matplotlib.pyplot as plt\\nimport lightgbm as lgb\\nimport statistics\\nimport re\\nfrom sklearn.model_selection import train_test_split\\nimport xgboost as xgb\\nfrom openpyxl import load_workbook\\nimport pandas as pd\\nfrom scipy import stats\\nimport textblob\\nimport torch\\nimport random\\nfrom scipy import signal as sg\\nimport sklearn\\nimport seaborn as sns\\nimport spacy\\nimport numpy as np\\nfrom sklearn import svm\\nimport skimage\\nimport sys\\nimport tensorflow as tf\\nimport statsmodels.api as sm\\nimport tqdm'); }\n",
              "    "
            ]
          },
          "metadata": {}
        },
        {
          "output_type": "display_data",
          "data": {
            "text/plain": [
              "<IPython.core.display.Javascript object>"
            ],
            "application/javascript": [
              "\n",
              "        if (window._pyforest_update_imports_cell) { window._pyforest_update_imports_cell('import matplotlib.pyplot as plt\\nimport lightgbm as lgb\\nimport statistics\\nimport re\\nfrom sklearn.model_selection import train_test_split\\nimport xgboost as xgb\\nfrom openpyxl import load_workbook\\nimport pandas as pd\\nfrom scipy import stats\\nimport textblob\\nimport torch\\nimport random\\nfrom scipy import signal as sg\\nimport sklearn\\nimport seaborn as sns\\nimport spacy\\nimport numpy as np\\nfrom sklearn import svm\\nimport skimage\\nimport sys\\nimport tensorflow as tf\\nimport statsmodels.api as sm\\nimport tqdm'); }\n",
              "    "
            ]
          },
          "metadata": {}
        },
        {
          "output_type": "display_data",
          "data": {
            "text/plain": [
              "<IPython.core.display.Javascript object>"
            ],
            "application/javascript": [
              "\n",
              "        if (window._pyforest_update_imports_cell) { window._pyforest_update_imports_cell('import matplotlib.pyplot as plt\\nimport lightgbm as lgb\\nimport statistics\\nimport re\\nfrom sklearn.model_selection import train_test_split\\nimport xgboost as xgb\\nfrom openpyxl import load_workbook\\nimport pandas as pd\\nfrom scipy import stats\\nimport textblob\\nimport torch\\nimport random\\nfrom scipy import signal as sg\\nimport sklearn\\nimport seaborn as sns\\nimport spacy\\nimport numpy as np\\nfrom sklearn import svm\\nimport skimage\\nimport sys\\nimport tensorflow as tf\\nimport statsmodels.api as sm\\nimport tqdm'); }\n",
              "    "
            ]
          },
          "metadata": {}
        },
        {
          "output_type": "display_data",
          "data": {
            "text/plain": [
              "<IPython.core.display.Javascript object>"
            ],
            "application/javascript": [
              "\n",
              "        if (window._pyforest_update_imports_cell) { window._pyforest_update_imports_cell('import matplotlib.pyplot as plt\\nimport lightgbm as lgb\\nimport statistics\\nimport re\\nfrom sklearn.model_selection import train_test_split\\nimport xgboost as xgb\\nfrom openpyxl import load_workbook\\nimport pandas as pd\\nfrom scipy import stats\\nimport textblob\\nimport torch\\nimport random\\nfrom scipy import signal as sg\\nimport sklearn\\nimport seaborn as sns\\nimport spacy\\nimport numpy as np\\nfrom sklearn import svm\\nimport skimage\\nimport sys\\nimport tensorflow as tf\\nimport statsmodels.api as sm\\nimport tqdm'); }\n",
              "    "
            ]
          },
          "metadata": {}
        },
        {
          "output_type": "display_data",
          "data": {
            "text/plain": [
              "<IPython.core.display.Javascript object>"
            ],
            "application/javascript": [
              "\n",
              "        if (window._pyforest_update_imports_cell) { window._pyforest_update_imports_cell('import matplotlib.pyplot as plt\\nimport lightgbm as lgb\\nimport statistics\\nimport re\\nfrom sklearn.model_selection import train_test_split\\nimport xgboost as xgb\\nfrom openpyxl import load_workbook\\nimport pandas as pd\\nfrom scipy import stats\\nimport textblob\\nimport torch\\nimport random\\nfrom scipy import signal as sg\\nimport sklearn\\nimport seaborn as sns\\nimport spacy\\nimport numpy as np\\nfrom sklearn import svm\\nimport skimage\\nimport sys\\nimport tensorflow as tf\\nimport statsmodels.api as sm\\nimport tqdm'); }\n",
              "    "
            ]
          },
          "metadata": {}
        },
        {
          "output_type": "display_data",
          "data": {
            "text/plain": [
              "<IPython.core.display.Javascript object>"
            ],
            "application/javascript": [
              "\n",
              "        if (window._pyforest_update_imports_cell) { window._pyforest_update_imports_cell('import matplotlib.pyplot as plt\\nimport lightgbm as lgb\\nimport statistics\\nimport re\\nfrom sklearn.model_selection import train_test_split\\nimport xgboost as xgb\\nfrom openpyxl import load_workbook\\nimport pandas as pd\\nfrom scipy import stats\\nimport textblob\\nimport torch\\nimport random\\nfrom scipy import signal as sg\\nimport sklearn\\nimport seaborn as sns\\nimport spacy\\nimport numpy as np\\nfrom sklearn import svm\\nimport skimage\\nimport sys\\nimport tensorflow as tf\\nimport statsmodels.api as sm\\nimport tqdm'); }\n",
              "    "
            ]
          },
          "metadata": {}
        },
        {
          "output_type": "display_data",
          "data": {
            "text/plain": [
              "<IPython.core.display.Javascript object>"
            ],
            "application/javascript": [
              "\n",
              "        if (window._pyforest_update_imports_cell) { window._pyforest_update_imports_cell('import matplotlib.pyplot as plt\\nimport lightgbm as lgb\\nimport statistics\\nimport re\\nfrom sklearn.model_selection import train_test_split\\nimport xgboost as xgb\\nfrom openpyxl import load_workbook\\nimport pandas as pd\\nfrom scipy import stats\\nimport textblob\\nimport torch\\nimport random\\nfrom scipy import signal as sg\\nimport sklearn\\nimport seaborn as sns\\nimport spacy\\nimport numpy as np\\nfrom sklearn import svm\\nimport skimage\\nimport sys\\nimport tensorflow as tf\\nimport statsmodels.api as sm\\nimport tqdm'); }\n",
              "    "
            ]
          },
          "metadata": {}
        },
        {
          "output_type": "execute_result",
          "data": {
            "text/plain": [
              "   Epoch  Train Accuracy  Train Loss  Test Accuracy  Test Loss\n",
              "0      0       49.466667    0.706184           79.2   0.373436\n",
              "1     10       88.266667    0.225193           88.0   0.202062\n",
              "2     20       91.466667    0.155756           94.4   0.121699\n",
              "3     30       99.333333    0.051464          100.0   0.043488\n",
              "4     40      100.000000    0.008318          100.0   0.007425"
            ],
            "text/html": [
              "\n",
              "  <div id=\"df-0d40c1eb-23b6-4602-b0e1-380f5792d035\" class=\"colab-df-container\">\n",
              "    <div>\n",
              "<style scoped>\n",
              "    .dataframe tbody tr th:only-of-type {\n",
              "        vertical-align: middle;\n",
              "    }\n",
              "\n",
              "    .dataframe tbody tr th {\n",
              "        vertical-align: top;\n",
              "    }\n",
              "\n",
              "    .dataframe thead th {\n",
              "        text-align: right;\n",
              "    }\n",
              "</style>\n",
              "<table border=\"1\" class=\"dataframe\">\n",
              "  <thead>\n",
              "    <tr style=\"text-align: right;\">\n",
              "      <th></th>\n",
              "      <th>Epoch</th>\n",
              "      <th>Train Accuracy</th>\n",
              "      <th>Train Loss</th>\n",
              "      <th>Test Accuracy</th>\n",
              "      <th>Test Loss</th>\n",
              "    </tr>\n",
              "  </thead>\n",
              "  <tbody>\n",
              "    <tr>\n",
              "      <th>0</th>\n",
              "      <td>0</td>\n",
              "      <td>49.466667</td>\n",
              "      <td>0.706184</td>\n",
              "      <td>79.2</td>\n",
              "      <td>0.373436</td>\n",
              "    </tr>\n",
              "    <tr>\n",
              "      <th>1</th>\n",
              "      <td>10</td>\n",
              "      <td>88.266667</td>\n",
              "      <td>0.225193</td>\n",
              "      <td>88.0</td>\n",
              "      <td>0.202062</td>\n",
              "    </tr>\n",
              "    <tr>\n",
              "      <th>2</th>\n",
              "      <td>20</td>\n",
              "      <td>91.466667</td>\n",
              "      <td>0.155756</td>\n",
              "      <td>94.4</td>\n",
              "      <td>0.121699</td>\n",
              "    </tr>\n",
              "    <tr>\n",
              "      <th>3</th>\n",
              "      <td>30</td>\n",
              "      <td>99.333333</td>\n",
              "      <td>0.051464</td>\n",
              "      <td>100.0</td>\n",
              "      <td>0.043488</td>\n",
              "    </tr>\n",
              "    <tr>\n",
              "      <th>4</th>\n",
              "      <td>40</td>\n",
              "      <td>100.000000</td>\n",
              "      <td>0.008318</td>\n",
              "      <td>100.0</td>\n",
              "      <td>0.007425</td>\n",
              "    </tr>\n",
              "  </tbody>\n",
              "</table>\n",
              "</div>\n",
              "    <div class=\"colab-df-buttons\">\n",
              "\n",
              "  <div class=\"colab-df-container\">\n",
              "    <button class=\"colab-df-convert\" onclick=\"convertToInteractive('df-0d40c1eb-23b6-4602-b0e1-380f5792d035')\"\n",
              "            title=\"Convert this dataframe to an interactive table.\"\n",
              "            style=\"display:none;\">\n",
              "\n",
              "  <svg xmlns=\"http://www.w3.org/2000/svg\" height=\"24px\" viewBox=\"0 -960 960 960\">\n",
              "    <path d=\"M120-120v-720h720v720H120Zm60-500h600v-160H180v160Zm220 220h160v-160H400v160Zm0 220h160v-160H400v160ZM180-400h160v-160H180v160Zm440 0h160v-160H620v160ZM180-180h160v-160H180v160Zm440 0h160v-160H620v160Z\"/>\n",
              "  </svg>\n",
              "    </button>\n",
              "\n",
              "  <style>\n",
              "    .colab-df-container {\n",
              "      display:flex;\n",
              "      gap: 12px;\n",
              "    }\n",
              "\n",
              "    .colab-df-convert {\n",
              "      background-color: #E8F0FE;\n",
              "      border: none;\n",
              "      border-radius: 50%;\n",
              "      cursor: pointer;\n",
              "      display: none;\n",
              "      fill: #1967D2;\n",
              "      height: 32px;\n",
              "      padding: 0 0 0 0;\n",
              "      width: 32px;\n",
              "    }\n",
              "\n",
              "    .colab-df-convert:hover {\n",
              "      background-color: #E2EBFA;\n",
              "      box-shadow: 0px 1px 2px rgba(60, 64, 67, 0.3), 0px 1px 3px 1px rgba(60, 64, 67, 0.15);\n",
              "      fill: #174EA6;\n",
              "    }\n",
              "\n",
              "    .colab-df-buttons div {\n",
              "      margin-bottom: 4px;\n",
              "    }\n",
              "\n",
              "    [theme=dark] .colab-df-convert {\n",
              "      background-color: #3B4455;\n",
              "      fill: #D2E3FC;\n",
              "    }\n",
              "\n",
              "    [theme=dark] .colab-df-convert:hover {\n",
              "      background-color: #434B5C;\n",
              "      box-shadow: 0px 1px 3px 1px rgba(0, 0, 0, 0.15);\n",
              "      filter: drop-shadow(0px 1px 2px rgba(0, 0, 0, 0.3));\n",
              "      fill: #FFFFFF;\n",
              "    }\n",
              "  </style>\n",
              "\n",
              "    <script>\n",
              "      const buttonEl =\n",
              "        document.querySelector('#df-0d40c1eb-23b6-4602-b0e1-380f5792d035 button.colab-df-convert');\n",
              "      buttonEl.style.display =\n",
              "        google.colab.kernel.accessAllowed ? 'block' : 'none';\n",
              "\n",
              "      async function convertToInteractive(key) {\n",
              "        const element = document.querySelector('#df-0d40c1eb-23b6-4602-b0e1-380f5792d035');\n",
              "        const dataTable =\n",
              "          await google.colab.kernel.invokeFunction('convertToInteractive',\n",
              "                                                    [key], {});\n",
              "        if (!dataTable) return;\n",
              "\n",
              "        const docLinkHtml = 'Like what you see? Visit the ' +\n",
              "          '<a target=\"_blank\" href=https://colab.research.google.com/notebooks/data_table.ipynb>data table notebook</a>'\n",
              "          + ' to learn more about interactive tables.';\n",
              "        element.innerHTML = '';\n",
              "        dataTable['output_type'] = 'display_data';\n",
              "        await google.colab.output.renderOutput(dataTable, element);\n",
              "        const docLink = document.createElement('div');\n",
              "        docLink.innerHTML = docLinkHtml;\n",
              "        element.appendChild(docLink);\n",
              "      }\n",
              "    </script>\n",
              "  </div>\n",
              "\n",
              "\n",
              "<div id=\"df-ce22de3f-464f-450d-823e-9a422794e610\">\n",
              "  <button class=\"colab-df-quickchart\" onclick=\"quickchart('df-ce22de3f-464f-450d-823e-9a422794e610')\"\n",
              "            title=\"Suggest charts\"\n",
              "            style=\"display:none;\">\n",
              "\n",
              "<svg xmlns=\"http://www.w3.org/2000/svg\" height=\"24px\"viewBox=\"0 0 24 24\"\n",
              "     width=\"24px\">\n",
              "    <g>\n",
              "        <path d=\"M19 3H5c-1.1 0-2 .9-2 2v14c0 1.1.9 2 2 2h14c1.1 0 2-.9 2-2V5c0-1.1-.9-2-2-2zM9 17H7v-7h2v7zm4 0h-2V7h2v10zm4 0h-2v-4h2v4z\"/>\n",
              "    </g>\n",
              "</svg>\n",
              "  </button>\n",
              "\n",
              "<style>\n",
              "  .colab-df-quickchart {\n",
              "      --bg-color: #E8F0FE;\n",
              "      --fill-color: #1967D2;\n",
              "      --hover-bg-color: #E2EBFA;\n",
              "      --hover-fill-color: #174EA6;\n",
              "      --disabled-fill-color: #AAA;\n",
              "      --disabled-bg-color: #DDD;\n",
              "  }\n",
              "\n",
              "  [theme=dark] .colab-df-quickchart {\n",
              "      --bg-color: #3B4455;\n",
              "      --fill-color: #D2E3FC;\n",
              "      --hover-bg-color: #434B5C;\n",
              "      --hover-fill-color: #FFFFFF;\n",
              "      --disabled-bg-color: #3B4455;\n",
              "      --disabled-fill-color: #666;\n",
              "  }\n",
              "\n",
              "  .colab-df-quickchart {\n",
              "    background-color: var(--bg-color);\n",
              "    border: none;\n",
              "    border-radius: 50%;\n",
              "    cursor: pointer;\n",
              "    display: none;\n",
              "    fill: var(--fill-color);\n",
              "    height: 32px;\n",
              "    padding: 0;\n",
              "    width: 32px;\n",
              "  }\n",
              "\n",
              "  .colab-df-quickchart:hover {\n",
              "    background-color: var(--hover-bg-color);\n",
              "    box-shadow: 0 1px 2px rgba(60, 64, 67, 0.3), 0 1px 3px 1px rgba(60, 64, 67, 0.15);\n",
              "    fill: var(--button-hover-fill-color);\n",
              "  }\n",
              "\n",
              "  .colab-df-quickchart-complete:disabled,\n",
              "  .colab-df-quickchart-complete:disabled:hover {\n",
              "    background-color: var(--disabled-bg-color);\n",
              "    fill: var(--disabled-fill-color);\n",
              "    box-shadow: none;\n",
              "  }\n",
              "\n",
              "  .colab-df-spinner {\n",
              "    border: 2px solid var(--fill-color);\n",
              "    border-color: transparent;\n",
              "    border-bottom-color: var(--fill-color);\n",
              "    animation:\n",
              "      spin 1s steps(1) infinite;\n",
              "  }\n",
              "\n",
              "  @keyframes spin {\n",
              "    0% {\n",
              "      border-color: transparent;\n",
              "      border-bottom-color: var(--fill-color);\n",
              "      border-left-color: var(--fill-color);\n",
              "    }\n",
              "    20% {\n",
              "      border-color: transparent;\n",
              "      border-left-color: var(--fill-color);\n",
              "      border-top-color: var(--fill-color);\n",
              "    }\n",
              "    30% {\n",
              "      border-color: transparent;\n",
              "      border-left-color: var(--fill-color);\n",
              "      border-top-color: var(--fill-color);\n",
              "      border-right-color: var(--fill-color);\n",
              "    }\n",
              "    40% {\n",
              "      border-color: transparent;\n",
              "      border-right-color: var(--fill-color);\n",
              "      border-top-color: var(--fill-color);\n",
              "    }\n",
              "    60% {\n",
              "      border-color: transparent;\n",
              "      border-right-color: var(--fill-color);\n",
              "    }\n",
              "    80% {\n",
              "      border-color: transparent;\n",
              "      border-right-color: var(--fill-color);\n",
              "      border-bottom-color: var(--fill-color);\n",
              "    }\n",
              "    90% {\n",
              "      border-color: transparent;\n",
              "      border-bottom-color: var(--fill-color);\n",
              "    }\n",
              "  }\n",
              "</style>\n",
              "\n",
              "  <script>\n",
              "    async function quickchart(key) {\n",
              "      const quickchartButtonEl =\n",
              "        document.querySelector('#' + key + ' button');\n",
              "      quickchartButtonEl.disabled = true;  // To prevent multiple clicks.\n",
              "      quickchartButtonEl.classList.add('colab-df-spinner');\n",
              "      try {\n",
              "        const charts = await google.colab.kernel.invokeFunction(\n",
              "            'suggestCharts', [key], {});\n",
              "      } catch (error) {\n",
              "        console.error('Error during call to suggestCharts:', error);\n",
              "      }\n",
              "      quickchartButtonEl.classList.remove('colab-df-spinner');\n",
              "      quickchartButtonEl.classList.add('colab-df-quickchart-complete');\n",
              "    }\n",
              "    (() => {\n",
              "      let quickchartButtonEl =\n",
              "        document.querySelector('#df-ce22de3f-464f-450d-823e-9a422794e610 button');\n",
              "      quickchartButtonEl.style.display =\n",
              "        google.colab.kernel.accessAllowed ? 'block' : 'none';\n",
              "    })();\n",
              "  </script>\n",
              "</div>\n",
              "\n",
              "    </div>\n",
              "  </div>\n"
            ],
            "application/vnd.google.colaboratory.intrinsic+json": {
              "type": "dataframe",
              "summary": "{\n  \"name\": \"})\",\n  \"rows\": 5,\n  \"fields\": [\n    {\n      \"column\": \"Epoch\",\n      \"properties\": {\n        \"dtype\": \"number\",\n        \"std\": 15,\n        \"min\": 0,\n        \"max\": 40,\n        \"num_unique_values\": 5,\n        \"samples\": [\n          10,\n          40,\n          20\n        ],\n        \"semantic_type\": \"\",\n        \"description\": \"\"\n      }\n    },\n    {\n      \"column\": \"Train Accuracy\",\n      \"properties\": {\n        \"dtype\": \"number\",\n        \"std\": 20.87495043240955,\n        \"min\": 49.46666666666666,\n        \"max\": 100.0,\n        \"num_unique_values\": 5,\n        \"samples\": [\n          88.26666666666667,\n          100.0,\n          91.46666666666667\n        ],\n        \"semantic_type\": \"\",\n        \"description\": \"\"\n      }\n    },\n    {\n      \"column\": \"Train Loss\",\n      \"properties\": {\n        \"dtype\": \"number\",\n        \"std\": 0.2798670995083511,\n        \"min\": 0.008317677304148674,\n        \"max\": 0.706183671951294,\n        \"num_unique_values\": 5,\n        \"samples\": [\n          0.22519254684448242,\n          0.008317677304148674,\n          0.15575620532035828\n        ],\n        \"semantic_type\": \"\",\n        \"description\": \"\"\n      }\n    },\n    {\n      \"column\": \"Test Accuracy\",\n      \"properties\": {\n        \"dtype\": \"number\",\n        \"std\": 8.84714643260752,\n        \"min\": 79.2,\n        \"max\": 100.0,\n        \"num_unique_values\": 4,\n        \"samples\": [\n          88.0,\n          100.0,\n          79.2\n        ],\n        \"semantic_type\": \"\",\n        \"description\": \"\"\n      }\n    },\n    {\n      \"column\": \"Test Loss\",\n      \"properties\": {\n        \"dtype\": \"number\",\n        \"std\": 0.14586548647556027,\n        \"min\": 0.007424810901284218,\n        \"max\": 0.37343630194664,\n        \"num_unique_values\": 5,\n        \"samples\": [\n          0.20206207036972046,\n          0.007424810901284218,\n          0.12169873714447021\n        ],\n        \"semantic_type\": \"\",\n        \"description\": \"\"\n      }\n    }\n  ]\n}"
            }
          },
          "metadata": {},
          "execution_count": 182
        }
      ],
      "source": [
        "epochs = 50\n",
        "\n",
        "X_train = X_train.to(device)\n",
        "X_test = X_test.to(device)\n",
        "y_train = y_train.to(device)\n",
        "y_test = y_test.to(device)\n",
        "\n",
        "\n",
        "\n",
        "train_loss = []\n",
        "test_loss = []\n",
        "train_acc = []\n",
        "test_acc = []\n",
        "epoch_list = []\n",
        "\n",
        "\n",
        "for epoch in range(epochs):\n",
        "  classifier.train()\n",
        "  y_logits = classifier(X_train)\n",
        "  y_pred = torch.round(torch.sigmoid(y_logits))\n",
        "  trn_loss = loss_fn(y_logits, y_train)\n",
        "  optimizer.zero_grad()\n",
        "  trn_loss.backward()\n",
        "  optimizer.step()\n",
        "\n",
        "  if epoch%10 == 0:\n",
        "      epoch_list.append(epoch)\n",
        "      classifier.eval()\n",
        "      with torch.inference_mode():\n",
        "          test_logits = classifier(X_test)\n",
        "          test_pred = torch.sigmoid(test_logits).round()\n",
        "          tst_loss = loss_fn(test_logits, y_test)\n",
        "\n",
        "          train_loss.append(trn_loss.item())\n",
        "          test_loss.append(tst_loss.item())\n",
        "          test_acc.append(accuracy_score(test_pred, y_test))\n",
        "          train_acc.append(accuracy_score(y_pred,y_train))\n",
        "\n",
        "pd.DataFrame({\n",
        "    'Epoch' : epoch_list,\n",
        "    'Train Accuracy' : train_acc,\n",
        "    'Train Loss': train_loss,\n",
        "    'Test Accuracy' : test_acc,\n",
        "    'Test Loss': test_loss\n",
        "})"
      ]
    },
    {
      "cell_type": "markdown",
      "id": "9_3lkvuxpmx4",
      "metadata": {
        "id": "9_3lkvuxpmx4"
      },
      "source": [
        "### 5. Make predictions with your trained model and plot them using the plot_decision_boundary() function created in this notebook."
      ]
    },
    {
      "cell_type": "code",
      "execution_count": null,
      "id": "047f6c38-50cb-44b4-9421-6e6acbe390c2",
      "metadata": {
        "colab": {
          "base_uri": "https://localhost:8080/"
        },
        "id": "047f6c38-50cb-44b4-9421-6e6acbe390c2",
        "outputId": "bd2e0860-4907-4526-b727-1f4c149d69bd"
      },
      "outputs": [
        {
          "output_type": "stream",
          "name": "stdout",
          "text": [
            "helper_functions.py already exists, skipping download\n"
          ]
        }
      ],
      "source": [
        "import requests\n",
        "from pathlib import Path\n",
        "\n",
        "# Download helper functions from Learn PyTorch repo (if not already downloaded)\n",
        "if Path(\"helper_functions.py\").is_file():\n",
        "  print(\"helper_functions.py already exists, skipping download\")\n",
        "else:\n",
        "  print(\"Downloading helper_functions.py\")\n",
        "  request = requests.get(\"https://raw.githubusercontent.com/mrdbourke/pytorch-deep-learning/main/helper_functions.py\")\n",
        "  with open(\"helper_functions.py\", \"wb\") as f:\n",
        "    f.write(request.content)\n",
        "\n",
        "from helper_functions import plot_predictions, plot_decision_boundary"
      ]
    },
    {
      "cell_type": "code",
      "execution_count": null,
      "id": "8eBBQSbJp-ZF",
      "metadata": {
        "colab": {
          "base_uri": "https://localhost:8080/",
          "height": 545
        },
        "id": "8eBBQSbJp-ZF",
        "outputId": "2cfedc45-3b2e-4cdd-c735-8b125bf6407b"
      },
      "outputs": [
        {
          "output_type": "display_data",
          "data": {
            "text/plain": [
              "<IPython.core.display.Javascript object>"
            ],
            "application/javascript": [
              "\n",
              "        if (window._pyforest_update_imports_cell) { window._pyforest_update_imports_cell('import matplotlib.pyplot as plt\\nimport lightgbm as lgb\\nimport statistics\\nimport re\\nfrom sklearn.model_selection import train_test_split\\nimport xgboost as xgb\\nfrom openpyxl import load_workbook\\nimport pandas as pd\\nfrom scipy import stats\\nimport textblob\\nimport torch\\nimport random\\nfrom scipy import signal as sg\\nimport sklearn\\nimport seaborn as sns\\nimport spacy\\nimport numpy as np\\nfrom sklearn import svm\\nimport skimage\\nimport sys\\nimport tensorflow as tf\\nimport statsmodels.api as sm\\nimport tqdm'); }\n",
              "    "
            ]
          },
          "metadata": {}
        },
        {
          "output_type": "display_data",
          "data": {
            "text/plain": [
              "<IPython.core.display.Javascript object>"
            ],
            "application/javascript": [
              "\n",
              "        if (window._pyforest_update_imports_cell) { window._pyforest_update_imports_cell('import matplotlib.pyplot as plt\\nimport lightgbm as lgb\\nimport statistics\\nimport re\\nfrom sklearn.model_selection import train_test_split\\nimport xgboost as xgb\\nfrom openpyxl import load_workbook\\nimport pandas as pd\\nfrom scipy import stats\\nimport textblob\\nimport torch\\nimport random\\nfrom scipy import signal as sg\\nimport sklearn\\nimport seaborn as sns\\nimport spacy\\nimport numpy as np\\nfrom sklearn import svm\\nimport skimage\\nimport sys\\nimport tensorflow as tf\\nimport statsmodels.api as sm\\nimport tqdm'); }\n",
              "    "
            ]
          },
          "metadata": {}
        },
        {
          "output_type": "display_data",
          "data": {
            "text/plain": [
              "<IPython.core.display.Javascript object>"
            ],
            "application/javascript": [
              "\n",
              "        if (window._pyforest_update_imports_cell) { window._pyforest_update_imports_cell('import matplotlib.pyplot as plt\\nimport lightgbm as lgb\\nimport statistics\\nimport re\\nfrom sklearn.model_selection import train_test_split\\nimport xgboost as xgb\\nfrom openpyxl import load_workbook\\nimport pandas as pd\\nfrom scipy import stats\\nimport textblob\\nimport torch\\nimport random\\nfrom scipy import signal as sg\\nimport sklearn\\nimport seaborn as sns\\nimport spacy\\nimport numpy as np\\nfrom sklearn import svm\\nimport skimage\\nimport sys\\nimport tensorflow as tf\\nimport statsmodels.api as sm\\nimport tqdm'); }\n",
              "    "
            ]
          },
          "metadata": {}
        },
        {
          "output_type": "display_data",
          "data": {
            "text/plain": [
              "<IPython.core.display.Javascript object>"
            ],
            "application/javascript": [
              "\n",
              "        if (window._pyforest_update_imports_cell) { window._pyforest_update_imports_cell('import matplotlib.pyplot as plt\\nimport lightgbm as lgb\\nimport statistics\\nimport re\\nfrom sklearn.model_selection import train_test_split\\nimport xgboost as xgb\\nfrom openpyxl import load_workbook\\nimport pandas as pd\\nfrom scipy import stats\\nimport textblob\\nimport torch\\nimport random\\nfrom scipy import signal as sg\\nimport sklearn\\nimport seaborn as sns\\nimport spacy\\nimport numpy as np\\nfrom sklearn import svm\\nimport skimage\\nimport sys\\nimport tensorflow as tf\\nimport statsmodels.api as sm\\nimport tqdm'); }\n",
              "    "
            ]
          },
          "metadata": {}
        },
        {
          "output_type": "display_data",
          "data": {
            "text/plain": [
              "<IPython.core.display.Javascript object>"
            ],
            "application/javascript": [
              "\n",
              "        if (window._pyforest_update_imports_cell) { window._pyforest_update_imports_cell('import matplotlib.pyplot as plt\\nimport lightgbm as lgb\\nimport statistics\\nimport re\\nfrom sklearn.model_selection import train_test_split\\nimport xgboost as xgb\\nfrom openpyxl import load_workbook\\nimport pandas as pd\\nfrom scipy import stats\\nimport textblob\\nimport torch\\nimport random\\nfrom scipy import signal as sg\\nimport sklearn\\nimport seaborn as sns\\nimport spacy\\nimport numpy as np\\nfrom sklearn import svm\\nimport skimage\\nimport sys\\nimport tensorflow as tf\\nimport statsmodels.api as sm\\nimport tqdm'); }\n",
              "    "
            ]
          },
          "metadata": {}
        },
        {
          "output_type": "display_data",
          "data": {
            "text/plain": [
              "<Figure size 1200x600 with 2 Axes>"
            ],
            "image/png": "[encoded data removed]"
          },
          "metadata": {}
        }
      ],
      "source": [
        "# Plot decision boundaries for training and test sets\n",
        "plt.figure(figsize=(12, 6))\n",
        "plt.subplot(1, 2, 1)\n",
        "plt.title(\"Train\")\n",
        "plot_decision_boundary(classifier, X_train, y_train)\n",
        "plt.subplot(1, 2, 2)\n",
        "plt.title(\"Test\")\n",
        "plot_decision_boundary(classifier, X_test, y_test)"
      ]
    },
    {
      "cell_type": "markdown",
      "id": "0JkxkWHRsorH",
      "metadata": {
        "id": "0JkxkWHRsorH"
      },
      "source": [
        "Replicate the Tanh (hyperbolic tangent) activation function in pure PyTorch.\n",
        "Feel free to reference the ML cheatsheet website for the formula."
      ]
    },
    {
      "cell_type": "code",
      "execution_count": null,
      "id": "efev8JGbq-Lp",
      "metadata": {
        "id": "efev8JGbq-Lp"
      },
      "outputs": [],
      "source": [
        "def tanh(z):\n",
        "  from torch import exp as e\n",
        "  result = (e(z) - e(-z))/(e(z)+e(-z))\n",
        "  return result"
      ]
    },
    {
      "cell_type": "code",
      "execution_count": null,
      "id": "tDGsYIAJMwme",
      "metadata": {
        "colab": {
          "base_uri": "https://localhost:8080/",
          "height": 17
        },
        "id": "tDGsYIAJMwme",
        "outputId": "4a7eaf5e-0355-4987-f02b-4f1ed7ce0077"
      },
      "outputs": [
        {
          "output_type": "display_data",
          "data": {
            "text/plain": [
              "<IPython.core.display.Javascript object>"
            ],
            "application/javascript": [
              "\n",
              "        if (window._pyforest_update_imports_cell) { window._pyforest_update_imports_cell('import matplotlib.pyplot as plt\\nimport lightgbm as lgb\\nimport statistics\\nimport re\\nfrom sklearn.model_selection import train_test_split\\nimport xgboost as xgb\\nfrom openpyxl import load_workbook\\nimport pandas as pd\\nfrom scipy import stats\\nimport textblob\\nimport torch\\nimport random\\nfrom scipy import signal as sg\\nimport sklearn\\nimport seaborn as sns\\nimport spacy\\nimport numpy as np\\nfrom sklearn import svm\\nimport skimage\\nimport sys\\nimport tensorflow as tf\\nimport statsmodels.api as sm\\nimport tqdm'); }\n",
              "    "
            ]
          },
          "metadata": {}
        }
      ],
      "source": [
        "test_tensor = torch.arange(-2,2,0.1)"
      ]
    },
    {
      "cell_type": "code",
      "execution_count": null,
      "id": "pIJ-RHMmP2iY",
      "metadata": {
        "colab": {
          "base_uri": "https://localhost:8080/"
        },
        "id": "pIJ-RHMmP2iY",
        "outputId": "b2c1d114-39f6-4ce1-bc6a-7256fc024b29"
      },
      "outputs": [
        {
          "output_type": "execute_result",
          "data": {
            "text/plain": [
              "tensor([-0.9640, -0.9562, -0.9468, -0.9354, -0.9217, -0.9051, -0.8854, -0.8617,\n",
              "        -0.8337, -0.8005, -0.7616, -0.7163, -0.6640, -0.6044, -0.5370, -0.4621,\n",
              "        -0.3799, -0.2913, -0.1974, -0.0997,  0.0000,  0.0997,  0.1974,  0.2913,\n",
              "         0.3799,  0.4621,  0.5370,  0.6044,  0.6640,  0.7163,  0.7616,  0.8005,\n",
              "         0.8337,  0.8617,  0.8854,  0.9051,  0.9217,  0.9354,  0.9468,  0.9562])"
            ]
          },
          "metadata": {},
          "execution_count": 187
        }
      ],
      "source": [
        "tanh(test_tensor)\n"
      ]
    },
    {
      "cell_type": "code",
      "source": [
        "sns.lineplot(x = test_tensor, y = tanh(test_tensor))"
      ],
      "metadata": {
        "colab": {
          "base_uri": "https://localhost:8080/",
          "height": 468
        },
        "id": "TMrp2V9WbogH",
        "outputId": "74b0adfd-07a9-4a93-ccb2-66e7434bfbaa"
      },
      "id": "TMrp2V9WbogH",
      "execution_count": null,
      "outputs": [
        {
          "output_type": "display_data",
          "data": {
            "text/plain": [
              "<IPython.core.display.Javascript object>"
            ],
            "application/javascript": [
              "\n",
              "        if (window._pyforest_update_imports_cell) { window._pyforest_update_imports_cell('import matplotlib.pyplot as plt\\nimport lightgbm as lgb\\nimport statistics\\nimport re\\nfrom sklearn.model_selection import train_test_split\\nimport xgboost as xgb\\nfrom openpyxl import load_workbook\\nimport pandas as pd\\nfrom scipy import stats\\nimport textblob\\nimport torch\\nimport random\\nfrom scipy import signal as sg\\nimport sklearn\\nimport seaborn as sns\\nimport spacy\\nimport numpy as np\\nfrom sklearn import svm\\nimport skimage\\nimport sys\\nimport tensorflow as tf\\nimport statsmodels.api as sm\\nimport tqdm'); }\n",
              "    "
            ]
          },
          "metadata": {}
        },
        {
          "output_type": "execute_result",
          "data": {
            "text/plain": [
              "<Axes: xlabel='None', ylabel='None'>"
            ]
          },
          "metadata": {},
          "execution_count": 188
        },
        {
          "output_type": "display_data",
          "data": {
            "text/plain": [
              "<Figure size 640x480 with 1 Axes>"
            ],
            "image/png": "[encoded data removed]"
          },
          "metadata": {}
        }
      ]
    },
    {
      "cell_type": "markdown",
      "id": "qjmCEtVZQ_HT",
      "metadata": {
        "id": "qjmCEtVZQ_HT"
      },
      "source": [
        "7. Create a multi-class dataset using the [spirals data creation function from CS231n](https://cs231n.github.io/neural-networks-case-study/) (see below for the code).\n",
        "    * Construct a model capable of fitting the data (you may need a combination of linear and non-linear layers).\n",
        "    * Build a loss function and optimizer capable of handling multi-class data (optional extension: use the Adam optimizer instead of SGD, you may have to experiment with different values of the learning rate to get it working).\n",
        "    * Make a training and testing loop for the multi-class data and train a model on it to reach over 95% testing accuracy (you can use any accuracy measuring function here that you like).\n",
        "    * Plot the decision boundaries on the spirals dataset from your model predictions, the `plot_decision_boundary()` function should work for this dataset too.\n",
        "    "
      ]
    },
    {
      "cell_type": "code",
      "execution_count": null,
      "id": "LcWwKRagRBQ_",
      "metadata": {
        "colab": {
          "base_uri": "https://localhost:8080/",
          "height": 430
        },
        "id": "LcWwKRagRBQ_",
        "outputId": "a17c592f-8727-43d7-d5ed-1f6bda50bc63"
      },
      "outputs": [
        {
          "output_type": "display_data",
          "data": {
            "text/plain": [
              "<IPython.core.display.Javascript object>"
            ],
            "application/javascript": [
              "\n",
              "        if (window._pyforest_update_imports_cell) { window._pyforest_update_imports_cell('import matplotlib.pyplot as plt\\nimport lightgbm as lgb\\nimport statistics\\nimport re\\nfrom sklearn.model_selection import train_test_split\\nimport xgboost as xgb\\nfrom openpyxl import load_workbook\\nimport pandas as pd\\nfrom scipy import stats\\nimport textblob\\nimport torch\\nimport random\\nfrom scipy import signal as sg\\nimport sklearn\\nimport seaborn as sns\\nimport spacy\\nimport numpy as np\\nfrom sklearn import svm\\nimport skimage\\nimport sys\\nimport tensorflow as tf\\nimport statsmodels.api as sm\\nimport tqdm'); }\n",
              "    "
            ]
          },
          "metadata": {}
        },
        {
          "output_type": "display_data",
          "data": {
            "text/plain": [
              "<IPython.core.display.Javascript object>"
            ],
            "application/javascript": [
              "\n",
              "        if (window._pyforest_update_imports_cell) { window._pyforest_update_imports_cell('import matplotlib.pyplot as plt\\nimport lightgbm as lgb\\nimport statistics\\nimport re\\nfrom sklearn.model_selection import train_test_split\\nimport xgboost as xgb\\nfrom openpyxl import load_workbook\\nimport pandas as pd\\nfrom scipy import stats\\nimport textblob\\nimport torch\\nimport random\\nfrom scipy import signal as sg\\nimport sklearn\\nimport seaborn as sns\\nimport spacy\\nimport numpy as np\\nfrom sklearn import svm\\nimport skimage\\nimport sys\\nimport tensorflow as tf\\nimport statsmodels.api as sm\\nimport tqdm'); }\n",
              "    "
            ]
          },
          "metadata": {}
        },
        {
          "output_type": "display_data",
          "data": {
            "text/plain": [
              "<IPython.core.display.Javascript object>"
            ],
            "application/javascript": [
              "\n",
              "        if (window._pyforest_update_imports_cell) { window._pyforest_update_imports_cell('import matplotlib.pyplot as plt\\nimport lightgbm as lgb\\nimport statistics\\nimport re\\nfrom sklearn.model_selection import train_test_split\\nimport xgboost as xgb\\nfrom openpyxl import load_workbook\\nimport pandas as pd\\nfrom scipy import stats\\nimport textblob\\nimport torch\\nimport random\\nfrom scipy import signal as sg\\nimport sklearn\\nimport seaborn as sns\\nimport spacy\\nimport numpy as np\\nfrom sklearn import svm\\nimport skimage\\nimport sys\\nimport tensorflow as tf\\nimport statsmodels.api as sm\\nimport tqdm'); }\n",
              "    "
            ]
          },
          "metadata": {}
        },
        {
          "output_type": "display_data",
          "data": {
            "text/plain": [
              "<IPython.core.display.Javascript object>"
            ],
            "application/javascript": [
              "\n",
              "        if (window._pyforest_update_imports_cell) { window._pyforest_update_imports_cell('import matplotlib.pyplot as plt\\nimport lightgbm as lgb\\nimport statistics\\nimport re\\nfrom sklearn.model_selection import train_test_split\\nimport xgboost as xgb\\nfrom openpyxl import load_workbook\\nimport pandas as pd\\nfrom scipy import stats\\nimport textblob\\nimport torch\\nimport random\\nfrom scipy import signal as sg\\nimport sklearn\\nimport seaborn as sns\\nimport spacy\\nimport numpy as np\\nfrom sklearn import svm\\nimport skimage\\nimport sys\\nimport tensorflow as tf\\nimport statsmodels.api as sm\\nimport tqdm'); }\n",
              "    "
            ]
          },
          "metadata": {}
        },
        {
          "output_type": "display_data",
          "data": {
            "text/plain": [
              "<IPython.core.display.Javascript object>"
            ],
            "application/javascript": [
              "\n",
              "        if (window._pyforest_update_imports_cell) { window._pyforest_update_imports_cell('import matplotlib.pyplot as plt\\nimport lightgbm as lgb\\nimport statistics\\nimport re\\nfrom sklearn.model_selection import train_test_split\\nimport xgboost as xgb\\nfrom openpyxl import load_workbook\\nimport pandas as pd\\nfrom scipy import stats\\nimport textblob\\nimport torch\\nimport random\\nfrom scipy import signal as sg\\nimport sklearn\\nimport seaborn as sns\\nimport spacy\\nimport numpy as np\\nfrom sklearn import svm\\nimport skimage\\nimport sys\\nimport tensorflow as tf\\nimport statsmodels.api as sm\\nimport tqdm'); }\n",
              "    "
            ]
          },
          "metadata": {}
        },
        {
          "output_type": "display_data",
          "data": {
            "text/plain": [
              "<IPython.core.display.Javascript object>"
            ],
            "application/javascript": [
              "\n",
              "        if (window._pyforest_update_imports_cell) { window._pyforest_update_imports_cell('import matplotlib.pyplot as plt\\nimport lightgbm as lgb\\nimport statistics\\nimport re\\nfrom sklearn.model_selection import train_test_split\\nimport xgboost as xgb\\nfrom openpyxl import load_workbook\\nimport pandas as pd\\nfrom scipy import stats\\nimport textblob\\nimport torch\\nimport random\\nfrom scipy import signal as sg\\nimport sklearn\\nimport seaborn as sns\\nimport spacy\\nimport numpy as np\\nfrom sklearn import svm\\nimport skimage\\nimport sys\\nimport tensorflow as tf\\nimport statsmodels.api as sm\\nimport tqdm'); }\n",
              "    "
            ]
          },
          "metadata": {}
        },
        {
          "output_type": "display_data",
          "data": {
            "text/plain": [
              "<IPython.core.display.Javascript object>"
            ],
            "application/javascript": [
              "\n",
              "        if (window._pyforest_update_imports_cell) { window._pyforest_update_imports_cell('import matplotlib.pyplot as plt\\nimport lightgbm as lgb\\nimport statistics\\nimport re\\nfrom sklearn.model_selection import train_test_split\\nimport xgboost as xgb\\nfrom openpyxl import load_workbook\\nimport pandas as pd\\nfrom scipy import stats\\nimport textblob\\nimport torch\\nimport random\\nfrom scipy import signal as sg\\nimport sklearn\\nimport seaborn as sns\\nimport spacy\\nimport numpy as np\\nfrom sklearn import svm\\nimport skimage\\nimport sys\\nimport tensorflow as tf\\nimport statsmodels.api as sm\\nimport tqdm'); }\n",
              "    "
            ]
          },
          "metadata": {}
        },
        {
          "output_type": "display_data",
          "data": {
            "text/plain": [
              "<IPython.core.display.Javascript object>"
            ],
            "application/javascript": [
              "\n",
              "        if (window._pyforest_update_imports_cell) { window._pyforest_update_imports_cell('import matplotlib.pyplot as plt\\nimport lightgbm as lgb\\nimport statistics\\nimport re\\nfrom sklearn.model_selection import train_test_split\\nimport xgboost as xgb\\nfrom openpyxl import load_workbook\\nimport pandas as pd\\nfrom scipy import stats\\nimport textblob\\nimport torch\\nimport random\\nfrom scipy import signal as sg\\nimport sklearn\\nimport seaborn as sns\\nimport spacy\\nimport numpy as np\\nfrom sklearn import svm\\nimport skimage\\nimport sys\\nimport tensorflow as tf\\nimport statsmodels.api as sm\\nimport tqdm'); }\n",
              "    "
            ]
          },
          "metadata": {}
        },
        {
          "output_type": "display_data",
          "data": {
            "text/plain": [
              "<IPython.core.display.Javascript object>"
            ],
            "application/javascript": [
              "\n",
              "        if (window._pyforest_update_imports_cell) { window._pyforest_update_imports_cell('import matplotlib.pyplot as plt\\nimport lightgbm as lgb\\nimport statistics\\nimport re\\nfrom sklearn.model_selection import train_test_split\\nimport xgboost as xgb\\nfrom openpyxl import load_workbook\\nimport pandas as pd\\nfrom scipy import stats\\nimport textblob\\nimport torch\\nimport random\\nfrom scipy import signal as sg\\nimport sklearn\\nimport seaborn as sns\\nimport spacy\\nimport numpy as np\\nfrom sklearn import svm\\nimport skimage\\nimport sys\\nimport tensorflow as tf\\nimport statsmodels.api as sm\\nimport tqdm'); }\n",
              "    "
            ]
          },
          "metadata": {}
        },
        {
          "output_type": "display_data",
          "data": {
            "text/plain": [
              "<IPython.core.display.Javascript object>"
            ],
            "application/javascript": [
              "\n",
              "        if (window._pyforest_update_imports_cell) { window._pyforest_update_imports_cell('import matplotlib.pyplot as plt\\nimport lightgbm as lgb\\nimport statistics\\nimport re\\nfrom sklearn.model_selection import train_test_split\\nimport xgboost as xgb\\nfrom openpyxl import load_workbook\\nimport pandas as pd\\nfrom scipy import stats\\nimport textblob\\nimport torch\\nimport random\\nfrom scipy import signal as sg\\nimport sklearn\\nimport seaborn as sns\\nimport spacy\\nimport numpy as np\\nfrom sklearn import svm\\nimport skimage\\nimport sys\\nimport tensorflow as tf\\nimport statsmodels.api as sm\\nimport tqdm'); }\n",
              "    "
            ]
          },
          "metadata": {}
        },
        {
          "output_type": "display_data",
          "data": {
            "text/plain": [
              "<IPython.core.display.Javascript object>"
            ],
            "application/javascript": [
              "\n",
              "        if (window._pyforest_update_imports_cell) { window._pyforest_update_imports_cell('import matplotlib.pyplot as plt\\nimport lightgbm as lgb\\nimport statistics\\nimport re\\nfrom sklearn.model_selection import train_test_split\\nimport xgboost as xgb\\nfrom openpyxl import load_workbook\\nimport pandas as pd\\nfrom scipy import stats\\nimport textblob\\nimport torch\\nimport random\\nfrom scipy import signal as sg\\nimport sklearn\\nimport seaborn as sns\\nimport spacy\\nimport numpy as np\\nfrom sklearn import svm\\nimport skimage\\nimport sys\\nimport tensorflow as tf\\nimport statsmodels.api as sm\\nimport tqdm'); }\n",
              "    "
            ]
          },
          "metadata": {}
        },
        {
          "output_type": "display_data",
          "data": {
            "text/plain": [
              "<IPython.core.display.Javascript object>"
            ],
            "application/javascript": [
              "\n",
              "        if (window._pyforest_update_imports_cell) { window._pyforest_update_imports_cell('import matplotlib.pyplot as plt\\nimport lightgbm as lgb\\nimport statistics\\nimport re\\nfrom sklearn.model_selection import train_test_split\\nimport xgboost as xgb\\nfrom openpyxl import load_workbook\\nimport pandas as pd\\nfrom scipy import stats\\nimport textblob\\nimport torch\\nimport random\\nfrom scipy import signal as sg\\nimport sklearn\\nimport seaborn as sns\\nimport spacy\\nimport numpy as np\\nfrom sklearn import svm\\nimport skimage\\nimport sys\\nimport tensorflow as tf\\nimport statsmodels.api as sm\\nimport tqdm'); }\n",
              "    "
            ]
          },
          "metadata": {}
        },
        {
          "output_type": "display_data",
          "data": {
            "text/plain": [
              "<IPython.core.display.Javascript object>"
            ],
            "application/javascript": [
              "\n",
              "        if (window._pyforest_update_imports_cell) { window._pyforest_update_imports_cell('import matplotlib.pyplot as plt\\nimport lightgbm as lgb\\nimport statistics\\nimport re\\nfrom sklearn.model_selection import train_test_split\\nimport xgboost as xgb\\nfrom openpyxl import load_workbook\\nimport pandas as pd\\nfrom scipy import stats\\nimport textblob\\nimport torch\\nimport random\\nfrom scipy import signal as sg\\nimport sklearn\\nimport seaborn as sns\\nimport spacy\\nimport numpy as np\\nfrom sklearn import svm\\nimport skimage\\nimport sys\\nimport tensorflow as tf\\nimport statsmodels.api as sm\\nimport tqdm'); }\n",
              "    "
            ]
          },
          "metadata": {}
        },
        {
          "output_type": "display_data",
          "data": {
            "text/plain": [
              "<IPython.core.display.Javascript object>"
            ],
            "application/javascript": [
              "\n",
              "        if (window._pyforest_update_imports_cell) { window._pyforest_update_imports_cell('import matplotlib.pyplot as plt\\nimport lightgbm as lgb\\nimport statistics\\nimport re\\nfrom sklearn.model_selection import train_test_split\\nimport xgboost as xgb\\nfrom openpyxl import load_workbook\\nimport pandas as pd\\nfrom scipy import stats\\nimport textblob\\nimport torch\\nimport random\\nfrom scipy import signal as sg\\nimport sklearn\\nimport seaborn as sns\\nimport spacy\\nimport numpy as np\\nfrom sklearn import svm\\nimport skimage\\nimport sys\\nimport tensorflow as tf\\nimport statsmodels.api as sm\\nimport tqdm'); }\n",
              "    "
            ]
          },
          "metadata": {}
        },
        {
          "output_type": "display_data",
          "data": {
            "text/plain": [
              "<IPython.core.display.Javascript object>"
            ],
            "application/javascript": [
              "\n",
              "        if (window._pyforest_update_imports_cell) { window._pyforest_update_imports_cell('import matplotlib.pyplot as plt\\nimport lightgbm as lgb\\nimport statistics\\nimport re\\nfrom sklearn.model_selection import train_test_split\\nimport xgboost as xgb\\nfrom openpyxl import load_workbook\\nimport pandas as pd\\nfrom scipy import stats\\nimport textblob\\nimport torch\\nimport random\\nfrom scipy import signal as sg\\nimport sklearn\\nimport seaborn as sns\\nimport spacy\\nimport numpy as np\\nfrom sklearn import svm\\nimport skimage\\nimport sys\\nimport tensorflow as tf\\nimport statsmodels.api as sm\\nimport tqdm'); }\n",
              "    "
            ]
          },
          "metadata": {}
        },
        {
          "output_type": "display_data",
          "data": {
            "text/plain": [
              "<IPython.core.display.Javascript object>"
            ],
            "application/javascript": [
              "\n",
              "        if (window._pyforest_update_imports_cell) { window._pyforest_update_imports_cell('import matplotlib.pyplot as plt\\nimport lightgbm as lgb\\nimport statistics\\nimport re\\nfrom sklearn.model_selection import train_test_split\\nimport xgboost as xgb\\nfrom openpyxl import load_workbook\\nimport pandas as pd\\nfrom scipy import stats\\nimport textblob\\nimport torch\\nimport random\\nfrom scipy import signal as sg\\nimport sklearn\\nimport seaborn as sns\\nimport spacy\\nimport numpy as np\\nfrom sklearn import svm\\nimport skimage\\nimport sys\\nimport tensorflow as tf\\nimport statsmodels.api as sm\\nimport tqdm'); }\n",
              "    "
            ]
          },
          "metadata": {}
        },
        {
          "output_type": "display_data",
          "data": {
            "text/plain": [
              "<IPython.core.display.Javascript object>"
            ],
            "application/javascript": [
              "\n",
              "        if (window._pyforest_update_imports_cell) { window._pyforest_update_imports_cell('import matplotlib.pyplot as plt\\nimport lightgbm as lgb\\nimport statistics\\nimport re\\nfrom sklearn.model_selection import train_test_split\\nimport xgboost as xgb\\nfrom openpyxl import load_workbook\\nimport pandas as pd\\nfrom scipy import stats\\nimport textblob\\nimport torch\\nimport random\\nfrom scipy import signal as sg\\nimport sklearn\\nimport seaborn as sns\\nimport spacy\\nimport numpy as np\\nfrom sklearn import svm\\nimport skimage\\nimport sys\\nimport tensorflow as tf\\nimport statsmodels.api as sm\\nimport tqdm'); }\n",
              "    "
            ]
          },
          "metadata": {}
        },
        {
          "output_type": "display_data",
          "data": {
            "text/plain": [
              "<IPython.core.display.Javascript object>"
            ],
            "application/javascript": [
              "\n",
              "        if (window._pyforest_update_imports_cell) { window._pyforest_update_imports_cell('import matplotlib.pyplot as plt\\nimport lightgbm as lgb\\nimport statistics\\nimport re\\nfrom sklearn.model_selection import train_test_split\\nimport xgboost as xgb\\nfrom openpyxl import load_workbook\\nimport pandas as pd\\nfrom scipy import stats\\nimport textblob\\nimport torch\\nimport random\\nfrom scipy import signal as sg\\nimport sklearn\\nimport seaborn as sns\\nimport spacy\\nimport numpy as np\\nfrom sklearn import svm\\nimport skimage\\nimport sys\\nimport tensorflow as tf\\nimport statsmodels.api as sm\\nimport tqdm'); }\n",
              "    "
            ]
          },
          "metadata": {}
        },
        {
          "output_type": "display_data",
          "data": {
            "text/plain": [
              "<IPython.core.display.Javascript object>"
            ],
            "application/javascript": [
              "\n",
              "        if (window._pyforest_update_imports_cell) { window._pyforest_update_imports_cell('import matplotlib.pyplot as plt\\nimport lightgbm as lgb\\nimport statistics\\nimport re\\nfrom sklearn.model_selection import train_test_split\\nimport xgboost as xgb\\nfrom openpyxl import load_workbook\\nimport pandas as pd\\nfrom scipy import stats\\nimport textblob\\nimport torch\\nimport random\\nfrom scipy import signal as sg\\nimport sklearn\\nimport seaborn as sns\\nimport spacy\\nimport numpy as np\\nfrom sklearn import svm\\nimport skimage\\nimport sys\\nimport tensorflow as tf\\nimport statsmodels.api as sm\\nimport tqdm'); }\n",
              "    "
            ]
          },
          "metadata": {}
        },
        {
          "output_type": "display_data",
          "data": {
            "text/plain": [
              "<IPython.core.display.Javascript object>"
            ],
            "application/javascript": [
              "\n",
              "        if (window._pyforest_update_imports_cell) { window._pyforest_update_imports_cell('import matplotlib.pyplot as plt\\nimport lightgbm as lgb\\nimport statistics\\nimport re\\nfrom sklearn.model_selection import train_test_split\\nimport xgboost as xgb\\nfrom openpyxl import load_workbook\\nimport pandas as pd\\nfrom scipy import stats\\nimport textblob\\nimport torch\\nimport random\\nfrom scipy import signal as sg\\nimport sklearn\\nimport seaborn as sns\\nimport spacy\\nimport numpy as np\\nfrom sklearn import svm\\nimport skimage\\nimport sys\\nimport tensorflow as tf\\nimport statsmodels.api as sm\\nimport tqdm'); }\n",
              "    "
            ]
          },
          "metadata": {}
        },
        {
          "output_type": "display_data",
          "data": {
            "text/plain": [
              "<IPython.core.display.Javascript object>"
            ],
            "application/javascript": [
              "\n",
              "        if (window._pyforest_update_imports_cell) { window._pyforest_update_imports_cell('import matplotlib.pyplot as plt\\nimport lightgbm as lgb\\nimport statistics\\nimport re\\nfrom sklearn.model_selection import train_test_split\\nimport xgboost as xgb\\nfrom openpyxl import load_workbook\\nimport pandas as pd\\nfrom scipy import stats\\nimport textblob\\nimport torch\\nimport random\\nfrom scipy import signal as sg\\nimport sklearn\\nimport seaborn as sns\\nimport spacy\\nimport numpy as np\\nfrom sklearn import svm\\nimport skimage\\nimport sys\\nimport tensorflow as tf\\nimport statsmodels.api as sm\\nimport tqdm'); }\n",
              "    "
            ]
          },
          "metadata": {}
        },
        {
          "output_type": "display_data",
          "data": {
            "text/plain": [
              "<IPython.core.display.Javascript object>"
            ],
            "application/javascript": [
              "\n",
              "        if (window._pyforest_update_imports_cell) { window._pyforest_update_imports_cell('import matplotlib.pyplot as plt\\nimport lightgbm as lgb\\nimport statistics\\nimport re\\nfrom sklearn.model_selection import train_test_split\\nimport xgboost as xgb\\nfrom openpyxl import load_workbook\\nimport pandas as pd\\nfrom scipy import stats\\nimport textblob\\nimport torch\\nimport random\\nfrom scipy import signal as sg\\nimport sklearn\\nimport seaborn as sns\\nimport spacy\\nimport numpy as np\\nfrom sklearn import svm\\nimport skimage\\nimport sys\\nimport tensorflow as tf\\nimport statsmodels.api as sm\\nimport tqdm'); }\n",
              "    "
            ]
          },
          "metadata": {}
        },
        {
          "output_type": "display_data",
          "data": {
            "text/plain": [
              "<IPython.core.display.Javascript object>"
            ],
            "application/javascript": [
              "\n",
              "        if (window._pyforest_update_imports_cell) { window._pyforest_update_imports_cell('import matplotlib.pyplot as plt\\nimport lightgbm as lgb\\nimport statistics\\nimport re\\nfrom sklearn.model_selection import train_test_split\\nimport xgboost as xgb\\nfrom openpyxl import load_workbook\\nimport pandas as pd\\nfrom scipy import stats\\nimport textblob\\nimport torch\\nimport random\\nfrom scipy import signal as sg\\nimport sklearn\\nimport seaborn as sns\\nimport spacy\\nimport numpy as np\\nfrom sklearn import svm\\nimport skimage\\nimport sys\\nimport tensorflow as tf\\nimport statsmodels.api as sm\\nimport tqdm'); }\n",
              "    "
            ]
          },
          "metadata": {}
        },
        {
          "output_type": "display_data",
          "data": {
            "text/plain": [
              "<Figure size 640x480 with 1 Axes>"
            ],
            "image/png": "[encoded data removed]"
          },
          "metadata": {}
        }
      ],
      "source": [
        "# Code for creating a spiral dataset from CS231n\n",
        "\n",
        "N = 100 # number of points per class\n",
        "D = 2 # dimensionality\n",
        "K = 3 # number of classes\n",
        "X = np.zeros((N*K,D)) # data matrix (each row = single example)\n",
        "y = np.zeros(N*K, dtype='uint8') # class labels\n",
        "for j in range(K):\n",
        "  ix = range(N*j,N*(j+1))\n",
        "  r = np.linspace(0.0,1,N) # radius\n",
        "  t = np.linspace(j*4,(j+1)*4,N) + np.random.randn(N)*0.2 # theta\n",
        "  X[ix] = np.c_[r*np.sin(t), r*np.cos(t)]\n",
        "  y[ix] = j\n",
        "# lets visualize the data\n",
        "plt.scatter(X[:, 0], X[:, 1], c=y, s=40, cmap=plt.cm.Spectral)\n",
        "plt.show()"
      ]
    },
    {
      "cell_type": "code",
      "execution_count": null,
      "id": "O0_ewOuIRGrX",
      "metadata": {
        "colab": {
          "base_uri": "https://localhost:8080/"
        },
        "id": "O0_ewOuIRGrX",
        "outputId": "6a8049b6-98e0-4fd6-c1d2-2a7f769660be"
      },
      "outputs": [
        {
          "output_type": "execute_result",
          "data": {
            "text/plain": [
              "array([[ 0.00000000e+00,  0.00000000e+00],\n",
              "       [-1.63606505e-05,  1.01009969e-02],\n",
              "       [ 3.02190452e-03,  1.99747269e-02],\n",
              "       [-6.56397665e-03,  2.95835741e-02],\n",
              "       [-3.74749320e-05,  4.04040230e-02],\n",
              "       [ 1.86947284e-02,  4.69176646e-02],\n",
              "       [-3.06875012e-03,  6.05283186e-02],\n",
              "       [ 2.67300746e-02,  6.54598576e-02],\n",
              "       [ 3.20878667e-02,  7.41641068e-02],\n",
              "       [ 3.25669176e-02,  8.48755482e-02]])"
            ]
          },
          "metadata": {},
          "execution_count": 190
        }
      ],
      "source": [
        "X[:10]"
      ]
    },
    {
      "cell_type": "code",
      "execution_count": null,
      "id": "HD3hdnvCRWJN",
      "metadata": {
        "colab": {
          "base_uri": "https://localhost:8080/"
        },
        "id": "HD3hdnvCRWJN",
        "outputId": "7a7db0d8-569b-4700-f123-b6f301445466"
      },
      "outputs": [
        {
          "output_type": "execute_result",
          "data": {
            "text/plain": [
              "array([0, 0, 0, 0, 0, 0, 0, 0, 0, 0], dtype=uint8)"
            ]
          },
          "metadata": {},
          "execution_count": 191
        }
      ],
      "source": [
        "y[:10]"
      ]
    },
    {
      "cell_type": "code",
      "execution_count": null,
      "id": "NYSBL-DORYT4",
      "metadata": {
        "colab": {
          "base_uri": "https://localhost:8080/",
          "height": 178
        },
        "id": "NYSBL-DORYT4",
        "outputId": "d8981dce-c583-4913-b41a-1790d34a1217"
      },
      "outputs": [
        {
          "output_type": "display_data",
          "data": {
            "text/plain": [
              "<IPython.core.display.Javascript object>"
            ],
            "application/javascript": [
              "\n",
              "        if (window._pyforest_update_imports_cell) { window._pyforest_update_imports_cell('import matplotlib.pyplot as plt\\nimport lightgbm as lgb\\nimport statistics\\nimport re\\nfrom sklearn.model_selection import train_test_split\\nimport xgboost as xgb\\nfrom openpyxl import load_workbook\\nimport pandas as pd\\nfrom scipy import stats\\nimport textblob\\nimport torch\\nimport random\\nfrom scipy import signal as sg\\nimport sklearn\\nimport seaborn as sns\\nimport spacy\\nimport numpy as np\\nfrom sklearn import svm\\nimport skimage\\nimport sys\\nimport tensorflow as tf\\nimport statsmodels.api as sm\\nimport tqdm'); }\n",
              "    "
            ]
          },
          "metadata": {}
        },
        {
          "output_type": "execute_result",
          "data": {
            "text/plain": [
              "0    100\n",
              "1    100\n",
              "2    100\n",
              "Name: count, dtype: int64"
            ],
            "text/html": [
              "<div>\n",
              "<style scoped>\n",
              "    .dataframe tbody tr th:only-of-type {\n",
              "        vertical-align: middle;\n",
              "    }\n",
              "\n",
              "    .dataframe tbody tr th {\n",
              "        vertical-align: top;\n",
              "    }\n",
              "\n",
              "    .dataframe thead th {\n",
              "        text-align: right;\n",
              "    }\n",
              "</style>\n",
              "<table border=\"1\" class=\"dataframe\">\n",
              "  <thead>\n",
              "    <tr style=\"text-align: right;\">\n",
              "      <th></th>\n",
              "      <th>count</th>\n",
              "    </tr>\n",
              "  </thead>\n",
              "  <tbody>\n",
              "    <tr>\n",
              "      <th>0</th>\n",
              "      <td>100</td>\n",
              "    </tr>\n",
              "    <tr>\n",
              "      <th>1</th>\n",
              "      <td>100</td>\n",
              "    </tr>\n",
              "    <tr>\n",
              "      <th>2</th>\n",
              "      <td>100</td>\n",
              "    </tr>\n",
              "  </tbody>\n",
              "</table>\n",
              "</div><br><label><b>dtype:</b> int64</label>"
            ]
          },
          "metadata": {},
          "execution_count": 192
        }
      ],
      "source": [
        "pd.Series(y).value_counts()"
      ]
    },
    {
      "cell_type": "code",
      "execution_count": null,
      "id": "bMytYfhxS05Y",
      "metadata": {
        "colab": {
          "base_uri": "https://localhost:8080/",
          "height": 17
        },
        "id": "bMytYfhxS05Y",
        "outputId": "d300fa24-27af-49da-d003-87a07705053b"
      },
      "outputs": [
        {
          "output_type": "display_data",
          "data": {
            "text/plain": [
              "<IPython.core.display.Javascript object>"
            ],
            "application/javascript": [
              "\n",
              "        if (window._pyforest_update_imports_cell) { window._pyforest_update_imports_cell('import matplotlib.pyplot as plt\\nimport lightgbm as lgb\\nimport statistics\\nimport re\\nfrom sklearn.model_selection import train_test_split\\nimport xgboost as xgb\\nfrom openpyxl import load_workbook\\nimport pandas as pd\\nfrom scipy import stats\\nimport textblob\\nimport torch\\nimport random\\nfrom scipy import signal as sg\\nimport sklearn\\nimport seaborn as sns\\nimport spacy\\nimport numpy as np\\nfrom sklearn import svm\\nimport skimage\\nimport sys\\nimport tensorflow as tf\\nimport statsmodels.api as sm\\nimport tqdm'); }\n",
              "    "
            ]
          },
          "metadata": {}
        },
        {
          "output_type": "display_data",
          "data": {
            "text/plain": [
              "<IPython.core.display.Javascript object>"
            ],
            "application/javascript": [
              "\n",
              "        if (window._pyforest_update_imports_cell) { window._pyforest_update_imports_cell('import matplotlib.pyplot as plt\\nimport lightgbm as lgb\\nimport statistics\\nimport re\\nfrom sklearn.model_selection import train_test_split\\nimport xgboost as xgb\\nfrom openpyxl import load_workbook\\nimport pandas as pd\\nfrom scipy import stats\\nimport textblob\\nimport torch\\nimport random\\nfrom scipy import signal as sg\\nimport sklearn\\nimport seaborn as sns\\nimport spacy\\nimport numpy as np\\nfrom sklearn import svm\\nimport skimage\\nimport sys\\nimport tensorflow as tf\\nimport statsmodels.api as sm\\nimport tqdm'); }\n",
              "    "
            ]
          },
          "metadata": {}
        },
        {
          "output_type": "display_data",
          "data": {
            "text/plain": [
              "<IPython.core.display.Javascript object>"
            ],
            "application/javascript": [
              "\n",
              "        if (window._pyforest_update_imports_cell) { window._pyforest_update_imports_cell('import matplotlib.pyplot as plt\\nimport lightgbm as lgb\\nimport statistics\\nimport re\\nfrom sklearn.model_selection import train_test_split\\nimport xgboost as xgb\\nfrom openpyxl import load_workbook\\nimport pandas as pd\\nfrom scipy import stats\\nimport textblob\\nimport torch\\nimport random\\nfrom scipy import signal as sg\\nimport sklearn\\nimport seaborn as sns\\nimport spacy\\nimport numpy as np\\nfrom sklearn import svm\\nimport skimage\\nimport sys\\nimport tensorflow as tf\\nimport statsmodels.api as sm\\nimport tqdm'); }\n",
              "    "
            ]
          },
          "metadata": {}
        },
        {
          "output_type": "display_data",
          "data": {
            "text/plain": [
              "<IPython.core.display.Javascript object>"
            ],
            "application/javascript": [
              "\n",
              "        if (window._pyforest_update_imports_cell) { window._pyforest_update_imports_cell('import matplotlib.pyplot as plt\\nimport lightgbm as lgb\\nimport statistics\\nimport re\\nfrom sklearn.model_selection import train_test_split\\nimport xgboost as xgb\\nfrom openpyxl import load_workbook\\nimport pandas as pd\\nfrom scipy import stats\\nimport textblob\\nimport torch\\nimport random\\nfrom scipy import signal as sg\\nimport sklearn\\nimport seaborn as sns\\nimport spacy\\nimport numpy as np\\nfrom sklearn import svm\\nimport skimage\\nimport sys\\nimport tensorflow as tf\\nimport statsmodels.api as sm\\nimport tqdm'); }\n",
              "    "
            ]
          },
          "metadata": {}
        },
        {
          "output_type": "display_data",
          "data": {
            "text/plain": [
              "<IPython.core.display.Javascript object>"
            ],
            "application/javascript": [
              "\n",
              "        if (window._pyforest_update_imports_cell) { window._pyforest_update_imports_cell('import matplotlib.pyplot as plt\\nimport lightgbm as lgb\\nimport statistics\\nimport re\\nfrom sklearn.model_selection import train_test_split\\nimport xgboost as xgb\\nfrom openpyxl import load_workbook\\nimport pandas as pd\\nfrom scipy import stats\\nimport textblob\\nimport torch\\nimport random\\nfrom scipy import signal as sg\\nimport sklearn\\nimport seaborn as sns\\nimport spacy\\nimport numpy as np\\nfrom sklearn import svm\\nimport skimage\\nimport sys\\nimport tensorflow as tf\\nimport statsmodels.api as sm\\nimport tqdm'); }\n",
              "    "
            ]
          },
          "metadata": {}
        },
        {
          "output_type": "display_data",
          "data": {
            "text/plain": [
              "<IPython.core.display.Javascript object>"
            ],
            "application/javascript": [
              "\n",
              "        if (window._pyforest_update_imports_cell) { window._pyforest_update_imports_cell('import matplotlib.pyplot as plt\\nimport lightgbm as lgb\\nimport statistics\\nimport re\\nfrom sklearn.model_selection import train_test_split\\nimport xgboost as xgb\\nfrom openpyxl import load_workbook\\nimport pandas as pd\\nfrom scipy import stats\\nimport textblob\\nimport torch\\nimport random\\nfrom scipy import signal as sg\\nimport sklearn\\nimport seaborn as sns\\nimport spacy\\nimport numpy as np\\nfrom sklearn import svm\\nimport skimage\\nimport sys\\nimport tensorflow as tf\\nimport statsmodels.api as sm\\nimport tqdm'); }\n",
              "    "
            ]
          },
          "metadata": {}
        },
        {
          "output_type": "display_data",
          "data": {
            "text/plain": [
              "<IPython.core.display.Javascript object>"
            ],
            "application/javascript": [
              "\n",
              "        if (window._pyforest_update_imports_cell) { window._pyforest_update_imports_cell('import matplotlib.pyplot as plt\\nimport lightgbm as lgb\\nimport statistics\\nimport re\\nfrom sklearn.model_selection import train_test_split\\nimport xgboost as xgb\\nfrom openpyxl import load_workbook\\nimport pandas as pd\\nfrom scipy import stats\\nimport textblob\\nimport torch\\nimport random\\nfrom scipy import signal as sg\\nimport sklearn\\nimport seaborn as sns\\nimport spacy\\nimport numpy as np\\nfrom sklearn import svm\\nimport skimage\\nimport sys\\nimport tensorflow as tf\\nimport statsmodels.api as sm\\nimport tqdm'); }\n",
              "    "
            ]
          },
          "metadata": {}
        },
        {
          "output_type": "display_data",
          "data": {
            "text/plain": [
              "<IPython.core.display.Javascript object>"
            ],
            "application/javascript": [
              "\n",
              "        if (window._pyforest_update_imports_cell) { window._pyforest_update_imports_cell('import matplotlib.pyplot as plt\\nimport lightgbm as lgb\\nimport statistics\\nimport re\\nfrom sklearn.model_selection import train_test_split\\nimport xgboost as xgb\\nfrom openpyxl import load_workbook\\nimport pandas as pd\\nfrom scipy import stats\\nimport textblob\\nimport torch\\nimport random\\nfrom scipy import signal as sg\\nimport sklearn\\nimport seaborn as sns\\nimport spacy\\nimport numpy as np\\nfrom sklearn import svm\\nimport skimage\\nimport sys\\nimport tensorflow as tf\\nimport statsmodels.api as sm\\nimport tqdm'); }\n",
              "    "
            ]
          },
          "metadata": {}
        },
        {
          "output_type": "display_data",
          "data": {
            "text/plain": [
              "<IPython.core.display.Javascript object>"
            ],
            "application/javascript": [
              "\n",
              "        if (window._pyforest_update_imports_cell) { window._pyforest_update_imports_cell('import matplotlib.pyplot as plt\\nimport lightgbm as lgb\\nimport statistics\\nimport re\\nfrom sklearn.model_selection import train_test_split\\nimport xgboost as xgb\\nfrom openpyxl import load_workbook\\nimport pandas as pd\\nfrom scipy import stats\\nimport textblob\\nimport torch\\nimport random\\nfrom scipy import signal as sg\\nimport sklearn\\nimport seaborn as sns\\nimport spacy\\nimport numpy as np\\nfrom sklearn import svm\\nimport skimage\\nimport sys\\nimport tensorflow as tf\\nimport statsmodels.api as sm\\nimport tqdm'); }\n",
              "    "
            ]
          },
          "metadata": {}
        }
      ],
      "source": [
        "X_train, X_test, y_train, y_test = train_test_split(X,y,random_state = 42)\n",
        "\n",
        "X_train = torch.from_numpy(X_train).type(torch.float)\n",
        "X_test = torch.from_numpy(X_test).type(torch.float)\n",
        "y_train = torch.from_numpy(y_train).type(torch.float)\n",
        "y_test = torch.from_numpy(y_test).type(torch.float)"
      ]
    },
    {
      "cell_type": "code",
      "execution_count": null,
      "id": "8iF6SgyLRiLL",
      "metadata": {
        "colab": {
          "base_uri": "https://localhost:8080/",
          "height": 17
        },
        "id": "8iF6SgyLRiLL",
        "outputId": "9230165e-dad3-454c-e5a0-31f076bd3796"
      },
      "outputs": [
        {
          "output_type": "display_data",
          "data": {
            "text/plain": [
              "<IPython.core.display.Javascript object>"
            ],
            "application/javascript": [
              "\n",
              "        if (window._pyforest_update_imports_cell) { window._pyforest_update_imports_cell('import matplotlib.pyplot as plt\\nimport lightgbm as lgb\\nimport statistics\\nimport re\\nfrom sklearn.model_selection import train_test_split\\nimport xgboost as xgb\\nfrom openpyxl import load_workbook\\nimport pandas as pd\\nfrom scipy import stats\\nimport textblob\\nimport torch\\nimport random\\nfrom scipy import signal as sg\\nimport sklearn\\nimport seaborn as sns\\nimport spacy\\nimport numpy as np\\nfrom sklearn import svm\\nimport skimage\\nimport sys\\nimport tensorflow as tf\\nimport statsmodels.api as sm\\nimport tqdm'); }\n",
              "    "
            ]
          },
          "metadata": {}
        }
      ],
      "source": [
        "class MulticlassClassifier(nn.Module):\n",
        "  def __init__(self):\n",
        "    super().__init__()\n",
        "    self.layer1 = nn.Linear(len(X[0]), 100)\n",
        "    self.layer2 = nn.Linear(100, 10)\n",
        "    self.layer3 = nn.Linear(10, len(set(y)))\n",
        "    self.relu = nn.ReLU()\n",
        "    self.tanh = nn.Tanh()\n",
        "\n",
        "  def forward(self, x):\n",
        "    return self.layer3(self.tanh(self.layer2(self.relu(self.layer1(x)))))\n",
        "\n",
        "torch.manual_seed(42)\n",
        "classifier2 = MulticlassClassifier().to(device)\n"
      ]
    },
    {
      "cell_type": "code",
      "source": [],
      "metadata": {
        "id": "M4jk7bTxQ3yc"
      },
      "id": "M4jk7bTxQ3yc",
      "execution_count": null,
      "outputs": []
    },
    {
      "cell_type": "code",
      "execution_count": null,
      "id": "H9l5XyMRS-2r",
      "metadata": {
        "colab": {
          "base_uri": "https://localhost:8080/",
          "height": 17
        },
        "id": "H9l5XyMRS-2r",
        "outputId": "43e972b8-a3e2-411c-fdb1-694d733239e2"
      },
      "outputs": [
        {
          "output_type": "display_data",
          "data": {
            "text/plain": [
              "<IPython.core.display.Javascript object>"
            ],
            "application/javascript": [
              "\n",
              "        if (window._pyforest_update_imports_cell) { window._pyforest_update_imports_cell('import matplotlib.pyplot as plt\\nimport lightgbm as lgb\\nimport statistics\\nimport re\\nfrom sklearn.model_selection import train_test_split\\nimport xgboost as xgb\\nfrom openpyxl import load_workbook\\nimport pandas as pd\\nfrom scipy import stats\\nimport textblob\\nimport torch\\nimport random\\nfrom scipy import signal as sg\\nimport sklearn\\nimport seaborn as sns\\nimport spacy\\nimport numpy as np\\nfrom sklearn import svm\\nimport skimage\\nimport sys\\nimport tensorflow as tf\\nimport statsmodels.api as sm\\nimport tqdm'); }\n",
              "    "
            ]
          },
          "metadata": {}
        }
      ],
      "source": [
        "loss = nn.CrossEntropyLoss()\n",
        "optimizer = torch.optim.Adam(lr = 0.1, params = classifier2.parameters())"
      ]
    },
    {
      "cell_type": "code",
      "execution_count": null,
      "id": "d_HnlYQOTYdp",
      "metadata": {
        "colab": {
          "base_uri": "https://localhost:8080/",
          "height": 206
        },
        "id": "d_HnlYQOTYdp",
        "outputId": "0d225ae1-a2e1-4dd2-da39-5482c679be66"
      },
      "outputs": [
        {
          "output_type": "display_data",
          "data": {
            "text/plain": [
              "<IPython.core.display.Javascript object>"
            ],
            "application/javascript": [
              "\n",
              "        if (window._pyforest_update_imports_cell) { window._pyforest_update_imports_cell('import matplotlib.pyplot as plt\\nimport lightgbm as lgb\\nimport statistics\\nimport re\\nfrom sklearn.model_selection import train_test_split\\nimport xgboost as xgb\\nfrom openpyxl import load_workbook\\nimport pandas as pd\\nfrom scipy import stats\\nimport textblob\\nimport torch\\nimport random\\nfrom scipy import signal as sg\\nimport sklearn\\nimport seaborn as sns\\nimport spacy\\nimport numpy as np\\nfrom sklearn import svm\\nimport skimage\\nimport sys\\nimport tensorflow as tf\\nimport statsmodels.api as sm\\nimport tqdm'); }\n",
              "    "
            ]
          },
          "metadata": {}
        },
        {
          "output_type": "display_data",
          "data": {
            "text/plain": [
              "<IPython.core.display.Javascript object>"
            ],
            "application/javascript": [
              "\n",
              "        if (window._pyforest_update_imports_cell) { window._pyforest_update_imports_cell('import matplotlib.pyplot as plt\\nimport lightgbm as lgb\\nimport statistics\\nimport re\\nfrom sklearn.model_selection import train_test_split\\nimport xgboost as xgb\\nfrom openpyxl import load_workbook\\nimport pandas as pd\\nfrom scipy import stats\\nimport textblob\\nimport torch\\nimport random\\nfrom scipy import signal as sg\\nimport sklearn\\nimport seaborn as sns\\nimport spacy\\nimport numpy as np\\nfrom sklearn import svm\\nimport skimage\\nimport sys\\nimport tensorflow as tf\\nimport statsmodels.api as sm\\nimport tqdm'); }\n",
              "    "
            ]
          },
          "metadata": {}
        },
        {
          "output_type": "display_data",
          "data": {
            "text/plain": [
              "<IPython.core.display.Javascript object>"
            ],
            "application/javascript": [
              "\n",
              "        if (window._pyforest_update_imports_cell) { window._pyforest_update_imports_cell('import matplotlib.pyplot as plt\\nimport lightgbm as lgb\\nimport statistics\\nimport re\\nfrom sklearn.model_selection import train_test_split\\nimport xgboost as xgb\\nfrom openpyxl import load_workbook\\nimport pandas as pd\\nfrom scipy import stats\\nimport textblob\\nimport torch\\nimport random\\nfrom scipy import signal as sg\\nimport sklearn\\nimport seaborn as sns\\nimport spacy\\nimport numpy as np\\nfrom sklearn import svm\\nimport skimage\\nimport sys\\nimport tensorflow as tf\\nimport statsmodels.api as sm\\nimport tqdm'); }\n",
              "    "
            ]
          },
          "metadata": {}
        },
        {
          "output_type": "display_data",
          "data": {
            "text/plain": [
              "<IPython.core.display.Javascript object>"
            ],
            "application/javascript": [
              "\n",
              "        if (window._pyforest_update_imports_cell) { window._pyforest_update_imports_cell('import matplotlib.pyplot as plt\\nimport lightgbm as lgb\\nimport statistics\\nimport re\\nfrom sklearn.model_selection import train_test_split\\nimport xgboost as xgb\\nfrom openpyxl import load_workbook\\nimport pandas as pd\\nfrom scipy import stats\\nimport textblob\\nimport torch\\nimport random\\nfrom scipy import signal as sg\\nimport sklearn\\nimport seaborn as sns\\nimport spacy\\nimport numpy as np\\nfrom sklearn import svm\\nimport skimage\\nimport sys\\nimport tensorflow as tf\\nimport statsmodels.api as sm\\nimport tqdm'); }\n",
              "    "
            ]
          },
          "metadata": {}
        },
        {
          "output_type": "display_data",
          "data": {
            "text/plain": [
              "<IPython.core.display.Javascript object>"
            ],
            "application/javascript": [
              "\n",
              "        if (window._pyforest_update_imports_cell) { window._pyforest_update_imports_cell('import matplotlib.pyplot as plt\\nimport lightgbm as lgb\\nimport statistics\\nimport re\\nfrom sklearn.model_selection import train_test_split\\nimport xgboost as xgb\\nfrom openpyxl import load_workbook\\nimport pandas as pd\\nfrom scipy import stats\\nimport textblob\\nimport torch\\nimport random\\nfrom scipy import signal as sg\\nimport sklearn\\nimport seaborn as sns\\nimport spacy\\nimport numpy as np\\nfrom sklearn import svm\\nimport skimage\\nimport sys\\nimport tensorflow as tf\\nimport statsmodels.api as sm\\nimport tqdm'); }\n",
              "    "
            ]
          },
          "metadata": {}
        },
        {
          "output_type": "display_data",
          "data": {
            "text/plain": [
              "<IPython.core.display.Javascript object>"
            ],
            "application/javascript": [
              "\n",
              "        if (window._pyforest_update_imports_cell) { window._pyforest_update_imports_cell('import matplotlib.pyplot as plt\\nimport lightgbm as lgb\\nimport statistics\\nimport re\\nfrom sklearn.model_selection import train_test_split\\nimport xgboost as xgb\\nfrom openpyxl import load_workbook\\nimport pandas as pd\\nfrom scipy import stats\\nimport textblob\\nimport torch\\nimport random\\nfrom scipy import signal as sg\\nimport sklearn\\nimport seaborn as sns\\nimport spacy\\nimport numpy as np\\nfrom sklearn import svm\\nimport skimage\\nimport sys\\nimport tensorflow as tf\\nimport statsmodels.api as sm\\nimport tqdm'); }\n",
              "    "
            ]
          },
          "metadata": {}
        },
        {
          "output_type": "display_data",
          "data": {
            "text/plain": [
              "<IPython.core.display.Javascript object>"
            ],
            "application/javascript": [
              "\n",
              "        if (window._pyforest_update_imports_cell) { window._pyforest_update_imports_cell('import matplotlib.pyplot as plt\\nimport lightgbm as lgb\\nimport statistics\\nimport re\\nfrom sklearn.model_selection import train_test_split\\nimport xgboost as xgb\\nfrom openpyxl import load_workbook\\nimport pandas as pd\\nfrom scipy import stats\\nimport textblob\\nimport torch\\nimport random\\nfrom scipy import signal as sg\\nimport sklearn\\nimport seaborn as sns\\nimport spacy\\nimport numpy as np\\nfrom sklearn import svm\\nimport skimage\\nimport sys\\nimport tensorflow as tf\\nimport statsmodels.api as sm\\nimport tqdm'); }\n",
              "    "
            ]
          },
          "metadata": {}
        },
        {
          "output_type": "display_data",
          "data": {
            "text/plain": [
              "<IPython.core.display.Javascript object>"
            ],
            "application/javascript": [
              "\n",
              "        if (window._pyforest_update_imports_cell) { window._pyforest_update_imports_cell('import matplotlib.pyplot as plt\\nimport lightgbm as lgb\\nimport statistics\\nimport re\\nfrom sklearn.model_selection import train_test_split\\nimport xgboost as xgb\\nfrom openpyxl import load_workbook\\nimport pandas as pd\\nfrom scipy import stats\\nimport textblob\\nimport torch\\nimport random\\nfrom scipy import signal as sg\\nimport sklearn\\nimport seaborn as sns\\nimport spacy\\nimport numpy as np\\nfrom sklearn import svm\\nimport skimage\\nimport sys\\nimport tensorflow as tf\\nimport statsmodels.api as sm\\nimport tqdm'); }\n",
              "    "
            ]
          },
          "metadata": {}
        },
        {
          "output_type": "display_data",
          "data": {
            "text/plain": [
              "<IPython.core.display.Javascript object>"
            ],
            "application/javascript": [
              "\n",
              "        if (window._pyforest_update_imports_cell) { window._pyforest_update_imports_cell('import matplotlib.pyplot as plt\\nimport lightgbm as lgb\\nimport statistics\\nimport re\\nfrom sklearn.model_selection import train_test_split\\nimport xgboost as xgb\\nfrom openpyxl import load_workbook\\nimport pandas as pd\\nfrom scipy import stats\\nimport textblob\\nimport torch\\nimport random\\nfrom scipy import signal as sg\\nimport sklearn\\nimport seaborn as sns\\nimport spacy\\nimport numpy as np\\nfrom sklearn import svm\\nimport skimage\\nimport sys\\nimport tensorflow as tf\\nimport statsmodels.api as sm\\nimport tqdm'); }\n",
              "    "
            ]
          },
          "metadata": {}
        },
        {
          "output_type": "display_data",
          "data": {
            "text/plain": [
              "<IPython.core.display.Javascript object>"
            ],
            "application/javascript": [
              "\n",
              "        if (window._pyforest_update_imports_cell) { window._pyforest_update_imports_cell('import matplotlib.pyplot as plt\\nimport lightgbm as lgb\\nimport statistics\\nimport re\\nfrom sklearn.model_selection import train_test_split\\nimport xgboost as xgb\\nfrom openpyxl import load_workbook\\nimport pandas as pd\\nfrom scipy import stats\\nimport textblob\\nimport torch\\nimport random\\nfrom scipy import signal as sg\\nimport sklearn\\nimport seaborn as sns\\nimport spacy\\nimport numpy as np\\nfrom sklearn import svm\\nimport skimage\\nimport sys\\nimport tensorflow as tf\\nimport statsmodels.api as sm\\nimport tqdm'); }\n",
              "    "
            ]
          },
          "metadata": {}
        },
        {
          "output_type": "display_data",
          "data": {
            "text/plain": [
              "<IPython.core.display.Javascript object>"
            ],
            "application/javascript": [
              "\n",
              "        if (window._pyforest_update_imports_cell) { window._pyforest_update_imports_cell('import matplotlib.pyplot as plt\\nimport lightgbm as lgb\\nimport statistics\\nimport re\\nfrom sklearn.model_selection import train_test_split\\nimport xgboost as xgb\\nfrom openpyxl import load_workbook\\nimport pandas as pd\\nfrom scipy import stats\\nimport textblob\\nimport torch\\nimport random\\nfrom scipy import signal as sg\\nimport sklearn\\nimport seaborn as sns\\nimport spacy\\nimport numpy as np\\nfrom sklearn import svm\\nimport skimage\\nimport sys\\nimport tensorflow as tf\\nimport statsmodels.api as sm\\nimport tqdm'); }\n",
              "    "
            ]
          },
          "metadata": {}
        },
        {
          "output_type": "display_data",
          "data": {
            "text/plain": [
              "<IPython.core.display.Javascript object>"
            ],
            "application/javascript": [
              "\n",
              "        if (window._pyforest_update_imports_cell) { window._pyforest_update_imports_cell('import matplotlib.pyplot as plt\\nimport lightgbm as lgb\\nimport statistics\\nimport re\\nfrom sklearn.model_selection import train_test_split\\nimport xgboost as xgb\\nfrom openpyxl import load_workbook\\nimport pandas as pd\\nfrom scipy import stats\\nimport textblob\\nimport torch\\nimport random\\nfrom scipy import signal as sg\\nimport sklearn\\nimport seaborn as sns\\nimport spacy\\nimport numpy as np\\nfrom sklearn import svm\\nimport skimage\\nimport sys\\nimport tensorflow as tf\\nimport statsmodels.api as sm\\nimport tqdm'); }\n",
              "    "
            ]
          },
          "metadata": {}
        },
        {
          "output_type": "display_data",
          "data": {
            "text/plain": [
              "<IPython.core.display.Javascript object>"
            ],
            "application/javascript": [
              "\n",
              "        if (window._pyforest_update_imports_cell) { window._pyforest_update_imports_cell('import matplotlib.pyplot as plt\\nimport lightgbm as lgb\\nimport statistics\\nimport re\\nfrom sklearn.model_selection import train_test_split\\nimport xgboost as xgb\\nfrom openpyxl import load_workbook\\nimport pandas as pd\\nfrom scipy import stats\\nimport textblob\\nimport torch\\nimport random\\nfrom scipy import signal as sg\\nimport sklearn\\nimport seaborn as sns\\nimport spacy\\nimport numpy as np\\nfrom sklearn import svm\\nimport skimage\\nimport sys\\nimport tensorflow as tf\\nimport statsmodels.api as sm\\nimport tqdm'); }\n",
              "    "
            ]
          },
          "metadata": {}
        },
        {
          "output_type": "display_data",
          "data": {
            "text/plain": [
              "<IPython.core.display.Javascript object>"
            ],
            "application/javascript": [
              "\n",
              "        if (window._pyforest_update_imports_cell) { window._pyforest_update_imports_cell('import matplotlib.pyplot as plt\\nimport lightgbm as lgb\\nimport statistics\\nimport re\\nfrom sklearn.model_selection import train_test_split\\nimport xgboost as xgb\\nfrom openpyxl import load_workbook\\nimport pandas as pd\\nfrom scipy import stats\\nimport textblob\\nimport torch\\nimport random\\nfrom scipy import signal as sg\\nimport sklearn\\nimport seaborn as sns\\nimport spacy\\nimport numpy as np\\nfrom sklearn import svm\\nimport skimage\\nimport sys\\nimport tensorflow as tf\\nimport statsmodels.api as sm\\nimport tqdm'); }\n",
              "    "
            ]
          },
          "metadata": {}
        },
        {
          "output_type": "display_data",
          "data": {
            "text/plain": [
              "<IPython.core.display.Javascript object>"
            ],
            "application/javascript": [
              "\n",
              "        if (window._pyforest_update_imports_cell) { window._pyforest_update_imports_cell('import matplotlib.pyplot as plt\\nimport lightgbm as lgb\\nimport statistics\\nimport re\\nfrom sklearn.model_selection import train_test_split\\nimport xgboost as xgb\\nfrom openpyxl import load_workbook\\nimport pandas as pd\\nfrom scipy import stats\\nimport textblob\\nimport torch\\nimport random\\nfrom scipy import signal as sg\\nimport sklearn\\nimport seaborn as sns\\nimport spacy\\nimport numpy as np\\nfrom sklearn import svm\\nimport skimage\\nimport sys\\nimport tensorflow as tf\\nimport statsmodels.api as sm\\nimport tqdm'); }\n",
              "    "
            ]
          },
          "metadata": {}
        },
        {
          "output_type": "display_data",
          "data": {
            "text/plain": [
              "<IPython.core.display.Javascript object>"
            ],
            "application/javascript": [
              "\n",
              "        if (window._pyforest_update_imports_cell) { window._pyforest_update_imports_cell('import matplotlib.pyplot as plt\\nimport lightgbm as lgb\\nimport statistics\\nimport re\\nfrom sklearn.model_selection import train_test_split\\nimport xgboost as xgb\\nfrom openpyxl import load_workbook\\nimport pandas as pd\\nfrom scipy import stats\\nimport textblob\\nimport torch\\nimport random\\nfrom scipy import signal as sg\\nimport sklearn\\nimport seaborn as sns\\nimport spacy\\nimport numpy as np\\nfrom sklearn import svm\\nimport skimage\\nimport sys\\nimport tensorflow as tf\\nimport statsmodels.api as sm\\nimport tqdm'); }\n",
              "    "
            ]
          },
          "metadata": {}
        },
        {
          "output_type": "display_data",
          "data": {
            "text/plain": [
              "<IPython.core.display.Javascript object>"
            ],
            "application/javascript": [
              "\n",
              "        if (window._pyforest_update_imports_cell) { window._pyforest_update_imports_cell('import matplotlib.pyplot as plt\\nimport lightgbm as lgb\\nimport statistics\\nimport re\\nfrom sklearn.model_selection import train_test_split\\nimport xgboost as xgb\\nfrom openpyxl import load_workbook\\nimport pandas as pd\\nfrom scipy import stats\\nimport textblob\\nimport torch\\nimport random\\nfrom scipy import signal as sg\\nimport sklearn\\nimport seaborn as sns\\nimport spacy\\nimport numpy as np\\nfrom sklearn import svm\\nimport skimage\\nimport sys\\nimport tensorflow as tf\\nimport statsmodels.api as sm\\nimport tqdm'); }\n",
              "    "
            ]
          },
          "metadata": {}
        },
        {
          "output_type": "display_data",
          "data": {
            "text/plain": [
              "<IPython.core.display.Javascript object>"
            ],
            "application/javascript": [
              "\n",
              "        if (window._pyforest_update_imports_cell) { window._pyforest_update_imports_cell('import matplotlib.pyplot as plt\\nimport lightgbm as lgb\\nimport statistics\\nimport re\\nfrom sklearn.model_selection import train_test_split\\nimport xgboost as xgb\\nfrom openpyxl import load_workbook\\nimport pandas as pd\\nfrom scipy import stats\\nimport textblob\\nimport torch\\nimport random\\nfrom scipy import signal as sg\\nimport sklearn\\nimport seaborn as sns\\nimport spacy\\nimport numpy as np\\nfrom sklearn import svm\\nimport skimage\\nimport sys\\nimport tensorflow as tf\\nimport statsmodels.api as sm\\nimport tqdm'); }\n",
              "    "
            ]
          },
          "metadata": {}
        },
        {
          "output_type": "display_data",
          "data": {
            "text/plain": [
              "<IPython.core.display.Javascript object>"
            ],
            "application/javascript": [
              "\n",
              "        if (window._pyforest_update_imports_cell) { window._pyforest_update_imports_cell('import matplotlib.pyplot as plt\\nimport lightgbm as lgb\\nimport statistics\\nimport re\\nfrom sklearn.model_selection import train_test_split\\nimport xgboost as xgb\\nfrom openpyxl import load_workbook\\nimport pandas as pd\\nfrom scipy import stats\\nimport textblob\\nimport torch\\nimport random\\nfrom scipy import signal as sg\\nimport sklearn\\nimport seaborn as sns\\nimport spacy\\nimport numpy as np\\nfrom sklearn import svm\\nimport skimage\\nimport sys\\nimport tensorflow as tf\\nimport statsmodels.api as sm\\nimport tqdm'); }\n",
              "    "
            ]
          },
          "metadata": {}
        },
        {
          "output_type": "display_data",
          "data": {
            "text/plain": [
              "<IPython.core.display.Javascript object>"
            ],
            "application/javascript": [
              "\n",
              "        if (window._pyforest_update_imports_cell) { window._pyforest_update_imports_cell('import matplotlib.pyplot as plt\\nimport lightgbm as lgb\\nimport statistics\\nimport re\\nfrom sklearn.model_selection import train_test_split\\nimport xgboost as xgb\\nfrom openpyxl import load_workbook\\nimport pandas as pd\\nfrom scipy import stats\\nimport textblob\\nimport torch\\nimport random\\nfrom scipy import signal as sg\\nimport sklearn\\nimport seaborn as sns\\nimport spacy\\nimport numpy as np\\nfrom sklearn import svm\\nimport skimage\\nimport sys\\nimport tensorflow as tf\\nimport statsmodels.api as sm\\nimport tqdm'); }\n",
              "    "
            ]
          },
          "metadata": {}
        },
        {
          "output_type": "display_data",
          "data": {
            "text/plain": [
              "<IPython.core.display.Javascript object>"
            ],
            "application/javascript": [
              "\n",
              "        if (window._pyforest_update_imports_cell) { window._pyforest_update_imports_cell('import matplotlib.pyplot as plt\\nimport lightgbm as lgb\\nimport statistics\\nimport re\\nfrom sklearn.model_selection import train_test_split\\nimport xgboost as xgb\\nfrom openpyxl import load_workbook\\nimport pandas as pd\\nfrom scipy import stats\\nimport textblob\\nimport torch\\nimport random\\nfrom scipy import signal as sg\\nimport sklearn\\nimport seaborn as sns\\nimport spacy\\nimport numpy as np\\nfrom sklearn import svm\\nimport skimage\\nimport sys\\nimport tensorflow as tf\\nimport statsmodels.api as sm\\nimport tqdm'); }\n",
              "    "
            ]
          },
          "metadata": {}
        },
        {
          "output_type": "display_data",
          "data": {
            "text/plain": [
              "<IPython.core.display.Javascript object>"
            ],
            "application/javascript": [
              "\n",
              "        if (window._pyforest_update_imports_cell) { window._pyforest_update_imports_cell('import matplotlib.pyplot as plt\\nimport lightgbm as lgb\\nimport statistics\\nimport re\\nfrom sklearn.model_selection import train_test_split\\nimport xgboost as xgb\\nfrom openpyxl import load_workbook\\nimport pandas as pd\\nfrom scipy import stats\\nimport textblob\\nimport torch\\nimport random\\nfrom scipy import signal as sg\\nimport sklearn\\nimport seaborn as sns\\nimport spacy\\nimport numpy as np\\nfrom sklearn import svm\\nimport skimage\\nimport sys\\nimport tensorflow as tf\\nimport statsmodels.api as sm\\nimport tqdm'); }\n",
              "    "
            ]
          },
          "metadata": {}
        },
        {
          "output_type": "display_data",
          "data": {
            "text/plain": [
              "<IPython.core.display.Javascript object>"
            ],
            "application/javascript": [
              "\n",
              "        if (window._pyforest_update_imports_cell) { window._pyforest_update_imports_cell('import matplotlib.pyplot as plt\\nimport lightgbm as lgb\\nimport statistics\\nimport re\\nfrom sklearn.model_selection import train_test_split\\nimport xgboost as xgb\\nfrom openpyxl import load_workbook\\nimport pandas as pd\\nfrom scipy import stats\\nimport textblob\\nimport torch\\nimport random\\nfrom scipy import signal as sg\\nimport sklearn\\nimport seaborn as sns\\nimport spacy\\nimport numpy as np\\nfrom sklearn import svm\\nimport skimage\\nimport sys\\nimport tensorflow as tf\\nimport statsmodels.api as sm\\nimport tqdm'); }\n",
              "    "
            ]
          },
          "metadata": {}
        },
        {
          "output_type": "display_data",
          "data": {
            "text/plain": [
              "<IPython.core.display.Javascript object>"
            ],
            "application/javascript": [
              "\n",
              "        if (window._pyforest_update_imports_cell) { window._pyforest_update_imports_cell('import matplotlib.pyplot as plt\\nimport lightgbm as lgb\\nimport statistics\\nimport re\\nfrom sklearn.model_selection import train_test_split\\nimport xgboost as xgb\\nfrom openpyxl import load_workbook\\nimport pandas as pd\\nfrom scipy import stats\\nimport textblob\\nimport torch\\nimport random\\nfrom scipy import signal as sg\\nimport sklearn\\nimport seaborn as sns\\nimport spacy\\nimport numpy as np\\nfrom sklearn import svm\\nimport skimage\\nimport sys\\nimport tensorflow as tf\\nimport statsmodels.api as sm\\nimport tqdm'); }\n",
              "    "
            ]
          },
          "metadata": {}
        },
        {
          "output_type": "display_data",
          "data": {
            "text/plain": [
              "<IPython.core.display.Javascript object>"
            ],
            "application/javascript": [
              "\n",
              "        if (window._pyforest_update_imports_cell) { window._pyforest_update_imports_cell('import matplotlib.pyplot as plt\\nimport lightgbm as lgb\\nimport statistics\\nimport re\\nfrom sklearn.model_selection import train_test_split\\nimport xgboost as xgb\\nfrom openpyxl import load_workbook\\nimport pandas as pd\\nfrom scipy import stats\\nimport textblob\\nimport torch\\nimport random\\nfrom scipy import signal as sg\\nimport sklearn\\nimport seaborn as sns\\nimport spacy\\nimport numpy as np\\nfrom sklearn import svm\\nimport skimage\\nimport sys\\nimport tensorflow as tf\\nimport statsmodels.api as sm\\nimport tqdm'); }\n",
              "    "
            ]
          },
          "metadata": {}
        },
        {
          "output_type": "display_data",
          "data": {
            "text/plain": [
              "<IPython.core.display.Javascript object>"
            ],
            "application/javascript": [
              "\n",
              "        if (window._pyforest_update_imports_cell) { window._pyforest_update_imports_cell('import matplotlib.pyplot as plt\\nimport lightgbm as lgb\\nimport statistics\\nimport re\\nfrom sklearn.model_selection import train_test_split\\nimport xgboost as xgb\\nfrom openpyxl import load_workbook\\nimport pandas as pd\\nfrom scipy import stats\\nimport textblob\\nimport torch\\nimport random\\nfrom scipy import signal as sg\\nimport sklearn\\nimport seaborn as sns\\nimport spacy\\nimport numpy as np\\nfrom sklearn import svm\\nimport skimage\\nimport sys\\nimport tensorflow as tf\\nimport statsmodels.api as sm\\nimport tqdm'); }\n",
              "    "
            ]
          },
          "metadata": {}
        },
        {
          "output_type": "display_data",
          "data": {
            "text/plain": [
              "<IPython.core.display.Javascript object>"
            ],
            "application/javascript": [
              "\n",
              "        if (window._pyforest_update_imports_cell) { window._pyforest_update_imports_cell('import matplotlib.pyplot as plt\\nimport lightgbm as lgb\\nimport statistics\\nimport re\\nfrom sklearn.model_selection import train_test_split\\nimport xgboost as xgb\\nfrom openpyxl import load_workbook\\nimport pandas as pd\\nfrom scipy import stats\\nimport textblob\\nimport torch\\nimport random\\nfrom scipy import signal as sg\\nimport sklearn\\nimport seaborn as sns\\nimport spacy\\nimport numpy as np\\nfrom sklearn import svm\\nimport skimage\\nimport sys\\nimport tensorflow as tf\\nimport statsmodels.api as sm\\nimport tqdm'); }\n",
              "    "
            ]
          },
          "metadata": {}
        },
        {
          "output_type": "display_data",
          "data": {
            "text/plain": [
              "<IPython.core.display.Javascript object>"
            ],
            "application/javascript": [
              "\n",
              "        if (window._pyforest_update_imports_cell) { window._pyforest_update_imports_cell('import matplotlib.pyplot as plt\\nimport lightgbm as lgb\\nimport statistics\\nimport re\\nfrom sklearn.model_selection import train_test_split\\nimport xgboost as xgb\\nfrom openpyxl import load_workbook\\nimport pandas as pd\\nfrom scipy import stats\\nimport textblob\\nimport torch\\nimport random\\nfrom scipy import signal as sg\\nimport sklearn\\nimport seaborn as sns\\nimport spacy\\nimport numpy as np\\nfrom sklearn import svm\\nimport skimage\\nimport sys\\nimport tensorflow as tf\\nimport statsmodels.api as sm\\nimport tqdm'); }\n",
              "    "
            ]
          },
          "metadata": {}
        },
        {
          "output_type": "display_data",
          "data": {
            "text/plain": [
              "<IPython.core.display.Javascript object>"
            ],
            "application/javascript": [
              "\n",
              "        if (window._pyforest_update_imports_cell) { window._pyforest_update_imports_cell('import matplotlib.pyplot as plt\\nimport lightgbm as lgb\\nimport statistics\\nimport re\\nfrom sklearn.model_selection import train_test_split\\nimport xgboost as xgb\\nfrom openpyxl import load_workbook\\nimport pandas as pd\\nfrom scipy import stats\\nimport textblob\\nimport torch\\nimport random\\nfrom scipy import signal as sg\\nimport sklearn\\nimport seaborn as sns\\nimport spacy\\nimport numpy as np\\nfrom sklearn import svm\\nimport skimage\\nimport sys\\nimport tensorflow as tf\\nimport statsmodels.api as sm\\nimport tqdm'); }\n",
              "    "
            ]
          },
          "metadata": {}
        },
        {
          "output_type": "display_data",
          "data": {
            "text/plain": [
              "<IPython.core.display.Javascript object>"
            ],
            "application/javascript": [
              "\n",
              "        if (window._pyforest_update_imports_cell) { window._pyforest_update_imports_cell('import matplotlib.pyplot as plt\\nimport lightgbm as lgb\\nimport statistics\\nimport re\\nfrom sklearn.model_selection import train_test_split\\nimport xgboost as xgb\\nfrom openpyxl import load_workbook\\nimport pandas as pd\\nfrom scipy import stats\\nimport textblob\\nimport torch\\nimport random\\nfrom scipy import signal as sg\\nimport sklearn\\nimport seaborn as sns\\nimport spacy\\nimport numpy as np\\nfrom sklearn import svm\\nimport skimage\\nimport sys\\nimport tensorflow as tf\\nimport statsmodels.api as sm\\nimport tqdm'); }\n",
              "    "
            ]
          },
          "metadata": {}
        },
        {
          "output_type": "display_data",
          "data": {
            "text/plain": [
              "<IPython.core.display.Javascript object>"
            ],
            "application/javascript": [
              "\n",
              "        if (window._pyforest_update_imports_cell) { window._pyforest_update_imports_cell('import matplotlib.pyplot as plt\\nimport lightgbm as lgb\\nimport statistics\\nimport re\\nfrom sklearn.model_selection import train_test_split\\nimport xgboost as xgb\\nfrom openpyxl import load_workbook\\nimport pandas as pd\\nfrom scipy import stats\\nimport textblob\\nimport torch\\nimport random\\nfrom scipy import signal as sg\\nimport sklearn\\nimport seaborn as sns\\nimport spacy\\nimport numpy as np\\nfrom sklearn import svm\\nimport skimage\\nimport sys\\nimport tensorflow as tf\\nimport statsmodels.api as sm\\nimport tqdm'); }\n",
              "    "
            ]
          },
          "metadata": {}
        },
        {
          "output_type": "display_data",
          "data": {
            "text/plain": [
              "<IPython.core.display.Javascript object>"
            ],
            "application/javascript": [
              "\n",
              "        if (window._pyforest_update_imports_cell) { window._pyforest_update_imports_cell('import matplotlib.pyplot as plt\\nimport lightgbm as lgb\\nimport statistics\\nimport re\\nfrom sklearn.model_selection import train_test_split\\nimport xgboost as xgb\\nfrom openpyxl import load_workbook\\nimport pandas as pd\\nfrom scipy import stats\\nimport textblob\\nimport torch\\nimport random\\nfrom scipy import signal as sg\\nimport sklearn\\nimport seaborn as sns\\nimport spacy\\nimport numpy as np\\nfrom sklearn import svm\\nimport skimage\\nimport sys\\nimport tensorflow as tf\\nimport statsmodels.api as sm\\nimport tqdm'); }\n",
              "    "
            ]
          },
          "metadata": {}
        },
        {
          "output_type": "display_data",
          "data": {
            "text/plain": [
              "<IPython.core.display.Javascript object>"
            ],
            "application/javascript": [
              "\n",
              "        if (window._pyforest_update_imports_cell) { window._pyforest_update_imports_cell('import matplotlib.pyplot as plt\\nimport lightgbm as lgb\\nimport statistics\\nimport re\\nfrom sklearn.model_selection import train_test_split\\nimport xgboost as xgb\\nfrom openpyxl import load_workbook\\nimport pandas as pd\\nfrom scipy import stats\\nimport textblob\\nimport torch\\nimport random\\nfrom scipy import signal as sg\\nimport sklearn\\nimport seaborn as sns\\nimport spacy\\nimport numpy as np\\nfrom sklearn import svm\\nimport skimage\\nimport sys\\nimport tensorflow as tf\\nimport statsmodels.api as sm\\nimport tqdm'); }\n",
              "    "
            ]
          },
          "metadata": {}
        },
        {
          "output_type": "display_data",
          "data": {
            "text/plain": [
              "<IPython.core.display.Javascript object>"
            ],
            "application/javascript": [
              "\n",
              "        if (window._pyforest_update_imports_cell) { window._pyforest_update_imports_cell('import matplotlib.pyplot as plt\\nimport lightgbm as lgb\\nimport statistics\\nimport re\\nfrom sklearn.model_selection import train_test_split\\nimport xgboost as xgb\\nfrom openpyxl import load_workbook\\nimport pandas as pd\\nfrom scipy import stats\\nimport textblob\\nimport torch\\nimport random\\nfrom scipy import signal as sg\\nimport sklearn\\nimport seaborn as sns\\nimport spacy\\nimport numpy as np\\nfrom sklearn import svm\\nimport skimage\\nimport sys\\nimport tensorflow as tf\\nimport statsmodels.api as sm\\nimport tqdm'); }\n",
              "    "
            ]
          },
          "metadata": {}
        },
        {
          "output_type": "display_data",
          "data": {
            "text/plain": [
              "<IPython.core.display.Javascript object>"
            ],
            "application/javascript": [
              "\n",
              "        if (window._pyforest_update_imports_cell) { window._pyforest_update_imports_cell('import matplotlib.pyplot as plt\\nimport lightgbm as lgb\\nimport statistics\\nimport re\\nfrom sklearn.model_selection import train_test_split\\nimport xgboost as xgb\\nfrom openpyxl import load_workbook\\nimport pandas as pd\\nfrom scipy import stats\\nimport textblob\\nimport torch\\nimport random\\nfrom scipy import signal as sg\\nimport sklearn\\nimport seaborn as sns\\nimport spacy\\nimport numpy as np\\nfrom sklearn import svm\\nimport skimage\\nimport sys\\nimport tensorflow as tf\\nimport statsmodels.api as sm\\nimport tqdm'); }\n",
              "    "
            ]
          },
          "metadata": {}
        },
        {
          "output_type": "display_data",
          "data": {
            "text/plain": [
              "<IPython.core.display.Javascript object>"
            ],
            "application/javascript": [
              "\n",
              "        if (window._pyforest_update_imports_cell) { window._pyforest_update_imports_cell('import matplotlib.pyplot as plt\\nimport lightgbm as lgb\\nimport statistics\\nimport re\\nfrom sklearn.model_selection import train_test_split\\nimport xgboost as xgb\\nfrom openpyxl import load_workbook\\nimport pandas as pd\\nfrom scipy import stats\\nimport textblob\\nimport torch\\nimport random\\nfrom scipy import signal as sg\\nimport sklearn\\nimport seaborn as sns\\nimport spacy\\nimport numpy as np\\nfrom sklearn import svm\\nimport skimage\\nimport sys\\nimport tensorflow as tf\\nimport statsmodels.api as sm\\nimport tqdm'); }\n",
              "    "
            ]
          },
          "metadata": {}
        },
        {
          "output_type": "display_data",
          "data": {
            "text/plain": [
              "<IPython.core.display.Javascript object>"
            ],
            "application/javascript": [
              "\n",
              "        if (window._pyforest_update_imports_cell) { window._pyforest_update_imports_cell('import matplotlib.pyplot as plt\\nimport lightgbm as lgb\\nimport statistics\\nimport re\\nfrom sklearn.model_selection import train_test_split\\nimport xgboost as xgb\\nfrom openpyxl import load_workbook\\nimport pandas as pd\\nfrom scipy import stats\\nimport textblob\\nimport torch\\nimport random\\nfrom scipy import signal as sg\\nimport sklearn\\nimport seaborn as sns\\nimport spacy\\nimport numpy as np\\nfrom sklearn import svm\\nimport skimage\\nimport sys\\nimport tensorflow as tf\\nimport statsmodels.api as sm\\nimport tqdm'); }\n",
              "    "
            ]
          },
          "metadata": {}
        },
        {
          "output_type": "display_data",
          "data": {
            "text/plain": [
              "<IPython.core.display.Javascript object>"
            ],
            "application/javascript": [
              "\n",
              "        if (window._pyforest_update_imports_cell) { window._pyforest_update_imports_cell('import matplotlib.pyplot as plt\\nimport lightgbm as lgb\\nimport statistics\\nimport re\\nfrom sklearn.model_selection import train_test_split\\nimport xgboost as xgb\\nfrom openpyxl import load_workbook\\nimport pandas as pd\\nfrom scipy import stats\\nimport textblob\\nimport torch\\nimport random\\nfrom scipy import signal as sg\\nimport sklearn\\nimport seaborn as sns\\nimport spacy\\nimport numpy as np\\nfrom sklearn import svm\\nimport skimage\\nimport sys\\nimport tensorflow as tf\\nimport statsmodels.api as sm\\nimport tqdm'); }\n",
              "    "
            ]
          },
          "metadata": {}
        },
        {
          "output_type": "display_data",
          "data": {
            "text/plain": [
              "<IPython.core.display.Javascript object>"
            ],
            "application/javascript": [
              "\n",
              "        if (window._pyforest_update_imports_cell) { window._pyforest_update_imports_cell('import matplotlib.pyplot as plt\\nimport lightgbm as lgb\\nimport statistics\\nimport re\\nfrom sklearn.model_selection import train_test_split\\nimport xgboost as xgb\\nfrom openpyxl import load_workbook\\nimport pandas as pd\\nfrom scipy import stats\\nimport textblob\\nimport torch\\nimport random\\nfrom scipy import signal as sg\\nimport sklearn\\nimport seaborn as sns\\nimport spacy\\nimport numpy as np\\nfrom sklearn import svm\\nimport skimage\\nimport sys\\nimport tensorflow as tf\\nimport statsmodels.api as sm\\nimport tqdm'); }\n",
              "    "
            ]
          },
          "metadata": {}
        },
        {
          "output_type": "display_data",
          "data": {
            "text/plain": [
              "<IPython.core.display.Javascript object>"
            ],
            "application/javascript": [
              "\n",
              "        if (window._pyforest_update_imports_cell) { window._pyforest_update_imports_cell('import matplotlib.pyplot as plt\\nimport lightgbm as lgb\\nimport statistics\\nimport re\\nfrom sklearn.model_selection import train_test_split\\nimport xgboost as xgb\\nfrom openpyxl import load_workbook\\nimport pandas as pd\\nfrom scipy import stats\\nimport textblob\\nimport torch\\nimport random\\nfrom scipy import signal as sg\\nimport sklearn\\nimport seaborn as sns\\nimport spacy\\nimport numpy as np\\nfrom sklearn import svm\\nimport skimage\\nimport sys\\nimport tensorflow as tf\\nimport statsmodels.api as sm\\nimport tqdm'); }\n",
              "    "
            ]
          },
          "metadata": {}
        },
        {
          "output_type": "display_data",
          "data": {
            "text/plain": [
              "<IPython.core.display.Javascript object>"
            ],
            "application/javascript": [
              "\n",
              "        if (window._pyforest_update_imports_cell) { window._pyforest_update_imports_cell('import matplotlib.pyplot as plt\\nimport lightgbm as lgb\\nimport statistics\\nimport re\\nfrom sklearn.model_selection import train_test_split\\nimport xgboost as xgb\\nfrom openpyxl import load_workbook\\nimport pandas as pd\\nfrom scipy import stats\\nimport textblob\\nimport torch\\nimport random\\nfrom scipy import signal as sg\\nimport sklearn\\nimport seaborn as sns\\nimport spacy\\nimport numpy as np\\nfrom sklearn import svm\\nimport skimage\\nimport sys\\nimport tensorflow as tf\\nimport statsmodels.api as sm\\nimport tqdm'); }\n",
              "    "
            ]
          },
          "metadata": {}
        },
        {
          "output_type": "display_data",
          "data": {
            "text/plain": [
              "<IPython.core.display.Javascript object>"
            ],
            "application/javascript": [
              "\n",
              "        if (window._pyforest_update_imports_cell) { window._pyforest_update_imports_cell('import matplotlib.pyplot as plt\\nimport lightgbm as lgb\\nimport statistics\\nimport re\\nfrom sklearn.model_selection import train_test_split\\nimport xgboost as xgb\\nfrom openpyxl import load_workbook\\nimport pandas as pd\\nfrom scipy import stats\\nimport textblob\\nimport torch\\nimport random\\nfrom scipy import signal as sg\\nimport sklearn\\nimport seaborn as sns\\nimport spacy\\nimport numpy as np\\nfrom sklearn import svm\\nimport skimage\\nimport sys\\nimport tensorflow as tf\\nimport statsmodels.api as sm\\nimport tqdm'); }\n",
              "    "
            ]
          },
          "metadata": {}
        },
        {
          "output_type": "display_data",
          "data": {
            "text/plain": [
              "<IPython.core.display.Javascript object>"
            ],
            "application/javascript": [
              "\n",
              "        if (window._pyforest_update_imports_cell) { window._pyforest_update_imports_cell('import matplotlib.pyplot as plt\\nimport lightgbm as lgb\\nimport statistics\\nimport re\\nfrom sklearn.model_selection import train_test_split\\nimport xgboost as xgb\\nfrom openpyxl import load_workbook\\nimport pandas as pd\\nfrom scipy import stats\\nimport textblob\\nimport torch\\nimport random\\nfrom scipy import signal as sg\\nimport sklearn\\nimport seaborn as sns\\nimport spacy\\nimport numpy as np\\nfrom sklearn import svm\\nimport skimage\\nimport sys\\nimport tensorflow as tf\\nimport statsmodels.api as sm\\nimport tqdm'); }\n",
              "    "
            ]
          },
          "metadata": {}
        },
        {
          "output_type": "display_data",
          "data": {
            "text/plain": [
              "<IPython.core.display.Javascript object>"
            ],
            "application/javascript": [
              "\n",
              "        if (window._pyforest_update_imports_cell) { window._pyforest_update_imports_cell('import matplotlib.pyplot as plt\\nimport lightgbm as lgb\\nimport statistics\\nimport re\\nfrom sklearn.model_selection import train_test_split\\nimport xgboost as xgb\\nfrom openpyxl import load_workbook\\nimport pandas as pd\\nfrom scipy import stats\\nimport textblob\\nimport torch\\nimport random\\nfrom scipy import signal as sg\\nimport sklearn\\nimport seaborn as sns\\nimport spacy\\nimport numpy as np\\nfrom sklearn import svm\\nimport skimage\\nimport sys\\nimport tensorflow as tf\\nimport statsmodels.api as sm\\nimport tqdm'); }\n",
              "    "
            ]
          },
          "metadata": {}
        },
        {
          "output_type": "display_data",
          "data": {
            "text/plain": [
              "<IPython.core.display.Javascript object>"
            ],
            "application/javascript": [
              "\n",
              "        if (window._pyforest_update_imports_cell) { window._pyforest_update_imports_cell('import matplotlib.pyplot as plt\\nimport lightgbm as lgb\\nimport statistics\\nimport re\\nfrom sklearn.model_selection import train_test_split\\nimport xgboost as xgb\\nfrom openpyxl import load_workbook\\nimport pandas as pd\\nfrom scipy import stats\\nimport textblob\\nimport torch\\nimport random\\nfrom scipy import signal as sg\\nimport sklearn\\nimport seaborn as sns\\nimport spacy\\nimport numpy as np\\nfrom sklearn import svm\\nimport skimage\\nimport sys\\nimport tensorflow as tf\\nimport statsmodels.api as sm\\nimport tqdm'); }\n",
              "    "
            ]
          },
          "metadata": {}
        },
        {
          "output_type": "display_data",
          "data": {
            "text/plain": [
              "<IPython.core.display.Javascript object>"
            ],
            "application/javascript": [
              "\n",
              "        if (window._pyforest_update_imports_cell) { window._pyforest_update_imports_cell('import matplotlib.pyplot as plt\\nimport lightgbm as lgb\\nimport statistics\\nimport re\\nfrom sklearn.model_selection import train_test_split\\nimport xgboost as xgb\\nfrom openpyxl import load_workbook\\nimport pandas as pd\\nfrom scipy import stats\\nimport textblob\\nimport torch\\nimport random\\nfrom scipy import signal as sg\\nimport sklearn\\nimport seaborn as sns\\nimport spacy\\nimport numpy as np\\nfrom sklearn import svm\\nimport skimage\\nimport sys\\nimport tensorflow as tf\\nimport statsmodels.api as sm\\nimport tqdm'); }\n",
              "    "
            ]
          },
          "metadata": {}
        },
        {
          "output_type": "display_data",
          "data": {
            "text/plain": [
              "<IPython.core.display.Javascript object>"
            ],
            "application/javascript": [
              "\n",
              "        if (window._pyforest_update_imports_cell) { window._pyforest_update_imports_cell('import matplotlib.pyplot as plt\\nimport lightgbm as lgb\\nimport statistics\\nimport re\\nfrom sklearn.model_selection import train_test_split\\nimport xgboost as xgb\\nfrom openpyxl import load_workbook\\nimport pandas as pd\\nfrom scipy import stats\\nimport textblob\\nimport torch\\nimport random\\nfrom scipy import signal as sg\\nimport sklearn\\nimport seaborn as sns\\nimport spacy\\nimport numpy as np\\nfrom sklearn import svm\\nimport skimage\\nimport sys\\nimport tensorflow as tf\\nimport statsmodels.api as sm\\nimport tqdm'); }\n",
              "    "
            ]
          },
          "metadata": {}
        },
        {
          "output_type": "display_data",
          "data": {
            "text/plain": [
              "<IPython.core.display.Javascript object>"
            ],
            "application/javascript": [
              "\n",
              "        if (window._pyforest_update_imports_cell) { window._pyforest_update_imports_cell('import matplotlib.pyplot as plt\\nimport lightgbm as lgb\\nimport statistics\\nimport re\\nfrom sklearn.model_selection import train_test_split\\nimport xgboost as xgb\\nfrom openpyxl import load_workbook\\nimport pandas as pd\\nfrom scipy import stats\\nimport textblob\\nimport torch\\nimport random\\nfrom scipy import signal as sg\\nimport sklearn\\nimport seaborn as sns\\nimport spacy\\nimport numpy as np\\nfrom sklearn import svm\\nimport skimage\\nimport sys\\nimport tensorflow as tf\\nimport statsmodels.api as sm\\nimport tqdm'); }\n",
              "    "
            ]
          },
          "metadata": {}
        },
        {
          "output_type": "display_data",
          "data": {
            "text/plain": [
              "<IPython.core.display.Javascript object>"
            ],
            "application/javascript": [
              "\n",
              "        if (window._pyforest_update_imports_cell) { window._pyforest_update_imports_cell('import matplotlib.pyplot as plt\\nimport lightgbm as lgb\\nimport statistics\\nimport re\\nfrom sklearn.model_selection import train_test_split\\nimport xgboost as xgb\\nfrom openpyxl import load_workbook\\nimport pandas as pd\\nfrom scipy import stats\\nimport textblob\\nimport torch\\nimport random\\nfrom scipy import signal as sg\\nimport sklearn\\nimport seaborn as sns\\nimport spacy\\nimport numpy as np\\nfrom sklearn import svm\\nimport skimage\\nimport sys\\nimport tensorflow as tf\\nimport statsmodels.api as sm\\nimport tqdm'); }\n",
              "    "
            ]
          },
          "metadata": {}
        },
        {
          "output_type": "display_data",
          "data": {
            "text/plain": [
              "<IPython.core.display.Javascript object>"
            ],
            "application/javascript": [
              "\n",
              "        if (window._pyforest_update_imports_cell) { window._pyforest_update_imports_cell('import matplotlib.pyplot as plt\\nimport lightgbm as lgb\\nimport statistics\\nimport re\\nfrom sklearn.model_selection import train_test_split\\nimport xgboost as xgb\\nfrom openpyxl import load_workbook\\nimport pandas as pd\\nfrom scipy import stats\\nimport textblob\\nimport torch\\nimport random\\nfrom scipy import signal as sg\\nimport sklearn\\nimport seaborn as sns\\nimport spacy\\nimport numpy as np\\nfrom sklearn import svm\\nimport skimage\\nimport sys\\nimport tensorflow as tf\\nimport statsmodels.api as sm\\nimport tqdm'); }\n",
              "    "
            ]
          },
          "metadata": {}
        },
        {
          "output_type": "display_data",
          "data": {
            "text/plain": [
              "<IPython.core.display.Javascript object>"
            ],
            "application/javascript": [
              "\n",
              "        if (window._pyforest_update_imports_cell) { window._pyforest_update_imports_cell('import matplotlib.pyplot as plt\\nimport lightgbm as lgb\\nimport statistics\\nimport re\\nfrom sklearn.model_selection import train_test_split\\nimport xgboost as xgb\\nfrom openpyxl import load_workbook\\nimport pandas as pd\\nfrom scipy import stats\\nimport textblob\\nimport torch\\nimport random\\nfrom scipy import signal as sg\\nimport sklearn\\nimport seaborn as sns\\nimport spacy\\nimport numpy as np\\nfrom sklearn import svm\\nimport skimage\\nimport sys\\nimport tensorflow as tf\\nimport statsmodels.api as sm\\nimport tqdm'); }\n",
              "    "
            ]
          },
          "metadata": {}
        },
        {
          "output_type": "display_data",
          "data": {
            "text/plain": [
              "<IPython.core.display.Javascript object>"
            ],
            "application/javascript": [
              "\n",
              "        if (window._pyforest_update_imports_cell) { window._pyforest_update_imports_cell('import matplotlib.pyplot as plt\\nimport lightgbm as lgb\\nimport statistics\\nimport re\\nfrom sklearn.model_selection import train_test_split\\nimport xgboost as xgb\\nfrom openpyxl import load_workbook\\nimport pandas as pd\\nfrom scipy import stats\\nimport textblob\\nimport torch\\nimport random\\nfrom scipy import signal as sg\\nimport sklearn\\nimport seaborn as sns\\nimport spacy\\nimport numpy as np\\nfrom sklearn import svm\\nimport skimage\\nimport sys\\nimport tensorflow as tf\\nimport statsmodels.api as sm\\nimport tqdm'); }\n",
              "    "
            ]
          },
          "metadata": {}
        },
        {
          "output_type": "display_data",
          "data": {
            "text/plain": [
              "<IPython.core.display.Javascript object>"
            ],
            "application/javascript": [
              "\n",
              "        if (window._pyforest_update_imports_cell) { window._pyforest_update_imports_cell('import matplotlib.pyplot as plt\\nimport lightgbm as lgb\\nimport statistics\\nimport re\\nfrom sklearn.model_selection import train_test_split\\nimport xgboost as xgb\\nfrom openpyxl import load_workbook\\nimport pandas as pd\\nfrom scipy import stats\\nimport textblob\\nimport torch\\nimport random\\nfrom scipy import signal as sg\\nimport sklearn\\nimport seaborn as sns\\nimport spacy\\nimport numpy as np\\nfrom sklearn import svm\\nimport skimage\\nimport sys\\nimport tensorflow as tf\\nimport statsmodels.api as sm\\nimport tqdm'); }\n",
              "    "
            ]
          },
          "metadata": {}
        },
        {
          "output_type": "display_data",
          "data": {
            "text/plain": [
              "<IPython.core.display.Javascript object>"
            ],
            "application/javascript": [
              "\n",
              "        if (window._pyforest_update_imports_cell) { window._pyforest_update_imports_cell('import matplotlib.pyplot as plt\\nimport lightgbm as lgb\\nimport statistics\\nimport re\\nfrom sklearn.model_selection import train_test_split\\nimport xgboost as xgb\\nfrom openpyxl import load_workbook\\nimport pandas as pd\\nfrom scipy import stats\\nimport textblob\\nimport torch\\nimport random\\nfrom scipy import signal as sg\\nimport sklearn\\nimport seaborn as sns\\nimport spacy\\nimport numpy as np\\nfrom sklearn import svm\\nimport skimage\\nimport sys\\nimport tensorflow as tf\\nimport statsmodels.api as sm\\nimport tqdm'); }\n",
              "    "
            ]
          },
          "metadata": {}
        },
        {
          "output_type": "display_data",
          "data": {
            "text/plain": [
              "<IPython.core.display.Javascript object>"
            ],
            "application/javascript": [
              "\n",
              "        if (window._pyforest_update_imports_cell) { window._pyforest_update_imports_cell('import matplotlib.pyplot as plt\\nimport lightgbm as lgb\\nimport statistics\\nimport re\\nfrom sklearn.model_selection import train_test_split\\nimport xgboost as xgb\\nfrom openpyxl import load_workbook\\nimport pandas as pd\\nfrom scipy import stats\\nimport textblob\\nimport torch\\nimport random\\nfrom scipy import signal as sg\\nimport sklearn\\nimport seaborn as sns\\nimport spacy\\nimport numpy as np\\nfrom sklearn import svm\\nimport skimage\\nimport sys\\nimport tensorflow as tf\\nimport statsmodels.api as sm\\nimport tqdm'); }\n",
              "    "
            ]
          },
          "metadata": {}
        },
        {
          "output_type": "display_data",
          "data": {
            "text/plain": [
              "<IPython.core.display.Javascript object>"
            ],
            "application/javascript": [
              "\n",
              "        if (window._pyforest_update_imports_cell) { window._pyforest_update_imports_cell('import matplotlib.pyplot as plt\\nimport lightgbm as lgb\\nimport statistics\\nimport re\\nfrom sklearn.model_selection import train_test_split\\nimport xgboost as xgb\\nfrom openpyxl import load_workbook\\nimport pandas as pd\\nfrom scipy import stats\\nimport textblob\\nimport torch\\nimport random\\nfrom scipy import signal as sg\\nimport sklearn\\nimport seaborn as sns\\nimport spacy\\nimport numpy as np\\nfrom sklearn import svm\\nimport skimage\\nimport sys\\nimport tensorflow as tf\\nimport statsmodels.api as sm\\nimport tqdm'); }\n",
              "    "
            ]
          },
          "metadata": {}
        },
        {
          "output_type": "display_data",
          "data": {
            "text/plain": [
              "<IPython.core.display.Javascript object>"
            ],
            "application/javascript": [
              "\n",
              "        if (window._pyforest_update_imports_cell) { window._pyforest_update_imports_cell('import matplotlib.pyplot as plt\\nimport lightgbm as lgb\\nimport statistics\\nimport re\\nfrom sklearn.model_selection import train_test_split\\nimport xgboost as xgb\\nfrom openpyxl import load_workbook\\nimport pandas as pd\\nfrom scipy import stats\\nimport textblob\\nimport torch\\nimport random\\nfrom scipy import signal as sg\\nimport sklearn\\nimport seaborn as sns\\nimport spacy\\nimport numpy as np\\nfrom sklearn import svm\\nimport skimage\\nimport sys\\nimport tensorflow as tf\\nimport statsmodels.api as sm\\nimport tqdm'); }\n",
              "    "
            ]
          },
          "metadata": {}
        },
        {
          "output_type": "display_data",
          "data": {
            "text/plain": [
              "<IPython.core.display.Javascript object>"
            ],
            "application/javascript": [
              "\n",
              "        if (window._pyforest_update_imports_cell) { window._pyforest_update_imports_cell('import matplotlib.pyplot as plt\\nimport lightgbm as lgb\\nimport statistics\\nimport re\\nfrom sklearn.model_selection import train_test_split\\nimport xgboost as xgb\\nfrom openpyxl import load_workbook\\nimport pandas as pd\\nfrom scipy import stats\\nimport textblob\\nimport torch\\nimport random\\nfrom scipy import signal as sg\\nimport sklearn\\nimport seaborn as sns\\nimport spacy\\nimport numpy as np\\nfrom sklearn import svm\\nimport skimage\\nimport sys\\nimport tensorflow as tf\\nimport statsmodels.api as sm\\nimport tqdm'); }\n",
              "    "
            ]
          },
          "metadata": {}
        },
        {
          "output_type": "display_data",
          "data": {
            "text/plain": [
              "<IPython.core.display.Javascript object>"
            ],
            "application/javascript": [
              "\n",
              "        if (window._pyforest_update_imports_cell) { window._pyforest_update_imports_cell('import matplotlib.pyplot as plt\\nimport lightgbm as lgb\\nimport statistics\\nimport re\\nfrom sklearn.model_selection import train_test_split\\nimport xgboost as xgb\\nfrom openpyxl import load_workbook\\nimport pandas as pd\\nfrom scipy import stats\\nimport textblob\\nimport torch\\nimport random\\nfrom scipy import signal as sg\\nimport sklearn\\nimport seaborn as sns\\nimport spacy\\nimport numpy as np\\nfrom sklearn import svm\\nimport skimage\\nimport sys\\nimport tensorflow as tf\\nimport statsmodels.api as sm\\nimport tqdm'); }\n",
              "    "
            ]
          },
          "metadata": {}
        },
        {
          "output_type": "display_data",
          "data": {
            "text/plain": [
              "<IPython.core.display.Javascript object>"
            ],
            "application/javascript": [
              "\n",
              "        if (window._pyforest_update_imports_cell) { window._pyforest_update_imports_cell('import matplotlib.pyplot as plt\\nimport lightgbm as lgb\\nimport statistics\\nimport re\\nfrom sklearn.model_selection import train_test_split\\nimport xgboost as xgb\\nfrom openpyxl import load_workbook\\nimport pandas as pd\\nfrom scipy import stats\\nimport textblob\\nimport torch\\nimport random\\nfrom scipy import signal as sg\\nimport sklearn\\nimport seaborn as sns\\nimport spacy\\nimport numpy as np\\nfrom sklearn import svm\\nimport skimage\\nimport sys\\nimport tensorflow as tf\\nimport statsmodels.api as sm\\nimport tqdm'); }\n",
              "    "
            ]
          },
          "metadata": {}
        },
        {
          "output_type": "display_data",
          "data": {
            "text/plain": [
              "<IPython.core.display.Javascript object>"
            ],
            "application/javascript": [
              "\n",
              "        if (window._pyforest_update_imports_cell) { window._pyforest_update_imports_cell('import matplotlib.pyplot as plt\\nimport lightgbm as lgb\\nimport statistics\\nimport re\\nfrom sklearn.model_selection import train_test_split\\nimport xgboost as xgb\\nfrom openpyxl import load_workbook\\nimport pandas as pd\\nfrom scipy import stats\\nimport textblob\\nimport torch\\nimport random\\nfrom scipy import signal as sg\\nimport sklearn\\nimport seaborn as sns\\nimport spacy\\nimport numpy as np\\nfrom sklearn import svm\\nimport skimage\\nimport sys\\nimport tensorflow as tf\\nimport statsmodels.api as sm\\nimport tqdm'); }\n",
              "    "
            ]
          },
          "metadata": {}
        },
        {
          "output_type": "display_data",
          "data": {
            "text/plain": [
              "<IPython.core.display.Javascript object>"
            ],
            "application/javascript": [
              "\n",
              "        if (window._pyforest_update_imports_cell) { window._pyforest_update_imports_cell('import matplotlib.pyplot as plt\\nimport lightgbm as lgb\\nimport statistics\\nimport re\\nfrom sklearn.model_selection import train_test_split\\nimport xgboost as xgb\\nfrom openpyxl import load_workbook\\nimport pandas as pd\\nfrom scipy import stats\\nimport textblob\\nimport torch\\nimport random\\nfrom scipy import signal as sg\\nimport sklearn\\nimport seaborn as sns\\nimport spacy\\nimport numpy as np\\nfrom sklearn import svm\\nimport skimage\\nimport sys\\nimport tensorflow as tf\\nimport statsmodels.api as sm\\nimport tqdm'); }\n",
              "    "
            ]
          },
          "metadata": {}
        },
        {
          "output_type": "display_data",
          "data": {
            "text/plain": [
              "<IPython.core.display.Javascript object>"
            ],
            "application/javascript": [
              "\n",
              "        if (window._pyforest_update_imports_cell) { window._pyforest_update_imports_cell('import matplotlib.pyplot as plt\\nimport lightgbm as lgb\\nimport statistics\\nimport re\\nfrom sklearn.model_selection import train_test_split\\nimport xgboost as xgb\\nfrom openpyxl import load_workbook\\nimport pandas as pd\\nfrom scipy import stats\\nimport textblob\\nimport torch\\nimport random\\nfrom scipy import signal as sg\\nimport sklearn\\nimport seaborn as sns\\nimport spacy\\nimport numpy as np\\nfrom sklearn import svm\\nimport skimage\\nimport sys\\nimport tensorflow as tf\\nimport statsmodels.api as sm\\nimport tqdm'); }\n",
              "    "
            ]
          },
          "metadata": {}
        },
        {
          "output_type": "display_data",
          "data": {
            "text/plain": [
              "<IPython.core.display.Javascript object>"
            ],
            "application/javascript": [
              "\n",
              "        if (window._pyforest_update_imports_cell) { window._pyforest_update_imports_cell('import matplotlib.pyplot as plt\\nimport lightgbm as lgb\\nimport statistics\\nimport re\\nfrom sklearn.model_selection import train_test_split\\nimport xgboost as xgb\\nfrom openpyxl import load_workbook\\nimport pandas as pd\\nfrom scipy import stats\\nimport textblob\\nimport torch\\nimport random\\nfrom scipy import signal as sg\\nimport sklearn\\nimport seaborn as sns\\nimport spacy\\nimport numpy as np\\nfrom sklearn import svm\\nimport skimage\\nimport sys\\nimport tensorflow as tf\\nimport statsmodels.api as sm\\nimport tqdm'); }\n",
              "    "
            ]
          },
          "metadata": {}
        },
        {
          "output_type": "display_data",
          "data": {
            "text/plain": [
              "<IPython.core.display.Javascript object>"
            ],
            "application/javascript": [
              "\n",
              "        if (window._pyforest_update_imports_cell) { window._pyforest_update_imports_cell('import matplotlib.pyplot as plt\\nimport lightgbm as lgb\\nimport statistics\\nimport re\\nfrom sklearn.model_selection import train_test_split\\nimport xgboost as xgb\\nfrom openpyxl import load_workbook\\nimport pandas as pd\\nfrom scipy import stats\\nimport textblob\\nimport torch\\nimport random\\nfrom scipy import signal as sg\\nimport sklearn\\nimport seaborn as sns\\nimport spacy\\nimport numpy as np\\nfrom sklearn import svm\\nimport skimage\\nimport sys\\nimport tensorflow as tf\\nimport statsmodels.api as sm\\nimport tqdm'); }\n",
              "    "
            ]
          },
          "metadata": {}
        },
        {
          "output_type": "display_data",
          "data": {
            "text/plain": [
              "<IPython.core.display.Javascript object>"
            ],
            "application/javascript": [
              "\n",
              "        if (window._pyforest_update_imports_cell) { window._pyforest_update_imports_cell('import matplotlib.pyplot as plt\\nimport lightgbm as lgb\\nimport statistics\\nimport re\\nfrom sklearn.model_selection import train_test_split\\nimport xgboost as xgb\\nfrom openpyxl import load_workbook\\nimport pandas as pd\\nfrom scipy import stats\\nimport textblob\\nimport torch\\nimport random\\nfrom scipy import signal as sg\\nimport sklearn\\nimport seaborn as sns\\nimport spacy\\nimport numpy as np\\nfrom sklearn import svm\\nimport skimage\\nimport sys\\nimport tensorflow as tf\\nimport statsmodels.api as sm\\nimport tqdm'); }\n",
              "    "
            ]
          },
          "metadata": {}
        },
        {
          "output_type": "display_data",
          "data": {
            "text/plain": [
              "<IPython.core.display.Javascript object>"
            ],
            "application/javascript": [
              "\n",
              "        if (window._pyforest_update_imports_cell) { window._pyforest_update_imports_cell('import matplotlib.pyplot as plt\\nimport lightgbm as lgb\\nimport statistics\\nimport re\\nfrom sklearn.model_selection import train_test_split\\nimport xgboost as xgb\\nfrom openpyxl import load_workbook\\nimport pandas as pd\\nfrom scipy import stats\\nimport textblob\\nimport torch\\nimport random\\nfrom scipy import signal as sg\\nimport sklearn\\nimport seaborn as sns\\nimport spacy\\nimport numpy as np\\nfrom sklearn import svm\\nimport skimage\\nimport sys\\nimport tensorflow as tf\\nimport statsmodels.api as sm\\nimport tqdm'); }\n",
              "    "
            ]
          },
          "metadata": {}
        },
        {
          "output_type": "display_data",
          "data": {
            "text/plain": [
              "<IPython.core.display.Javascript object>"
            ],
            "application/javascript": [
              "\n",
              "        if (window._pyforest_update_imports_cell) { window._pyforest_update_imports_cell('import matplotlib.pyplot as plt\\nimport lightgbm as lgb\\nimport statistics\\nimport re\\nfrom sklearn.model_selection import train_test_split\\nimport xgboost as xgb\\nfrom openpyxl import load_workbook\\nimport pandas as pd\\nfrom scipy import stats\\nimport textblob\\nimport torch\\nimport random\\nfrom scipy import signal as sg\\nimport sklearn\\nimport seaborn as sns\\nimport spacy\\nimport numpy as np\\nfrom sklearn import svm\\nimport skimage\\nimport sys\\nimport tensorflow as tf\\nimport statsmodels.api as sm\\nimport tqdm'); }\n",
              "    "
            ]
          },
          "metadata": {}
        },
        {
          "output_type": "display_data",
          "data": {
            "text/plain": [
              "<IPython.core.display.Javascript object>"
            ],
            "application/javascript": [
              "\n",
              "        if (window._pyforest_update_imports_cell) { window._pyforest_update_imports_cell('import matplotlib.pyplot as plt\\nimport lightgbm as lgb\\nimport statistics\\nimport re\\nfrom sklearn.model_selection import train_test_split\\nimport xgboost as xgb\\nfrom openpyxl import load_workbook\\nimport pandas as pd\\nfrom scipy import stats\\nimport textblob\\nimport torch\\nimport random\\nfrom scipy import signal as sg\\nimport sklearn\\nimport seaborn as sns\\nimport spacy\\nimport numpy as np\\nfrom sklearn import svm\\nimport skimage\\nimport sys\\nimport tensorflow as tf\\nimport statsmodels.api as sm\\nimport tqdm'); }\n",
              "    "
            ]
          },
          "metadata": {}
        },
        {
          "output_type": "display_data",
          "data": {
            "text/plain": [
              "<IPython.core.display.Javascript object>"
            ],
            "application/javascript": [
              "\n",
              "        if (window._pyforest_update_imports_cell) { window._pyforest_update_imports_cell('import matplotlib.pyplot as plt\\nimport lightgbm as lgb\\nimport statistics\\nimport re\\nfrom sklearn.model_selection import train_test_split\\nimport xgboost as xgb\\nfrom openpyxl import load_workbook\\nimport pandas as pd\\nfrom scipy import stats\\nimport textblob\\nimport torch\\nimport random\\nfrom scipy import signal as sg\\nimport sklearn\\nimport seaborn as sns\\nimport spacy\\nimport numpy as np\\nfrom sklearn import svm\\nimport skimage\\nimport sys\\nimport tensorflow as tf\\nimport statsmodels.api as sm\\nimport tqdm'); }\n",
              "    "
            ]
          },
          "metadata": {}
        },
        {
          "output_type": "display_data",
          "data": {
            "text/plain": [
              "<IPython.core.display.Javascript object>"
            ],
            "application/javascript": [
              "\n",
              "        if (window._pyforest_update_imports_cell) { window._pyforest_update_imports_cell('import matplotlib.pyplot as plt\\nimport lightgbm as lgb\\nimport statistics\\nimport re\\nfrom sklearn.model_selection import train_test_split\\nimport xgboost as xgb\\nfrom openpyxl import load_workbook\\nimport pandas as pd\\nfrom scipy import stats\\nimport textblob\\nimport torch\\nimport random\\nfrom scipy import signal as sg\\nimport sklearn\\nimport seaborn as sns\\nimport spacy\\nimport numpy as np\\nfrom sklearn import svm\\nimport skimage\\nimport sys\\nimport tensorflow as tf\\nimport statsmodels.api as sm\\nimport tqdm'); }\n",
              "    "
            ]
          },
          "metadata": {}
        },
        {
          "output_type": "display_data",
          "data": {
            "text/plain": [
              "<IPython.core.display.Javascript object>"
            ],
            "application/javascript": [
              "\n",
              "        if (window._pyforest_update_imports_cell) { window._pyforest_update_imports_cell('import matplotlib.pyplot as plt\\nimport lightgbm as lgb\\nimport statistics\\nimport re\\nfrom sklearn.model_selection import train_test_split\\nimport xgboost as xgb\\nfrom openpyxl import load_workbook\\nimport pandas as pd\\nfrom scipy import stats\\nimport textblob\\nimport torch\\nimport random\\nfrom scipy import signal as sg\\nimport sklearn\\nimport seaborn as sns\\nimport spacy\\nimport numpy as np\\nfrom sklearn import svm\\nimport skimage\\nimport sys\\nimport tensorflow as tf\\nimport statsmodels.api as sm\\nimport tqdm'); }\n",
              "    "
            ]
          },
          "metadata": {}
        },
        {
          "output_type": "display_data",
          "data": {
            "text/plain": [
              "<IPython.core.display.Javascript object>"
            ],
            "application/javascript": [
              "\n",
              "        if (window._pyforest_update_imports_cell) { window._pyforest_update_imports_cell('import matplotlib.pyplot as plt\\nimport lightgbm as lgb\\nimport statistics\\nimport re\\nfrom sklearn.model_selection import train_test_split\\nimport xgboost as xgb\\nfrom openpyxl import load_workbook\\nimport pandas as pd\\nfrom scipy import stats\\nimport textblob\\nimport torch\\nimport random\\nfrom scipy import signal as sg\\nimport sklearn\\nimport seaborn as sns\\nimport spacy\\nimport numpy as np\\nfrom sklearn import svm\\nimport skimage\\nimport sys\\nimport tensorflow as tf\\nimport statsmodels.api as sm\\nimport tqdm'); }\n",
              "    "
            ]
          },
          "metadata": {}
        },
        {
          "output_type": "display_data",
          "data": {
            "text/plain": [
              "<IPython.core.display.Javascript object>"
            ],
            "application/javascript": [
              "\n",
              "        if (window._pyforest_update_imports_cell) { window._pyforest_update_imports_cell('import matplotlib.pyplot as plt\\nimport lightgbm as lgb\\nimport statistics\\nimport re\\nfrom sklearn.model_selection import train_test_split\\nimport xgboost as xgb\\nfrom openpyxl import load_workbook\\nimport pandas as pd\\nfrom scipy import stats\\nimport textblob\\nimport torch\\nimport random\\nfrom scipy import signal as sg\\nimport sklearn\\nimport seaborn as sns\\nimport spacy\\nimport numpy as np\\nfrom sklearn import svm\\nimport skimage\\nimport sys\\nimport tensorflow as tf\\nimport statsmodels.api as sm\\nimport tqdm'); }\n",
              "    "
            ]
          },
          "metadata": {}
        },
        {
          "output_type": "display_data",
          "data": {
            "text/plain": [
              "<IPython.core.display.Javascript object>"
            ],
            "application/javascript": [
              "\n",
              "        if (window._pyforest_update_imports_cell) { window._pyforest_update_imports_cell('import matplotlib.pyplot as plt\\nimport lightgbm as lgb\\nimport statistics\\nimport re\\nfrom sklearn.model_selection import train_test_split\\nimport xgboost as xgb\\nfrom openpyxl import load_workbook\\nimport pandas as pd\\nfrom scipy import stats\\nimport textblob\\nimport torch\\nimport random\\nfrom scipy import signal as sg\\nimport sklearn\\nimport seaborn as sns\\nimport spacy\\nimport numpy as np\\nfrom sklearn import svm\\nimport skimage\\nimport sys\\nimport tensorflow as tf\\nimport statsmodels.api as sm\\nimport tqdm'); }\n",
              "    "
            ]
          },
          "metadata": {}
        },
        {
          "output_type": "display_data",
          "data": {
            "text/plain": [
              "<IPython.core.display.Javascript object>"
            ],
            "application/javascript": [
              "\n",
              "        if (window._pyforest_update_imports_cell) { window._pyforest_update_imports_cell('import matplotlib.pyplot as plt\\nimport lightgbm as lgb\\nimport statistics\\nimport re\\nfrom sklearn.model_selection import train_test_split\\nimport xgboost as xgb\\nfrom openpyxl import load_workbook\\nimport pandas as pd\\nfrom scipy import stats\\nimport textblob\\nimport torch\\nimport random\\nfrom scipy import signal as sg\\nimport sklearn\\nimport seaborn as sns\\nimport spacy\\nimport numpy as np\\nfrom sklearn import svm\\nimport skimage\\nimport sys\\nimport tensorflow as tf\\nimport statsmodels.api as sm\\nimport tqdm'); }\n",
              "    "
            ]
          },
          "metadata": {}
        },
        {
          "output_type": "display_data",
          "data": {
            "text/plain": [
              "<IPython.core.display.Javascript object>"
            ],
            "application/javascript": [
              "\n",
              "        if (window._pyforest_update_imports_cell) { window._pyforest_update_imports_cell('import matplotlib.pyplot as plt\\nimport lightgbm as lgb\\nimport statistics\\nimport re\\nfrom sklearn.model_selection import train_test_split\\nimport xgboost as xgb\\nfrom openpyxl import load_workbook\\nimport pandas as pd\\nfrom scipy import stats\\nimport textblob\\nimport torch\\nimport random\\nfrom scipy import signal as sg\\nimport sklearn\\nimport seaborn as sns\\nimport spacy\\nimport numpy as np\\nfrom sklearn import svm\\nimport skimage\\nimport sys\\nimport tensorflow as tf\\nimport statsmodels.api as sm\\nimport tqdm'); }\n",
              "    "
            ]
          },
          "metadata": {}
        },
        {
          "output_type": "display_data",
          "data": {
            "text/plain": [
              "<IPython.core.display.Javascript object>"
            ],
            "application/javascript": [
              "\n",
              "        if (window._pyforest_update_imports_cell) { window._pyforest_update_imports_cell('import matplotlib.pyplot as plt\\nimport lightgbm as lgb\\nimport statistics\\nimport re\\nfrom sklearn.model_selection import train_test_split\\nimport xgboost as xgb\\nfrom openpyxl import load_workbook\\nimport pandas as pd\\nfrom scipy import stats\\nimport textblob\\nimport torch\\nimport random\\nfrom scipy import signal as sg\\nimport sklearn\\nimport seaborn as sns\\nimport spacy\\nimport numpy as np\\nfrom sklearn import svm\\nimport skimage\\nimport sys\\nimport tensorflow as tf\\nimport statsmodels.api as sm\\nimport tqdm'); }\n",
              "    "
            ]
          },
          "metadata": {}
        },
        {
          "output_type": "display_data",
          "data": {
            "text/plain": [
              "<IPython.core.display.Javascript object>"
            ],
            "application/javascript": [
              "\n",
              "        if (window._pyforest_update_imports_cell) { window._pyforest_update_imports_cell('import matplotlib.pyplot as plt\\nimport lightgbm as lgb\\nimport statistics\\nimport re\\nfrom sklearn.model_selection import train_test_split\\nimport xgboost as xgb\\nfrom openpyxl import load_workbook\\nimport pandas as pd\\nfrom scipy import stats\\nimport textblob\\nimport torch\\nimport random\\nfrom scipy import signal as sg\\nimport sklearn\\nimport seaborn as sns\\nimport spacy\\nimport numpy as np\\nfrom sklearn import svm\\nimport skimage\\nimport sys\\nimport tensorflow as tf\\nimport statsmodels.api as sm\\nimport tqdm'); }\n",
              "    "
            ]
          },
          "metadata": {}
        },
        {
          "output_type": "display_data",
          "data": {
            "text/plain": [
              "<IPython.core.display.Javascript object>"
            ],
            "application/javascript": [
              "\n",
              "        if (window._pyforest_update_imports_cell) { window._pyforest_update_imports_cell('import matplotlib.pyplot as plt\\nimport lightgbm as lgb\\nimport statistics\\nimport re\\nfrom sklearn.model_selection import train_test_split\\nimport xgboost as xgb\\nfrom openpyxl import load_workbook\\nimport pandas as pd\\nfrom scipy import stats\\nimport textblob\\nimport torch\\nimport random\\nfrom scipy import signal as sg\\nimport sklearn\\nimport seaborn as sns\\nimport spacy\\nimport numpy as np\\nfrom sklearn import svm\\nimport skimage\\nimport sys\\nimport tensorflow as tf\\nimport statsmodels.api as sm\\nimport tqdm'); }\n",
              "    "
            ]
          },
          "metadata": {}
        },
        {
          "output_type": "display_data",
          "data": {
            "text/plain": [
              "<IPython.core.display.Javascript object>"
            ],
            "application/javascript": [
              "\n",
              "        if (window._pyforest_update_imports_cell) { window._pyforest_update_imports_cell('import matplotlib.pyplot as plt\\nimport lightgbm as lgb\\nimport statistics\\nimport re\\nfrom sklearn.model_selection import train_test_split\\nimport xgboost as xgb\\nfrom openpyxl import load_workbook\\nimport pandas as pd\\nfrom scipy import stats\\nimport textblob\\nimport torch\\nimport random\\nfrom scipy import signal as sg\\nimport sklearn\\nimport seaborn as sns\\nimport spacy\\nimport numpy as np\\nfrom sklearn import svm\\nimport skimage\\nimport sys\\nimport tensorflow as tf\\nimport statsmodels.api as sm\\nimport tqdm'); }\n",
              "    "
            ]
          },
          "metadata": {}
        },
        {
          "output_type": "display_data",
          "data": {
            "text/plain": [
              "<IPython.core.display.Javascript object>"
            ],
            "application/javascript": [
              "\n",
              "        if (window._pyforest_update_imports_cell) { window._pyforest_update_imports_cell('import matplotlib.pyplot as plt\\nimport lightgbm as lgb\\nimport statistics\\nimport re\\nfrom sklearn.model_selection import train_test_split\\nimport xgboost as xgb\\nfrom openpyxl import load_workbook\\nimport pandas as pd\\nfrom scipy import stats\\nimport textblob\\nimport torch\\nimport random\\nfrom scipy import signal as sg\\nimport sklearn\\nimport seaborn as sns\\nimport spacy\\nimport numpy as np\\nfrom sklearn import svm\\nimport skimage\\nimport sys\\nimport tensorflow as tf\\nimport statsmodels.api as sm\\nimport tqdm'); }\n",
              "    "
            ]
          },
          "metadata": {}
        },
        {
          "output_type": "display_data",
          "data": {
            "text/plain": [
              "<IPython.core.display.Javascript object>"
            ],
            "application/javascript": [
              "\n",
              "        if (window._pyforest_update_imports_cell) { window._pyforest_update_imports_cell('import matplotlib.pyplot as plt\\nimport lightgbm as lgb\\nimport statistics\\nimport re\\nfrom sklearn.model_selection import train_test_split\\nimport xgboost as xgb\\nfrom openpyxl import load_workbook\\nimport pandas as pd\\nfrom scipy import stats\\nimport textblob\\nimport torch\\nimport random\\nfrom scipy import signal as sg\\nimport sklearn\\nimport seaborn as sns\\nimport spacy\\nimport numpy as np\\nfrom sklearn import svm\\nimport skimage\\nimport sys\\nimport tensorflow as tf\\nimport statsmodels.api as sm\\nimport tqdm'); }\n",
              "    "
            ]
          },
          "metadata": {}
        },
        {
          "output_type": "display_data",
          "data": {
            "text/plain": [
              "<IPython.core.display.Javascript object>"
            ],
            "application/javascript": [
              "\n",
              "        if (window._pyforest_update_imports_cell) { window._pyforest_update_imports_cell('import matplotlib.pyplot as plt\\nimport lightgbm as lgb\\nimport statistics\\nimport re\\nfrom sklearn.model_selection import train_test_split\\nimport xgboost as xgb\\nfrom openpyxl import load_workbook\\nimport pandas as pd\\nfrom scipy import stats\\nimport textblob\\nimport torch\\nimport random\\nfrom scipy import signal as sg\\nimport sklearn\\nimport seaborn as sns\\nimport spacy\\nimport numpy as np\\nfrom sklearn import svm\\nimport skimage\\nimport sys\\nimport tensorflow as tf\\nimport statsmodels.api as sm\\nimport tqdm'); }\n",
              "    "
            ]
          },
          "metadata": {}
        },
        {
          "output_type": "display_data",
          "data": {
            "text/plain": [
              "<IPython.core.display.Javascript object>"
            ],
            "application/javascript": [
              "\n",
              "        if (window._pyforest_update_imports_cell) { window._pyforest_update_imports_cell('import matplotlib.pyplot as plt\\nimport lightgbm as lgb\\nimport statistics\\nimport re\\nfrom sklearn.model_selection import train_test_split\\nimport xgboost as xgb\\nfrom openpyxl import load_workbook\\nimport pandas as pd\\nfrom scipy import stats\\nimport textblob\\nimport torch\\nimport random\\nfrom scipy import signal as sg\\nimport sklearn\\nimport seaborn as sns\\nimport spacy\\nimport numpy as np\\nfrom sklearn import svm\\nimport skimage\\nimport sys\\nimport tensorflow as tf\\nimport statsmodels.api as sm\\nimport tqdm'); }\n",
              "    "
            ]
          },
          "metadata": {}
        },
        {
          "output_type": "display_data",
          "data": {
            "text/plain": [
              "<IPython.core.display.Javascript object>"
            ],
            "application/javascript": [
              "\n",
              "        if (window._pyforest_update_imports_cell) { window._pyforest_update_imports_cell('import matplotlib.pyplot as plt\\nimport lightgbm as lgb\\nimport statistics\\nimport re\\nfrom sklearn.model_selection import train_test_split\\nimport xgboost as xgb\\nfrom openpyxl import load_workbook\\nimport pandas as pd\\nfrom scipy import stats\\nimport textblob\\nimport torch\\nimport random\\nfrom scipy import signal as sg\\nimport sklearn\\nimport seaborn as sns\\nimport spacy\\nimport numpy as np\\nfrom sklearn import svm\\nimport skimage\\nimport sys\\nimport tensorflow as tf\\nimport statsmodels.api as sm\\nimport tqdm'); }\n",
              "    "
            ]
          },
          "metadata": {}
        },
        {
          "output_type": "display_data",
          "data": {
            "text/plain": [
              "<IPython.core.display.Javascript object>"
            ],
            "application/javascript": [
              "\n",
              "        if (window._pyforest_update_imports_cell) { window._pyforest_update_imports_cell('import matplotlib.pyplot as plt\\nimport lightgbm as lgb\\nimport statistics\\nimport re\\nfrom sklearn.model_selection import train_test_split\\nimport xgboost as xgb\\nfrom openpyxl import load_workbook\\nimport pandas as pd\\nfrom scipy import stats\\nimport textblob\\nimport torch\\nimport random\\nfrom scipy import signal as sg\\nimport sklearn\\nimport seaborn as sns\\nimport spacy\\nimport numpy as np\\nfrom sklearn import svm\\nimport skimage\\nimport sys\\nimport tensorflow as tf\\nimport statsmodels.api as sm\\nimport tqdm'); }\n",
              "    "
            ]
          },
          "metadata": {}
        },
        {
          "output_type": "display_data",
          "data": {
            "text/plain": [
              "<IPython.core.display.Javascript object>"
            ],
            "application/javascript": [
              "\n",
              "        if (window._pyforest_update_imports_cell) { window._pyforest_update_imports_cell('import matplotlib.pyplot as plt\\nimport lightgbm as lgb\\nimport statistics\\nimport re\\nfrom sklearn.model_selection import train_test_split\\nimport xgboost as xgb\\nfrom openpyxl import load_workbook\\nimport pandas as pd\\nfrom scipy import stats\\nimport textblob\\nimport torch\\nimport random\\nfrom scipy import signal as sg\\nimport sklearn\\nimport seaborn as sns\\nimport spacy\\nimport numpy as np\\nfrom sklearn import svm\\nimport skimage\\nimport sys\\nimport tensorflow as tf\\nimport statsmodels.api as sm\\nimport tqdm'); }\n",
              "    "
            ]
          },
          "metadata": {}
        },
        {
          "output_type": "display_data",
          "data": {
            "text/plain": [
              "<IPython.core.display.Javascript object>"
            ],
            "application/javascript": [
              "\n",
              "        if (window._pyforest_update_imports_cell) { window._pyforest_update_imports_cell('import matplotlib.pyplot as plt\\nimport lightgbm as lgb\\nimport statistics\\nimport re\\nfrom sklearn.model_selection import train_test_split\\nimport xgboost as xgb\\nfrom openpyxl import load_workbook\\nimport pandas as pd\\nfrom scipy import stats\\nimport textblob\\nimport torch\\nimport random\\nfrom scipy import signal as sg\\nimport sklearn\\nimport seaborn as sns\\nimport spacy\\nimport numpy as np\\nfrom sklearn import svm\\nimport skimage\\nimport sys\\nimport tensorflow as tf\\nimport statsmodels.api as sm\\nimport tqdm'); }\n",
              "    "
            ]
          },
          "metadata": {}
        },
        {
          "output_type": "display_data",
          "data": {
            "text/plain": [
              "<IPython.core.display.Javascript object>"
            ],
            "application/javascript": [
              "\n",
              "        if (window._pyforest_update_imports_cell) { window._pyforest_update_imports_cell('import matplotlib.pyplot as plt\\nimport lightgbm as lgb\\nimport statistics\\nimport re\\nfrom sklearn.model_selection import train_test_split\\nimport xgboost as xgb\\nfrom openpyxl import load_workbook\\nimport pandas as pd\\nfrom scipy import stats\\nimport textblob\\nimport torch\\nimport random\\nfrom scipy import signal as sg\\nimport sklearn\\nimport seaborn as sns\\nimport spacy\\nimport numpy as np\\nfrom sklearn import svm\\nimport skimage\\nimport sys\\nimport tensorflow as tf\\nimport statsmodels.api as sm\\nimport tqdm'); }\n",
              "    "
            ]
          },
          "metadata": {}
        },
        {
          "output_type": "display_data",
          "data": {
            "text/plain": [
              "<IPython.core.display.Javascript object>"
            ],
            "application/javascript": [
              "\n",
              "        if (window._pyforest_update_imports_cell) { window._pyforest_update_imports_cell('import matplotlib.pyplot as plt\\nimport lightgbm as lgb\\nimport statistics\\nimport re\\nfrom sklearn.model_selection import train_test_split\\nimport xgboost as xgb\\nfrom openpyxl import load_workbook\\nimport pandas as pd\\nfrom scipy import stats\\nimport textblob\\nimport torch\\nimport random\\nfrom scipy import signal as sg\\nimport sklearn\\nimport seaborn as sns\\nimport spacy\\nimport numpy as np\\nfrom sklearn import svm\\nimport skimage\\nimport sys\\nimport tensorflow as tf\\nimport statsmodels.api as sm\\nimport tqdm'); }\n",
              "    "
            ]
          },
          "metadata": {}
        },
        {
          "output_type": "display_data",
          "data": {
            "text/plain": [
              "<IPython.core.display.Javascript object>"
            ],
            "application/javascript": [
              "\n",
              "        if (window._pyforest_update_imports_cell) { window._pyforest_update_imports_cell('import matplotlib.pyplot as plt\\nimport lightgbm as lgb\\nimport statistics\\nimport re\\nfrom sklearn.model_selection import train_test_split\\nimport xgboost as xgb\\nfrom openpyxl import load_workbook\\nimport pandas as pd\\nfrom scipy import stats\\nimport textblob\\nimport torch\\nimport random\\nfrom scipy import signal as sg\\nimport sklearn\\nimport seaborn as sns\\nimport spacy\\nimport numpy as np\\nfrom sklearn import svm\\nimport skimage\\nimport sys\\nimport tensorflow as tf\\nimport statsmodels.api as sm\\nimport tqdm'); }\n",
              "    "
            ]
          },
          "metadata": {}
        },
        {
          "output_type": "display_data",
          "data": {
            "text/plain": [
              "<IPython.core.display.Javascript object>"
            ],
            "application/javascript": [
              "\n",
              "        if (window._pyforest_update_imports_cell) { window._pyforest_update_imports_cell('import matplotlib.pyplot as plt\\nimport lightgbm as lgb\\nimport statistics\\nimport re\\nfrom sklearn.model_selection import train_test_split\\nimport xgboost as xgb\\nfrom openpyxl import load_workbook\\nimport pandas as pd\\nfrom scipy import stats\\nimport textblob\\nimport torch\\nimport random\\nfrom scipy import signal as sg\\nimport sklearn\\nimport seaborn as sns\\nimport spacy\\nimport numpy as np\\nfrom sklearn import svm\\nimport skimage\\nimport sys\\nimport tensorflow as tf\\nimport statsmodels.api as sm\\nimport tqdm'); }\n",
              "    "
            ]
          },
          "metadata": {}
        },
        {
          "output_type": "display_data",
          "data": {
            "text/plain": [
              "<IPython.core.display.Javascript object>"
            ],
            "application/javascript": [
              "\n",
              "        if (window._pyforest_update_imports_cell) { window._pyforest_update_imports_cell('import matplotlib.pyplot as plt\\nimport lightgbm as lgb\\nimport statistics\\nimport re\\nfrom sklearn.model_selection import train_test_split\\nimport xgboost as xgb\\nfrom openpyxl import load_workbook\\nimport pandas as pd\\nfrom scipy import stats\\nimport textblob\\nimport torch\\nimport random\\nfrom scipy import signal as sg\\nimport sklearn\\nimport seaborn as sns\\nimport spacy\\nimport numpy as np\\nfrom sklearn import svm\\nimport skimage\\nimport sys\\nimport tensorflow as tf\\nimport statsmodels.api as sm\\nimport tqdm'); }\n",
              "    "
            ]
          },
          "metadata": {}
        },
        {
          "output_type": "display_data",
          "data": {
            "text/plain": [
              "<IPython.core.display.Javascript object>"
            ],
            "application/javascript": [
              "\n",
              "        if (window._pyforest_update_imports_cell) { window._pyforest_update_imports_cell('import matplotlib.pyplot as plt\\nimport lightgbm as lgb\\nimport statistics\\nimport re\\nfrom sklearn.model_selection import train_test_split\\nimport xgboost as xgb\\nfrom openpyxl import load_workbook\\nimport pandas as pd\\nfrom scipy import stats\\nimport textblob\\nimport torch\\nimport random\\nfrom scipy import signal as sg\\nimport sklearn\\nimport seaborn as sns\\nimport spacy\\nimport numpy as np\\nfrom sklearn import svm\\nimport skimage\\nimport sys\\nimport tensorflow as tf\\nimport statsmodels.api as sm\\nimport tqdm'); }\n",
              "    "
            ]
          },
          "metadata": {}
        },
        {
          "output_type": "display_data",
          "data": {
            "text/plain": [
              "<IPython.core.display.Javascript object>"
            ],
            "application/javascript": [
              "\n",
              "        if (window._pyforest_update_imports_cell) { window._pyforest_update_imports_cell('import matplotlib.pyplot as plt\\nimport lightgbm as lgb\\nimport statistics\\nimport re\\nfrom sklearn.model_selection import train_test_split\\nimport xgboost as xgb\\nfrom openpyxl import load_workbook\\nimport pandas as pd\\nfrom scipy import stats\\nimport textblob\\nimport torch\\nimport random\\nfrom scipy import signal as sg\\nimport sklearn\\nimport seaborn as sns\\nimport spacy\\nimport numpy as np\\nfrom sklearn import svm\\nimport skimage\\nimport sys\\nimport tensorflow as tf\\nimport statsmodels.api as sm\\nimport tqdm'); }\n",
              "    "
            ]
          },
          "metadata": {}
        },
        {
          "output_type": "display_data",
          "data": {
            "text/plain": [
              "<IPython.core.display.Javascript object>"
            ],
            "application/javascript": [
              "\n",
              "        if (window._pyforest_update_imports_cell) { window._pyforest_update_imports_cell('import matplotlib.pyplot as plt\\nimport lightgbm as lgb\\nimport statistics\\nimport re\\nfrom sklearn.model_selection import train_test_split\\nimport xgboost as xgb\\nfrom openpyxl import load_workbook\\nimport pandas as pd\\nfrom scipy import stats\\nimport textblob\\nimport torch\\nimport random\\nfrom scipy import signal as sg\\nimport sklearn\\nimport seaborn as sns\\nimport spacy\\nimport numpy as np\\nfrom sklearn import svm\\nimport skimage\\nimport sys\\nimport tensorflow as tf\\nimport statsmodels.api as sm\\nimport tqdm'); }\n",
              "    "
            ]
          },
          "metadata": {}
        },
        {
          "output_type": "display_data",
          "data": {
            "text/plain": [
              "<IPython.core.display.Javascript object>"
            ],
            "application/javascript": [
              "\n",
              "        if (window._pyforest_update_imports_cell) { window._pyforest_update_imports_cell('import matplotlib.pyplot as plt\\nimport lightgbm as lgb\\nimport statistics\\nimport re\\nfrom sklearn.model_selection import train_test_split\\nimport xgboost as xgb\\nfrom openpyxl import load_workbook\\nimport pandas as pd\\nfrom scipy import stats\\nimport textblob\\nimport torch\\nimport random\\nfrom scipy import signal as sg\\nimport sklearn\\nimport seaborn as sns\\nimport spacy\\nimport numpy as np\\nfrom sklearn import svm\\nimport skimage\\nimport sys\\nimport tensorflow as tf\\nimport statsmodels.api as sm\\nimport tqdm'); }\n",
              "    "
            ]
          },
          "metadata": {}
        },
        {
          "output_type": "display_data",
          "data": {
            "text/plain": [
              "<IPython.core.display.Javascript object>"
            ],
            "application/javascript": [
              "\n",
              "        if (window._pyforest_update_imports_cell) { window._pyforest_update_imports_cell('import matplotlib.pyplot as plt\\nimport lightgbm as lgb\\nimport statistics\\nimport re\\nfrom sklearn.model_selection import train_test_split\\nimport xgboost as xgb\\nfrom openpyxl import load_workbook\\nimport pandas as pd\\nfrom scipy import stats\\nimport textblob\\nimport torch\\nimport random\\nfrom scipy import signal as sg\\nimport sklearn\\nimport seaborn as sns\\nimport spacy\\nimport numpy as np\\nfrom sklearn import svm\\nimport skimage\\nimport sys\\nimport tensorflow as tf\\nimport statsmodels.api as sm\\nimport tqdm'); }\n",
              "    "
            ]
          },
          "metadata": {}
        },
        {
          "output_type": "display_data",
          "data": {
            "text/plain": [
              "<IPython.core.display.Javascript object>"
            ],
            "application/javascript": [
              "\n",
              "        if (window._pyforest_update_imports_cell) { window._pyforest_update_imports_cell('import matplotlib.pyplot as plt\\nimport lightgbm as lgb\\nimport statistics\\nimport re\\nfrom sklearn.model_selection import train_test_split\\nimport xgboost as xgb\\nfrom openpyxl import load_workbook\\nimport pandas as pd\\nfrom scipy import stats\\nimport textblob\\nimport torch\\nimport random\\nfrom scipy import signal as sg\\nimport sklearn\\nimport seaborn as sns\\nimport spacy\\nimport numpy as np\\nfrom sklearn import svm\\nimport skimage\\nimport sys\\nimport tensorflow as tf\\nimport statsmodels.api as sm\\nimport tqdm'); }\n",
              "    "
            ]
          },
          "metadata": {}
        },
        {
          "output_type": "display_data",
          "data": {
            "text/plain": [
              "<IPython.core.display.Javascript object>"
            ],
            "application/javascript": [
              "\n",
              "        if (window._pyforest_update_imports_cell) { window._pyforest_update_imports_cell('import matplotlib.pyplot as plt\\nimport lightgbm as lgb\\nimport statistics\\nimport re\\nfrom sklearn.model_selection import train_test_split\\nimport xgboost as xgb\\nfrom openpyxl import load_workbook\\nimport pandas as pd\\nfrom scipy import stats\\nimport textblob\\nimport torch\\nimport random\\nfrom scipy import signal as sg\\nimport sklearn\\nimport seaborn as sns\\nimport spacy\\nimport numpy as np\\nfrom sklearn import svm\\nimport skimage\\nimport sys\\nimport tensorflow as tf\\nimport statsmodels.api as sm\\nimport tqdm'); }\n",
              "    "
            ]
          },
          "metadata": {}
        },
        {
          "output_type": "display_data",
          "data": {
            "text/plain": [
              "<IPython.core.display.Javascript object>"
            ],
            "application/javascript": [
              "\n",
              "        if (window._pyforest_update_imports_cell) { window._pyforest_update_imports_cell('import matplotlib.pyplot as plt\\nimport lightgbm as lgb\\nimport statistics\\nimport re\\nfrom sklearn.model_selection import train_test_split\\nimport xgboost as xgb\\nfrom openpyxl import load_workbook\\nimport pandas as pd\\nfrom scipy import stats\\nimport textblob\\nimport torch\\nimport random\\nfrom scipy import signal as sg\\nimport sklearn\\nimport seaborn as sns\\nimport spacy\\nimport numpy as np\\nfrom sklearn import svm\\nimport skimage\\nimport sys\\nimport tensorflow as tf\\nimport statsmodels.api as sm\\nimport tqdm'); }\n",
              "    "
            ]
          },
          "metadata": {}
        },
        {
          "output_type": "display_data",
          "data": {
            "text/plain": [
              "<IPython.core.display.Javascript object>"
            ],
            "application/javascript": [
              "\n",
              "        if (window._pyforest_update_imports_cell) { window._pyforest_update_imports_cell('import matplotlib.pyplot as plt\\nimport lightgbm as lgb\\nimport statistics\\nimport re\\nfrom sklearn.model_selection import train_test_split\\nimport xgboost as xgb\\nfrom openpyxl import load_workbook\\nimport pandas as pd\\nfrom scipy import stats\\nimport textblob\\nimport torch\\nimport random\\nfrom scipy import signal as sg\\nimport sklearn\\nimport seaborn as sns\\nimport spacy\\nimport numpy as np\\nfrom sklearn import svm\\nimport skimage\\nimport sys\\nimport tensorflow as tf\\nimport statsmodels.api as sm\\nimport tqdm'); }\n",
              "    "
            ]
          },
          "metadata": {}
        },
        {
          "output_type": "display_data",
          "data": {
            "text/plain": [
              "<IPython.core.display.Javascript object>"
            ],
            "application/javascript": [
              "\n",
              "        if (window._pyforest_update_imports_cell) { window._pyforest_update_imports_cell('import matplotlib.pyplot as plt\\nimport lightgbm as lgb\\nimport statistics\\nimport re\\nfrom sklearn.model_selection import train_test_split\\nimport xgboost as xgb\\nfrom openpyxl import load_workbook\\nimport pandas as pd\\nfrom scipy import stats\\nimport textblob\\nimport torch\\nimport random\\nfrom scipy import signal as sg\\nimport sklearn\\nimport seaborn as sns\\nimport spacy\\nimport numpy as np\\nfrom sklearn import svm\\nimport skimage\\nimport sys\\nimport tensorflow as tf\\nimport statsmodels.api as sm\\nimport tqdm'); }\n",
              "    "
            ]
          },
          "metadata": {}
        },
        {
          "output_type": "display_data",
          "data": {
            "text/plain": [
              "<IPython.core.display.Javascript object>"
            ],
            "application/javascript": [
              "\n",
              "        if (window._pyforest_update_imports_cell) { window._pyforest_update_imports_cell('import matplotlib.pyplot as plt\\nimport lightgbm as lgb\\nimport statistics\\nimport re\\nfrom sklearn.model_selection import train_test_split\\nimport xgboost as xgb\\nfrom openpyxl import load_workbook\\nimport pandas as pd\\nfrom scipy import stats\\nimport textblob\\nimport torch\\nimport random\\nfrom scipy import signal as sg\\nimport sklearn\\nimport seaborn as sns\\nimport spacy\\nimport numpy as np\\nfrom sklearn import svm\\nimport skimage\\nimport sys\\nimport tensorflow as tf\\nimport statsmodels.api as sm\\nimport tqdm'); }\n",
              "    "
            ]
          },
          "metadata": {}
        },
        {
          "output_type": "display_data",
          "data": {
            "text/plain": [
              "<IPython.core.display.Javascript object>"
            ],
            "application/javascript": [
              "\n",
              "        if (window._pyforest_update_imports_cell) { window._pyforest_update_imports_cell('import matplotlib.pyplot as plt\\nimport lightgbm as lgb\\nimport statistics\\nimport re\\nfrom sklearn.model_selection import train_test_split\\nimport xgboost as xgb\\nfrom openpyxl import load_workbook\\nimport pandas as pd\\nfrom scipy import stats\\nimport textblob\\nimport torch\\nimport random\\nfrom scipy import signal as sg\\nimport sklearn\\nimport seaborn as sns\\nimport spacy\\nimport numpy as np\\nfrom sklearn import svm\\nimport skimage\\nimport sys\\nimport tensorflow as tf\\nimport statsmodels.api as sm\\nimport tqdm'); }\n",
              "    "
            ]
          },
          "metadata": {}
        },
        {
          "output_type": "display_data",
          "data": {
            "text/plain": [
              "<IPython.core.display.Javascript object>"
            ],
            "application/javascript": [
              "\n",
              "        if (window._pyforest_update_imports_cell) { window._pyforest_update_imports_cell('import matplotlib.pyplot as plt\\nimport lightgbm as lgb\\nimport statistics\\nimport re\\nfrom sklearn.model_selection import train_test_split\\nimport xgboost as xgb\\nfrom openpyxl import load_workbook\\nimport pandas as pd\\nfrom scipy import stats\\nimport textblob\\nimport torch\\nimport random\\nfrom scipy import signal as sg\\nimport sklearn\\nimport seaborn as sns\\nimport spacy\\nimport numpy as np\\nfrom sklearn import svm\\nimport skimage\\nimport sys\\nimport tensorflow as tf\\nimport statsmodels.api as sm\\nimport tqdm'); }\n",
              "    "
            ]
          },
          "metadata": {}
        },
        {
          "output_type": "display_data",
          "data": {
            "text/plain": [
              "<IPython.core.display.Javascript object>"
            ],
            "application/javascript": [
              "\n",
              "        if (window._pyforest_update_imports_cell) { window._pyforest_update_imports_cell('import matplotlib.pyplot as plt\\nimport lightgbm as lgb\\nimport statistics\\nimport re\\nfrom sklearn.model_selection import train_test_split\\nimport xgboost as xgb\\nfrom openpyxl import load_workbook\\nimport pandas as pd\\nfrom scipy import stats\\nimport textblob\\nimport torch\\nimport random\\nfrom scipy import signal as sg\\nimport sklearn\\nimport seaborn as sns\\nimport spacy\\nimport numpy as np\\nfrom sklearn import svm\\nimport skimage\\nimport sys\\nimport tensorflow as tf\\nimport statsmodels.api as sm\\nimport tqdm'); }\n",
              "    "
            ]
          },
          "metadata": {}
        },
        {
          "output_type": "display_data",
          "data": {
            "text/plain": [
              "<IPython.core.display.Javascript object>"
            ],
            "application/javascript": [
              "\n",
              "        if (window._pyforest_update_imports_cell) { window._pyforest_update_imports_cell('import matplotlib.pyplot as plt\\nimport lightgbm as lgb\\nimport statistics\\nimport re\\nfrom sklearn.model_selection import train_test_split\\nimport xgboost as xgb\\nfrom openpyxl import load_workbook\\nimport pandas as pd\\nfrom scipy import stats\\nimport textblob\\nimport torch\\nimport random\\nfrom scipy import signal as sg\\nimport sklearn\\nimport seaborn as sns\\nimport spacy\\nimport numpy as np\\nfrom sklearn import svm\\nimport skimage\\nimport sys\\nimport tensorflow as tf\\nimport statsmodels.api as sm\\nimport tqdm'); }\n",
              "    "
            ]
          },
          "metadata": {}
        },
        {
          "output_type": "display_data",
          "data": {
            "text/plain": [
              "<IPython.core.display.Javascript object>"
            ],
            "application/javascript": [
              "\n",
              "        if (window._pyforest_update_imports_cell) { window._pyforest_update_imports_cell('import matplotlib.pyplot as plt\\nimport lightgbm as lgb\\nimport statistics\\nimport re\\nfrom sklearn.model_selection import train_test_split\\nimport xgboost as xgb\\nfrom openpyxl import load_workbook\\nimport pandas as pd\\nfrom scipy import stats\\nimport textblob\\nimport torch\\nimport random\\nfrom scipy import signal as sg\\nimport sklearn\\nimport seaborn as sns\\nimport spacy\\nimport numpy as np\\nfrom sklearn import svm\\nimport skimage\\nimport sys\\nimport tensorflow as tf\\nimport statsmodels.api as sm\\nimport tqdm'); }\n",
              "    "
            ]
          },
          "metadata": {}
        },
        {
          "output_type": "display_data",
          "data": {
            "text/plain": [
              "<IPython.core.display.Javascript object>"
            ],
            "application/javascript": [
              "\n",
              "        if (window._pyforest_update_imports_cell) { window._pyforest_update_imports_cell('import matplotlib.pyplot as plt\\nimport lightgbm as lgb\\nimport statistics\\nimport re\\nfrom sklearn.model_selection import train_test_split\\nimport xgboost as xgb\\nfrom openpyxl import load_workbook\\nimport pandas as pd\\nfrom scipy import stats\\nimport textblob\\nimport torch\\nimport random\\nfrom scipy import signal as sg\\nimport sklearn\\nimport seaborn as sns\\nimport spacy\\nimport numpy as np\\nfrom sklearn import svm\\nimport skimage\\nimport sys\\nimport tensorflow as tf\\nimport statsmodels.api as sm\\nimport tqdm'); }\n",
              "    "
            ]
          },
          "metadata": {}
        },
        {
          "output_type": "display_data",
          "data": {
            "text/plain": [
              "<IPython.core.display.Javascript object>"
            ],
            "application/javascript": [
              "\n",
              "        if (window._pyforest_update_imports_cell) { window._pyforest_update_imports_cell('import matplotlib.pyplot as plt\\nimport lightgbm as lgb\\nimport statistics\\nimport re\\nfrom sklearn.model_selection import train_test_split\\nimport xgboost as xgb\\nfrom openpyxl import load_workbook\\nimport pandas as pd\\nfrom scipy import stats\\nimport textblob\\nimport torch\\nimport random\\nfrom scipy import signal as sg\\nimport sklearn\\nimport seaborn as sns\\nimport spacy\\nimport numpy as np\\nfrom sklearn import svm\\nimport skimage\\nimport sys\\nimport tensorflow as tf\\nimport statsmodels.api as sm\\nimport tqdm'); }\n",
              "    "
            ]
          },
          "metadata": {}
        },
        {
          "output_type": "display_data",
          "data": {
            "text/plain": [
              "<IPython.core.display.Javascript object>"
            ],
            "application/javascript": [
              "\n",
              "        if (window._pyforest_update_imports_cell) { window._pyforest_update_imports_cell('import matplotlib.pyplot as plt\\nimport lightgbm as lgb\\nimport statistics\\nimport re\\nfrom sklearn.model_selection import train_test_split\\nimport xgboost as xgb\\nfrom openpyxl import load_workbook\\nimport pandas as pd\\nfrom scipy import stats\\nimport textblob\\nimport torch\\nimport random\\nfrom scipy import signal as sg\\nimport sklearn\\nimport seaborn as sns\\nimport spacy\\nimport numpy as np\\nfrom sklearn import svm\\nimport skimage\\nimport sys\\nimport tensorflow as tf\\nimport statsmodels.api as sm\\nimport tqdm'); }\n",
              "    "
            ]
          },
          "metadata": {}
        },
        {
          "output_type": "display_data",
          "data": {
            "text/plain": [
              "<IPython.core.display.Javascript object>"
            ],
            "application/javascript": [
              "\n",
              "        if (window._pyforest_update_imports_cell) { window._pyforest_update_imports_cell('import matplotlib.pyplot as plt\\nimport lightgbm as lgb\\nimport statistics\\nimport re\\nfrom sklearn.model_selection import train_test_split\\nimport xgboost as xgb\\nfrom openpyxl import load_workbook\\nimport pandas as pd\\nfrom scipy import stats\\nimport textblob\\nimport torch\\nimport random\\nfrom scipy import signal as sg\\nimport sklearn\\nimport seaborn as sns\\nimport spacy\\nimport numpy as np\\nfrom sklearn import svm\\nimport skimage\\nimport sys\\nimport tensorflow as tf\\nimport statsmodels.api as sm\\nimport tqdm'); }\n",
              "    "
            ]
          },
          "metadata": {}
        },
        {
          "output_type": "display_data",
          "data": {
            "text/plain": [
              "<IPython.core.display.Javascript object>"
            ],
            "application/javascript": [
              "\n",
              "        if (window._pyforest_update_imports_cell) { window._pyforest_update_imports_cell('import matplotlib.pyplot as plt\\nimport lightgbm as lgb\\nimport statistics\\nimport re\\nfrom sklearn.model_selection import train_test_split\\nimport xgboost as xgb\\nfrom openpyxl import load_workbook\\nimport pandas as pd\\nfrom scipy import stats\\nimport textblob\\nimport torch\\nimport random\\nfrom scipy import signal as sg\\nimport sklearn\\nimport seaborn as sns\\nimport spacy\\nimport numpy as np\\nfrom sklearn import svm\\nimport skimage\\nimport sys\\nimport tensorflow as tf\\nimport statsmodels.api as sm\\nimport tqdm'); }\n",
              "    "
            ]
          },
          "metadata": {}
        },
        {
          "output_type": "display_data",
          "data": {
            "text/plain": [
              "<IPython.core.display.Javascript object>"
            ],
            "application/javascript": [
              "\n",
              "        if (window._pyforest_update_imports_cell) { window._pyforest_update_imports_cell('import matplotlib.pyplot as plt\\nimport lightgbm as lgb\\nimport statistics\\nimport re\\nfrom sklearn.model_selection import train_test_split\\nimport xgboost as xgb\\nfrom openpyxl import load_workbook\\nimport pandas as pd\\nfrom scipy import stats\\nimport textblob\\nimport torch\\nimport random\\nfrom scipy import signal as sg\\nimport sklearn\\nimport seaborn as sns\\nimport spacy\\nimport numpy as np\\nfrom sklearn import svm\\nimport skimage\\nimport sys\\nimport tensorflow as tf\\nimport statsmodels.api as sm\\nimport tqdm'); }\n",
              "    "
            ]
          },
          "metadata": {}
        },
        {
          "output_type": "display_data",
          "data": {
            "text/plain": [
              "<IPython.core.display.Javascript object>"
            ],
            "application/javascript": [
              "\n",
              "        if (window._pyforest_update_imports_cell) { window._pyforest_update_imports_cell('import matplotlib.pyplot as plt\\nimport lightgbm as lgb\\nimport statistics\\nimport re\\nfrom sklearn.model_selection import train_test_split\\nimport xgboost as xgb\\nfrom openpyxl import load_workbook\\nimport pandas as pd\\nfrom scipy import stats\\nimport textblob\\nimport torch\\nimport random\\nfrom scipy import signal as sg\\nimport sklearn\\nimport seaborn as sns\\nimport spacy\\nimport numpy as np\\nfrom sklearn import svm\\nimport skimage\\nimport sys\\nimport tensorflow as tf\\nimport statsmodels.api as sm\\nimport tqdm'); }\n",
              "    "
            ]
          },
          "metadata": {}
        },
        {
          "output_type": "display_data",
          "data": {
            "text/plain": [
              "<IPython.core.display.Javascript object>"
            ],
            "application/javascript": [
              "\n",
              "        if (window._pyforest_update_imports_cell) { window._pyforest_update_imports_cell('import matplotlib.pyplot as plt\\nimport lightgbm as lgb\\nimport statistics\\nimport re\\nfrom sklearn.model_selection import train_test_split\\nimport xgboost as xgb\\nfrom openpyxl import load_workbook\\nimport pandas as pd\\nfrom scipy import stats\\nimport textblob\\nimport torch\\nimport random\\nfrom scipy import signal as sg\\nimport sklearn\\nimport seaborn as sns\\nimport spacy\\nimport numpy as np\\nfrom sklearn import svm\\nimport skimage\\nimport sys\\nimport tensorflow as tf\\nimport statsmodels.api as sm\\nimport tqdm'); }\n",
              "    "
            ]
          },
          "metadata": {}
        },
        {
          "output_type": "display_data",
          "data": {
            "text/plain": [
              "<IPython.core.display.Javascript object>"
            ],
            "application/javascript": [
              "\n",
              "        if (window._pyforest_update_imports_cell) { window._pyforest_update_imports_cell('import matplotlib.pyplot as plt\\nimport lightgbm as lgb\\nimport statistics\\nimport re\\nfrom sklearn.model_selection import train_test_split\\nimport xgboost as xgb\\nfrom openpyxl import load_workbook\\nimport pandas as pd\\nfrom scipy import stats\\nimport textblob\\nimport torch\\nimport random\\nfrom scipy import signal as sg\\nimport sklearn\\nimport seaborn as sns\\nimport spacy\\nimport numpy as np\\nfrom sklearn import svm\\nimport skimage\\nimport sys\\nimport tensorflow as tf\\nimport statsmodels.api as sm\\nimport tqdm'); }\n",
              "    "
            ]
          },
          "metadata": {}
        },
        {
          "output_type": "display_data",
          "data": {
            "text/plain": [
              "<IPython.core.display.Javascript object>"
            ],
            "application/javascript": [
              "\n",
              "        if (window._pyforest_update_imports_cell) { window._pyforest_update_imports_cell('import matplotlib.pyplot as plt\\nimport lightgbm as lgb\\nimport statistics\\nimport re\\nfrom sklearn.model_selection import train_test_split\\nimport xgboost as xgb\\nfrom openpyxl import load_workbook\\nimport pandas as pd\\nfrom scipy import stats\\nimport textblob\\nimport torch\\nimport random\\nfrom scipy import signal as sg\\nimport sklearn\\nimport seaborn as sns\\nimport spacy\\nimport numpy as np\\nfrom sklearn import svm\\nimport skimage\\nimport sys\\nimport tensorflow as tf\\nimport statsmodels.api as sm\\nimport tqdm'); }\n",
              "    "
            ]
          },
          "metadata": {}
        },
        {
          "output_type": "display_data",
          "data": {
            "text/plain": [
              "<IPython.core.display.Javascript object>"
            ],
            "application/javascript": [
              "\n",
              "        if (window._pyforest_update_imports_cell) { window._pyforest_update_imports_cell('import matplotlib.pyplot as plt\\nimport lightgbm as lgb\\nimport statistics\\nimport re\\nfrom sklearn.model_selection import train_test_split\\nimport xgboost as xgb\\nfrom openpyxl import load_workbook\\nimport pandas as pd\\nfrom scipy import stats\\nimport textblob\\nimport torch\\nimport random\\nfrom scipy import signal as sg\\nimport sklearn\\nimport seaborn as sns\\nimport spacy\\nimport numpy as np\\nfrom sklearn import svm\\nimport skimage\\nimport sys\\nimport tensorflow as tf\\nimport statsmodels.api as sm\\nimport tqdm'); }\n",
              "    "
            ]
          },
          "metadata": {}
        },
        {
          "output_type": "display_data",
          "data": {
            "text/plain": [
              "<IPython.core.display.Javascript object>"
            ],
            "application/javascript": [
              "\n",
              "        if (window._pyforest_update_imports_cell) { window._pyforest_update_imports_cell('import matplotlib.pyplot as plt\\nimport lightgbm as lgb\\nimport statistics\\nimport re\\nfrom sklearn.model_selection import train_test_split\\nimport xgboost as xgb\\nfrom openpyxl import load_workbook\\nimport pandas as pd\\nfrom scipy import stats\\nimport textblob\\nimport torch\\nimport random\\nfrom scipy import signal as sg\\nimport sklearn\\nimport seaborn as sns\\nimport spacy\\nimport numpy as np\\nfrom sklearn import svm\\nimport skimage\\nimport sys\\nimport tensorflow as tf\\nimport statsmodels.api as sm\\nimport tqdm'); }\n",
              "    "
            ]
          },
          "metadata": {}
        },
        {
          "output_type": "display_data",
          "data": {
            "text/plain": [
              "<IPython.core.display.Javascript object>"
            ],
            "application/javascript": [
              "\n",
              "        if (window._pyforest_update_imports_cell) { window._pyforest_update_imports_cell('import matplotlib.pyplot as plt\\nimport lightgbm as lgb\\nimport statistics\\nimport re\\nfrom sklearn.model_selection import train_test_split\\nimport xgboost as xgb\\nfrom openpyxl import load_workbook\\nimport pandas as pd\\nfrom scipy import stats\\nimport textblob\\nimport torch\\nimport random\\nfrom scipy import signal as sg\\nimport sklearn\\nimport seaborn as sns\\nimport spacy\\nimport numpy as np\\nfrom sklearn import svm\\nimport skimage\\nimport sys\\nimport tensorflow as tf\\nimport statsmodels.api as sm\\nimport tqdm'); }\n",
              "    "
            ]
          },
          "metadata": {}
        },
        {
          "output_type": "display_data",
          "data": {
            "text/plain": [
              "<IPython.core.display.Javascript object>"
            ],
            "application/javascript": [
              "\n",
              "        if (window._pyforest_update_imports_cell) { window._pyforest_update_imports_cell('import matplotlib.pyplot as plt\\nimport lightgbm as lgb\\nimport statistics\\nimport re\\nfrom sklearn.model_selection import train_test_split\\nimport xgboost as xgb\\nfrom openpyxl import load_workbook\\nimport pandas as pd\\nfrom scipy import stats\\nimport textblob\\nimport torch\\nimport random\\nfrom scipy import signal as sg\\nimport sklearn\\nimport seaborn as sns\\nimport spacy\\nimport numpy as np\\nfrom sklearn import svm\\nimport skimage\\nimport sys\\nimport tensorflow as tf\\nimport statsmodels.api as sm\\nimport tqdm'); }\n",
              "    "
            ]
          },
          "metadata": {}
        },
        {
          "output_type": "display_data",
          "data": {
            "text/plain": [
              "<IPython.core.display.Javascript object>"
            ],
            "application/javascript": [
              "\n",
              "        if (window._pyforest_update_imports_cell) { window._pyforest_update_imports_cell('import matplotlib.pyplot as plt\\nimport lightgbm as lgb\\nimport statistics\\nimport re\\nfrom sklearn.model_selection import train_test_split\\nimport xgboost as xgb\\nfrom openpyxl import load_workbook\\nimport pandas as pd\\nfrom scipy import stats\\nimport textblob\\nimport torch\\nimport random\\nfrom scipy import signal as sg\\nimport sklearn\\nimport seaborn as sns\\nimport spacy\\nimport numpy as np\\nfrom sklearn import svm\\nimport skimage\\nimport sys\\nimport tensorflow as tf\\nimport statsmodels.api as sm\\nimport tqdm'); }\n",
              "    "
            ]
          },
          "metadata": {}
        },
        {
          "output_type": "display_data",
          "data": {
            "text/plain": [
              "<IPython.core.display.Javascript object>"
            ],
            "application/javascript": [
              "\n",
              "        if (window._pyforest_update_imports_cell) { window._pyforest_update_imports_cell('import matplotlib.pyplot as plt\\nimport lightgbm as lgb\\nimport statistics\\nimport re\\nfrom sklearn.model_selection import train_test_split\\nimport xgboost as xgb\\nfrom openpyxl import load_workbook\\nimport pandas as pd\\nfrom scipy import stats\\nimport textblob\\nimport torch\\nimport random\\nfrom scipy import signal as sg\\nimport sklearn\\nimport seaborn as sns\\nimport spacy\\nimport numpy as np\\nfrom sklearn import svm\\nimport skimage\\nimport sys\\nimport tensorflow as tf\\nimport statsmodels.api as sm\\nimport tqdm'); }\n",
              "    "
            ]
          },
          "metadata": {}
        },
        {
          "output_type": "display_data",
          "data": {
            "text/plain": [
              "<IPython.core.display.Javascript object>"
            ],
            "application/javascript": [
              "\n",
              "        if (window._pyforest_update_imports_cell) { window._pyforest_update_imports_cell('import matplotlib.pyplot as plt\\nimport lightgbm as lgb\\nimport statistics\\nimport re\\nfrom sklearn.model_selection import train_test_split\\nimport xgboost as xgb\\nfrom openpyxl import load_workbook\\nimport pandas as pd\\nfrom scipy import stats\\nimport textblob\\nimport torch\\nimport random\\nfrom scipy import signal as sg\\nimport sklearn\\nimport seaborn as sns\\nimport spacy\\nimport numpy as np\\nfrom sklearn import svm\\nimport skimage\\nimport sys\\nimport tensorflow as tf\\nimport statsmodels.api as sm\\nimport tqdm'); }\n",
              "    "
            ]
          },
          "metadata": {}
        },
        {
          "output_type": "display_data",
          "data": {
            "text/plain": [
              "<IPython.core.display.Javascript object>"
            ],
            "application/javascript": [
              "\n",
              "        if (window._pyforest_update_imports_cell) { window._pyforest_update_imports_cell('import matplotlib.pyplot as plt\\nimport lightgbm as lgb\\nimport statistics\\nimport re\\nfrom sklearn.model_selection import train_test_split\\nimport xgboost as xgb\\nfrom openpyxl import load_workbook\\nimport pandas as pd\\nfrom scipy import stats\\nimport textblob\\nimport torch\\nimport random\\nfrom scipy import signal as sg\\nimport sklearn\\nimport seaborn as sns\\nimport spacy\\nimport numpy as np\\nfrom sklearn import svm\\nimport skimage\\nimport sys\\nimport tensorflow as tf\\nimport statsmodels.api as sm\\nimport tqdm'); }\n",
              "    "
            ]
          },
          "metadata": {}
        },
        {
          "output_type": "display_data",
          "data": {
            "text/plain": [
              "<IPython.core.display.Javascript object>"
            ],
            "application/javascript": [
              "\n",
              "        if (window._pyforest_update_imports_cell) { window._pyforest_update_imports_cell('import matplotlib.pyplot as plt\\nimport lightgbm as lgb\\nimport statistics\\nimport re\\nfrom sklearn.model_selection import train_test_split\\nimport xgboost as xgb\\nfrom openpyxl import load_workbook\\nimport pandas as pd\\nfrom scipy import stats\\nimport textblob\\nimport torch\\nimport random\\nfrom scipy import signal as sg\\nimport sklearn\\nimport seaborn as sns\\nimport spacy\\nimport numpy as np\\nfrom sklearn import svm\\nimport skimage\\nimport sys\\nimport tensorflow as tf\\nimport statsmodels.api as sm\\nimport tqdm'); }\n",
              "    "
            ]
          },
          "metadata": {}
        },
        {
          "output_type": "display_data",
          "data": {
            "text/plain": [
              "<IPython.core.display.Javascript object>"
            ],
            "application/javascript": [
              "\n",
              "        if (window._pyforest_update_imports_cell) { window._pyforest_update_imports_cell('import matplotlib.pyplot as plt\\nimport lightgbm as lgb\\nimport statistics\\nimport re\\nfrom sklearn.model_selection import train_test_split\\nimport xgboost as xgb\\nfrom openpyxl import load_workbook\\nimport pandas as pd\\nfrom scipy import stats\\nimport textblob\\nimport torch\\nimport random\\nfrom scipy import signal as sg\\nimport sklearn\\nimport seaborn as sns\\nimport spacy\\nimport numpy as np\\nfrom sklearn import svm\\nimport skimage\\nimport sys\\nimport tensorflow as tf\\nimport statsmodels.api as sm\\nimport tqdm'); }\n",
              "    "
            ]
          },
          "metadata": {}
        },
        {
          "output_type": "display_data",
          "data": {
            "text/plain": [
              "<IPython.core.display.Javascript object>"
            ],
            "application/javascript": [
              "\n",
              "        if (window._pyforest_update_imports_cell) { window._pyforest_update_imports_cell('import matplotlib.pyplot as plt\\nimport lightgbm as lgb\\nimport statistics\\nimport re\\nfrom sklearn.model_selection import train_test_split\\nimport xgboost as xgb\\nfrom openpyxl import load_workbook\\nimport pandas as pd\\nfrom scipy import stats\\nimport textblob\\nimport torch\\nimport random\\nfrom scipy import signal as sg\\nimport sklearn\\nimport seaborn as sns\\nimport spacy\\nimport numpy as np\\nfrom sklearn import svm\\nimport skimage\\nimport sys\\nimport tensorflow as tf\\nimport statsmodels.api as sm\\nimport tqdm'); }\n",
              "    "
            ]
          },
          "metadata": {}
        },
        {
          "output_type": "display_data",
          "data": {
            "text/plain": [
              "<IPython.core.display.Javascript object>"
            ],
            "application/javascript": [
              "\n",
              "        if (window._pyforest_update_imports_cell) { window._pyforest_update_imports_cell('import matplotlib.pyplot as plt\\nimport lightgbm as lgb\\nimport statistics\\nimport re\\nfrom sklearn.model_selection import train_test_split\\nimport xgboost as xgb\\nfrom openpyxl import load_workbook\\nimport pandas as pd\\nfrom scipy import stats\\nimport textblob\\nimport torch\\nimport random\\nfrom scipy import signal as sg\\nimport sklearn\\nimport seaborn as sns\\nimport spacy\\nimport numpy as np\\nfrom sklearn import svm\\nimport skimage\\nimport sys\\nimport tensorflow as tf\\nimport statsmodels.api as sm\\nimport tqdm'); }\n",
              "    "
            ]
          },
          "metadata": {}
        },
        {
          "output_type": "display_data",
          "data": {
            "text/plain": [
              "<IPython.core.display.Javascript object>"
            ],
            "application/javascript": [
              "\n",
              "        if (window._pyforest_update_imports_cell) { window._pyforest_update_imports_cell('import matplotlib.pyplot as plt\\nimport lightgbm as lgb\\nimport statistics\\nimport re\\nfrom sklearn.model_selection import train_test_split\\nimport xgboost as xgb\\nfrom openpyxl import load_workbook\\nimport pandas as pd\\nfrom scipy import stats\\nimport textblob\\nimport torch\\nimport random\\nfrom scipy import signal as sg\\nimport sklearn\\nimport seaborn as sns\\nimport spacy\\nimport numpy as np\\nfrom sklearn import svm\\nimport skimage\\nimport sys\\nimport tensorflow as tf\\nimport statsmodels.api as sm\\nimport tqdm'); }\n",
              "    "
            ]
          },
          "metadata": {}
        },
        {
          "output_type": "display_data",
          "data": {
            "text/plain": [
              "<IPython.core.display.Javascript object>"
            ],
            "application/javascript": [
              "\n",
              "        if (window._pyforest_update_imports_cell) { window._pyforest_update_imports_cell('import matplotlib.pyplot as plt\\nimport lightgbm as lgb\\nimport statistics\\nimport re\\nfrom sklearn.model_selection import train_test_split\\nimport xgboost as xgb\\nfrom openpyxl import load_workbook\\nimport pandas as pd\\nfrom scipy import stats\\nimport textblob\\nimport torch\\nimport random\\nfrom scipy import signal as sg\\nimport sklearn\\nimport seaborn as sns\\nimport spacy\\nimport numpy as np\\nfrom sklearn import svm\\nimport skimage\\nimport sys\\nimport tensorflow as tf\\nimport statsmodels.api as sm\\nimport tqdm'); }\n",
              "    "
            ]
          },
          "metadata": {}
        },
        {
          "output_type": "display_data",
          "data": {
            "text/plain": [
              "<IPython.core.display.Javascript object>"
            ],
            "application/javascript": [
              "\n",
              "        if (window._pyforest_update_imports_cell) { window._pyforest_update_imports_cell('import matplotlib.pyplot as plt\\nimport lightgbm as lgb\\nimport statistics\\nimport re\\nfrom sklearn.model_selection import train_test_split\\nimport xgboost as xgb\\nfrom openpyxl import load_workbook\\nimport pandas as pd\\nfrom scipy import stats\\nimport textblob\\nimport torch\\nimport random\\nfrom scipy import signal as sg\\nimport sklearn\\nimport seaborn as sns\\nimport spacy\\nimport numpy as np\\nfrom sklearn import svm\\nimport skimage\\nimport sys\\nimport tensorflow as tf\\nimport statsmodels.api as sm\\nimport tqdm'); }\n",
              "    "
            ]
          },
          "metadata": {}
        },
        {
          "output_type": "display_data",
          "data": {
            "text/plain": [
              "<IPython.core.display.Javascript object>"
            ],
            "application/javascript": [
              "\n",
              "        if (window._pyforest_update_imports_cell) { window._pyforest_update_imports_cell('import matplotlib.pyplot as plt\\nimport lightgbm as lgb\\nimport statistics\\nimport re\\nfrom sklearn.model_selection import train_test_split\\nimport xgboost as xgb\\nfrom openpyxl import load_workbook\\nimport pandas as pd\\nfrom scipy import stats\\nimport textblob\\nimport torch\\nimport random\\nfrom scipy import signal as sg\\nimport sklearn\\nimport seaborn as sns\\nimport spacy\\nimport numpy as np\\nfrom sklearn import svm\\nimport skimage\\nimport sys\\nimport tensorflow as tf\\nimport statsmodels.api as sm\\nimport tqdm'); }\n",
              "    "
            ]
          },
          "metadata": {}
        },
        {
          "output_type": "display_data",
          "data": {
            "text/plain": [
              "<IPython.core.display.Javascript object>"
            ],
            "application/javascript": [
              "\n",
              "        if (window._pyforest_update_imports_cell) { window._pyforest_update_imports_cell('import matplotlib.pyplot as plt\\nimport lightgbm as lgb\\nimport statistics\\nimport re\\nfrom sklearn.model_selection import train_test_split\\nimport xgboost as xgb\\nfrom openpyxl import load_workbook\\nimport pandas as pd\\nfrom scipy import stats\\nimport textblob\\nimport torch\\nimport random\\nfrom scipy import signal as sg\\nimport sklearn\\nimport seaborn as sns\\nimport spacy\\nimport numpy as np\\nfrom sklearn import svm\\nimport skimage\\nimport sys\\nimport tensorflow as tf\\nimport statsmodels.api as sm\\nimport tqdm'); }\n",
              "    "
            ]
          },
          "metadata": {}
        },
        {
          "output_type": "display_data",
          "data": {
            "text/plain": [
              "<IPython.core.display.Javascript object>"
            ],
            "application/javascript": [
              "\n",
              "        if (window._pyforest_update_imports_cell) { window._pyforest_update_imports_cell('import matplotlib.pyplot as plt\\nimport lightgbm as lgb\\nimport statistics\\nimport re\\nfrom sklearn.model_selection import train_test_split\\nimport xgboost as xgb\\nfrom openpyxl import load_workbook\\nimport pandas as pd\\nfrom scipy import stats\\nimport textblob\\nimport torch\\nimport random\\nfrom scipy import signal as sg\\nimport sklearn\\nimport seaborn as sns\\nimport spacy\\nimport numpy as np\\nfrom sklearn import svm\\nimport skimage\\nimport sys\\nimport tensorflow as tf\\nimport statsmodels.api as sm\\nimport tqdm'); }\n",
              "    "
            ]
          },
          "metadata": {}
        },
        {
          "output_type": "display_data",
          "data": {
            "text/plain": [
              "<IPython.core.display.Javascript object>"
            ],
            "application/javascript": [
              "\n",
              "        if (window._pyforest_update_imports_cell) { window._pyforest_update_imports_cell('import matplotlib.pyplot as plt\\nimport lightgbm as lgb\\nimport statistics\\nimport re\\nfrom sklearn.model_selection import train_test_split\\nimport xgboost as xgb\\nfrom openpyxl import load_workbook\\nimport pandas as pd\\nfrom scipy import stats\\nimport textblob\\nimport torch\\nimport random\\nfrom scipy import signal as sg\\nimport sklearn\\nimport seaborn as sns\\nimport spacy\\nimport numpy as np\\nfrom sklearn import svm\\nimport skimage\\nimport sys\\nimport tensorflow as tf\\nimport statsmodels.api as sm\\nimport tqdm'); }\n",
              "    "
            ]
          },
          "metadata": {}
        },
        {
          "output_type": "display_data",
          "data": {
            "text/plain": [
              "<IPython.core.display.Javascript object>"
            ],
            "application/javascript": [
              "\n",
              "        if (window._pyforest_update_imports_cell) { window._pyforest_update_imports_cell('import matplotlib.pyplot as plt\\nimport lightgbm as lgb\\nimport statistics\\nimport re\\nfrom sklearn.model_selection import train_test_split\\nimport xgboost as xgb\\nfrom openpyxl import load_workbook\\nimport pandas as pd\\nfrom scipy import stats\\nimport textblob\\nimport torch\\nimport random\\nfrom scipy import signal as sg\\nimport sklearn\\nimport seaborn as sns\\nimport spacy\\nimport numpy as np\\nfrom sklearn import svm\\nimport skimage\\nimport sys\\nimport tensorflow as tf\\nimport statsmodels.api as sm\\nimport tqdm'); }\n",
              "    "
            ]
          },
          "metadata": {}
        },
        {
          "output_type": "display_data",
          "data": {
            "text/plain": [
              "<IPython.core.display.Javascript object>"
            ],
            "application/javascript": [
              "\n",
              "        if (window._pyforest_update_imports_cell) { window._pyforest_update_imports_cell('import matplotlib.pyplot as plt\\nimport lightgbm as lgb\\nimport statistics\\nimport re\\nfrom sklearn.model_selection import train_test_split\\nimport xgboost as xgb\\nfrom openpyxl import load_workbook\\nimport pandas as pd\\nfrom scipy import stats\\nimport textblob\\nimport torch\\nimport random\\nfrom scipy import signal as sg\\nimport sklearn\\nimport seaborn as sns\\nimport spacy\\nimport numpy as np\\nfrom sklearn import svm\\nimport skimage\\nimport sys\\nimport tensorflow as tf\\nimport statsmodels.api as sm\\nimport tqdm'); }\n",
              "    "
            ]
          },
          "metadata": {}
        },
        {
          "output_type": "display_data",
          "data": {
            "text/plain": [
              "<IPython.core.display.Javascript object>"
            ],
            "application/javascript": [
              "\n",
              "        if (window._pyforest_update_imports_cell) { window._pyforest_update_imports_cell('import matplotlib.pyplot as plt\\nimport lightgbm as lgb\\nimport statistics\\nimport re\\nfrom sklearn.model_selection import train_test_split\\nimport xgboost as xgb\\nfrom openpyxl import load_workbook\\nimport pandas as pd\\nfrom scipy import stats\\nimport textblob\\nimport torch\\nimport random\\nfrom scipy import signal as sg\\nimport sklearn\\nimport seaborn as sns\\nimport spacy\\nimport numpy as np\\nfrom sklearn import svm\\nimport skimage\\nimport sys\\nimport tensorflow as tf\\nimport statsmodels.api as sm\\nimport tqdm'); }\n",
              "    "
            ]
          },
          "metadata": {}
        },
        {
          "output_type": "display_data",
          "data": {
            "text/plain": [
              "<IPython.core.display.Javascript object>"
            ],
            "application/javascript": [
              "\n",
              "        if (window._pyforest_update_imports_cell) { window._pyforest_update_imports_cell('import matplotlib.pyplot as plt\\nimport lightgbm as lgb\\nimport statistics\\nimport re\\nfrom sklearn.model_selection import train_test_split\\nimport xgboost as xgb\\nfrom openpyxl import load_workbook\\nimport pandas as pd\\nfrom scipy import stats\\nimport textblob\\nimport torch\\nimport random\\nfrom scipy import signal as sg\\nimport sklearn\\nimport seaborn as sns\\nimport spacy\\nimport numpy as np\\nfrom sklearn import svm\\nimport skimage\\nimport sys\\nimport tensorflow as tf\\nimport statsmodels.api as sm\\nimport tqdm'); }\n",
              "    "
            ]
          },
          "metadata": {}
        },
        {
          "output_type": "display_data",
          "data": {
            "text/plain": [
              "<IPython.core.display.Javascript object>"
            ],
            "application/javascript": [
              "\n",
              "        if (window._pyforest_update_imports_cell) { window._pyforest_update_imports_cell('import matplotlib.pyplot as plt\\nimport lightgbm as lgb\\nimport statistics\\nimport re\\nfrom sklearn.model_selection import train_test_split\\nimport xgboost as xgb\\nfrom openpyxl import load_workbook\\nimport pandas as pd\\nfrom scipy import stats\\nimport textblob\\nimport torch\\nimport random\\nfrom scipy import signal as sg\\nimport sklearn\\nimport seaborn as sns\\nimport spacy\\nimport numpy as np\\nfrom sklearn import svm\\nimport skimage\\nimport sys\\nimport tensorflow as tf\\nimport statsmodels.api as sm\\nimport tqdm'); }\n",
              "    "
            ]
          },
          "metadata": {}
        },
        {
          "output_type": "display_data",
          "data": {
            "text/plain": [
              "<IPython.core.display.Javascript object>"
            ],
            "application/javascript": [
              "\n",
              "        if (window._pyforest_update_imports_cell) { window._pyforest_update_imports_cell('import matplotlib.pyplot as plt\\nimport lightgbm as lgb\\nimport statistics\\nimport re\\nfrom sklearn.model_selection import train_test_split\\nimport xgboost as xgb\\nfrom openpyxl import load_workbook\\nimport pandas as pd\\nfrom scipy import stats\\nimport textblob\\nimport torch\\nimport random\\nfrom scipy import signal as sg\\nimport sklearn\\nimport seaborn as sns\\nimport spacy\\nimport numpy as np\\nfrom sklearn import svm\\nimport skimage\\nimport sys\\nimport tensorflow as tf\\nimport statsmodels.api as sm\\nimport tqdm'); }\n",
              "    "
            ]
          },
          "metadata": {}
        },
        {
          "output_type": "display_data",
          "data": {
            "text/plain": [
              "<IPython.core.display.Javascript object>"
            ],
            "application/javascript": [
              "\n",
              "        if (window._pyforest_update_imports_cell) { window._pyforest_update_imports_cell('import matplotlib.pyplot as plt\\nimport lightgbm as lgb\\nimport statistics\\nimport re\\nfrom sklearn.model_selection import train_test_split\\nimport xgboost as xgb\\nfrom openpyxl import load_workbook\\nimport pandas as pd\\nfrom scipy import stats\\nimport textblob\\nimport torch\\nimport random\\nfrom scipy import signal as sg\\nimport sklearn\\nimport seaborn as sns\\nimport spacy\\nimport numpy as np\\nfrom sklearn import svm\\nimport skimage\\nimport sys\\nimport tensorflow as tf\\nimport statsmodels.api as sm\\nimport tqdm'); }\n",
              "    "
            ]
          },
          "metadata": {}
        },
        {
          "output_type": "display_data",
          "data": {
            "text/plain": [
              "<IPython.core.display.Javascript object>"
            ],
            "application/javascript": [
              "\n",
              "        if (window._pyforest_update_imports_cell) { window._pyforest_update_imports_cell('import matplotlib.pyplot as plt\\nimport lightgbm as lgb\\nimport statistics\\nimport re\\nfrom sklearn.model_selection import train_test_split\\nimport xgboost as xgb\\nfrom openpyxl import load_workbook\\nimport pandas as pd\\nfrom scipy import stats\\nimport textblob\\nimport torch\\nimport random\\nfrom scipy import signal as sg\\nimport sklearn\\nimport seaborn as sns\\nimport spacy\\nimport numpy as np\\nfrom sklearn import svm\\nimport skimage\\nimport sys\\nimport tensorflow as tf\\nimport statsmodels.api as sm\\nimport tqdm'); }\n",
              "    "
            ]
          },
          "metadata": {}
        },
        {
          "output_type": "display_data",
          "data": {
            "text/plain": [
              "<IPython.core.display.Javascript object>"
            ],
            "application/javascript": [
              "\n",
              "        if (window._pyforest_update_imports_cell) { window._pyforest_update_imports_cell('import matplotlib.pyplot as plt\\nimport lightgbm as lgb\\nimport statistics\\nimport re\\nfrom sklearn.model_selection import train_test_split\\nimport xgboost as xgb\\nfrom openpyxl import load_workbook\\nimport pandas as pd\\nfrom scipy import stats\\nimport textblob\\nimport torch\\nimport random\\nfrom scipy import signal as sg\\nimport sklearn\\nimport seaborn as sns\\nimport spacy\\nimport numpy as np\\nfrom sklearn import svm\\nimport skimage\\nimport sys\\nimport tensorflow as tf\\nimport statsmodels.api as sm\\nimport tqdm'); }\n",
              "    "
            ]
          },
          "metadata": {}
        },
        {
          "output_type": "display_data",
          "data": {
            "text/plain": [
              "<IPython.core.display.Javascript object>"
            ],
            "application/javascript": [
              "\n",
              "        if (window._pyforest_update_imports_cell) { window._pyforest_update_imports_cell('import matplotlib.pyplot as plt\\nimport lightgbm as lgb\\nimport statistics\\nimport re\\nfrom sklearn.model_selection import train_test_split\\nimport xgboost as xgb\\nfrom openpyxl import load_workbook\\nimport pandas as pd\\nfrom scipy import stats\\nimport textblob\\nimport torch\\nimport random\\nfrom scipy import signal as sg\\nimport sklearn\\nimport seaborn as sns\\nimport spacy\\nimport numpy as np\\nfrom sklearn import svm\\nimport skimage\\nimport sys\\nimport tensorflow as tf\\nimport statsmodels.api as sm\\nimport tqdm'); }\n",
              "    "
            ]
          },
          "metadata": {}
        },
        {
          "output_type": "display_data",
          "data": {
            "text/plain": [
              "<IPython.core.display.Javascript object>"
            ],
            "application/javascript": [
              "\n",
              "        if (window._pyforest_update_imports_cell) { window._pyforest_update_imports_cell('import matplotlib.pyplot as plt\\nimport lightgbm as lgb\\nimport statistics\\nimport re\\nfrom sklearn.model_selection import train_test_split\\nimport xgboost as xgb\\nfrom openpyxl import load_workbook\\nimport pandas as pd\\nfrom scipy import stats\\nimport textblob\\nimport torch\\nimport random\\nfrom scipy import signal as sg\\nimport sklearn\\nimport seaborn as sns\\nimport spacy\\nimport numpy as np\\nfrom sklearn import svm\\nimport skimage\\nimport sys\\nimport tensorflow as tf\\nimport statsmodels.api as sm\\nimport tqdm'); }\n",
              "    "
            ]
          },
          "metadata": {}
        },
        {
          "output_type": "display_data",
          "data": {
            "text/plain": [
              "<IPython.core.display.Javascript object>"
            ],
            "application/javascript": [
              "\n",
              "        if (window._pyforest_update_imports_cell) { window._pyforest_update_imports_cell('import matplotlib.pyplot as plt\\nimport lightgbm as lgb\\nimport statistics\\nimport re\\nfrom sklearn.model_selection import train_test_split\\nimport xgboost as xgb\\nfrom openpyxl import load_workbook\\nimport pandas as pd\\nfrom scipy import stats\\nimport textblob\\nimport torch\\nimport random\\nfrom scipy import signal as sg\\nimport sklearn\\nimport seaborn as sns\\nimport spacy\\nimport numpy as np\\nfrom sklearn import svm\\nimport skimage\\nimport sys\\nimport tensorflow as tf\\nimport statsmodels.api as sm\\nimport tqdm'); }\n",
              "    "
            ]
          },
          "metadata": {}
        },
        {
          "output_type": "display_data",
          "data": {
            "text/plain": [
              "<IPython.core.display.Javascript object>"
            ],
            "application/javascript": [
              "\n",
              "        if (window._pyforest_update_imports_cell) { window._pyforest_update_imports_cell('import matplotlib.pyplot as plt\\nimport lightgbm as lgb\\nimport statistics\\nimport re\\nfrom sklearn.model_selection import train_test_split\\nimport xgboost as xgb\\nfrom openpyxl import load_workbook\\nimport pandas as pd\\nfrom scipy import stats\\nimport textblob\\nimport torch\\nimport random\\nfrom scipy import signal as sg\\nimport sklearn\\nimport seaborn as sns\\nimport spacy\\nimport numpy as np\\nfrom sklearn import svm\\nimport skimage\\nimport sys\\nimport tensorflow as tf\\nimport statsmodels.api as sm\\nimport tqdm'); }\n",
              "    "
            ]
          },
          "metadata": {}
        },
        {
          "output_type": "display_data",
          "data": {
            "text/plain": [
              "<IPython.core.display.Javascript object>"
            ],
            "application/javascript": [
              "\n",
              "        if (window._pyforest_update_imports_cell) { window._pyforest_update_imports_cell('import matplotlib.pyplot as plt\\nimport lightgbm as lgb\\nimport statistics\\nimport re\\nfrom sklearn.model_selection import train_test_split\\nimport xgboost as xgb\\nfrom openpyxl import load_workbook\\nimport pandas as pd\\nfrom scipy import stats\\nimport textblob\\nimport torch\\nimport random\\nfrom scipy import signal as sg\\nimport sklearn\\nimport seaborn as sns\\nimport spacy\\nimport numpy as np\\nfrom sklearn import svm\\nimport skimage\\nimport sys\\nimport tensorflow as tf\\nimport statsmodels.api as sm\\nimport tqdm'); }\n",
              "    "
            ]
          },
          "metadata": {}
        },
        {
          "output_type": "display_data",
          "data": {
            "text/plain": [
              "<IPython.core.display.Javascript object>"
            ],
            "application/javascript": [
              "\n",
              "        if (window._pyforest_update_imports_cell) { window._pyforest_update_imports_cell('import matplotlib.pyplot as plt\\nimport lightgbm as lgb\\nimport statistics\\nimport re\\nfrom sklearn.model_selection import train_test_split\\nimport xgboost as xgb\\nfrom openpyxl import load_workbook\\nimport pandas as pd\\nfrom scipy import stats\\nimport textblob\\nimport torch\\nimport random\\nfrom scipy import signal as sg\\nimport sklearn\\nimport seaborn as sns\\nimport spacy\\nimport numpy as np\\nfrom sklearn import svm\\nimport skimage\\nimport sys\\nimport tensorflow as tf\\nimport statsmodels.api as sm\\nimport tqdm'); }\n",
              "    "
            ]
          },
          "metadata": {}
        },
        {
          "output_type": "display_data",
          "data": {
            "text/plain": [
              "<IPython.core.display.Javascript object>"
            ],
            "application/javascript": [
              "\n",
              "        if (window._pyforest_update_imports_cell) { window._pyforest_update_imports_cell('import matplotlib.pyplot as plt\\nimport lightgbm as lgb\\nimport statistics\\nimport re\\nfrom sklearn.model_selection import train_test_split\\nimport xgboost as xgb\\nfrom openpyxl import load_workbook\\nimport pandas as pd\\nfrom scipy import stats\\nimport textblob\\nimport torch\\nimport random\\nfrom scipy import signal as sg\\nimport sklearn\\nimport seaborn as sns\\nimport spacy\\nimport numpy as np\\nfrom sklearn import svm\\nimport skimage\\nimport sys\\nimport tensorflow as tf\\nimport statsmodels.api as sm\\nimport tqdm'); }\n",
              "    "
            ]
          },
          "metadata": {}
        },
        {
          "output_type": "display_data",
          "data": {
            "text/plain": [
              "<IPython.core.display.Javascript object>"
            ],
            "application/javascript": [
              "\n",
              "        if (window._pyforest_update_imports_cell) { window._pyforest_update_imports_cell('import matplotlib.pyplot as plt\\nimport lightgbm as lgb\\nimport statistics\\nimport re\\nfrom sklearn.model_selection import train_test_split\\nimport xgboost as xgb\\nfrom openpyxl import load_workbook\\nimport pandas as pd\\nfrom scipy import stats\\nimport textblob\\nimport torch\\nimport random\\nfrom scipy import signal as sg\\nimport sklearn\\nimport seaborn as sns\\nimport spacy\\nimport numpy as np\\nfrom sklearn import svm\\nimport skimage\\nimport sys\\nimport tensorflow as tf\\nimport statsmodels.api as sm\\nimport tqdm'); }\n",
              "    "
            ]
          },
          "metadata": {}
        },
        {
          "output_type": "display_data",
          "data": {
            "text/plain": [
              "<IPython.core.display.Javascript object>"
            ],
            "application/javascript": [
              "\n",
              "        if (window._pyforest_update_imports_cell) { window._pyforest_update_imports_cell('import matplotlib.pyplot as plt\\nimport lightgbm as lgb\\nimport statistics\\nimport re\\nfrom sklearn.model_selection import train_test_split\\nimport xgboost as xgb\\nfrom openpyxl import load_workbook\\nimport pandas as pd\\nfrom scipy import stats\\nimport textblob\\nimport torch\\nimport random\\nfrom scipy import signal as sg\\nimport sklearn\\nimport seaborn as sns\\nimport spacy\\nimport numpy as np\\nfrom sklearn import svm\\nimport skimage\\nimport sys\\nimport tensorflow as tf\\nimport statsmodels.api as sm\\nimport tqdm'); }\n",
              "    "
            ]
          },
          "metadata": {}
        },
        {
          "output_type": "display_data",
          "data": {
            "text/plain": [
              "<IPython.core.display.Javascript object>"
            ],
            "application/javascript": [
              "\n",
              "        if (window._pyforest_update_imports_cell) { window._pyforest_update_imports_cell('import matplotlib.pyplot as plt\\nimport lightgbm as lgb\\nimport statistics\\nimport re\\nfrom sklearn.model_selection import train_test_split\\nimport xgboost as xgb\\nfrom openpyxl import load_workbook\\nimport pandas as pd\\nfrom scipy import stats\\nimport textblob\\nimport torch\\nimport random\\nfrom scipy import signal as sg\\nimport sklearn\\nimport seaborn as sns\\nimport spacy\\nimport numpy as np\\nfrom sklearn import svm\\nimport skimage\\nimport sys\\nimport tensorflow as tf\\nimport statsmodels.api as sm\\nimport tqdm'); }\n",
              "    "
            ]
          },
          "metadata": {}
        },
        {
          "output_type": "display_data",
          "data": {
            "text/plain": [
              "<IPython.core.display.Javascript object>"
            ],
            "application/javascript": [
              "\n",
              "        if (window._pyforest_update_imports_cell) { window._pyforest_update_imports_cell('import matplotlib.pyplot as plt\\nimport lightgbm as lgb\\nimport statistics\\nimport re\\nfrom sklearn.model_selection import train_test_split\\nimport xgboost as xgb\\nfrom openpyxl import load_workbook\\nimport pandas as pd\\nfrom scipy import stats\\nimport textblob\\nimport torch\\nimport random\\nfrom scipy import signal as sg\\nimport sklearn\\nimport seaborn as sns\\nimport spacy\\nimport numpy as np\\nfrom sklearn import svm\\nimport skimage\\nimport sys\\nimport tensorflow as tf\\nimport statsmodels.api as sm\\nimport tqdm'); }\n",
              "    "
            ]
          },
          "metadata": {}
        },
        {
          "output_type": "display_data",
          "data": {
            "text/plain": [
              "<IPython.core.display.Javascript object>"
            ],
            "application/javascript": [
              "\n",
              "        if (window._pyforest_update_imports_cell) { window._pyforest_update_imports_cell('import matplotlib.pyplot as plt\\nimport lightgbm as lgb\\nimport statistics\\nimport re\\nfrom sklearn.model_selection import train_test_split\\nimport xgboost as xgb\\nfrom openpyxl import load_workbook\\nimport pandas as pd\\nfrom scipy import stats\\nimport textblob\\nimport torch\\nimport random\\nfrom scipy import signal as sg\\nimport sklearn\\nimport seaborn as sns\\nimport spacy\\nimport numpy as np\\nfrom sklearn import svm\\nimport skimage\\nimport sys\\nimport tensorflow as tf\\nimport statsmodels.api as sm\\nimport tqdm'); }\n",
              "    "
            ]
          },
          "metadata": {}
        },
        {
          "output_type": "display_data",
          "data": {
            "text/plain": [
              "<IPython.core.display.Javascript object>"
            ],
            "application/javascript": [
              "\n",
              "        if (window._pyforest_update_imports_cell) { window._pyforest_update_imports_cell('import matplotlib.pyplot as plt\\nimport lightgbm as lgb\\nimport statistics\\nimport re\\nfrom sklearn.model_selection import train_test_split\\nimport xgboost as xgb\\nfrom openpyxl import load_workbook\\nimport pandas as pd\\nfrom scipy import stats\\nimport textblob\\nimport torch\\nimport random\\nfrom scipy import signal as sg\\nimport sklearn\\nimport seaborn as sns\\nimport spacy\\nimport numpy as np\\nfrom sklearn import svm\\nimport skimage\\nimport sys\\nimport tensorflow as tf\\nimport statsmodels.api as sm\\nimport tqdm'); }\n",
              "    "
            ]
          },
          "metadata": {}
        },
        {
          "output_type": "display_data",
          "data": {
            "text/plain": [
              "<IPython.core.display.Javascript object>"
            ],
            "application/javascript": [
              "\n",
              "        if (window._pyforest_update_imports_cell) { window._pyforest_update_imports_cell('import matplotlib.pyplot as plt\\nimport lightgbm as lgb\\nimport statistics\\nimport re\\nfrom sklearn.model_selection import train_test_split\\nimport xgboost as xgb\\nfrom openpyxl import load_workbook\\nimport pandas as pd\\nfrom scipy import stats\\nimport textblob\\nimport torch\\nimport random\\nfrom scipy import signal as sg\\nimport sklearn\\nimport seaborn as sns\\nimport spacy\\nimport numpy as np\\nfrom sklearn import svm\\nimport skimage\\nimport sys\\nimport tensorflow as tf\\nimport statsmodels.api as sm\\nimport tqdm'); }\n",
              "    "
            ]
          },
          "metadata": {}
        },
        {
          "output_type": "display_data",
          "data": {
            "text/plain": [
              "<IPython.core.display.Javascript object>"
            ],
            "application/javascript": [
              "\n",
              "        if (window._pyforest_update_imports_cell) { window._pyforest_update_imports_cell('import matplotlib.pyplot as plt\\nimport lightgbm as lgb\\nimport statistics\\nimport re\\nfrom sklearn.model_selection import train_test_split\\nimport xgboost as xgb\\nfrom openpyxl import load_workbook\\nimport pandas as pd\\nfrom scipy import stats\\nimport textblob\\nimport torch\\nimport random\\nfrom scipy import signal as sg\\nimport sklearn\\nimport seaborn as sns\\nimport spacy\\nimport numpy as np\\nfrom sklearn import svm\\nimport skimage\\nimport sys\\nimport tensorflow as tf\\nimport statsmodels.api as sm\\nimport tqdm'); }\n",
              "    "
            ]
          },
          "metadata": {}
        },
        {
          "output_type": "display_data",
          "data": {
            "text/plain": [
              "<IPython.core.display.Javascript object>"
            ],
            "application/javascript": [
              "\n",
              "        if (window._pyforest_update_imports_cell) { window._pyforest_update_imports_cell('import matplotlib.pyplot as plt\\nimport lightgbm as lgb\\nimport statistics\\nimport re\\nfrom sklearn.model_selection import train_test_split\\nimport xgboost as xgb\\nfrom openpyxl import load_workbook\\nimport pandas as pd\\nfrom scipy import stats\\nimport textblob\\nimport torch\\nimport random\\nfrom scipy import signal as sg\\nimport sklearn\\nimport seaborn as sns\\nimport spacy\\nimport numpy as np\\nfrom sklearn import svm\\nimport skimage\\nimport sys\\nimport tensorflow as tf\\nimport statsmodels.api as sm\\nimport tqdm'); }\n",
              "    "
            ]
          },
          "metadata": {}
        },
        {
          "output_type": "display_data",
          "data": {
            "text/plain": [
              "<IPython.core.display.Javascript object>"
            ],
            "application/javascript": [
              "\n",
              "        if (window._pyforest_update_imports_cell) { window._pyforest_update_imports_cell('import matplotlib.pyplot as plt\\nimport lightgbm as lgb\\nimport statistics\\nimport re\\nfrom sklearn.model_selection import train_test_split\\nimport xgboost as xgb\\nfrom openpyxl import load_workbook\\nimport pandas as pd\\nfrom scipy import stats\\nimport textblob\\nimport torch\\nimport random\\nfrom scipy import signal as sg\\nimport sklearn\\nimport seaborn as sns\\nimport spacy\\nimport numpy as np\\nfrom sklearn import svm\\nimport skimage\\nimport sys\\nimport tensorflow as tf\\nimport statsmodels.api as sm\\nimport tqdm'); }\n",
              "    "
            ]
          },
          "metadata": {}
        },
        {
          "output_type": "display_data",
          "data": {
            "text/plain": [
              "<IPython.core.display.Javascript object>"
            ],
            "application/javascript": [
              "\n",
              "        if (window._pyforest_update_imports_cell) { window._pyforest_update_imports_cell('import matplotlib.pyplot as plt\\nimport lightgbm as lgb\\nimport statistics\\nimport re\\nfrom sklearn.model_selection import train_test_split\\nimport xgboost as xgb\\nfrom openpyxl import load_workbook\\nimport pandas as pd\\nfrom scipy import stats\\nimport textblob\\nimport torch\\nimport random\\nfrom scipy import signal as sg\\nimport sklearn\\nimport seaborn as sns\\nimport spacy\\nimport numpy as np\\nfrom sklearn import svm\\nimport skimage\\nimport sys\\nimport tensorflow as tf\\nimport statsmodels.api as sm\\nimport tqdm'); }\n",
              "    "
            ]
          },
          "metadata": {}
        },
        {
          "output_type": "display_data",
          "data": {
            "text/plain": [
              "<IPython.core.display.Javascript object>"
            ],
            "application/javascript": [
              "\n",
              "        if (window._pyforest_update_imports_cell) { window._pyforest_update_imports_cell('import matplotlib.pyplot as plt\\nimport lightgbm as lgb\\nimport statistics\\nimport re\\nfrom sklearn.model_selection import train_test_split\\nimport xgboost as xgb\\nfrom openpyxl import load_workbook\\nimport pandas as pd\\nfrom scipy import stats\\nimport textblob\\nimport torch\\nimport random\\nfrom scipy import signal as sg\\nimport sklearn\\nimport seaborn as sns\\nimport spacy\\nimport numpy as np\\nfrom sklearn import svm\\nimport skimage\\nimport sys\\nimport tensorflow as tf\\nimport statsmodels.api as sm\\nimport tqdm'); }\n",
              "    "
            ]
          },
          "metadata": {}
        },
        {
          "output_type": "display_data",
          "data": {
            "text/plain": [
              "<IPython.core.display.Javascript object>"
            ],
            "application/javascript": [
              "\n",
              "        if (window._pyforest_update_imports_cell) { window._pyforest_update_imports_cell('import matplotlib.pyplot as plt\\nimport lightgbm as lgb\\nimport statistics\\nimport re\\nfrom sklearn.model_selection import train_test_split\\nimport xgboost as xgb\\nfrom openpyxl import load_workbook\\nimport pandas as pd\\nfrom scipy import stats\\nimport textblob\\nimport torch\\nimport random\\nfrom scipy import signal as sg\\nimport sklearn\\nimport seaborn as sns\\nimport spacy\\nimport numpy as np\\nfrom sklearn import svm\\nimport skimage\\nimport sys\\nimport tensorflow as tf\\nimport statsmodels.api as sm\\nimport tqdm'); }\n",
              "    "
            ]
          },
          "metadata": {}
        },
        {
          "output_type": "display_data",
          "data": {
            "text/plain": [
              "<IPython.core.display.Javascript object>"
            ],
            "application/javascript": [
              "\n",
              "        if (window._pyforest_update_imports_cell) { window._pyforest_update_imports_cell('import matplotlib.pyplot as plt\\nimport lightgbm as lgb\\nimport statistics\\nimport re\\nfrom sklearn.model_selection import train_test_split\\nimport xgboost as xgb\\nfrom openpyxl import load_workbook\\nimport pandas as pd\\nfrom scipy import stats\\nimport textblob\\nimport torch\\nimport random\\nfrom scipy import signal as sg\\nimport sklearn\\nimport seaborn as sns\\nimport spacy\\nimport numpy as np\\nfrom sklearn import svm\\nimport skimage\\nimport sys\\nimport tensorflow as tf\\nimport statsmodels.api as sm\\nimport tqdm'); }\n",
              "    "
            ]
          },
          "metadata": {}
        },
        {
          "output_type": "display_data",
          "data": {
            "text/plain": [
              "<IPython.core.display.Javascript object>"
            ],
            "application/javascript": [
              "\n",
              "        if (window._pyforest_update_imports_cell) { window._pyforest_update_imports_cell('import matplotlib.pyplot as plt\\nimport lightgbm as lgb\\nimport statistics\\nimport re\\nfrom sklearn.model_selection import train_test_split\\nimport xgboost as xgb\\nfrom openpyxl import load_workbook\\nimport pandas as pd\\nfrom scipy import stats\\nimport textblob\\nimport torch\\nimport random\\nfrom scipy import signal as sg\\nimport sklearn\\nimport seaborn as sns\\nimport spacy\\nimport numpy as np\\nfrom sklearn import svm\\nimport skimage\\nimport sys\\nimport tensorflow as tf\\nimport statsmodels.api as sm\\nimport tqdm'); }\n",
              "    "
            ]
          },
          "metadata": {}
        },
        {
          "output_type": "display_data",
          "data": {
            "text/plain": [
              "<IPython.core.display.Javascript object>"
            ],
            "application/javascript": [
              "\n",
              "        if (window._pyforest_update_imports_cell) { window._pyforest_update_imports_cell('import matplotlib.pyplot as plt\\nimport lightgbm as lgb\\nimport statistics\\nimport re\\nfrom sklearn.model_selection import train_test_split\\nimport xgboost as xgb\\nfrom openpyxl import load_workbook\\nimport pandas as pd\\nfrom scipy import stats\\nimport textblob\\nimport torch\\nimport random\\nfrom scipy import signal as sg\\nimport sklearn\\nimport seaborn as sns\\nimport spacy\\nimport numpy as np\\nfrom sklearn import svm\\nimport skimage\\nimport sys\\nimport tensorflow as tf\\nimport statsmodels.api as sm\\nimport tqdm'); }\n",
              "    "
            ]
          },
          "metadata": {}
        },
        {
          "output_type": "display_data",
          "data": {
            "text/plain": [
              "<IPython.core.display.Javascript object>"
            ],
            "application/javascript": [
              "\n",
              "        if (window._pyforest_update_imports_cell) { window._pyforest_update_imports_cell('import matplotlib.pyplot as plt\\nimport lightgbm as lgb\\nimport statistics\\nimport re\\nfrom sklearn.model_selection import train_test_split\\nimport xgboost as xgb\\nfrom openpyxl import load_workbook\\nimport pandas as pd\\nfrom scipy import stats\\nimport textblob\\nimport torch\\nimport random\\nfrom scipy import signal as sg\\nimport sklearn\\nimport seaborn as sns\\nimport spacy\\nimport numpy as np\\nfrom sklearn import svm\\nimport skimage\\nimport sys\\nimport tensorflow as tf\\nimport statsmodels.api as sm\\nimport tqdm'); }\n",
              "    "
            ]
          },
          "metadata": {}
        },
        {
          "output_type": "display_data",
          "data": {
            "text/plain": [
              "<IPython.core.display.Javascript object>"
            ],
            "application/javascript": [
              "\n",
              "        if (window._pyforest_update_imports_cell) { window._pyforest_update_imports_cell('import matplotlib.pyplot as plt\\nimport lightgbm as lgb\\nimport statistics\\nimport re\\nfrom sklearn.model_selection import train_test_split\\nimport xgboost as xgb\\nfrom openpyxl import load_workbook\\nimport pandas as pd\\nfrom scipy import stats\\nimport textblob\\nimport torch\\nimport random\\nfrom scipy import signal as sg\\nimport sklearn\\nimport seaborn as sns\\nimport spacy\\nimport numpy as np\\nfrom sklearn import svm\\nimport skimage\\nimport sys\\nimport tensorflow as tf\\nimport statsmodels.api as sm\\nimport tqdm'); }\n",
              "    "
            ]
          },
          "metadata": {}
        },
        {
          "output_type": "display_data",
          "data": {
            "text/plain": [
              "<IPython.core.display.Javascript object>"
            ],
            "application/javascript": [
              "\n",
              "        if (window._pyforest_update_imports_cell) { window._pyforest_update_imports_cell('import matplotlib.pyplot as plt\\nimport lightgbm as lgb\\nimport statistics\\nimport re\\nfrom sklearn.model_selection import train_test_split\\nimport xgboost as xgb\\nfrom openpyxl import load_workbook\\nimport pandas as pd\\nfrom scipy import stats\\nimport textblob\\nimport torch\\nimport random\\nfrom scipy import signal as sg\\nimport sklearn\\nimport seaborn as sns\\nimport spacy\\nimport numpy as np\\nfrom sklearn import svm\\nimport skimage\\nimport sys\\nimport tensorflow as tf\\nimport statsmodels.api as sm\\nimport tqdm'); }\n",
              "    "
            ]
          },
          "metadata": {}
        },
        {
          "output_type": "display_data",
          "data": {
            "text/plain": [
              "<IPython.core.display.Javascript object>"
            ],
            "application/javascript": [
              "\n",
              "        if (window._pyforest_update_imports_cell) { window._pyforest_update_imports_cell('import matplotlib.pyplot as plt\\nimport lightgbm as lgb\\nimport statistics\\nimport re\\nfrom sklearn.model_selection import train_test_split\\nimport xgboost as xgb\\nfrom openpyxl import load_workbook\\nimport pandas as pd\\nfrom scipy import stats\\nimport textblob\\nimport torch\\nimport random\\nfrom scipy import signal as sg\\nimport sklearn\\nimport seaborn as sns\\nimport spacy\\nimport numpy as np\\nfrom sklearn import svm\\nimport skimage\\nimport sys\\nimport tensorflow as tf\\nimport statsmodels.api as sm\\nimport tqdm'); }\n",
              "    "
            ]
          },
          "metadata": {}
        },
        {
          "output_type": "display_data",
          "data": {
            "text/plain": [
              "<IPython.core.display.Javascript object>"
            ],
            "application/javascript": [
              "\n",
              "        if (window._pyforest_update_imports_cell) { window._pyforest_update_imports_cell('import matplotlib.pyplot as plt\\nimport lightgbm as lgb\\nimport statistics\\nimport re\\nfrom sklearn.model_selection import train_test_split\\nimport xgboost as xgb\\nfrom openpyxl import load_workbook\\nimport pandas as pd\\nfrom scipy import stats\\nimport textblob\\nimport torch\\nimport random\\nfrom scipy import signal as sg\\nimport sklearn\\nimport seaborn as sns\\nimport spacy\\nimport numpy as np\\nfrom sklearn import svm\\nimport skimage\\nimport sys\\nimport tensorflow as tf\\nimport statsmodels.api as sm\\nimport tqdm'); }\n",
              "    "
            ]
          },
          "metadata": {}
        },
        {
          "output_type": "display_data",
          "data": {
            "text/plain": [
              "<IPython.core.display.Javascript object>"
            ],
            "application/javascript": [
              "\n",
              "        if (window._pyforest_update_imports_cell) { window._pyforest_update_imports_cell('import matplotlib.pyplot as plt\\nimport lightgbm as lgb\\nimport statistics\\nimport re\\nfrom sklearn.model_selection import train_test_split\\nimport xgboost as xgb\\nfrom openpyxl import load_workbook\\nimport pandas as pd\\nfrom scipy import stats\\nimport textblob\\nimport torch\\nimport random\\nfrom scipy import signal as sg\\nimport sklearn\\nimport seaborn as sns\\nimport spacy\\nimport numpy as np\\nfrom sklearn import svm\\nimport skimage\\nimport sys\\nimport tensorflow as tf\\nimport statsmodels.api as sm\\nimport tqdm'); }\n",
              "    "
            ]
          },
          "metadata": {}
        },
        {
          "output_type": "display_data",
          "data": {
            "text/plain": [
              "<IPython.core.display.Javascript object>"
            ],
            "application/javascript": [
              "\n",
              "        if (window._pyforest_update_imports_cell) { window._pyforest_update_imports_cell('import matplotlib.pyplot as plt\\nimport lightgbm as lgb\\nimport statistics\\nimport re\\nfrom sklearn.model_selection import train_test_split\\nimport xgboost as xgb\\nfrom openpyxl import load_workbook\\nimport pandas as pd\\nfrom scipy import stats\\nimport textblob\\nimport torch\\nimport random\\nfrom scipy import signal as sg\\nimport sklearn\\nimport seaborn as sns\\nimport spacy\\nimport numpy as np\\nfrom sklearn import svm\\nimport skimage\\nimport sys\\nimport tensorflow as tf\\nimport statsmodels.api as sm\\nimport tqdm'); }\n",
              "    "
            ]
          },
          "metadata": {}
        },
        {
          "output_type": "display_data",
          "data": {
            "text/plain": [
              "<IPython.core.display.Javascript object>"
            ],
            "application/javascript": [
              "\n",
              "        if (window._pyforest_update_imports_cell) { window._pyforest_update_imports_cell('import matplotlib.pyplot as plt\\nimport lightgbm as lgb\\nimport statistics\\nimport re\\nfrom sklearn.model_selection import train_test_split\\nimport xgboost as xgb\\nfrom openpyxl import load_workbook\\nimport pandas as pd\\nfrom scipy import stats\\nimport textblob\\nimport torch\\nimport random\\nfrom scipy import signal as sg\\nimport sklearn\\nimport seaborn as sns\\nimport spacy\\nimport numpy as np\\nfrom sklearn import svm\\nimport skimage\\nimport sys\\nimport tensorflow as tf\\nimport statsmodels.api as sm\\nimport tqdm'); }\n",
              "    "
            ]
          },
          "metadata": {}
        },
        {
          "output_type": "display_data",
          "data": {
            "text/plain": [
              "<IPython.core.display.Javascript object>"
            ],
            "application/javascript": [
              "\n",
              "        if (window._pyforest_update_imports_cell) { window._pyforest_update_imports_cell('import matplotlib.pyplot as plt\\nimport lightgbm as lgb\\nimport statistics\\nimport re\\nfrom sklearn.model_selection import train_test_split\\nimport xgboost as xgb\\nfrom openpyxl import load_workbook\\nimport pandas as pd\\nfrom scipy import stats\\nimport textblob\\nimport torch\\nimport random\\nfrom scipy import signal as sg\\nimport sklearn\\nimport seaborn as sns\\nimport spacy\\nimport numpy as np\\nfrom sklearn import svm\\nimport skimage\\nimport sys\\nimport tensorflow as tf\\nimport statsmodels.api as sm\\nimport tqdm'); }\n",
              "    "
            ]
          },
          "metadata": {}
        },
        {
          "output_type": "display_data",
          "data": {
            "text/plain": [
              "<IPython.core.display.Javascript object>"
            ],
            "application/javascript": [
              "\n",
              "        if (window._pyforest_update_imports_cell) { window._pyforest_update_imports_cell('import matplotlib.pyplot as plt\\nimport lightgbm as lgb\\nimport statistics\\nimport re\\nfrom sklearn.model_selection import train_test_split\\nimport xgboost as xgb\\nfrom openpyxl import load_workbook\\nimport pandas as pd\\nfrom scipy import stats\\nimport textblob\\nimport torch\\nimport random\\nfrom scipy import signal as sg\\nimport sklearn\\nimport seaborn as sns\\nimport spacy\\nimport numpy as np\\nfrom sklearn import svm\\nimport skimage\\nimport sys\\nimport tensorflow as tf\\nimport statsmodels.api as sm\\nimport tqdm'); }\n",
              "    "
            ]
          },
          "metadata": {}
        },
        {
          "output_type": "display_data",
          "data": {
            "text/plain": [
              "<IPython.core.display.Javascript object>"
            ],
            "application/javascript": [
              "\n",
              "        if (window._pyforest_update_imports_cell) { window._pyforest_update_imports_cell('import matplotlib.pyplot as plt\\nimport lightgbm as lgb\\nimport statistics\\nimport re\\nfrom sklearn.model_selection import train_test_split\\nimport xgboost as xgb\\nfrom openpyxl import load_workbook\\nimport pandas as pd\\nfrom scipy import stats\\nimport textblob\\nimport torch\\nimport random\\nfrom scipy import signal as sg\\nimport sklearn\\nimport seaborn as sns\\nimport spacy\\nimport numpy as np\\nfrom sklearn import svm\\nimport skimage\\nimport sys\\nimport tensorflow as tf\\nimport statsmodels.api as sm\\nimport tqdm'); }\n",
              "    "
            ]
          },
          "metadata": {}
        },
        {
          "output_type": "display_data",
          "data": {
            "text/plain": [
              "<IPython.core.display.Javascript object>"
            ],
            "application/javascript": [
              "\n",
              "        if (window._pyforest_update_imports_cell) { window._pyforest_update_imports_cell('import matplotlib.pyplot as plt\\nimport lightgbm as lgb\\nimport statistics\\nimport re\\nfrom sklearn.model_selection import train_test_split\\nimport xgboost as xgb\\nfrom openpyxl import load_workbook\\nimport pandas as pd\\nfrom scipy import stats\\nimport textblob\\nimport torch\\nimport random\\nfrom scipy import signal as sg\\nimport sklearn\\nimport seaborn as sns\\nimport spacy\\nimport numpy as np\\nfrom sklearn import svm\\nimport skimage\\nimport sys\\nimport tensorflow as tf\\nimport statsmodels.api as sm\\nimport tqdm'); }\n",
              "    "
            ]
          },
          "metadata": {}
        },
        {
          "output_type": "display_data",
          "data": {
            "text/plain": [
              "<IPython.core.display.Javascript object>"
            ],
            "application/javascript": [
              "\n",
              "        if (window._pyforest_update_imports_cell) { window._pyforest_update_imports_cell('import matplotlib.pyplot as plt\\nimport lightgbm as lgb\\nimport statistics\\nimport re\\nfrom sklearn.model_selection import train_test_split\\nimport xgboost as xgb\\nfrom openpyxl import load_workbook\\nimport pandas as pd\\nfrom scipy import stats\\nimport textblob\\nimport torch\\nimport random\\nfrom scipy import signal as sg\\nimport sklearn\\nimport seaborn as sns\\nimport spacy\\nimport numpy as np\\nfrom sklearn import svm\\nimport skimage\\nimport sys\\nimport tensorflow as tf\\nimport statsmodels.api as sm\\nimport tqdm'); }\n",
              "    "
            ]
          },
          "metadata": {}
        },
        {
          "output_type": "display_data",
          "data": {
            "text/plain": [
              "<IPython.core.display.Javascript object>"
            ],
            "application/javascript": [
              "\n",
              "        if (window._pyforest_update_imports_cell) { window._pyforest_update_imports_cell('import matplotlib.pyplot as plt\\nimport lightgbm as lgb\\nimport statistics\\nimport re\\nfrom sklearn.model_selection import train_test_split\\nimport xgboost as xgb\\nfrom openpyxl import load_workbook\\nimport pandas as pd\\nfrom scipy import stats\\nimport textblob\\nimport torch\\nimport random\\nfrom scipy import signal as sg\\nimport sklearn\\nimport seaborn as sns\\nimport spacy\\nimport numpy as np\\nfrom sklearn import svm\\nimport skimage\\nimport sys\\nimport tensorflow as tf\\nimport statsmodels.api as sm\\nimport tqdm'); }\n",
              "    "
            ]
          },
          "metadata": {}
        },
        {
          "output_type": "display_data",
          "data": {
            "text/plain": [
              "<IPython.core.display.Javascript object>"
            ],
            "application/javascript": [
              "\n",
              "        if (window._pyforest_update_imports_cell) { window._pyforest_update_imports_cell('import matplotlib.pyplot as plt\\nimport lightgbm as lgb\\nimport statistics\\nimport re\\nfrom sklearn.model_selection import train_test_split\\nimport xgboost as xgb\\nfrom openpyxl import load_workbook\\nimport pandas as pd\\nfrom scipy import stats\\nimport textblob\\nimport torch\\nimport random\\nfrom scipy import signal as sg\\nimport sklearn\\nimport seaborn as sns\\nimport spacy\\nimport numpy as np\\nfrom sklearn import svm\\nimport skimage\\nimport sys\\nimport tensorflow as tf\\nimport statsmodels.api as sm\\nimport tqdm'); }\n",
              "    "
            ]
          },
          "metadata": {}
        },
        {
          "output_type": "display_data",
          "data": {
            "text/plain": [
              "<IPython.core.display.Javascript object>"
            ],
            "application/javascript": [
              "\n",
              "        if (window._pyforest_update_imports_cell) { window._pyforest_update_imports_cell('import matplotlib.pyplot as plt\\nimport lightgbm as lgb\\nimport statistics\\nimport re\\nfrom sklearn.model_selection import train_test_split\\nimport xgboost as xgb\\nfrom openpyxl import load_workbook\\nimport pandas as pd\\nfrom scipy import stats\\nimport textblob\\nimport torch\\nimport random\\nfrom scipy import signal as sg\\nimport sklearn\\nimport seaborn as sns\\nimport spacy\\nimport numpy as np\\nfrom sklearn import svm\\nimport skimage\\nimport sys\\nimport tensorflow as tf\\nimport statsmodels.api as sm\\nimport tqdm'); }\n",
              "    "
            ]
          },
          "metadata": {}
        },
        {
          "output_type": "display_data",
          "data": {
            "text/plain": [
              "<IPython.core.display.Javascript object>"
            ],
            "application/javascript": [
              "\n",
              "        if (window._pyforest_update_imports_cell) { window._pyforest_update_imports_cell('import matplotlib.pyplot as plt\\nimport lightgbm as lgb\\nimport statistics\\nimport re\\nfrom sklearn.model_selection import train_test_split\\nimport xgboost as xgb\\nfrom openpyxl import load_workbook\\nimport pandas as pd\\nfrom scipy import stats\\nimport textblob\\nimport torch\\nimport random\\nfrom scipy import signal as sg\\nimport sklearn\\nimport seaborn as sns\\nimport spacy\\nimport numpy as np\\nfrom sklearn import svm\\nimport skimage\\nimport sys\\nimport tensorflow as tf\\nimport statsmodels.api as sm\\nimport tqdm'); }\n",
              "    "
            ]
          },
          "metadata": {}
        },
        {
          "output_type": "display_data",
          "data": {
            "text/plain": [
              "<IPython.core.display.Javascript object>"
            ],
            "application/javascript": [
              "\n",
              "        if (window._pyforest_update_imports_cell) { window._pyforest_update_imports_cell('import matplotlib.pyplot as plt\\nimport lightgbm as lgb\\nimport statistics\\nimport re\\nfrom sklearn.model_selection import train_test_split\\nimport xgboost as xgb\\nfrom openpyxl import load_workbook\\nimport pandas as pd\\nfrom scipy import stats\\nimport textblob\\nimport torch\\nimport random\\nfrom scipy import signal as sg\\nimport sklearn\\nimport seaborn as sns\\nimport spacy\\nimport numpy as np\\nfrom sklearn import svm\\nimport skimage\\nimport sys\\nimport tensorflow as tf\\nimport statsmodels.api as sm\\nimport tqdm'); }\n",
              "    "
            ]
          },
          "metadata": {}
        },
        {
          "output_type": "display_data",
          "data": {
            "text/plain": [
              "<IPython.core.display.Javascript object>"
            ],
            "application/javascript": [
              "\n",
              "        if (window._pyforest_update_imports_cell) { window._pyforest_update_imports_cell('import matplotlib.pyplot as plt\\nimport lightgbm as lgb\\nimport statistics\\nimport re\\nfrom sklearn.model_selection import train_test_split\\nimport xgboost as xgb\\nfrom openpyxl import load_workbook\\nimport pandas as pd\\nfrom scipy import stats\\nimport textblob\\nimport torch\\nimport random\\nfrom scipy import signal as sg\\nimport sklearn\\nimport seaborn as sns\\nimport spacy\\nimport numpy as np\\nfrom sklearn import svm\\nimport skimage\\nimport sys\\nimport tensorflow as tf\\nimport statsmodels.api as sm\\nimport tqdm'); }\n",
              "    "
            ]
          },
          "metadata": {}
        },
        {
          "output_type": "display_data",
          "data": {
            "text/plain": [
              "<IPython.core.display.Javascript object>"
            ],
            "application/javascript": [
              "\n",
              "        if (window._pyforest_update_imports_cell) { window._pyforest_update_imports_cell('import matplotlib.pyplot as plt\\nimport lightgbm as lgb\\nimport statistics\\nimport re\\nfrom sklearn.model_selection import train_test_split\\nimport xgboost as xgb\\nfrom openpyxl import load_workbook\\nimport pandas as pd\\nfrom scipy import stats\\nimport textblob\\nimport torch\\nimport random\\nfrom scipy import signal as sg\\nimport sklearn\\nimport seaborn as sns\\nimport spacy\\nimport numpy as np\\nfrom sklearn import svm\\nimport skimage\\nimport sys\\nimport tensorflow as tf\\nimport statsmodels.api as sm\\nimport tqdm'); }\n",
              "    "
            ]
          },
          "metadata": {}
        },
        {
          "output_type": "display_data",
          "data": {
            "text/plain": [
              "<IPython.core.display.Javascript object>"
            ],
            "application/javascript": [
              "\n",
              "        if (window._pyforest_update_imports_cell) { window._pyforest_update_imports_cell('import matplotlib.pyplot as plt\\nimport lightgbm as lgb\\nimport statistics\\nimport re\\nfrom sklearn.model_selection import train_test_split\\nimport xgboost as xgb\\nfrom openpyxl import load_workbook\\nimport pandas as pd\\nfrom scipy import stats\\nimport textblob\\nimport torch\\nimport random\\nfrom scipy import signal as sg\\nimport sklearn\\nimport seaborn as sns\\nimport spacy\\nimport numpy as np\\nfrom sklearn import svm\\nimport skimage\\nimport sys\\nimport tensorflow as tf\\nimport statsmodels.api as sm\\nimport tqdm'); }\n",
              "    "
            ]
          },
          "metadata": {}
        },
        {
          "output_type": "display_data",
          "data": {
            "text/plain": [
              "<IPython.core.display.Javascript object>"
            ],
            "application/javascript": [
              "\n",
              "        if (window._pyforest_update_imports_cell) { window._pyforest_update_imports_cell('import matplotlib.pyplot as plt\\nimport lightgbm as lgb\\nimport statistics\\nimport re\\nfrom sklearn.model_selection import train_test_split\\nimport xgboost as xgb\\nfrom openpyxl import load_workbook\\nimport pandas as pd\\nfrom scipy import stats\\nimport textblob\\nimport torch\\nimport random\\nfrom scipy import signal as sg\\nimport sklearn\\nimport seaborn as sns\\nimport spacy\\nimport numpy as np\\nfrom sklearn import svm\\nimport skimage\\nimport sys\\nimport tensorflow as tf\\nimport statsmodels.api as sm\\nimport tqdm'); }\n",
              "    "
            ]
          },
          "metadata": {}
        },
        {
          "output_type": "display_data",
          "data": {
            "text/plain": [
              "<IPython.core.display.Javascript object>"
            ],
            "application/javascript": [
              "\n",
              "        if (window._pyforest_update_imports_cell) { window._pyforest_update_imports_cell('import matplotlib.pyplot as plt\\nimport lightgbm as lgb\\nimport statistics\\nimport re\\nfrom sklearn.model_selection import train_test_split\\nimport xgboost as xgb\\nfrom openpyxl import load_workbook\\nimport pandas as pd\\nfrom scipy import stats\\nimport textblob\\nimport torch\\nimport random\\nfrom scipy import signal as sg\\nimport sklearn\\nimport seaborn as sns\\nimport spacy\\nimport numpy as np\\nfrom sklearn import svm\\nimport skimage\\nimport sys\\nimport tensorflow as tf\\nimport statsmodels.api as sm\\nimport tqdm'); }\n",
              "    "
            ]
          },
          "metadata": {}
        },
        {
          "output_type": "display_data",
          "data": {
            "text/plain": [
              "<IPython.core.display.Javascript object>"
            ],
            "application/javascript": [
              "\n",
              "        if (window._pyforest_update_imports_cell) { window._pyforest_update_imports_cell('import matplotlib.pyplot as plt\\nimport lightgbm as lgb\\nimport statistics\\nimport re\\nfrom sklearn.model_selection import train_test_split\\nimport xgboost as xgb\\nfrom openpyxl import load_workbook\\nimport pandas as pd\\nfrom scipy import stats\\nimport textblob\\nimport torch\\nimport random\\nfrom scipy import signal as sg\\nimport sklearn\\nimport seaborn as sns\\nimport spacy\\nimport numpy as np\\nfrom sklearn import svm\\nimport skimage\\nimport sys\\nimport tensorflow as tf\\nimport statsmodels.api as sm\\nimport tqdm'); }\n",
              "    "
            ]
          },
          "metadata": {}
        },
        {
          "output_type": "display_data",
          "data": {
            "text/plain": [
              "<IPython.core.display.Javascript object>"
            ],
            "application/javascript": [
              "\n",
              "        if (window._pyforest_update_imports_cell) { window._pyforest_update_imports_cell('import matplotlib.pyplot as plt\\nimport lightgbm as lgb\\nimport statistics\\nimport re\\nfrom sklearn.model_selection import train_test_split\\nimport xgboost as xgb\\nfrom openpyxl import load_workbook\\nimport pandas as pd\\nfrom scipy import stats\\nimport textblob\\nimport torch\\nimport random\\nfrom scipy import signal as sg\\nimport sklearn\\nimport seaborn as sns\\nimport spacy\\nimport numpy as np\\nfrom sklearn import svm\\nimport skimage\\nimport sys\\nimport tensorflow as tf\\nimport statsmodels.api as sm\\nimport tqdm'); }\n",
              "    "
            ]
          },
          "metadata": {}
        },
        {
          "output_type": "display_data",
          "data": {
            "text/plain": [
              "<IPython.core.display.Javascript object>"
            ],
            "application/javascript": [
              "\n",
              "        if (window._pyforest_update_imports_cell) { window._pyforest_update_imports_cell('import matplotlib.pyplot as plt\\nimport lightgbm as lgb\\nimport statistics\\nimport re\\nfrom sklearn.model_selection import train_test_split\\nimport xgboost as xgb\\nfrom openpyxl import load_workbook\\nimport pandas as pd\\nfrom scipy import stats\\nimport textblob\\nimport torch\\nimport random\\nfrom scipy import signal as sg\\nimport sklearn\\nimport seaborn as sns\\nimport spacy\\nimport numpy as np\\nfrom sklearn import svm\\nimport skimage\\nimport sys\\nimport tensorflow as tf\\nimport statsmodels.api as sm\\nimport tqdm'); }\n",
              "    "
            ]
          },
          "metadata": {}
        },
        {
          "output_type": "display_data",
          "data": {
            "text/plain": [
              "<IPython.core.display.Javascript object>"
            ],
            "application/javascript": [
              "\n",
              "        if (window._pyforest_update_imports_cell) { window._pyforest_update_imports_cell('import matplotlib.pyplot as plt\\nimport lightgbm as lgb\\nimport statistics\\nimport re\\nfrom sklearn.model_selection import train_test_split\\nimport xgboost as xgb\\nfrom openpyxl import load_workbook\\nimport pandas as pd\\nfrom scipy import stats\\nimport textblob\\nimport torch\\nimport random\\nfrom scipy import signal as sg\\nimport sklearn\\nimport seaborn as sns\\nimport spacy\\nimport numpy as np\\nfrom sklearn import svm\\nimport skimage\\nimport sys\\nimport tensorflow as tf\\nimport statsmodels.api as sm\\nimport tqdm'); }\n",
              "    "
            ]
          },
          "metadata": {}
        },
        {
          "output_type": "display_data",
          "data": {
            "text/plain": [
              "<IPython.core.display.Javascript object>"
            ],
            "application/javascript": [
              "\n",
              "        if (window._pyforest_update_imports_cell) { window._pyforest_update_imports_cell('import matplotlib.pyplot as plt\\nimport lightgbm as lgb\\nimport statistics\\nimport re\\nfrom sklearn.model_selection import train_test_split\\nimport xgboost as xgb\\nfrom openpyxl import load_workbook\\nimport pandas as pd\\nfrom scipy import stats\\nimport textblob\\nimport torch\\nimport random\\nfrom scipy import signal as sg\\nimport sklearn\\nimport seaborn as sns\\nimport spacy\\nimport numpy as np\\nfrom sklearn import svm\\nimport skimage\\nimport sys\\nimport tensorflow as tf\\nimport statsmodels.api as sm\\nimport tqdm'); }\n",
              "    "
            ]
          },
          "metadata": {}
        },
        {
          "output_type": "display_data",
          "data": {
            "text/plain": [
              "<IPython.core.display.Javascript object>"
            ],
            "application/javascript": [
              "\n",
              "        if (window._pyforest_update_imports_cell) { window._pyforest_update_imports_cell('import matplotlib.pyplot as plt\\nimport lightgbm as lgb\\nimport statistics\\nimport re\\nfrom sklearn.model_selection import train_test_split\\nimport xgboost as xgb\\nfrom openpyxl import load_workbook\\nimport pandas as pd\\nfrom scipy import stats\\nimport textblob\\nimport torch\\nimport random\\nfrom scipy import signal as sg\\nimport sklearn\\nimport seaborn as sns\\nimport spacy\\nimport numpy as np\\nfrom sklearn import svm\\nimport skimage\\nimport sys\\nimport tensorflow as tf\\nimport statsmodels.api as sm\\nimport tqdm'); }\n",
              "    "
            ]
          },
          "metadata": {}
        },
        {
          "output_type": "display_data",
          "data": {
            "text/plain": [
              "<IPython.core.display.Javascript object>"
            ],
            "application/javascript": [
              "\n",
              "        if (window._pyforest_update_imports_cell) { window._pyforest_update_imports_cell('import matplotlib.pyplot as plt\\nimport lightgbm as lgb\\nimport statistics\\nimport re\\nfrom sklearn.model_selection import train_test_split\\nimport xgboost as xgb\\nfrom openpyxl import load_workbook\\nimport pandas as pd\\nfrom scipy import stats\\nimport textblob\\nimport torch\\nimport random\\nfrom scipy import signal as sg\\nimport sklearn\\nimport seaborn as sns\\nimport spacy\\nimport numpy as np\\nfrom sklearn import svm\\nimport skimage\\nimport sys\\nimport tensorflow as tf\\nimport statsmodels.api as sm\\nimport tqdm'); }\n",
              "    "
            ]
          },
          "metadata": {}
        },
        {
          "output_type": "display_data",
          "data": {
            "text/plain": [
              "<IPython.core.display.Javascript object>"
            ],
            "application/javascript": [
              "\n",
              "        if (window._pyforest_update_imports_cell) { window._pyforest_update_imports_cell('import matplotlib.pyplot as plt\\nimport lightgbm as lgb\\nimport statistics\\nimport re\\nfrom sklearn.model_selection import train_test_split\\nimport xgboost as xgb\\nfrom openpyxl import load_workbook\\nimport pandas as pd\\nfrom scipy import stats\\nimport textblob\\nimport torch\\nimport random\\nfrom scipy import signal as sg\\nimport sklearn\\nimport seaborn as sns\\nimport spacy\\nimport numpy as np\\nfrom sklearn import svm\\nimport skimage\\nimport sys\\nimport tensorflow as tf\\nimport statsmodels.api as sm\\nimport tqdm'); }\n",
              "    "
            ]
          },
          "metadata": {}
        },
        {
          "output_type": "display_data",
          "data": {
            "text/plain": [
              "<IPython.core.display.Javascript object>"
            ],
            "application/javascript": [
              "\n",
              "        if (window._pyforest_update_imports_cell) { window._pyforest_update_imports_cell('import matplotlib.pyplot as plt\\nimport lightgbm as lgb\\nimport statistics\\nimport re\\nfrom sklearn.model_selection import train_test_split\\nimport xgboost as xgb\\nfrom openpyxl import load_workbook\\nimport pandas as pd\\nfrom scipy import stats\\nimport textblob\\nimport torch\\nimport random\\nfrom scipy import signal as sg\\nimport sklearn\\nimport seaborn as sns\\nimport spacy\\nimport numpy as np\\nfrom sklearn import svm\\nimport skimage\\nimport sys\\nimport tensorflow as tf\\nimport statsmodels.api as sm\\nimport tqdm'); }\n",
              "    "
            ]
          },
          "metadata": {}
        },
        {
          "output_type": "display_data",
          "data": {
            "text/plain": [
              "<IPython.core.display.Javascript object>"
            ],
            "application/javascript": [
              "\n",
              "        if (window._pyforest_update_imports_cell) { window._pyforest_update_imports_cell('import matplotlib.pyplot as plt\\nimport lightgbm as lgb\\nimport statistics\\nimport re\\nfrom sklearn.model_selection import train_test_split\\nimport xgboost as xgb\\nfrom openpyxl import load_workbook\\nimport pandas as pd\\nfrom scipy import stats\\nimport textblob\\nimport torch\\nimport random\\nfrom scipy import signal as sg\\nimport sklearn\\nimport seaborn as sns\\nimport spacy\\nimport numpy as np\\nfrom sklearn import svm\\nimport skimage\\nimport sys\\nimport tensorflow as tf\\nimport statsmodels.api as sm\\nimport tqdm'); }\n",
              "    "
            ]
          },
          "metadata": {}
        },
        {
          "output_type": "display_data",
          "data": {
            "text/plain": [
              "<IPython.core.display.Javascript object>"
            ],
            "application/javascript": [
              "\n",
              "        if (window._pyforest_update_imports_cell) { window._pyforest_update_imports_cell('import matplotlib.pyplot as plt\\nimport lightgbm as lgb\\nimport statistics\\nimport re\\nfrom sklearn.model_selection import train_test_split\\nimport xgboost as xgb\\nfrom openpyxl import load_workbook\\nimport pandas as pd\\nfrom scipy import stats\\nimport textblob\\nimport torch\\nimport random\\nfrom scipy import signal as sg\\nimport sklearn\\nimport seaborn as sns\\nimport spacy\\nimport numpy as np\\nfrom sklearn import svm\\nimport skimage\\nimport sys\\nimport tensorflow as tf\\nimport statsmodels.api as sm\\nimport tqdm'); }\n",
              "    "
            ]
          },
          "metadata": {}
        },
        {
          "output_type": "display_data",
          "data": {
            "text/plain": [
              "<IPython.core.display.Javascript object>"
            ],
            "application/javascript": [
              "\n",
              "        if (window._pyforest_update_imports_cell) { window._pyforest_update_imports_cell('import matplotlib.pyplot as plt\\nimport lightgbm as lgb\\nimport statistics\\nimport re\\nfrom sklearn.model_selection import train_test_split\\nimport xgboost as xgb\\nfrom openpyxl import load_workbook\\nimport pandas as pd\\nfrom scipy import stats\\nimport textblob\\nimport torch\\nimport random\\nfrom scipy import signal as sg\\nimport sklearn\\nimport seaborn as sns\\nimport spacy\\nimport numpy as np\\nfrom sklearn import svm\\nimport skimage\\nimport sys\\nimport tensorflow as tf\\nimport statsmodels.api as sm\\nimport tqdm'); }\n",
              "    "
            ]
          },
          "metadata": {}
        },
        {
          "output_type": "display_data",
          "data": {
            "text/plain": [
              "<IPython.core.display.Javascript object>"
            ],
            "application/javascript": [
              "\n",
              "        if (window._pyforest_update_imports_cell) { window._pyforest_update_imports_cell('import matplotlib.pyplot as plt\\nimport lightgbm as lgb\\nimport statistics\\nimport re\\nfrom sklearn.model_selection import train_test_split\\nimport xgboost as xgb\\nfrom openpyxl import load_workbook\\nimport pandas as pd\\nfrom scipy import stats\\nimport textblob\\nimport torch\\nimport random\\nfrom scipy import signal as sg\\nimport sklearn\\nimport seaborn as sns\\nimport spacy\\nimport numpy as np\\nfrom sklearn import svm\\nimport skimage\\nimport sys\\nimport tensorflow as tf\\nimport statsmodels.api as sm\\nimport tqdm'); }\n",
              "    "
            ]
          },
          "metadata": {}
        },
        {
          "output_type": "display_data",
          "data": {
            "text/plain": [
              "<IPython.core.display.Javascript object>"
            ],
            "application/javascript": [
              "\n",
              "        if (window._pyforest_update_imports_cell) { window._pyforest_update_imports_cell('import matplotlib.pyplot as plt\\nimport lightgbm as lgb\\nimport statistics\\nimport re\\nfrom sklearn.model_selection import train_test_split\\nimport xgboost as xgb\\nfrom openpyxl import load_workbook\\nimport pandas as pd\\nfrom scipy import stats\\nimport textblob\\nimport torch\\nimport random\\nfrom scipy import signal as sg\\nimport sklearn\\nimport seaborn as sns\\nimport spacy\\nimport numpy as np\\nfrom sklearn import svm\\nimport skimage\\nimport sys\\nimport tensorflow as tf\\nimport statsmodels.api as sm\\nimport tqdm'); }\n",
              "    "
            ]
          },
          "metadata": {}
        },
        {
          "output_type": "display_data",
          "data": {
            "text/plain": [
              "<IPython.core.display.Javascript object>"
            ],
            "application/javascript": [
              "\n",
              "        if (window._pyforest_update_imports_cell) { window._pyforest_update_imports_cell('import matplotlib.pyplot as plt\\nimport lightgbm as lgb\\nimport statistics\\nimport re\\nfrom sklearn.model_selection import train_test_split\\nimport xgboost as xgb\\nfrom openpyxl import load_workbook\\nimport pandas as pd\\nfrom scipy import stats\\nimport textblob\\nimport torch\\nimport random\\nfrom scipy import signal as sg\\nimport sklearn\\nimport seaborn as sns\\nimport spacy\\nimport numpy as np\\nfrom sklearn import svm\\nimport skimage\\nimport sys\\nimport tensorflow as tf\\nimport statsmodels.api as sm\\nimport tqdm'); }\n",
              "    "
            ]
          },
          "metadata": {}
        },
        {
          "output_type": "display_data",
          "data": {
            "text/plain": [
              "<IPython.core.display.Javascript object>"
            ],
            "application/javascript": [
              "\n",
              "        if (window._pyforest_update_imports_cell) { window._pyforest_update_imports_cell('import matplotlib.pyplot as plt\\nimport lightgbm as lgb\\nimport statistics\\nimport re\\nfrom sklearn.model_selection import train_test_split\\nimport xgboost as xgb\\nfrom openpyxl import load_workbook\\nimport pandas as pd\\nfrom scipy import stats\\nimport textblob\\nimport torch\\nimport random\\nfrom scipy import signal as sg\\nimport sklearn\\nimport seaborn as sns\\nimport spacy\\nimport numpy as np\\nfrom sklearn import svm\\nimport skimage\\nimport sys\\nimport tensorflow as tf\\nimport statsmodels.api as sm\\nimport tqdm'); }\n",
              "    "
            ]
          },
          "metadata": {}
        },
        {
          "output_type": "display_data",
          "data": {
            "text/plain": [
              "<IPython.core.display.Javascript object>"
            ],
            "application/javascript": [
              "\n",
              "        if (window._pyforest_update_imports_cell) { window._pyforest_update_imports_cell('import matplotlib.pyplot as plt\\nimport lightgbm as lgb\\nimport statistics\\nimport re\\nfrom sklearn.model_selection import train_test_split\\nimport xgboost as xgb\\nfrom openpyxl import load_workbook\\nimport pandas as pd\\nfrom scipy import stats\\nimport textblob\\nimport torch\\nimport random\\nfrom scipy import signal as sg\\nimport sklearn\\nimport seaborn as sns\\nimport spacy\\nimport numpy as np\\nfrom sklearn import svm\\nimport skimage\\nimport sys\\nimport tensorflow as tf\\nimport statsmodels.api as sm\\nimport tqdm'); }\n",
              "    "
            ]
          },
          "metadata": {}
        },
        {
          "output_type": "display_data",
          "data": {
            "text/plain": [
              "<IPython.core.display.Javascript object>"
            ],
            "application/javascript": [
              "\n",
              "        if (window._pyforest_update_imports_cell) { window._pyforest_update_imports_cell('import matplotlib.pyplot as plt\\nimport lightgbm as lgb\\nimport statistics\\nimport re\\nfrom sklearn.model_selection import train_test_split\\nimport xgboost as xgb\\nfrom openpyxl import load_workbook\\nimport pandas as pd\\nfrom scipy import stats\\nimport textblob\\nimport torch\\nimport random\\nfrom scipy import signal as sg\\nimport sklearn\\nimport seaborn as sns\\nimport spacy\\nimport numpy as np\\nfrom sklearn import svm\\nimport skimage\\nimport sys\\nimport tensorflow as tf\\nimport statsmodels.api as sm\\nimport tqdm'); }\n",
              "    "
            ]
          },
          "metadata": {}
        },
        {
          "output_type": "display_data",
          "data": {
            "text/plain": [
              "<IPython.core.display.Javascript object>"
            ],
            "application/javascript": [
              "\n",
              "        if (window._pyforest_update_imports_cell) { window._pyforest_update_imports_cell('import matplotlib.pyplot as plt\\nimport lightgbm as lgb\\nimport statistics\\nimport re\\nfrom sklearn.model_selection import train_test_split\\nimport xgboost as xgb\\nfrom openpyxl import load_workbook\\nimport pandas as pd\\nfrom scipy import stats\\nimport textblob\\nimport torch\\nimport random\\nfrom scipy import signal as sg\\nimport sklearn\\nimport seaborn as sns\\nimport spacy\\nimport numpy as np\\nfrom sklearn import svm\\nimport skimage\\nimport sys\\nimport tensorflow as tf\\nimport statsmodels.api as sm\\nimport tqdm'); }\n",
              "    "
            ]
          },
          "metadata": {}
        },
        {
          "output_type": "display_data",
          "data": {
            "text/plain": [
              "<IPython.core.display.Javascript object>"
            ],
            "application/javascript": [
              "\n",
              "        if (window._pyforest_update_imports_cell) { window._pyforest_update_imports_cell('import matplotlib.pyplot as plt\\nimport lightgbm as lgb\\nimport statistics\\nimport re\\nfrom sklearn.model_selection import train_test_split\\nimport xgboost as xgb\\nfrom openpyxl import load_workbook\\nimport pandas as pd\\nfrom scipy import stats\\nimport textblob\\nimport torch\\nimport random\\nfrom scipy import signal as sg\\nimport sklearn\\nimport seaborn as sns\\nimport spacy\\nimport numpy as np\\nfrom sklearn import svm\\nimport skimage\\nimport sys\\nimport tensorflow as tf\\nimport statsmodels.api as sm\\nimport tqdm'); }\n",
              "    "
            ]
          },
          "metadata": {}
        },
        {
          "output_type": "display_data",
          "data": {
            "text/plain": [
              "<IPython.core.display.Javascript object>"
            ],
            "application/javascript": [
              "\n",
              "        if (window._pyforest_update_imports_cell) { window._pyforest_update_imports_cell('import matplotlib.pyplot as plt\\nimport lightgbm as lgb\\nimport statistics\\nimport re\\nfrom sklearn.model_selection import train_test_split\\nimport xgboost as xgb\\nfrom openpyxl import load_workbook\\nimport pandas as pd\\nfrom scipy import stats\\nimport textblob\\nimport torch\\nimport random\\nfrom scipy import signal as sg\\nimport sklearn\\nimport seaborn as sns\\nimport spacy\\nimport numpy as np\\nfrom sklearn import svm\\nimport skimage\\nimport sys\\nimport tensorflow as tf\\nimport statsmodels.api as sm\\nimport tqdm'); }\n",
              "    "
            ]
          },
          "metadata": {}
        },
        {
          "output_type": "display_data",
          "data": {
            "text/plain": [
              "<IPython.core.display.Javascript object>"
            ],
            "application/javascript": [
              "\n",
              "        if (window._pyforest_update_imports_cell) { window._pyforest_update_imports_cell('import matplotlib.pyplot as plt\\nimport lightgbm as lgb\\nimport statistics\\nimport re\\nfrom sklearn.model_selection import train_test_split\\nimport xgboost as xgb\\nfrom openpyxl import load_workbook\\nimport pandas as pd\\nfrom scipy import stats\\nimport textblob\\nimport torch\\nimport random\\nfrom scipy import signal as sg\\nimport sklearn\\nimport seaborn as sns\\nimport spacy\\nimport numpy as np\\nfrom sklearn import svm\\nimport skimage\\nimport sys\\nimport tensorflow as tf\\nimport statsmodels.api as sm\\nimport tqdm'); }\n",
              "    "
            ]
          },
          "metadata": {}
        },
        {
          "output_type": "display_data",
          "data": {
            "text/plain": [
              "<IPython.core.display.Javascript object>"
            ],
            "application/javascript": [
              "\n",
              "        if (window._pyforest_update_imports_cell) { window._pyforest_update_imports_cell('import matplotlib.pyplot as plt\\nimport lightgbm as lgb\\nimport statistics\\nimport re\\nfrom sklearn.model_selection import train_test_split\\nimport xgboost as xgb\\nfrom openpyxl import load_workbook\\nimport pandas as pd\\nfrom scipy import stats\\nimport textblob\\nimport torch\\nimport random\\nfrom scipy import signal as sg\\nimport sklearn\\nimport seaborn as sns\\nimport spacy\\nimport numpy as np\\nfrom sklearn import svm\\nimport skimage\\nimport sys\\nimport tensorflow as tf\\nimport statsmodels.api as sm\\nimport tqdm'); }\n",
              "    "
            ]
          },
          "metadata": {}
        },
        {
          "output_type": "execute_result",
          "data": {
            "text/plain": [
              "   Epoch  Train Accuracy  Train Loss  Test Accuracy  Test Loss\n",
              "0      0       33.333333    1.107704           52.0   1.057284\n",
              "1     20       96.000000    0.109587          100.0   0.051738\n",
              "2     40       99.111111    0.027602          100.0   0.003713\n",
              "3     60       99.111111    0.020697          100.0   0.001293\n",
              "4     80       99.111111    0.020380          100.0   0.000622"
            ],
            "text/html": [
              "\n",
              "  <div id=\"df-82e5d164-67b6-40b4-8332-9585af4ab640\" class=\"colab-df-container\">\n",
              "    <div>\n",
              "<style scoped>\n",
              "    .dataframe tbody tr th:only-of-type {\n",
              "        vertical-align: middle;\n",
              "    }\n",
              "\n",
              "    .dataframe tbody tr th {\n",
              "        vertical-align: top;\n",
              "    }\n",
              "\n",
              "    .dataframe thead th {\n",
              "        text-align: right;\n",
              "    }\n",
              "</style>\n",
              "<table border=\"1\" class=\"dataframe\">\n",
              "  <thead>\n",
              "    <tr style=\"text-align: right;\">\n",
              "      <th></th>\n",
              "      <th>Epoch</th>\n",
              "      <th>Train Accuracy</th>\n",
              "      <th>Train Loss</th>\n",
              "      <th>Test Accuracy</th>\n",
              "      <th>Test Loss</th>\n",
              "    </tr>\n",
              "  </thead>\n",
              "  <tbody>\n",
              "    <tr>\n",
              "      <th>0</th>\n",
              "      <td>0</td>\n",
              "      <td>33.333333</td>\n",
              "      <td>1.107704</td>\n",
              "      <td>52.0</td>\n",
              "      <td>1.057284</td>\n",
              "    </tr>\n",
              "    <tr>\n",
              "      <th>1</th>\n",
              "      <td>20</td>\n",
              "      <td>96.000000</td>\n",
              "      <td>0.109587</td>\n",
              "      <td>100.0</td>\n",
              "      <td>0.051738</td>\n",
              "    </tr>\n",
              "    <tr>\n",
              "      <th>2</th>\n",
              "      <td>40</td>\n",
              "      <td>99.111111</td>\n",
              "      <td>0.027602</td>\n",
              "      <td>100.0</td>\n",
              "      <td>0.003713</td>\n",
              "    </tr>\n",
              "    <tr>\n",
              "      <th>3</th>\n",
              "      <td>60</td>\n",
              "      <td>99.111111</td>\n",
              "      <td>0.020697</td>\n",
              "      <td>100.0</td>\n",
              "      <td>0.001293</td>\n",
              "    </tr>\n",
              "    <tr>\n",
              "      <th>4</th>\n",
              "      <td>80</td>\n",
              "      <td>99.111111</td>\n",
              "      <td>0.020380</td>\n",
              "      <td>100.0</td>\n",
              "      <td>0.000622</td>\n",
              "    </tr>\n",
              "  </tbody>\n",
              "</table>\n",
              "</div>\n",
              "    <div class=\"colab-df-buttons\">\n",
              "\n",
              "  <div class=\"colab-df-container\">\n",
              "    <button class=\"colab-df-convert\" onclick=\"convertToInteractive('df-82e5d164-67b6-40b4-8332-9585af4ab640')\"\n",
              "            title=\"Convert this dataframe to an interactive table.\"\n",
              "            style=\"display:none;\">\n",
              "\n",
              "  <svg xmlns=\"http://www.w3.org/2000/svg\" height=\"24px\" viewBox=\"0 -960 960 960\">\n",
              "    <path d=\"M120-120v-720h720v720H120Zm60-500h600v-160H180v160Zm220 220h160v-160H400v160Zm0 220h160v-160H400v160ZM180-400h160v-160H180v160Zm440 0h160v-160H620v160ZM180-180h160v-160H180v160Zm440 0h160v-160H620v160Z\"/>\n",
              "  </svg>\n",
              "    </button>\n",
              "\n",
              "  <style>\n",
              "    .colab-df-container {\n",
              "      display:flex;\n",
              "      gap: 12px;\n",
              "    }\n",
              "\n",
              "    .colab-df-convert {\n",
              "      background-color: #E8F0FE;\n",
              "      border: none;\n",
              "      border-radius: 50%;\n",
              "      cursor: pointer;\n",
              "      display: none;\n",
              "      fill: #1967D2;\n",
              "      height: 32px;\n",
              "      padding: 0 0 0 0;\n",
              "      width: 32px;\n",
              "    }\n",
              "\n",
              "    .colab-df-convert:hover {\n",
              "      background-color: #E2EBFA;\n",
              "      box-shadow: 0px 1px 2px rgba(60, 64, 67, 0.3), 0px 1px 3px 1px rgba(60, 64, 67, 0.15);\n",
              "      fill: #174EA6;\n",
              "    }\n",
              "\n",
              "    .colab-df-buttons div {\n",
              "      margin-bottom: 4px;\n",
              "    }\n",
              "\n",
              "    [theme=dark] .colab-df-convert {\n",
              "      background-color: #3B4455;\n",
              "      fill: #D2E3FC;\n",
              "    }\n",
              "\n",
              "    [theme=dark] .colab-df-convert:hover {\n",
              "      background-color: #434B5C;\n",
              "      box-shadow: 0px 1px 3px 1px rgba(0, 0, 0, 0.15);\n",
              "      filter: drop-shadow(0px 1px 2px rgba(0, 0, 0, 0.3));\n",
              "      fill: #FFFFFF;\n",
              "    }\n",
              "  </style>\n",
              "\n",
              "    <script>\n",
              "      const buttonEl =\n",
              "        document.querySelector('#df-82e5d164-67b6-40b4-8332-9585af4ab640 button.colab-df-convert');\n",
              "      buttonEl.style.display =\n",
              "        google.colab.kernel.accessAllowed ? 'block' : 'none';\n",
              "\n",
              "      async function convertToInteractive(key) {\n",
              "        const element = document.querySelector('#df-82e5d164-67b6-40b4-8332-9585af4ab640');\n",
              "        const dataTable =\n",
              "          await google.colab.kernel.invokeFunction('convertToInteractive',\n",
              "                                                    [key], {});\n",
              "        if (!dataTable) return;\n",
              "\n",
              "        const docLinkHtml = 'Like what you see? Visit the ' +\n",
              "          '<a target=\"_blank\" href=https://colab.research.google.com/notebooks/data_table.ipynb>data table notebook</a>'\n",
              "          + ' to learn more about interactive tables.';\n",
              "        element.innerHTML = '';\n",
              "        dataTable['output_type'] = 'display_data';\n",
              "        await google.colab.output.renderOutput(dataTable, element);\n",
              "        const docLink = document.createElement('div');\n",
              "        docLink.innerHTML = docLinkHtml;\n",
              "        element.appendChild(docLink);\n",
              "      }\n",
              "    </script>\n",
              "  </div>\n",
              "\n",
              "\n",
              "<div id=\"df-e6e8d300-84d5-4397-b161-2d6b63b08574\">\n",
              "  <button class=\"colab-df-quickchart\" onclick=\"quickchart('df-e6e8d300-84d5-4397-b161-2d6b63b08574')\"\n",
              "            title=\"Suggest charts\"\n",
              "            style=\"display:none;\">\n",
              "\n",
              "<svg xmlns=\"http://www.w3.org/2000/svg\" height=\"24px\"viewBox=\"0 0 24 24\"\n",
              "     width=\"24px\">\n",
              "    <g>\n",
              "        <path d=\"M19 3H5c-1.1 0-2 .9-2 2v14c0 1.1.9 2 2 2h14c1.1 0 2-.9 2-2V5c0-1.1-.9-2-2-2zM9 17H7v-7h2v7zm4 0h-2V7h2v10zm4 0h-2v-4h2v4z\"/>\n",
              "    </g>\n",
              "</svg>\n",
              "  </button>\n",
              "\n",
              "<style>\n",
              "  .colab-df-quickchart {\n",
              "      --bg-color: #E8F0FE;\n",
              "      --fill-color: #1967D2;\n",
              "      --hover-bg-color: #E2EBFA;\n",
              "      --hover-fill-color: #174EA6;\n",
              "      --disabled-fill-color: #AAA;\n",
              "      --disabled-bg-color: #DDD;\n",
              "  }\n",
              "\n",
              "  [theme=dark] .colab-df-quickchart {\n",
              "      --bg-color: #3B4455;\n",
              "      --fill-color: #D2E3FC;\n",
              "      --hover-bg-color: #434B5C;\n",
              "      --hover-fill-color: #FFFFFF;\n",
              "      --disabled-bg-color: #3B4455;\n",
              "      --disabled-fill-color: #666;\n",
              "  }\n",
              "\n",
              "  .colab-df-quickchart {\n",
              "    background-color: var(--bg-color);\n",
              "    border: none;\n",
              "    border-radius: 50%;\n",
              "    cursor: pointer;\n",
              "    display: none;\n",
              "    fill: var(--fill-color);\n",
              "    height: 32px;\n",
              "    padding: 0;\n",
              "    width: 32px;\n",
              "  }\n",
              "\n",
              "  .colab-df-quickchart:hover {\n",
              "    background-color: var(--hover-bg-color);\n",
              "    box-shadow: 0 1px 2px rgba(60, 64, 67, 0.3), 0 1px 3px 1px rgba(60, 64, 67, 0.15);\n",
              "    fill: var(--button-hover-fill-color);\n",
              "  }\n",
              "\n",
              "  .colab-df-quickchart-complete:disabled,\n",
              "  .colab-df-quickchart-complete:disabled:hover {\n",
              "    background-color: var(--disabled-bg-color);\n",
              "    fill: var(--disabled-fill-color);\n",
              "    box-shadow: none;\n",
              "  }\n",
              "\n",
              "  .colab-df-spinner {\n",
              "    border: 2px solid var(--fill-color);\n",
              "    border-color: transparent;\n",
              "    border-bottom-color: var(--fill-color);\n",
              "    animation:\n",
              "      spin 1s steps(1) infinite;\n",
              "  }\n",
              "\n",
              "  @keyframes spin {\n",
              "    0% {\n",
              "      border-color: transparent;\n",
              "      border-bottom-color: var(--fill-color);\n",
              "      border-left-color: var(--fill-color);\n",
              "    }\n",
              "    20% {\n",
              "      border-color: transparent;\n",
              "      border-left-color: var(--fill-color);\n",
              "      border-top-color: var(--fill-color);\n",
              "    }\n",
              "    30% {\n",
              "      border-color: transparent;\n",
              "      border-left-color: var(--fill-color);\n",
              "      border-top-color: var(--fill-color);\n",
              "      border-right-color: var(--fill-color);\n",
              "    }\n",
              "    40% {\n",
              "      border-color: transparent;\n",
              "      border-right-color: var(--fill-color);\n",
              "      border-top-color: var(--fill-color);\n",
              "    }\n",
              "    60% {\n",
              "      border-color: transparent;\n",
              "      border-right-color: var(--fill-color);\n",
              "    }\n",
              "    80% {\n",
              "      border-color: transparent;\n",
              "      border-right-color: var(--fill-color);\n",
              "      border-bottom-color: var(--fill-color);\n",
              "    }\n",
              "    90% {\n",
              "      border-color: transparent;\n",
              "      border-bottom-color: var(--fill-color);\n",
              "    }\n",
              "  }\n",
              "</style>\n",
              "\n",
              "  <script>\n",
              "    async function quickchart(key) {\n",
              "      const quickchartButtonEl =\n",
              "        document.querySelector('#' + key + ' button');\n",
              "      quickchartButtonEl.disabled = true;  // To prevent multiple clicks.\n",
              "      quickchartButtonEl.classList.add('colab-df-spinner');\n",
              "      try {\n",
              "        const charts = await google.colab.kernel.invokeFunction(\n",
              "            'suggestCharts', [key], {});\n",
              "      } catch (error) {\n",
              "        console.error('Error during call to suggestCharts:', error);\n",
              "      }\n",
              "      quickchartButtonEl.classList.remove('colab-df-spinner');\n",
              "      quickchartButtonEl.classList.add('colab-df-quickchart-complete');\n",
              "    }\n",
              "    (() => {\n",
              "      let quickchartButtonEl =\n",
              "        document.querySelector('#df-e6e8d300-84d5-4397-b161-2d6b63b08574 button');\n",
              "      quickchartButtonEl.style.display =\n",
              "        google.colab.kernel.accessAllowed ? 'block' : 'none';\n",
              "    })();\n",
              "  </script>\n",
              "</div>\n",
              "\n",
              "    </div>\n",
              "  </div>\n"
            ],
            "application/vnd.google.colaboratory.intrinsic+json": {
              "type": "dataframe",
              "summary": "{\n  \"name\": \"})\",\n  \"rows\": 5,\n  \"fields\": [\n    {\n      \"column\": \"Epoch\",\n      \"properties\": {\n        \"dtype\": \"number\",\n        \"std\": 31,\n        \"min\": 0,\n        \"max\": 80,\n        \"num_unique_values\": 5,\n        \"samples\": [\n          20,\n          80,\n          40\n        ],\n        \"semantic_type\": \"\",\n        \"description\": \"\"\n      }\n    },\n    {\n      \"column\": \"Train Accuracy\",\n      \"properties\": {\n        \"dtype\": \"number\",\n        \"std\": 29.10008272865929,\n        \"min\": 33.33333333333333,\n        \"max\": 99.11111111111111,\n        \"num_unique_values\": 3,\n        \"samples\": [\n          33.33333333333333,\n          96.0,\n          99.11111111111111\n        ],\n        \"semantic_type\": \"\",\n        \"description\": \"\"\n      }\n    },\n    {\n      \"column\": \"Train Loss\",\n      \"properties\": {\n        \"dtype\": \"number\",\n        \"std\": 0.476938048952204,\n        \"min\": 0.02038007229566574,\n        \"max\": 1.1077040433883667,\n        \"num_unique_values\": 5,\n        \"samples\": [\n          0.10958696901798248,\n          0.02038007229566574,\n          0.027601514011621475\n        ],\n        \"semantic_type\": \"\",\n        \"description\": \"\"\n      }\n    },\n    {\n      \"column\": \"Test Accuracy\",\n      \"properties\": {\n        \"dtype\": \"number\",\n        \"std\": 21.46625258399798,\n        \"min\": 52.0,\n        \"max\": 100.0,\n        \"num_unique_values\": 2,\n        \"samples\": [\n          100.0,\n          52.0\n        ],\n        \"semantic_type\": \"\",\n        \"description\": \"\"\n      }\n    },\n    {\n      \"column\": \"Test Loss\",\n      \"properties\": {\n        \"dtype\": \"number\",\n        \"std\": 0.46691915664503836,\n        \"min\": 0.0006216640467755497,\n        \"max\": 1.0572844743728638,\n        \"num_unique_values\": 5,\n        \"samples\": [\n          0.051738228648900986,\n          0.0006216640467755497\n        ],\n        \"semantic_type\": \"\",\n        \"description\": \"\"\n      }\n    }\n  ]\n}"
            }
          },
          "metadata": {},
          "execution_count": 196
        }
      ],
      "source": [
        "torch.manual_seed(42)\n",
        "\n",
        "epochs = 100\n",
        "\n",
        "X_train = X_train.to(device)\n",
        "X_test = X_test.to(device)\n",
        "y_train = y_train.to(device)\n",
        "y_test = y_test.to(device)\n",
        "\n",
        "train_loss = []\n",
        "test_loss = []\n",
        "train_acc = []\n",
        "test_acc = []\n",
        "epoch_list = []\n",
        "\n",
        "for epoch in range(epochs):\n",
        "  classifier2.train()\n",
        "  y_logits = classifier2(X_train)\n",
        "  y_pred = torch.softmax(y_logits, dim = 1).argmax(dim = 1)\n",
        "  trn_loss = loss(y_logits, y_train.type(torch.LongTensor).to(device))\n",
        "  optimizer.zero_grad()\n",
        "  trn_loss.backward()\n",
        "  optimizer.step()\n",
        "\n",
        "  if epoch%20 == 0:\n",
        "    classifier2.eval()\n",
        "    with torch.inference_mode():\n",
        "      test_logits = classifier2(X_test)\n",
        "      test_pred = torch.softmax(test_logits, dim = 1).argmax(dim = 1)\n",
        "      tst_loss = loss(test_logits, y_test.type(torch.LongTensor).to(device))\n",
        "\n",
        "      train_loss.append(trn_loss.item())\n",
        "      test_loss.append(tst_loss.item())\n",
        "      test_acc.append(accuracy_score(test_pred, y_test))\n",
        "      train_acc.append(accuracy_score(y_pred,y_train))\n",
        "      epoch_list.append(epoch)\n",
        "\n",
        "pd.DataFrame({\n",
        "    'Epoch' : epoch_list,\n",
        "    'Train Accuracy' : train_acc,\n",
        "    'Train Loss': train_loss,\n",
        "    'Test Accuracy' : test_acc,\n",
        "    'Test Loss': test_loss\n",
        "})"
      ]
    },
    {
      "cell_type": "code",
      "source": [
        "# Plot decision boundaries for training and test sets\n",
        "plt.figure(figsize=(12, 6))\n",
        "plt.subplot(1, 2, 1)\n",
        "plt.title(\"Train\")\n",
        "plot_decision_boundary(classifier2, X_train, y_train)\n",
        "plt.subplot(1, 2, 2)\n",
        "plt.title(\"Test\")\n",
        "plot_decision_boundary(classifier2, X_test, y_test)"
      ],
      "metadata": {
        "colab": {
          "base_uri": "https://localhost:8080/",
          "height": 545
        },
        "id": "3jYfiL__AE-T",
        "outputId": "32bf05a3-a9fa-45ae-f6f2-5d1d0cd46e90"
      },
      "id": "3jYfiL__AE-T",
      "execution_count": null,
      "outputs": [
        {
          "output_type": "display_data",
          "data": {
            "text/plain": [
              "<IPython.core.display.Javascript object>"
            ],
            "application/javascript": [
              "\n",
              "        if (window._pyforest_update_imports_cell) { window._pyforest_update_imports_cell('import matplotlib.pyplot as plt\\nimport lightgbm as lgb\\nimport statistics\\nimport re\\nfrom sklearn.model_selection import train_test_split\\nimport xgboost as xgb\\nfrom openpyxl import load_workbook\\nimport pandas as pd\\nfrom scipy import stats\\nimport textblob\\nimport torch\\nimport random\\nfrom scipy import signal as sg\\nimport sklearn\\nimport seaborn as sns\\nimport spacy\\nimport numpy as np\\nfrom sklearn import svm\\nimport skimage\\nimport sys\\nimport tensorflow as tf\\nimport statsmodels.api as sm\\nimport tqdm'); }\n",
              "    "
            ]
          },
          "metadata": {}
        },
        {
          "output_type": "display_data",
          "data": {
            "text/plain": [
              "<IPython.core.display.Javascript object>"
            ],
            "application/javascript": [
              "\n",
              "        if (window._pyforest_update_imports_cell) { window._pyforest_update_imports_cell('import matplotlib.pyplot as plt\\nimport lightgbm as lgb\\nimport statistics\\nimport re\\nfrom sklearn.model_selection import train_test_split\\nimport xgboost as xgb\\nfrom openpyxl import load_workbook\\nimport pandas as pd\\nfrom scipy import stats\\nimport textblob\\nimport torch\\nimport random\\nfrom scipy import signal as sg\\nimport sklearn\\nimport seaborn as sns\\nimport spacy\\nimport numpy as np\\nfrom sklearn import svm\\nimport skimage\\nimport sys\\nimport tensorflow as tf\\nimport statsmodels.api as sm\\nimport tqdm'); }\n",
              "    "
            ]
          },
          "metadata": {}
        },
        {
          "output_type": "display_data",
          "data": {
            "text/plain": [
              "<IPython.core.display.Javascript object>"
            ],
            "application/javascript": [
              "\n",
              "        if (window._pyforest_update_imports_cell) { window._pyforest_update_imports_cell('import matplotlib.pyplot as plt\\nimport lightgbm as lgb\\nimport statistics\\nimport re\\nfrom sklearn.model_selection import train_test_split\\nimport xgboost as xgb\\nfrom openpyxl import load_workbook\\nimport pandas as pd\\nfrom scipy import stats\\nimport textblob\\nimport torch\\nimport random\\nfrom scipy import signal as sg\\nimport sklearn\\nimport seaborn as sns\\nimport spacy\\nimport numpy as np\\nfrom sklearn import svm\\nimport skimage\\nimport sys\\nimport tensorflow as tf\\nimport statsmodels.api as sm\\nimport tqdm'); }\n",
              "    "
            ]
          },
          "metadata": {}
        },
        {
          "output_type": "display_data",
          "data": {
            "text/plain": [
              "<IPython.core.display.Javascript object>"
            ],
            "application/javascript": [
              "\n",
              "        if (window._pyforest_update_imports_cell) { window._pyforest_update_imports_cell('import matplotlib.pyplot as plt\\nimport lightgbm as lgb\\nimport statistics\\nimport re\\nfrom sklearn.model_selection import train_test_split\\nimport xgboost as xgb\\nfrom openpyxl import load_workbook\\nimport pandas as pd\\nfrom scipy import stats\\nimport textblob\\nimport torch\\nimport random\\nfrom scipy import signal as sg\\nimport sklearn\\nimport seaborn as sns\\nimport spacy\\nimport numpy as np\\nfrom sklearn import svm\\nimport skimage\\nimport sys\\nimport tensorflow as tf\\nimport statsmodels.api as sm\\nimport tqdm'); }\n",
              "    "
            ]
          },
          "metadata": {}
        },
        {
          "output_type": "display_data",
          "data": {
            "text/plain": [
              "<IPython.core.display.Javascript object>"
            ],
            "application/javascript": [
              "\n",
              "        if (window._pyforest_update_imports_cell) { window._pyforest_update_imports_cell('import matplotlib.pyplot as plt\\nimport lightgbm as lgb\\nimport statistics\\nimport re\\nfrom sklearn.model_selection import train_test_split\\nimport xgboost as xgb\\nfrom openpyxl import load_workbook\\nimport pandas as pd\\nfrom scipy import stats\\nimport textblob\\nimport torch\\nimport random\\nfrom scipy import signal as sg\\nimport sklearn\\nimport seaborn as sns\\nimport spacy\\nimport numpy as np\\nfrom sklearn import svm\\nimport skimage\\nimport sys\\nimport tensorflow as tf\\nimport statsmodels.api as sm\\nimport tqdm'); }\n",
              "    "
            ]
          },
          "metadata": {}
        },
        {
          "output_type": "display_data",
          "data": {
            "text/plain": [
              "<Figure size 1200x600 with 2 Axes>"
            ],
            "image/png": "[encoded data removed]"
          },
          "metadata": {}
        }
      ]
    },
    {
      "cell_type": "code",
      "source": [],
      "metadata": {
        "id": "cFb1NNL6UJM3"
      },
      "id": "cFb1NNL6UJM3",
      "execution_count": null,
      "outputs": []
    }
  ],
  "metadata": {
    "colab": {
      "provenance": [],
      "include_colab_link": true
    },
    "kernelspec": {
      "display_name": "Python 3",
      "name": "python3"
    },
    "language_info": {
      "codemirror_mode": {
        "name": "ipython",
        "version": 3
      },
      "file_extension": ".py",
      "mimetype": "text/x-python",
      "name": "python",
      "nbconvert_exporter": "python",
      "pygments_lexer": "ipython3",
      "version": "3.13.0"
    }
  },
  "nbformat": 4,
  "nbformat_minor": 5
}